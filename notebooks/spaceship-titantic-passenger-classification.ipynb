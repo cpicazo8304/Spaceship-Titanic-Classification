{
 "cells": [
  {
   "cell_type": "code",
   "execution_count": 1,
   "id": "22d0df71",
   "metadata": {
    "_cell_guid": "b1076dfc-b9ad-4769-8c92-a6c4dae69d19",
    "_uuid": "8f2839f25d086af736a60e9eeb907d3b93b6e0e5",
    "execution": {
     "iopub.execute_input": "2025-07-14T20:40:22.113578Z",
     "iopub.status.busy": "2025-07-14T20:40:22.113150Z",
     "iopub.status.idle": "2025-07-14T20:40:24.307836Z",
     "shell.execute_reply": "2025-07-14T20:40:24.306594Z"
    },
    "papermill": {
     "duration": 2.205341,
     "end_time": "2025-07-14T20:40:24.309914",
     "exception": false,
     "start_time": "2025-07-14T20:40:22.104573",
     "status": "completed"
    },
    "tags": []
   },
   "outputs": [
    {
     "name": "stdout",
     "output_type": "stream",
     "text": [
      "/kaggle/input/spaceship-titanic-passenger-data/README.md\n",
      "/kaggle/input/spaceship-titanic-passenger-data/data/sample_submission.csv\n",
      "/kaggle/input/spaceship-titanic-passenger-data/data/train.csv\n",
      "/kaggle/input/spaceship-titanic-passenger-data/data/test.csv\n"
     ]
    }
   ],
   "source": [
    "# This Python 3 environment comes with many helpful analytics libraries installed\n",
    "# It is defined by the kaggle/python Docker image: https://github.com/kaggle/docker-python\n",
    "# For example, here's several helpful packages to load\n",
    "\n",
    "import numpy as np # linear algebra\n",
    "import pandas as pd # data processing, CSV file I/O (e.g. pd.read_csv)\n",
    "\n",
    "# Input data files are available in the read-only \"../input/\" directory\n",
    "# For example, running this (by clicking run or pressing Shift+Enter) will list all files under the input directory\n",
    "\n",
    "import os\n",
    "for dirname, _, filenames in os.walk('/kaggle/input'):\n",
    "    for filename in filenames:\n",
    "        print(os.path.join(dirname, filename))\n",
    "\n",
    "# You can write up to 20GB to the current directory (/kaggle/working/) that gets preserved as output when you create a version using \"Save & Run All\" \n",
    "# You can also write temporary files to /kaggle/temp/, but they won't be saved outside of the current session"
   ]
  },
  {
   "cell_type": "markdown",
   "id": "9a7a8095",
   "metadata": {
    "papermill": {
     "duration": 0.006469,
     "end_time": "2025-07-14T20:40:24.323424",
     "exception": false,
     "start_time": "2025-07-14T20:40:24.316955",
     "status": "completed"
    },
    "tags": []
   },
   "source": [
    "<h3>Import Libraries</h3>"
   ]
  },
  {
   "cell_type": "code",
   "execution_count": 2,
   "id": "2f78cd01",
   "metadata": {
    "execution": {
     "iopub.execute_input": "2025-07-14T20:40:24.338469Z",
     "iopub.status.busy": "2025-07-14T20:40:24.337981Z",
     "iopub.status.idle": "2025-07-14T20:40:34.151452Z",
     "shell.execute_reply": "2025-07-14T20:40:34.150315Z"
    },
    "papermill": {
     "duration": 9.823676,
     "end_time": "2025-07-14T20:40:34.153471",
     "exception": false,
     "start_time": "2025-07-14T20:40:24.329795",
     "status": "completed"
    },
    "tags": []
   },
   "outputs": [],
   "source": [
    "import warnings\n",
    "import itertools\n",
    "import seaborn as sns\n",
    "import scipy.stats as stats\n",
    "from scipy.stats import pointbiserialr, chi2_contingency\n",
    "import matplotlib.pyplot as plt\n",
    "from sklearn.preprocessing import StandardScaler\n",
    "from sklearn.ensemble import RandomForestClassifier, GradientBoostingClassifier\n",
    "from sklearn.model_selection import cross_val_score\n",
    "from sklearn.metrics import accuracy_score\n",
    "from sklearn.linear_model import LogisticRegression\n",
    "from sklearn.neighbors import KNeighborsClassifier\n",
    "from xgboost import XGBClassifier\n",
    "from lightgbm import LGBMClassifier\n",
    "from sklearn.impute import KNNImputer"
   ]
  },
  {
   "cell_type": "markdown",
   "id": "4a900326",
   "metadata": {
    "papermill": {
     "duration": 0.006908,
     "end_time": "2025-07-14T20:40:34.167781",
     "exception": false,
     "start_time": "2025-07-14T20:40:34.160873",
     "status": "completed"
    },
    "tags": []
   },
   "source": [
    "<h3>Get Data</h3>"
   ]
  },
  {
   "cell_type": "code",
   "execution_count": 3,
   "id": "1e26f3d1",
   "metadata": {
    "execution": {
     "iopub.execute_input": "2025-07-14T20:40:34.182962Z",
     "iopub.status.busy": "2025-07-14T20:40:34.182229Z",
     "iopub.status.idle": "2025-07-14T20:40:34.307276Z",
     "shell.execute_reply": "2025-07-14T20:40:34.306238Z"
    },
    "papermill": {
     "duration": 0.134034,
     "end_time": "2025-07-14T20:40:34.308791",
     "exception": false,
     "start_time": "2025-07-14T20:40:34.174757",
     "status": "completed"
    },
    "tags": []
   },
   "outputs": [
    {
     "data": {
      "text/html": [
       "<div>\n",
       "<style scoped>\n",
       "    .dataframe tbody tr th:only-of-type {\n",
       "        vertical-align: middle;\n",
       "    }\n",
       "\n",
       "    .dataframe tbody tr th {\n",
       "        vertical-align: top;\n",
       "    }\n",
       "\n",
       "    .dataframe thead th {\n",
       "        text-align: right;\n",
       "    }\n",
       "</style>\n",
       "<table border=\"1\" class=\"dataframe\">\n",
       "  <thead>\n",
       "    <tr style=\"text-align: right;\">\n",
       "      <th></th>\n",
       "      <th>PassengerId</th>\n",
       "      <th>HomePlanet</th>\n",
       "      <th>CryoSleep</th>\n",
       "      <th>Cabin</th>\n",
       "      <th>Destination</th>\n",
       "      <th>Age</th>\n",
       "      <th>VIP</th>\n",
       "      <th>RoomService</th>\n",
       "      <th>FoodCourt</th>\n",
       "      <th>ShoppingMall</th>\n",
       "      <th>Spa</th>\n",
       "      <th>VRDeck</th>\n",
       "      <th>Transported</th>\n",
       "    </tr>\n",
       "  </thead>\n",
       "  <tbody>\n",
       "    <tr>\n",
       "      <th>0</th>\n",
       "      <td>0001_01</td>\n",
       "      <td>Europa</td>\n",
       "      <td>False</td>\n",
       "      <td>B/0/P</td>\n",
       "      <td>TRAPPIST-1e</td>\n",
       "      <td>39.0</td>\n",
       "      <td>False</td>\n",
       "      <td>0.0</td>\n",
       "      <td>0.0</td>\n",
       "      <td>0.0</td>\n",
       "      <td>0.0</td>\n",
       "      <td>0.0</td>\n",
       "      <td>False</td>\n",
       "    </tr>\n",
       "    <tr>\n",
       "      <th>1</th>\n",
       "      <td>0002_01</td>\n",
       "      <td>Earth</td>\n",
       "      <td>False</td>\n",
       "      <td>F/0/S</td>\n",
       "      <td>TRAPPIST-1e</td>\n",
       "      <td>24.0</td>\n",
       "      <td>False</td>\n",
       "      <td>109.0</td>\n",
       "      <td>9.0</td>\n",
       "      <td>25.0</td>\n",
       "      <td>549.0</td>\n",
       "      <td>44.0</td>\n",
       "      <td>True</td>\n",
       "    </tr>\n",
       "    <tr>\n",
       "      <th>2</th>\n",
       "      <td>0003_01</td>\n",
       "      <td>Europa</td>\n",
       "      <td>False</td>\n",
       "      <td>A/0/S</td>\n",
       "      <td>TRAPPIST-1e</td>\n",
       "      <td>58.0</td>\n",
       "      <td>True</td>\n",
       "      <td>43.0</td>\n",
       "      <td>3576.0</td>\n",
       "      <td>0.0</td>\n",
       "      <td>6715.0</td>\n",
       "      <td>49.0</td>\n",
       "      <td>False</td>\n",
       "    </tr>\n",
       "    <tr>\n",
       "      <th>3</th>\n",
       "      <td>0003_02</td>\n",
       "      <td>Europa</td>\n",
       "      <td>False</td>\n",
       "      <td>A/0/S</td>\n",
       "      <td>TRAPPIST-1e</td>\n",
       "      <td>33.0</td>\n",
       "      <td>False</td>\n",
       "      <td>0.0</td>\n",
       "      <td>1283.0</td>\n",
       "      <td>371.0</td>\n",
       "      <td>3329.0</td>\n",
       "      <td>193.0</td>\n",
       "      <td>False</td>\n",
       "    </tr>\n",
       "    <tr>\n",
       "      <th>4</th>\n",
       "      <td>0004_01</td>\n",
       "      <td>Earth</td>\n",
       "      <td>False</td>\n",
       "      <td>F/1/S</td>\n",
       "      <td>TRAPPIST-1e</td>\n",
       "      <td>16.0</td>\n",
       "      <td>False</td>\n",
       "      <td>303.0</td>\n",
       "      <td>70.0</td>\n",
       "      <td>151.0</td>\n",
       "      <td>565.0</td>\n",
       "      <td>2.0</td>\n",
       "      <td>True</td>\n",
       "    </tr>\n",
       "  </tbody>\n",
       "</table>\n",
       "</div>"
      ],
      "text/plain": [
       "  PassengerId HomePlanet  CryoSleep  Cabin  Destination   Age    VIP  \\\n",
       "0     0001_01     Europa      False  B/0/P  TRAPPIST-1e  39.0  False   \n",
       "1     0002_01      Earth      False  F/0/S  TRAPPIST-1e  24.0  False   \n",
       "2     0003_01     Europa      False  A/0/S  TRAPPIST-1e  58.0   True   \n",
       "3     0003_02     Europa      False  A/0/S  TRAPPIST-1e  33.0  False   \n",
       "4     0004_01      Earth      False  F/1/S  TRAPPIST-1e  16.0  False   \n",
       "\n",
       "   RoomService  FoodCourt  ShoppingMall     Spa  VRDeck  Transported  \n",
       "0          0.0        0.0           0.0     0.0     0.0        False  \n",
       "1        109.0        9.0          25.0   549.0    44.0         True  \n",
       "2         43.0     3576.0           0.0  6715.0    49.0        False  \n",
       "3          0.0     1283.0         371.0  3329.0   193.0        False  \n",
       "4        303.0       70.0         151.0   565.0     2.0         True  "
      ]
     },
     "execution_count": 3,
     "metadata": {},
     "output_type": "execute_result"
    }
   ],
   "source": [
    "train_data = pd.read_csv(\"/kaggle/input/spaceship-titanic-passenger-data/data/train.csv\")\n",
    "test_data = pd.read_csv(\"/kaggle/input/spaceship-titanic-passenger-data/data/test.csv\")\n",
    "test_data['Transported'] = False\n",
    "data = pd.concat([train_data, test_data], sort=False)\n",
    "data.drop(columns=['Name'], inplace=True) # usually an unique identifier, so not important\n",
    "\n",
    "# Turn 'VIP' and 'CryoSleep' features into booleans (pandas sometimes reads them as strings)\n",
    "data['VIP'] = data['VIP'].astype(bool)\n",
    "data['CryoSleep'] = data['CryoSleep'].astype(bool)\n",
    "data.head()"
   ]
  },
  {
   "cell_type": "code",
   "execution_count": 4,
   "id": "9f7fae35",
   "metadata": {
    "execution": {
     "iopub.execute_input": "2025-07-14T20:40:34.324237Z",
     "iopub.status.busy": "2025-07-14T20:40:34.323902Z",
     "iopub.status.idle": "2025-07-14T20:40:34.349784Z",
     "shell.execute_reply": "2025-07-14T20:40:34.348843Z"
    },
    "papermill": {
     "duration": 0.035959,
     "end_time": "2025-07-14T20:40:34.351846",
     "exception": false,
     "start_time": "2025-07-14T20:40:34.315887",
     "status": "completed"
    },
    "tags": []
   },
   "outputs": [
    {
     "name": "stdout",
     "output_type": "stream",
     "text": [
      "<class 'pandas.core.frame.DataFrame'>\n",
      "Index: 12970 entries, 0 to 4276\n",
      "Data columns (total 13 columns):\n",
      " #   Column        Non-Null Count  Dtype  \n",
      "---  ------        --------------  -----  \n",
      " 0   PassengerId   12970 non-null  object \n",
      " 1   HomePlanet    12682 non-null  object \n",
      " 2   CryoSleep     12970 non-null  bool   \n",
      " 3   Cabin         12671 non-null  object \n",
      " 4   Destination   12696 non-null  object \n",
      " 5   Age           12700 non-null  float64\n",
      " 6   VIP           12970 non-null  bool   \n",
      " 7   RoomService   12707 non-null  float64\n",
      " 8   FoodCourt     12681 non-null  float64\n",
      " 9   ShoppingMall  12664 non-null  float64\n",
      " 10  Spa           12686 non-null  float64\n",
      " 11  VRDeck        12702 non-null  float64\n",
      " 12  Transported   12970 non-null  bool   \n",
      "dtypes: bool(3), float64(6), object(4)\n",
      "memory usage: 1.1+ MB\n"
     ]
    }
   ],
   "source": [
    "data.info()"
   ]
  },
  {
   "cell_type": "code",
   "execution_count": 5,
   "id": "c9b46385",
   "metadata": {
    "execution": {
     "iopub.execute_input": "2025-07-14T20:40:34.367550Z",
     "iopub.status.busy": "2025-07-14T20:40:34.367167Z",
     "iopub.status.idle": "2025-07-14T20:40:34.379825Z",
     "shell.execute_reply": "2025-07-14T20:40:34.378661Z"
    },
    "papermill": {
     "duration": 0.022603,
     "end_time": "2025-07-14T20:40:34.381510",
     "exception": false,
     "start_time": "2025-07-14T20:40:34.358907",
     "status": "completed"
    },
    "tags": []
   },
   "outputs": [
    {
     "data": {
      "text/plain": [
       "PassengerId       0\n",
       "HomePlanet      288\n",
       "CryoSleep         0\n",
       "Cabin           299\n",
       "Destination     274\n",
       "Age             270\n",
       "VIP               0\n",
       "RoomService     263\n",
       "FoodCourt       289\n",
       "ShoppingMall    306\n",
       "Spa             284\n",
       "VRDeck          268\n",
       "Transported       0\n",
       "dtype: int64"
      ]
     },
     "execution_count": 5,
     "metadata": {},
     "output_type": "execute_result"
    }
   ],
   "source": [
    "data.isna().sum()"
   ]
  },
  {
   "cell_type": "markdown",
   "id": "3b635352",
   "metadata": {
    "papermill": {
     "duration": 0.006365,
     "end_time": "2025-07-14T20:40:34.395895",
     "exception": false,
     "start_time": "2025-07-14T20:40:34.389530",
     "status": "completed"
    },
    "tags": []
   },
   "source": [
    "<h5>We can see that for some of the features, there are values that are missing (null values). Therefore, we must take action by filling in those missing values. However, firstly, we want to do something about the 'PassengerId' and 'Cabin' features, since we can split the their values into more columns.</h5>"
   ]
  },
  {
   "cell_type": "markdown",
   "id": "4764024a",
   "metadata": {
    "papermill": {
     "duration": 0.006253,
     "end_time": "2025-07-14T20:40:34.408727",
     "exception": false,
     "start_time": "2025-07-14T20:40:34.402474",
     "status": "completed"
    },
    "tags": []
   },
   "source": [
    "<h3>Feature Creation</h3>"
   ]
  },
  {
   "cell_type": "markdown",
   "id": "6ce8c510",
   "metadata": {
    "papermill": {
     "duration": 0.006463,
     "end_time": "2025-07-14T20:40:34.422003",
     "exception": false,
     "start_time": "2025-07-14T20:40:34.415540",
     "status": "completed"
    },
    "tags": []
   },
   "source": [
    "<h5>First, we want to extract the group IDs from the passenger IDs since passengers can be part of the same group, and people of the same group may be connected if they were transported or not.</h5>"
   ]
  },
  {
   "cell_type": "code",
   "execution_count": 6,
   "id": "d64d331d",
   "metadata": {
    "execution": {
     "iopub.execute_input": "2025-07-14T20:40:34.438408Z",
     "iopub.status.busy": "2025-07-14T20:40:34.437075Z",
     "iopub.status.idle": "2025-07-14T20:40:34.483816Z",
     "shell.execute_reply": "2025-07-14T20:40:34.482364Z"
    },
    "papermill": {
     "duration": 0.057009,
     "end_time": "2025-07-14T20:40:34.485581",
     "exception": false,
     "start_time": "2025-07-14T20:40:34.428572",
     "status": "completed"
    },
    "tags": []
   },
   "outputs": [
    {
     "data": {
      "text/html": [
       "<div>\n",
       "<style scoped>\n",
       "    .dataframe tbody tr th:only-of-type {\n",
       "        vertical-align: middle;\n",
       "    }\n",
       "\n",
       "    .dataframe tbody tr th {\n",
       "        vertical-align: top;\n",
       "    }\n",
       "\n",
       "    .dataframe thead th {\n",
       "        text-align: right;\n",
       "    }\n",
       "</style>\n",
       "<table border=\"1\" class=\"dataframe\">\n",
       "  <thead>\n",
       "    <tr style=\"text-align: right;\">\n",
       "      <th></th>\n",
       "      <th>HomePlanet</th>\n",
       "      <th>CryoSleep</th>\n",
       "      <th>Cabin</th>\n",
       "      <th>Destination</th>\n",
       "      <th>Age</th>\n",
       "      <th>VIP</th>\n",
       "      <th>RoomService</th>\n",
       "      <th>FoodCourt</th>\n",
       "      <th>ShoppingMall</th>\n",
       "      <th>Spa</th>\n",
       "      <th>VRDeck</th>\n",
       "      <th>Transported</th>\n",
       "      <th>PassengerNumber</th>\n",
       "      <th>GroupId</th>\n",
       "    </tr>\n",
       "  </thead>\n",
       "  <tbody>\n",
       "    <tr>\n",
       "      <th>0</th>\n",
       "      <td>Europa</td>\n",
       "      <td>False</td>\n",
       "      <td>B/0/P</td>\n",
       "      <td>TRAPPIST-1e</td>\n",
       "      <td>39.0</td>\n",
       "      <td>False</td>\n",
       "      <td>0.0</td>\n",
       "      <td>0.0</td>\n",
       "      <td>0.0</td>\n",
       "      <td>0.0</td>\n",
       "      <td>0.0</td>\n",
       "      <td>False</td>\n",
       "      <td>1</td>\n",
       "      <td>1</td>\n",
       "    </tr>\n",
       "    <tr>\n",
       "      <th>1</th>\n",
       "      <td>Earth</td>\n",
       "      <td>False</td>\n",
       "      <td>F/0/S</td>\n",
       "      <td>TRAPPIST-1e</td>\n",
       "      <td>24.0</td>\n",
       "      <td>False</td>\n",
       "      <td>109.0</td>\n",
       "      <td>9.0</td>\n",
       "      <td>25.0</td>\n",
       "      <td>549.0</td>\n",
       "      <td>44.0</td>\n",
       "      <td>True</td>\n",
       "      <td>2</td>\n",
       "      <td>1</td>\n",
       "    </tr>\n",
       "    <tr>\n",
       "      <th>2</th>\n",
       "      <td>Europa</td>\n",
       "      <td>False</td>\n",
       "      <td>A/0/S</td>\n",
       "      <td>TRAPPIST-1e</td>\n",
       "      <td>58.0</td>\n",
       "      <td>True</td>\n",
       "      <td>43.0</td>\n",
       "      <td>3576.0</td>\n",
       "      <td>0.0</td>\n",
       "      <td>6715.0</td>\n",
       "      <td>49.0</td>\n",
       "      <td>False</td>\n",
       "      <td>3</td>\n",
       "      <td>1</td>\n",
       "    </tr>\n",
       "    <tr>\n",
       "      <th>3</th>\n",
       "      <td>Europa</td>\n",
       "      <td>False</td>\n",
       "      <td>A/0/S</td>\n",
       "      <td>TRAPPIST-1e</td>\n",
       "      <td>33.0</td>\n",
       "      <td>False</td>\n",
       "      <td>0.0</td>\n",
       "      <td>1283.0</td>\n",
       "      <td>371.0</td>\n",
       "      <td>3329.0</td>\n",
       "      <td>193.0</td>\n",
       "      <td>False</td>\n",
       "      <td>3</td>\n",
       "      <td>2</td>\n",
       "    </tr>\n",
       "    <tr>\n",
       "      <th>4</th>\n",
       "      <td>Earth</td>\n",
       "      <td>False</td>\n",
       "      <td>F/1/S</td>\n",
       "      <td>TRAPPIST-1e</td>\n",
       "      <td>16.0</td>\n",
       "      <td>False</td>\n",
       "      <td>303.0</td>\n",
       "      <td>70.0</td>\n",
       "      <td>151.0</td>\n",
       "      <td>565.0</td>\n",
       "      <td>2.0</td>\n",
       "      <td>True</td>\n",
       "      <td>4</td>\n",
       "      <td>1</td>\n",
       "    </tr>\n",
       "  </tbody>\n",
       "</table>\n",
       "</div>"
      ],
      "text/plain": [
       "  HomePlanet  CryoSleep  Cabin  Destination   Age    VIP  RoomService  \\\n",
       "0     Europa      False  B/0/P  TRAPPIST-1e  39.0  False          0.0   \n",
       "1      Earth      False  F/0/S  TRAPPIST-1e  24.0  False        109.0   \n",
       "2     Europa      False  A/0/S  TRAPPIST-1e  58.0   True         43.0   \n",
       "3     Europa      False  A/0/S  TRAPPIST-1e  33.0  False          0.0   \n",
       "4      Earth      False  F/1/S  TRAPPIST-1e  16.0  False        303.0   \n",
       "\n",
       "   FoodCourt  ShoppingMall     Spa  VRDeck  Transported  PassengerNumber  \\\n",
       "0        0.0           0.0     0.0     0.0        False                1   \n",
       "1        9.0          25.0   549.0    44.0         True                2   \n",
       "2     3576.0           0.0  6715.0    49.0        False                3   \n",
       "3     1283.0         371.0  3329.0   193.0        False                3   \n",
       "4       70.0         151.0   565.0     2.0         True                4   \n",
       "\n",
       "   GroupId  \n",
       "0        1  \n",
       "1        1  \n",
       "2        1  \n",
       "3        2  \n",
       "4        1  "
      ]
     },
     "execution_count": 6,
     "metadata": {},
     "output_type": "execute_result"
    }
   ],
   "source": [
    "data[['PassengerNumber', 'GroupId']] = data['PassengerId'].str.split('_', expand=True)\n",
    "data.drop(columns=['PassengerId'], inplace=True)\n",
    "data['PassengerNumber'] = data['PassengerNumber'].astype(int)\n",
    "data['GroupId'] = data['GroupId'].astype(int)\n",
    "data.head()"
   ]
  },
  {
   "cell_type": "markdown",
   "id": "6386d2fb",
   "metadata": {
    "papermill": {
     "duration": 0.007189,
     "end_time": "2025-07-14T20:40:34.500254",
     "exception": false,
     "start_time": "2025-07-14T20:40:34.493065",
     "status": "completed"
    },
    "tags": []
   },
   "source": [
    "<h5>Now, I want to split the 'Cabin' column into three separate columns to split the deck, num, and side into their own columns to better process the data. </h5>"
   ]
  },
  {
   "cell_type": "code",
   "execution_count": 7,
   "id": "89b69b9a",
   "metadata": {
    "execution": {
     "iopub.execute_input": "2025-07-14T20:40:34.515720Z",
     "iopub.status.busy": "2025-07-14T20:40:34.515346Z",
     "iopub.status.idle": "2025-07-14T20:40:34.558454Z",
     "shell.execute_reply": "2025-07-14T20:40:34.557310Z"
    },
    "papermill": {
     "duration": 0.054032,
     "end_time": "2025-07-14T20:40:34.561301",
     "exception": false,
     "start_time": "2025-07-14T20:40:34.507269",
     "status": "completed"
    },
    "tags": []
   },
   "outputs": [
    {
     "data": {
      "text/html": [
       "<div>\n",
       "<style scoped>\n",
       "    .dataframe tbody tr th:only-of-type {\n",
       "        vertical-align: middle;\n",
       "    }\n",
       "\n",
       "    .dataframe tbody tr th {\n",
       "        vertical-align: top;\n",
       "    }\n",
       "\n",
       "    .dataframe thead th {\n",
       "        text-align: right;\n",
       "    }\n",
       "</style>\n",
       "<table border=\"1\" class=\"dataframe\">\n",
       "  <thead>\n",
       "    <tr style=\"text-align: right;\">\n",
       "      <th></th>\n",
       "      <th>HomePlanet</th>\n",
       "      <th>CryoSleep</th>\n",
       "      <th>Destination</th>\n",
       "      <th>Age</th>\n",
       "      <th>VIP</th>\n",
       "      <th>RoomService</th>\n",
       "      <th>FoodCourt</th>\n",
       "      <th>ShoppingMall</th>\n",
       "      <th>Spa</th>\n",
       "      <th>VRDeck</th>\n",
       "      <th>Transported</th>\n",
       "      <th>PassengerNumber</th>\n",
       "      <th>GroupId</th>\n",
       "      <th>Deck</th>\n",
       "      <th>Num</th>\n",
       "      <th>Side</th>\n",
       "    </tr>\n",
       "  </thead>\n",
       "  <tbody>\n",
       "    <tr>\n",
       "      <th>0</th>\n",
       "      <td>Europa</td>\n",
       "      <td>False</td>\n",
       "      <td>TRAPPIST-1e</td>\n",
       "      <td>39.0</td>\n",
       "      <td>False</td>\n",
       "      <td>0.0</td>\n",
       "      <td>0.0</td>\n",
       "      <td>0.0</td>\n",
       "      <td>0.0</td>\n",
       "      <td>0.0</td>\n",
       "      <td>False</td>\n",
       "      <td>1</td>\n",
       "      <td>1</td>\n",
       "      <td>B</td>\n",
       "      <td>0</td>\n",
       "      <td>P</td>\n",
       "    </tr>\n",
       "    <tr>\n",
       "      <th>1</th>\n",
       "      <td>Earth</td>\n",
       "      <td>False</td>\n",
       "      <td>TRAPPIST-1e</td>\n",
       "      <td>24.0</td>\n",
       "      <td>False</td>\n",
       "      <td>109.0</td>\n",
       "      <td>9.0</td>\n",
       "      <td>25.0</td>\n",
       "      <td>549.0</td>\n",
       "      <td>44.0</td>\n",
       "      <td>True</td>\n",
       "      <td>2</td>\n",
       "      <td>1</td>\n",
       "      <td>F</td>\n",
       "      <td>0</td>\n",
       "      <td>S</td>\n",
       "    </tr>\n",
       "    <tr>\n",
       "      <th>2</th>\n",
       "      <td>Europa</td>\n",
       "      <td>False</td>\n",
       "      <td>TRAPPIST-1e</td>\n",
       "      <td>58.0</td>\n",
       "      <td>True</td>\n",
       "      <td>43.0</td>\n",
       "      <td>3576.0</td>\n",
       "      <td>0.0</td>\n",
       "      <td>6715.0</td>\n",
       "      <td>49.0</td>\n",
       "      <td>False</td>\n",
       "      <td>3</td>\n",
       "      <td>1</td>\n",
       "      <td>A</td>\n",
       "      <td>0</td>\n",
       "      <td>S</td>\n",
       "    </tr>\n",
       "    <tr>\n",
       "      <th>3</th>\n",
       "      <td>Europa</td>\n",
       "      <td>False</td>\n",
       "      <td>TRAPPIST-1e</td>\n",
       "      <td>33.0</td>\n",
       "      <td>False</td>\n",
       "      <td>0.0</td>\n",
       "      <td>1283.0</td>\n",
       "      <td>371.0</td>\n",
       "      <td>3329.0</td>\n",
       "      <td>193.0</td>\n",
       "      <td>False</td>\n",
       "      <td>3</td>\n",
       "      <td>2</td>\n",
       "      <td>A</td>\n",
       "      <td>0</td>\n",
       "      <td>S</td>\n",
       "    </tr>\n",
       "    <tr>\n",
       "      <th>4</th>\n",
       "      <td>Earth</td>\n",
       "      <td>False</td>\n",
       "      <td>TRAPPIST-1e</td>\n",
       "      <td>16.0</td>\n",
       "      <td>False</td>\n",
       "      <td>303.0</td>\n",
       "      <td>70.0</td>\n",
       "      <td>151.0</td>\n",
       "      <td>565.0</td>\n",
       "      <td>2.0</td>\n",
       "      <td>True</td>\n",
       "      <td>4</td>\n",
       "      <td>1</td>\n",
       "      <td>F</td>\n",
       "      <td>1</td>\n",
       "      <td>S</td>\n",
       "    </tr>\n",
       "  </tbody>\n",
       "</table>\n",
       "</div>"
      ],
      "text/plain": [
       "  HomePlanet  CryoSleep  Destination   Age    VIP  RoomService  FoodCourt  \\\n",
       "0     Europa      False  TRAPPIST-1e  39.0  False          0.0        0.0   \n",
       "1      Earth      False  TRAPPIST-1e  24.0  False        109.0        9.0   \n",
       "2     Europa      False  TRAPPIST-1e  58.0   True         43.0     3576.0   \n",
       "3     Europa      False  TRAPPIST-1e  33.0  False          0.0     1283.0   \n",
       "4      Earth      False  TRAPPIST-1e  16.0  False        303.0       70.0   \n",
       "\n",
       "   ShoppingMall     Spa  VRDeck  Transported  PassengerNumber  GroupId Deck  \\\n",
       "0           0.0     0.0     0.0        False                1        1    B   \n",
       "1          25.0   549.0    44.0         True                2        1    F   \n",
       "2           0.0  6715.0    49.0        False                3        1    A   \n",
       "3         371.0  3329.0   193.0        False                3        2    A   \n",
       "4         151.0   565.0     2.0         True                4        1    F   \n",
       "\n",
       "   Num Side  \n",
       "0    0    P  \n",
       "1    0    S  \n",
       "2    0    S  \n",
       "3    0    S  \n",
       "4    1    S  "
      ]
     },
     "execution_count": 7,
     "metadata": {},
     "output_type": "execute_result"
    }
   ],
   "source": [
    "data[['Deck', 'Num', 'Side']] = data['Cabin'].str.split('/', expand=True)\n",
    "data.drop(columns=['Cabin'], inplace=True)\n",
    "data['Num'] = data['Num'].fillna(-1).astype(int)\n",
    "data.head()"
   ]
  },
  {
   "cell_type": "markdown",
   "id": "d5a50a43",
   "metadata": {
    "papermill": {
     "duration": 0.006786,
     "end_time": "2025-07-14T20:40:34.575613",
     "exception": false,
     "start_time": "2025-07-14T20:40:34.568827",
     "status": "completed"
    },
    "tags": []
   },
   "source": [
    "<h3>Handling Missing Values</h3>"
   ]
  },
  {
   "cell_type": "code",
   "execution_count": 8,
   "id": "cd0c127f",
   "metadata": {
    "execution": {
     "iopub.execute_input": "2025-07-14T20:40:34.593806Z",
     "iopub.status.busy": "2025-07-14T20:40:34.593435Z",
     "iopub.status.idle": "2025-07-14T20:40:34.600079Z",
     "shell.execute_reply": "2025-07-14T20:40:34.598719Z"
    },
    "papermill": {
     "duration": 0.01814,
     "end_time": "2025-07-14T20:40:34.601861",
     "exception": false,
     "start_time": "2025-07-14T20:40:34.583721",
     "status": "completed"
    },
    "tags": []
   },
   "outputs": [],
   "source": [
    "impute_cols = ['CryoSleep', 'Age','VIP', 'RoomService', 'FoodCourt', 'ShoppingMall', 'Spa', 'VRDeck', 'PassengerNumber', 'GroupId', 'Num', 'Transported']\n",
    "non_impute_cols = list(set(data.columns) - set(impute_cols))"
   ]
  },
  {
   "cell_type": "code",
   "execution_count": 9,
   "id": "6da12c3f",
   "metadata": {
    "execution": {
     "iopub.execute_input": "2025-07-14T20:40:34.625189Z",
     "iopub.status.busy": "2025-07-14T20:40:34.624804Z",
     "iopub.status.idle": "2025-07-14T20:40:36.110815Z",
     "shell.execute_reply": "2025-07-14T20:40:36.109808Z"
    },
    "papermill": {
     "duration": 1.499895,
     "end_time": "2025-07-14T20:40:36.113060",
     "exception": false,
     "start_time": "2025-07-14T20:40:34.613165",
     "status": "completed"
    },
    "tags": []
   },
   "outputs": [],
   "source": [
    "# Handle Missing Values for Numerical Features\n",
    "imputer = KNNImputer(n_neighbors=5)\n",
    "data_imputed = imputer.fit_transform(data[impute_cols])\n",
    "data_imputed = pd.DataFrame(data_imputed, columns=impute_cols)\n",
    "data_rest = data[non_impute_cols]\n",
    "data = pd.concat([data_rest.reset_index(drop=True), data_imputed.reset_index(drop=True)],axis=1)"
   ]
  },
  {
   "cell_type": "code",
   "execution_count": 10,
   "id": "4960b720",
   "metadata": {
    "execution": {
     "iopub.execute_input": "2025-07-14T20:40:36.139167Z",
     "iopub.status.busy": "2025-07-14T20:40:36.138320Z",
     "iopub.status.idle": "2025-07-14T20:40:36.154724Z",
     "shell.execute_reply": "2025-07-14T20:40:36.153802Z"
    },
    "papermill": {
     "duration": 0.030178,
     "end_time": "2025-07-14T20:40:36.156319",
     "exception": false,
     "start_time": "2025-07-14T20:40:36.126141",
     "status": "completed"
    },
    "tags": []
   },
   "outputs": [],
   "source": [
    "# Handle Missing Values for Categorical Features\n",
    "for col in non_impute_cols:\n",
    "    data[col] = data[col].fillna('U')"
   ]
  },
  {
   "cell_type": "code",
   "execution_count": 11,
   "id": "4a1a8317",
   "metadata": {
    "execution": {
     "iopub.execute_input": "2025-07-14T20:40:36.172306Z",
     "iopub.status.busy": "2025-07-14T20:40:36.171920Z",
     "iopub.status.idle": "2025-07-14T20:40:36.188412Z",
     "shell.execute_reply": "2025-07-14T20:40:36.187381Z"
    },
    "papermill": {
     "duration": 0.026447,
     "end_time": "2025-07-14T20:40:36.190182",
     "exception": false,
     "start_time": "2025-07-14T20:40:36.163735",
     "status": "completed"
    },
    "tags": []
   },
   "outputs": [
    {
     "data": {
      "text/plain": [
       "HomePlanet         0\n",
       "Side               0\n",
       "Destination        0\n",
       "Deck               0\n",
       "CryoSleep          0\n",
       "Age                0\n",
       "VIP                0\n",
       "RoomService        0\n",
       "FoodCourt          0\n",
       "ShoppingMall       0\n",
       "Spa                0\n",
       "VRDeck             0\n",
       "PassengerNumber    0\n",
       "GroupId            0\n",
       "Num                0\n",
       "Transported        0\n",
       "dtype: int64"
      ]
     },
     "execution_count": 11,
     "metadata": {},
     "output_type": "execute_result"
    }
   ],
   "source": [
    "data.isna().sum()"
   ]
  },
  {
   "cell_type": "markdown",
   "id": "e9fe3d46",
   "metadata": {
    "papermill": {
     "duration": 0.006923,
     "end_time": "2025-07-14T20:40:36.204395",
     "exception": false,
     "start_time": "2025-07-14T20:40:36.197472",
     "status": "completed"
    },
    "tags": []
   },
   "source": [
    "<h3>Feature Engineering</h3>"
   ]
  },
  {
   "cell_type": "markdown",
   "id": "bdf49dbf",
   "metadata": {
    "papermill": {
     "duration": 0.006847,
     "end_time": "2025-07-14T20:40:36.218483",
     "exception": false,
     "start_time": "2025-07-14T20:40:36.211636",
     "status": "completed"
    },
    "tags": []
   },
   "source": [
    "<h5>Now, we have multiple columns for the expenses made for each type of amenity. So, we can make a column for the average expenses, std expenses, and the total amount of expenses per passenger. </h5>"
   ]
  },
  {
   "cell_type": "code",
   "execution_count": 12,
   "id": "c230c3ee",
   "metadata": {
    "execution": {
     "iopub.execute_input": "2025-07-14T20:40:36.234000Z",
     "iopub.status.busy": "2025-07-14T20:40:36.233654Z",
     "iopub.status.idle": "2025-07-14T20:40:36.266940Z",
     "shell.execute_reply": "2025-07-14T20:40:36.266129Z"
    },
    "papermill": {
     "duration": 0.042834,
     "end_time": "2025-07-14T20:40:36.268570",
     "exception": false,
     "start_time": "2025-07-14T20:40:36.225736",
     "status": "completed"
    },
    "tags": []
   },
   "outputs": [
    {
     "data": {
      "text/html": [
       "<div>\n",
       "<style scoped>\n",
       "    .dataframe tbody tr th:only-of-type {\n",
       "        vertical-align: middle;\n",
       "    }\n",
       "\n",
       "    .dataframe tbody tr th {\n",
       "        vertical-align: top;\n",
       "    }\n",
       "\n",
       "    .dataframe thead th {\n",
       "        text-align: right;\n",
       "    }\n",
       "</style>\n",
       "<table border=\"1\" class=\"dataframe\">\n",
       "  <thead>\n",
       "    <tr style=\"text-align: right;\">\n",
       "      <th></th>\n",
       "      <th>HomePlanet</th>\n",
       "      <th>Side</th>\n",
       "      <th>Destination</th>\n",
       "      <th>Deck</th>\n",
       "      <th>CryoSleep</th>\n",
       "      <th>Age</th>\n",
       "      <th>VIP</th>\n",
       "      <th>RoomService</th>\n",
       "      <th>FoodCourt</th>\n",
       "      <th>ShoppingMall</th>\n",
       "      <th>Spa</th>\n",
       "      <th>VRDeck</th>\n",
       "      <th>PassengerNumber</th>\n",
       "      <th>GroupId</th>\n",
       "      <th>Num</th>\n",
       "      <th>Transported</th>\n",
       "      <th>TotalExpenses</th>\n",
       "      <th>TotalExpenses_std</th>\n",
       "      <th>TotalExpenses_avg</th>\n",
       "    </tr>\n",
       "  </thead>\n",
       "  <tbody>\n",
       "    <tr>\n",
       "      <th>0</th>\n",
       "      <td>Europa</td>\n",
       "      <td>P</td>\n",
       "      <td>TRAPPIST-1e</td>\n",
       "      <td>B</td>\n",
       "      <td>0.0</td>\n",
       "      <td>39.0</td>\n",
       "      <td>0.0</td>\n",
       "      <td>0.0</td>\n",
       "      <td>0.0</td>\n",
       "      <td>0.0</td>\n",
       "      <td>0.0</td>\n",
       "      <td>0.0</td>\n",
       "      <td>1.0</td>\n",
       "      <td>1.0</td>\n",
       "      <td>0.0</td>\n",
       "      <td>0.0</td>\n",
       "      <td>0.0</td>\n",
       "      <td>0.000000</td>\n",
       "      <td>0.0</td>\n",
       "    </tr>\n",
       "    <tr>\n",
       "      <th>1</th>\n",
       "      <td>Earth</td>\n",
       "      <td>S</td>\n",
       "      <td>TRAPPIST-1e</td>\n",
       "      <td>F</td>\n",
       "      <td>0.0</td>\n",
       "      <td>24.0</td>\n",
       "      <td>0.0</td>\n",
       "      <td>109.0</td>\n",
       "      <td>9.0</td>\n",
       "      <td>25.0</td>\n",
       "      <td>549.0</td>\n",
       "      <td>44.0</td>\n",
       "      <td>2.0</td>\n",
       "      <td>1.0</td>\n",
       "      <td>0.0</td>\n",
       "      <td>1.0</td>\n",
       "      <td>736.0</td>\n",
       "      <td>227.807375</td>\n",
       "      <td>147.2</td>\n",
       "    </tr>\n",
       "    <tr>\n",
       "      <th>2</th>\n",
       "      <td>Europa</td>\n",
       "      <td>S</td>\n",
       "      <td>TRAPPIST-1e</td>\n",
       "      <td>A</td>\n",
       "      <td>0.0</td>\n",
       "      <td>58.0</td>\n",
       "      <td>1.0</td>\n",
       "      <td>43.0</td>\n",
       "      <td>3576.0</td>\n",
       "      <td>0.0</td>\n",
       "      <td>6715.0</td>\n",
       "      <td>49.0</td>\n",
       "      <td>3.0</td>\n",
       "      <td>1.0</td>\n",
       "      <td>0.0</td>\n",
       "      <td>0.0</td>\n",
       "      <td>10383.0</td>\n",
       "      <td>3013.383198</td>\n",
       "      <td>2076.6</td>\n",
       "    </tr>\n",
       "    <tr>\n",
       "      <th>3</th>\n",
       "      <td>Europa</td>\n",
       "      <td>S</td>\n",
       "      <td>TRAPPIST-1e</td>\n",
       "      <td>A</td>\n",
       "      <td>0.0</td>\n",
       "      <td>33.0</td>\n",
       "      <td>0.0</td>\n",
       "      <td>0.0</td>\n",
       "      <td>1283.0</td>\n",
       "      <td>371.0</td>\n",
       "      <td>3329.0</td>\n",
       "      <td>193.0</td>\n",
       "      <td>3.0</td>\n",
       "      <td>2.0</td>\n",
       "      <td>0.0</td>\n",
       "      <td>0.0</td>\n",
       "      <td>5176.0</td>\n",
       "      <td>1373.410427</td>\n",
       "      <td>1035.2</td>\n",
       "    </tr>\n",
       "    <tr>\n",
       "      <th>4</th>\n",
       "      <td>Earth</td>\n",
       "      <td>S</td>\n",
       "      <td>TRAPPIST-1e</td>\n",
       "      <td>F</td>\n",
       "      <td>0.0</td>\n",
       "      <td>16.0</td>\n",
       "      <td>0.0</td>\n",
       "      <td>303.0</td>\n",
       "      <td>70.0</td>\n",
       "      <td>151.0</td>\n",
       "      <td>565.0</td>\n",
       "      <td>2.0</td>\n",
       "      <td>4.0</td>\n",
       "      <td>1.0</td>\n",
       "      <td>1.0</td>\n",
       "      <td>1.0</td>\n",
       "      <td>1091.0</td>\n",
       "      <td>223.988169</td>\n",
       "      <td>218.2</td>\n",
       "    </tr>\n",
       "  </tbody>\n",
       "</table>\n",
       "</div>"
      ],
      "text/plain": [
       "  HomePlanet Side  Destination Deck  CryoSleep   Age  VIP  RoomService  \\\n",
       "0     Europa    P  TRAPPIST-1e    B        0.0  39.0  0.0          0.0   \n",
       "1      Earth    S  TRAPPIST-1e    F        0.0  24.0  0.0        109.0   \n",
       "2     Europa    S  TRAPPIST-1e    A        0.0  58.0  1.0         43.0   \n",
       "3     Europa    S  TRAPPIST-1e    A        0.0  33.0  0.0          0.0   \n",
       "4      Earth    S  TRAPPIST-1e    F        0.0  16.0  0.0        303.0   \n",
       "\n",
       "   FoodCourt  ShoppingMall     Spa  VRDeck  PassengerNumber  GroupId  Num  \\\n",
       "0        0.0           0.0     0.0     0.0              1.0      1.0  0.0   \n",
       "1        9.0          25.0   549.0    44.0              2.0      1.0  0.0   \n",
       "2     3576.0           0.0  6715.0    49.0              3.0      1.0  0.0   \n",
       "3     1283.0         371.0  3329.0   193.0              3.0      2.0  0.0   \n",
       "4       70.0         151.0   565.0     2.0              4.0      1.0  1.0   \n",
       "\n",
       "   Transported  TotalExpenses  TotalExpenses_std  TotalExpenses_avg  \n",
       "0          0.0            0.0           0.000000                0.0  \n",
       "1          1.0          736.0         227.807375              147.2  \n",
       "2          0.0        10383.0        3013.383198             2076.6  \n",
       "3          0.0         5176.0        1373.410427             1035.2  \n",
       "4          1.0         1091.0         223.988169              218.2  "
      ]
     },
     "execution_count": 12,
     "metadata": {},
     "output_type": "execute_result"
    }
   ],
   "source": [
    "expenses = ['RoomService', 'FoodCourt', 'VRDeck', 'Spa', 'ShoppingMall']\n",
    "data['TotalExpenses'] = data[expenses].sum(axis=1)\n",
    "data['TotalExpenses_std'] = data[expenses].std(axis=1)\n",
    "data['TotalExpenses_avg'] = data[expenses].mean(axis=1)\n",
    "data.head()"
   ]
  },
  {
   "cell_type": "markdown",
   "id": "48b61bee",
   "metadata": {
    "papermill": {
     "duration": 0.007746,
     "end_time": "2025-07-14T20:40:36.284015",
     "exception": false,
     "start_time": "2025-07-14T20:40:36.276269",
     "status": "completed"
    },
    "tags": []
   },
   "source": [
    "<h5>Now, we want all of our categorical features to be numerical so we will do one-hot encoding.</h5>"
   ]
  },
  {
   "cell_type": "code",
   "execution_count": 13,
   "id": "218065b2",
   "metadata": {
    "execution": {
     "iopub.execute_input": "2025-07-14T20:40:36.300751Z",
     "iopub.status.busy": "2025-07-14T20:40:36.300408Z",
     "iopub.status.idle": "2025-07-14T20:40:36.335867Z",
     "shell.execute_reply": "2025-07-14T20:40:36.334859Z"
    },
    "papermill": {
     "duration": 0.045403,
     "end_time": "2025-07-14T20:40:36.337430",
     "exception": false,
     "start_time": "2025-07-14T20:40:36.292027",
     "status": "completed"
    },
    "tags": []
   },
   "outputs": [
    {
     "data": {
      "text/html": [
       "<div>\n",
       "<style scoped>\n",
       "    .dataframe tbody tr th:only-of-type {\n",
       "        vertical-align: middle;\n",
       "    }\n",
       "\n",
       "    .dataframe tbody tr th {\n",
       "        vertical-align: top;\n",
       "    }\n",
       "\n",
       "    .dataframe thead th {\n",
       "        text-align: right;\n",
       "    }\n",
       "</style>\n",
       "<table border=\"1\" class=\"dataframe\">\n",
       "  <thead>\n",
       "    <tr style=\"text-align: right;\">\n",
       "      <th></th>\n",
       "      <th>CryoSleep</th>\n",
       "      <th>Age</th>\n",
       "      <th>VIP</th>\n",
       "      <th>RoomService</th>\n",
       "      <th>FoodCourt</th>\n",
       "      <th>ShoppingMall</th>\n",
       "      <th>Spa</th>\n",
       "      <th>VRDeck</th>\n",
       "      <th>PassengerNumber</th>\n",
       "      <th>GroupId</th>\n",
       "      <th>...</th>\n",
       "      <th>Destination_U</th>\n",
       "      <th>Deck_A</th>\n",
       "      <th>Deck_B</th>\n",
       "      <th>Deck_C</th>\n",
       "      <th>Deck_D</th>\n",
       "      <th>Deck_E</th>\n",
       "      <th>Deck_F</th>\n",
       "      <th>Deck_G</th>\n",
       "      <th>Deck_T</th>\n",
       "      <th>Deck_U</th>\n",
       "    </tr>\n",
       "  </thead>\n",
       "  <tbody>\n",
       "    <tr>\n",
       "      <th>0</th>\n",
       "      <td>0.0</td>\n",
       "      <td>39.0</td>\n",
       "      <td>0.0</td>\n",
       "      <td>0.0</td>\n",
       "      <td>0.0</td>\n",
       "      <td>0.0</td>\n",
       "      <td>0.0</td>\n",
       "      <td>0.0</td>\n",
       "      <td>1.0</td>\n",
       "      <td>1.0</td>\n",
       "      <td>...</td>\n",
       "      <td>False</td>\n",
       "      <td>False</td>\n",
       "      <td>True</td>\n",
       "      <td>False</td>\n",
       "      <td>False</td>\n",
       "      <td>False</td>\n",
       "      <td>False</td>\n",
       "      <td>False</td>\n",
       "      <td>False</td>\n",
       "      <td>False</td>\n",
       "    </tr>\n",
       "    <tr>\n",
       "      <th>1</th>\n",
       "      <td>0.0</td>\n",
       "      <td>24.0</td>\n",
       "      <td>0.0</td>\n",
       "      <td>109.0</td>\n",
       "      <td>9.0</td>\n",
       "      <td>25.0</td>\n",
       "      <td>549.0</td>\n",
       "      <td>44.0</td>\n",
       "      <td>2.0</td>\n",
       "      <td>1.0</td>\n",
       "      <td>...</td>\n",
       "      <td>False</td>\n",
       "      <td>False</td>\n",
       "      <td>False</td>\n",
       "      <td>False</td>\n",
       "      <td>False</td>\n",
       "      <td>False</td>\n",
       "      <td>True</td>\n",
       "      <td>False</td>\n",
       "      <td>False</td>\n",
       "      <td>False</td>\n",
       "    </tr>\n",
       "    <tr>\n",
       "      <th>2</th>\n",
       "      <td>0.0</td>\n",
       "      <td>58.0</td>\n",
       "      <td>1.0</td>\n",
       "      <td>43.0</td>\n",
       "      <td>3576.0</td>\n",
       "      <td>0.0</td>\n",
       "      <td>6715.0</td>\n",
       "      <td>49.0</td>\n",
       "      <td>3.0</td>\n",
       "      <td>1.0</td>\n",
       "      <td>...</td>\n",
       "      <td>False</td>\n",
       "      <td>True</td>\n",
       "      <td>False</td>\n",
       "      <td>False</td>\n",
       "      <td>False</td>\n",
       "      <td>False</td>\n",
       "      <td>False</td>\n",
       "      <td>False</td>\n",
       "      <td>False</td>\n",
       "      <td>False</td>\n",
       "    </tr>\n",
       "    <tr>\n",
       "      <th>3</th>\n",
       "      <td>0.0</td>\n",
       "      <td>33.0</td>\n",
       "      <td>0.0</td>\n",
       "      <td>0.0</td>\n",
       "      <td>1283.0</td>\n",
       "      <td>371.0</td>\n",
       "      <td>3329.0</td>\n",
       "      <td>193.0</td>\n",
       "      <td>3.0</td>\n",
       "      <td>2.0</td>\n",
       "      <td>...</td>\n",
       "      <td>False</td>\n",
       "      <td>True</td>\n",
       "      <td>False</td>\n",
       "      <td>False</td>\n",
       "      <td>False</td>\n",
       "      <td>False</td>\n",
       "      <td>False</td>\n",
       "      <td>False</td>\n",
       "      <td>False</td>\n",
       "      <td>False</td>\n",
       "    </tr>\n",
       "    <tr>\n",
       "      <th>4</th>\n",
       "      <td>0.0</td>\n",
       "      <td>16.0</td>\n",
       "      <td>0.0</td>\n",
       "      <td>303.0</td>\n",
       "      <td>70.0</td>\n",
       "      <td>151.0</td>\n",
       "      <td>565.0</td>\n",
       "      <td>2.0</td>\n",
       "      <td>4.0</td>\n",
       "      <td>1.0</td>\n",
       "      <td>...</td>\n",
       "      <td>False</td>\n",
       "      <td>False</td>\n",
       "      <td>False</td>\n",
       "      <td>False</td>\n",
       "      <td>False</td>\n",
       "      <td>False</td>\n",
       "      <td>True</td>\n",
       "      <td>False</td>\n",
       "      <td>False</td>\n",
       "      <td>False</td>\n",
       "    </tr>\n",
       "  </tbody>\n",
       "</table>\n",
       "<p>5 rows × 35 columns</p>\n",
       "</div>"
      ],
      "text/plain": [
       "   CryoSleep   Age  VIP  RoomService  FoodCourt  ShoppingMall     Spa  VRDeck  \\\n",
       "0        0.0  39.0  0.0          0.0        0.0           0.0     0.0     0.0   \n",
       "1        0.0  24.0  0.0        109.0        9.0          25.0   549.0    44.0   \n",
       "2        0.0  58.0  1.0         43.0     3576.0           0.0  6715.0    49.0   \n",
       "3        0.0  33.0  0.0          0.0     1283.0         371.0  3329.0   193.0   \n",
       "4        0.0  16.0  0.0        303.0       70.0         151.0   565.0     2.0   \n",
       "\n",
       "   PassengerNumber  GroupId  ...  Destination_U  Deck_A  Deck_B  Deck_C  \\\n",
       "0              1.0      1.0  ...          False   False    True   False   \n",
       "1              2.0      1.0  ...          False   False   False   False   \n",
       "2              3.0      1.0  ...          False    True   False   False   \n",
       "3              3.0      2.0  ...          False    True   False   False   \n",
       "4              4.0      1.0  ...          False   False   False   False   \n",
       "\n",
       "   Deck_D  Deck_E  Deck_F  Deck_G  Deck_T  Deck_U  \n",
       "0   False   False   False   False   False   False  \n",
       "1   False   False    True   False   False   False  \n",
       "2   False   False   False   False   False   False  \n",
       "3   False   False   False   False   False   False  \n",
       "4   False   False    True   False   False   False  \n",
       "\n",
       "[5 rows x 35 columns]"
      ]
     },
     "execution_count": 13,
     "metadata": {},
     "output_type": "execute_result"
    }
   ],
   "source": [
    "data = pd.get_dummies(data, columns=non_impute_cols)\n",
    "data.head()"
   ]
  },
  {
   "cell_type": "code",
   "execution_count": 14,
   "id": "a925147e",
   "metadata": {
    "execution": {
     "iopub.execute_input": "2025-07-14T20:40:36.356546Z",
     "iopub.status.busy": "2025-07-14T20:40:36.356227Z",
     "iopub.status.idle": "2025-07-14T20:40:36.362713Z",
     "shell.execute_reply": "2025-07-14T20:40:36.361753Z"
    },
    "papermill": {
     "duration": 0.018726,
     "end_time": "2025-07-14T20:40:36.364776",
     "exception": false,
     "start_time": "2025-07-14T20:40:36.346050",
     "status": "completed"
    },
    "tags": []
   },
   "outputs": [
    {
     "data": {
      "text/plain": [
       "Index(['CryoSleep', 'Age', 'VIP', 'RoomService', 'FoodCourt', 'ShoppingMall',\n",
       "       'Spa', 'VRDeck', 'PassengerNumber', 'GroupId', 'Num', 'Transported',\n",
       "       'TotalExpenses', 'TotalExpenses_std', 'TotalExpenses_avg',\n",
       "       'HomePlanet_Earth', 'HomePlanet_Europa', 'HomePlanet_Mars',\n",
       "       'HomePlanet_U', 'Side_P', 'Side_S', 'Side_U', 'Destination_55 Cancri e',\n",
       "       'Destination_PSO J318.5-22', 'Destination_TRAPPIST-1e', 'Destination_U',\n",
       "       'Deck_A', 'Deck_B', 'Deck_C', 'Deck_D', 'Deck_E', 'Deck_F', 'Deck_G',\n",
       "       'Deck_T', 'Deck_U'],\n",
       "      dtype='object')"
      ]
     },
     "execution_count": 14,
     "metadata": {},
     "output_type": "execute_result"
    }
   ],
   "source": [
    "data.columns"
   ]
  },
  {
   "cell_type": "code",
   "execution_count": 15,
   "id": "d70aba59",
   "metadata": {
    "execution": {
     "iopub.execute_input": "2025-07-14T20:40:36.389866Z",
     "iopub.status.busy": "2025-07-14T20:40:36.389059Z",
     "iopub.status.idle": "2025-07-14T20:40:36.446862Z",
     "shell.execute_reply": "2025-07-14T20:40:36.445196Z"
    },
    "papermill": {
     "duration": 0.069144,
     "end_time": "2025-07-14T20:40:36.448710",
     "exception": false,
     "start_time": "2025-07-14T20:40:36.379566",
     "status": "completed"
    },
    "tags": []
   },
   "outputs": [
    {
     "data": {
      "text/plain": [
       "Transported                  1.000000\n",
       "CryoSleep                    0.315576\n",
       "HomePlanet_Europa            0.131977\n",
       "Deck_B                       0.107559\n",
       "Destination_55 Cancri e      0.083625\n",
       "Deck_C                       0.079540\n",
       "Side_S                       0.073741\n",
       "GroupId                      0.051881\n",
       "FoodCourt                    0.035562\n",
       "Deck_G                       0.016048\n",
       "PassengerNumber              0.014628\n",
       "Deck_A                       0.007513\n",
       "HomePlanet_U                 0.006403\n",
       "HomePlanet_Mars              0.005643\n",
       "ShoppingMall                 0.005371\n",
       "Destination_PSO J318.5-22    0.000760\n",
       "Destination_U               -0.000554\n",
       "Deck_U                      -0.001007\n",
       "Side_U                      -0.001007\n",
       "VIP                         -0.009605\n",
       "Deck_T                      -0.015196\n",
       "Deck_D                      -0.025659\n",
       "Num                         -0.035240\n",
       "Age                         -0.050147\n",
       "Deck_F                      -0.070171\n",
       "Deck_E                      -0.071961\n",
       "Destination_TRAPPIST-1e     -0.072731\n",
       "Side_P                      -0.073463\n",
       "HomePlanet_Earth            -0.119644\n",
       "TotalExpenses_std           -0.119803\n",
       "TotalExpenses_avg           -0.139586\n",
       "TotalExpenses               -0.139586\n",
       "VRDeck                      -0.142660\n",
       "Spa                         -0.154590\n",
       "RoomService                 -0.174178\n",
       "Name: Transported, dtype: float64"
      ]
     },
     "execution_count": 15,
     "metadata": {},
     "output_type": "execute_result"
    }
   ],
   "source": [
    "data.corr()['Transported'].sort_values(ascending=False)"
   ]
  },
  {
   "cell_type": "code",
   "execution_count": 16,
   "id": "ba8367f9",
   "metadata": {
    "execution": {
     "iopub.execute_input": "2025-07-14T20:40:36.466339Z",
     "iopub.status.busy": "2025-07-14T20:40:36.466018Z",
     "iopub.status.idle": "2025-07-14T20:40:36.494554Z",
     "shell.execute_reply": "2025-07-14T20:40:36.493515Z"
    },
    "papermill": {
     "duration": 0.039964,
     "end_time": "2025-07-14T20:40:36.496941",
     "exception": false,
     "start_time": "2025-07-14T20:40:36.456977",
     "status": "completed"
    },
    "tags": []
   },
   "outputs": [
    {
     "data": {
      "text/html": [
       "<div>\n",
       "<style scoped>\n",
       "    .dataframe tbody tr th:only-of-type {\n",
       "        vertical-align: middle;\n",
       "    }\n",
       "\n",
       "    .dataframe tbody tr th {\n",
       "        vertical-align: top;\n",
       "    }\n",
       "\n",
       "    .dataframe thead th {\n",
       "        text-align: right;\n",
       "    }\n",
       "</style>\n",
       "<table border=\"1\" class=\"dataframe\">\n",
       "  <thead>\n",
       "    <tr style=\"text-align: right;\">\n",
       "      <th></th>\n",
       "      <th>CryoSleep</th>\n",
       "      <th>Age</th>\n",
       "      <th>VIP</th>\n",
       "      <th>RoomService</th>\n",
       "      <th>FoodCourt</th>\n",
       "      <th>ShoppingMall</th>\n",
       "      <th>Spa</th>\n",
       "      <th>VRDeck</th>\n",
       "      <th>PassengerNumber</th>\n",
       "      <th>GroupId</th>\n",
       "      <th>...</th>\n",
       "      <th>Deck_A</th>\n",
       "      <th>Deck_B</th>\n",
       "      <th>Deck_C</th>\n",
       "      <th>Deck_D</th>\n",
       "      <th>Deck_E</th>\n",
       "      <th>Deck_F</th>\n",
       "      <th>Deck_G</th>\n",
       "      <th>Deck_T</th>\n",
       "      <th>Deck_U</th>\n",
       "      <th>4_top_corr</th>\n",
       "    </tr>\n",
       "  </thead>\n",
       "  <tbody>\n",
       "    <tr>\n",
       "      <th>0</th>\n",
       "      <td>0.0</td>\n",
       "      <td>39.0</td>\n",
       "      <td>0.0</td>\n",
       "      <td>0.0</td>\n",
       "      <td>0.0</td>\n",
       "      <td>0.0</td>\n",
       "      <td>0.0</td>\n",
       "      <td>0.0</td>\n",
       "      <td>1.0</td>\n",
       "      <td>1.0</td>\n",
       "      <td>...</td>\n",
       "      <td>False</td>\n",
       "      <td>True</td>\n",
       "      <td>False</td>\n",
       "      <td>False</td>\n",
       "      <td>False</td>\n",
       "      <td>False</td>\n",
       "      <td>False</td>\n",
       "      <td>False</td>\n",
       "      <td>False</td>\n",
       "      <td>2.0</td>\n",
       "    </tr>\n",
       "    <tr>\n",
       "      <th>1</th>\n",
       "      <td>0.0</td>\n",
       "      <td>24.0</td>\n",
       "      <td>0.0</td>\n",
       "      <td>109.0</td>\n",
       "      <td>9.0</td>\n",
       "      <td>25.0</td>\n",
       "      <td>549.0</td>\n",
       "      <td>44.0</td>\n",
       "      <td>2.0</td>\n",
       "      <td>1.0</td>\n",
       "      <td>...</td>\n",
       "      <td>False</td>\n",
       "      <td>False</td>\n",
       "      <td>False</td>\n",
       "      <td>False</td>\n",
       "      <td>False</td>\n",
       "      <td>True</td>\n",
       "      <td>False</td>\n",
       "      <td>False</td>\n",
       "      <td>False</td>\n",
       "      <td>0.0</td>\n",
       "    </tr>\n",
       "    <tr>\n",
       "      <th>2</th>\n",
       "      <td>0.0</td>\n",
       "      <td>58.0</td>\n",
       "      <td>1.0</td>\n",
       "      <td>43.0</td>\n",
       "      <td>3576.0</td>\n",
       "      <td>0.0</td>\n",
       "      <td>6715.0</td>\n",
       "      <td>49.0</td>\n",
       "      <td>3.0</td>\n",
       "      <td>1.0</td>\n",
       "      <td>...</td>\n",
       "      <td>True</td>\n",
       "      <td>False</td>\n",
       "      <td>False</td>\n",
       "      <td>False</td>\n",
       "      <td>False</td>\n",
       "      <td>False</td>\n",
       "      <td>False</td>\n",
       "      <td>False</td>\n",
       "      <td>False</td>\n",
       "      <td>1.0</td>\n",
       "    </tr>\n",
       "    <tr>\n",
       "      <th>3</th>\n",
       "      <td>0.0</td>\n",
       "      <td>33.0</td>\n",
       "      <td>0.0</td>\n",
       "      <td>0.0</td>\n",
       "      <td>1283.0</td>\n",
       "      <td>371.0</td>\n",
       "      <td>3329.0</td>\n",
       "      <td>193.0</td>\n",
       "      <td>3.0</td>\n",
       "      <td>2.0</td>\n",
       "      <td>...</td>\n",
       "      <td>True</td>\n",
       "      <td>False</td>\n",
       "      <td>False</td>\n",
       "      <td>False</td>\n",
       "      <td>False</td>\n",
       "      <td>False</td>\n",
       "      <td>False</td>\n",
       "      <td>False</td>\n",
       "      <td>False</td>\n",
       "      <td>1.0</td>\n",
       "    </tr>\n",
       "    <tr>\n",
       "      <th>4</th>\n",
       "      <td>0.0</td>\n",
       "      <td>16.0</td>\n",
       "      <td>0.0</td>\n",
       "      <td>303.0</td>\n",
       "      <td>70.0</td>\n",
       "      <td>151.0</td>\n",
       "      <td>565.0</td>\n",
       "      <td>2.0</td>\n",
       "      <td>4.0</td>\n",
       "      <td>1.0</td>\n",
       "      <td>...</td>\n",
       "      <td>False</td>\n",
       "      <td>False</td>\n",
       "      <td>False</td>\n",
       "      <td>False</td>\n",
       "      <td>False</td>\n",
       "      <td>True</td>\n",
       "      <td>False</td>\n",
       "      <td>False</td>\n",
       "      <td>False</td>\n",
       "      <td>0.0</td>\n",
       "    </tr>\n",
       "  </tbody>\n",
       "</table>\n",
       "<p>5 rows × 36 columns</p>\n",
       "</div>"
      ],
      "text/plain": [
       "   CryoSleep   Age  VIP  RoomService  FoodCourt  ShoppingMall     Spa  VRDeck  \\\n",
       "0        0.0  39.0  0.0          0.0        0.0           0.0     0.0     0.0   \n",
       "1        0.0  24.0  0.0        109.0        9.0          25.0   549.0    44.0   \n",
       "2        0.0  58.0  1.0         43.0     3576.0           0.0  6715.0    49.0   \n",
       "3        0.0  33.0  0.0          0.0     1283.0         371.0  3329.0   193.0   \n",
       "4        0.0  16.0  0.0        303.0       70.0         151.0   565.0     2.0   \n",
       "\n",
       "   PassengerNumber  GroupId  ...  Deck_A  Deck_B  Deck_C  Deck_D  Deck_E  \\\n",
       "0              1.0      1.0  ...   False    True   False   False   False   \n",
       "1              2.0      1.0  ...   False   False   False   False   False   \n",
       "2              3.0      1.0  ...    True   False   False   False   False   \n",
       "3              3.0      2.0  ...    True   False   False   False   False   \n",
       "4              4.0      1.0  ...   False   False   False   False   False   \n",
       "\n",
       "   Deck_F  Deck_G  Deck_T  Deck_U  4_top_corr  \n",
       "0   False   False   False   False         2.0  \n",
       "1    True   False   False   False         0.0  \n",
       "2   False   False   False   False         1.0  \n",
       "3   False   False   False   False         1.0  \n",
       "4    True   False   False   False         0.0  \n",
       "\n",
       "[5 rows x 36 columns]"
      ]
     },
     "execution_count": 16,
     "metadata": {},
     "output_type": "execute_result"
    }
   ],
   "source": [
    "data['4_top_corr'] = data['CryoSleep'] + data['HomePlanet_Europa'] + data['Deck_B'] + data['Destination_55 Cancri e']\n",
    "data.head()"
   ]
  },
  {
   "cell_type": "code",
   "execution_count": 17,
   "id": "e0f2fa2f",
   "metadata": {
    "execution": {
     "iopub.execute_input": "2025-07-14T20:40:36.524479Z",
     "iopub.status.busy": "2025-07-14T20:40:36.524166Z",
     "iopub.status.idle": "2025-07-14T20:40:36.585039Z",
     "shell.execute_reply": "2025-07-14T20:40:36.583746Z"
    },
    "papermill": {
     "duration": 0.072701,
     "end_time": "2025-07-14T20:40:36.587203",
     "exception": false,
     "start_time": "2025-07-14T20:40:36.514502",
     "status": "completed"
    },
    "tags": []
   },
   "outputs": [
    {
     "data": {
      "text/plain": [
       "Transported                  1.000000\n",
       "CryoSleep                    0.315576\n",
       "4_top_corr                   0.268638\n",
       "HomePlanet_Europa            0.131977\n",
       "Deck_B                       0.107559\n",
       "Destination_55 Cancri e      0.083625\n",
       "Deck_C                       0.079540\n",
       "Side_S                       0.073741\n",
       "GroupId                      0.051881\n",
       "FoodCourt                    0.035562\n",
       "Deck_G                       0.016048\n",
       "PassengerNumber              0.014628\n",
       "Deck_A                       0.007513\n",
       "HomePlanet_U                 0.006403\n",
       "HomePlanet_Mars              0.005643\n",
       "ShoppingMall                 0.005371\n",
       "Destination_PSO J318.5-22    0.000760\n",
       "Destination_U               -0.000554\n",
       "Side_U                      -0.001007\n",
       "Deck_U                      -0.001007\n",
       "VIP                         -0.009605\n",
       "Deck_T                      -0.015196\n",
       "Deck_D                      -0.025659\n",
       "Num                         -0.035240\n",
       "Age                         -0.050147\n",
       "Deck_F                      -0.070171\n",
       "Deck_E                      -0.071961\n",
       "Destination_TRAPPIST-1e     -0.072731\n",
       "Side_P                      -0.073463\n",
       "HomePlanet_Earth            -0.119644\n",
       "TotalExpenses_std           -0.119803\n",
       "TotalExpenses_avg           -0.139586\n",
       "TotalExpenses               -0.139586\n",
       "VRDeck                      -0.142660\n",
       "Spa                         -0.154590\n",
       "RoomService                 -0.174178\n",
       "Name: Transported, dtype: float64"
      ]
     },
     "execution_count": 17,
     "metadata": {},
     "output_type": "execute_result"
    }
   ],
   "source": [
    "data.corr()['Transported'].sort_values(ascending=False)"
   ]
  },
  {
   "cell_type": "markdown",
   "id": "5c2e5af9",
   "metadata": {
    "papermill": {
     "duration": 0.008912,
     "end_time": "2025-07-14T20:40:36.605602",
     "exception": false,
     "start_time": "2025-07-14T20:40:36.596690",
     "status": "completed"
    },
    "tags": []
   },
   "source": [
    "<h3>Model Training</h3>"
   ]
  },
  {
   "cell_type": "code",
   "execution_count": 18,
   "id": "4b838134",
   "metadata": {
    "execution": {
     "iopub.execute_input": "2025-07-14T20:40:36.623659Z",
     "iopub.status.busy": "2025-07-14T20:40:36.623314Z",
     "iopub.status.idle": "2025-07-14T20:40:36.632649Z",
     "shell.execute_reply": "2025-07-14T20:40:36.631743Z"
    },
    "papermill": {
     "duration": 0.020508,
     "end_time": "2025-07-14T20:40:36.634361",
     "exception": false,
     "start_time": "2025-07-14T20:40:36.613853",
     "status": "completed"
    },
    "tags": []
   },
   "outputs": [],
   "source": [
    "data_train, data_test = data[:train_data.shape[0]].copy(), data[train_data.shape[0]:].copy()\n",
    "data_test.drop(columns=['Transported'], inplace=True)"
   ]
  },
  {
   "cell_type": "code",
   "execution_count": 19,
   "id": "1fc596e5",
   "metadata": {
    "execution": {
     "iopub.execute_input": "2025-07-14T20:40:36.723492Z",
     "iopub.status.busy": "2025-07-14T20:40:36.723128Z",
     "iopub.status.idle": "2025-07-14T20:40:36.728475Z",
     "shell.execute_reply": "2025-07-14T20:40:36.727536Z"
    },
    "papermill": {
     "duration": 0.016536,
     "end_time": "2025-07-14T20:40:36.730051",
     "exception": false,
     "start_time": "2025-07-14T20:40:36.713515",
     "status": "completed"
    },
    "tags": []
   },
   "outputs": [],
   "source": [
    "models = {\n",
    "    \"Random Forest\" : RandomForestClassifier(n_estimators=100,\n",
    "                                            random_state=42,\n",
    "                                            n_jobs=-1),\n",
    "    \"XGB\" : XGBClassifier(random_state=42),\n",
    "    \"Gradient Boosting\" : GradientBoostingClassifier(random_state=42)\n",
    "}"
   ]
  },
  {
   "cell_type": "code",
   "execution_count": 20,
   "id": "c56ad9b7",
   "metadata": {
    "execution": {
     "iopub.execute_input": "2025-07-14T20:40:36.748925Z",
     "iopub.status.busy": "2025-07-14T20:40:36.748511Z",
     "iopub.status.idle": "2025-07-14T20:40:51.932447Z",
     "shell.execute_reply": "2025-07-14T20:40:51.931459Z"
    },
    "papermill": {
     "duration": 15.195769,
     "end_time": "2025-07-14T20:40:51.934206",
     "exception": false,
     "start_time": "2025-07-14T20:40:36.738437",
     "status": "completed"
    },
    "tags": []
   },
   "outputs": [
    {
     "name": "stdout",
     "output_type": "stream",
     "text": [
      "[0.73260495 0.75503163 0.80506038 0.81530495 0.76582278]\n",
      "Random Forest:  0.7748 (+/- 0.0620\n",
      "[0.61012076 0.68717654 0.63829787 0.74856157 0.7146145 ]\n",
      "XGB:  0.6798 (+/- 0.1003\n",
      "[0.53939045 0.70845313 0.78435883 0.79746835 0.66398159]\n",
      "Gradient Boosting:  0.6987 (+/- 0.1871\n"
     ]
    }
   ],
   "source": [
    "X_train = data_train.drop(columns='Transported')\n",
    "y_train = data_train['Transported']\n",
    "\n",
    "for name, model in models.items():\n",
    "    scores = cross_val_score(model, X_train, y_train, cv=5)\n",
    "    print(scores)\n",
    "    print(f\"{name}: {scores.mean(): .4f} (+/-{scores.std() * 2: .4f}\")"
   ]
  },
  {
   "cell_type": "markdown",
   "id": "d3b596af",
   "metadata": {
    "papermill": {
     "duration": 0.008297,
     "end_time": "2025-07-14T20:40:51.951151",
     "exception": false,
     "start_time": "2025-07-14T20:40:51.942854",
     "status": "completed"
    },
    "tags": []
   },
   "source": [
    "<h3>Model Testing</h3>"
   ]
  },
  {
   "cell_type": "code",
   "execution_count": 21,
   "id": "85aad0bb",
   "metadata": {
    "execution": {
     "iopub.execute_input": "2025-07-14T20:40:51.969730Z",
     "iopub.status.busy": "2025-07-14T20:40:51.969364Z",
     "iopub.status.idle": "2025-07-14T20:40:52.746924Z",
     "shell.execute_reply": "2025-07-14T20:40:52.745641Z"
    },
    "papermill": {
     "duration": 0.789354,
     "end_time": "2025-07-14T20:40:52.748932",
     "exception": false,
     "start_time": "2025-07-14T20:40:51.959578",
     "status": "completed"
    },
    "tags": []
   },
   "outputs": [],
   "source": [
    "model = RandomForestClassifier(n_estimators=100, random_state=42, n_jobs=-1)\n",
    "model.fit(X_train, y_train)\n",
    "pred = model.predict(data_test)"
   ]
  },
  {
   "cell_type": "code",
   "execution_count": 22,
   "id": "c9dfed76",
   "metadata": {
    "execution": {
     "iopub.execute_input": "2025-07-14T20:40:52.768076Z",
     "iopub.status.busy": "2025-07-14T20:40:52.767712Z",
     "iopub.status.idle": "2025-07-14T20:40:52.784919Z",
     "shell.execute_reply": "2025-07-14T20:40:52.783933Z"
    },
    "papermill": {
     "duration": 0.028508,
     "end_time": "2025-07-14T20:40:52.786586",
     "exception": false,
     "start_time": "2025-07-14T20:40:52.758078",
     "status": "completed"
    },
    "tags": []
   },
   "outputs": [],
   "source": [
    "final = pd.DataFrame()\n",
    "final['PassengerId'] = test_data['PassengerId']\n",
    "final['Transported'] = pred.astype(bool)\n",
    "\n",
    "final.to_csv('submission.csv', index=False)"
   ]
  },
  {
   "cell_type": "markdown",
   "id": "5db6e4e8",
   "metadata": {
    "papermill": {
     "duration": 0.009003,
     "end_time": "2025-07-14T20:40:52.804565",
     "exception": false,
     "start_time": "2025-07-14T20:40:52.795562",
     "status": "completed"
    },
    "tags": []
   },
   "source": [
    "<h3>Trying out New things to increase score</h3>"
   ]
  },
  {
   "cell_type": "code",
   "execution_count": 23,
   "id": "2579257d",
   "metadata": {
    "execution": {
     "iopub.execute_input": "2025-07-14T20:40:52.823612Z",
     "iopub.status.busy": "2025-07-14T20:40:52.823274Z",
     "iopub.status.idle": "2025-07-14T20:40:52.828094Z",
     "shell.execute_reply": "2025-07-14T20:40:52.827101Z"
    },
    "papermill": {
     "duration": 0.016298,
     "end_time": "2025-07-14T20:40:52.829594",
     "exception": false,
     "start_time": "2025-07-14T20:40:52.813296",
     "status": "completed"
    },
    "tags": []
   },
   "outputs": [],
   "source": [
    "# from sklearn.pipeline import Pipeline\n",
    "# from sklearn.impute import SimpleImputer\n",
    "# from sklearn.compose import ColumnTransformer\n",
    "# from sklearn.preprocessing import OneHotEncoder\n",
    "\n",
    "# X_train = train_data.drop('Transported', axis=1)\n",
    "# y_train = train_data['Transported']\n",
    "\n",
    "# X_test = test_data.copy(deep=True)\n",
    "# num_cols = []\n",
    "# cat_cols = []\n",
    "\n",
    "\n",
    "# for col in X_train.columns:\n",
    "#     if col != 'Transported':\n",
    "#         if train_data[col].dtype == 'object':\n",
    "#             cat_cols.append(col)\n",
    "#         else:\n",
    "#             num_cols.append(col)\n",
    "\n",
    "# numeric_pipeline = Pipeline(steps=[\n",
    "#     ('imputer', KNNImputer(strategy='mean')),\n",
    "#     ('scaler', StandardScaler())\n",
    "# ])\n",
    "\n",
    "# categorical_pipeline = Pipeline(steps=[\n",
    "#     ('imputer', SimpleImputer(strategy='most_frequent')),\n",
    "#     ('onehot', OneHotEncoder())\n",
    "# ])\n",
    "\n",
    "# preprocessor = ColumnTransformer(transformers=[\n",
    "#     ('num', numeric_pipeline, num_cols),\n",
    "#     ('cat', categorical_pipeline, cat_cols)\n",
    "# ])\n",
    "\n",
    "# X_train_preprocessed = preprocessor.fit_transform(X_train)\n",
    "# X_test_preprocessed = preprocessor.transform(X_test)"
   ]
  },
  {
   "cell_type": "markdown",
   "id": "9f43237c",
   "metadata": {
    "papermill": {
     "duration": 0.008771,
     "end_time": "2025-07-14T20:40:52.847872",
     "exception": false,
     "start_time": "2025-07-14T20:40:52.839101",
     "status": "completed"
    },
    "tags": []
   },
   "source": [
    "<h3>Outlier and Noise Handling</h3>"
   ]
  },
  {
   "cell_type": "markdown",
   "id": "727caa87",
   "metadata": {
    "papermill": {
     "duration": 0.008983,
     "end_time": "2025-07-14T20:40:52.865472",
     "exception": false,
     "start_time": "2025-07-14T20:40:52.856489",
     "status": "completed"
    },
    "tags": []
   },
   "source": [
    "<h5>We will use the interquartile range to determine the outlier count.</h5>"
   ]
  },
  {
   "cell_type": "code",
   "execution_count": 24,
   "id": "879ab1a8",
   "metadata": {
    "execution": {
     "iopub.execute_input": "2025-07-14T20:40:52.886587Z",
     "iopub.status.busy": "2025-07-14T20:40:52.886226Z",
     "iopub.status.idle": "2025-07-14T20:40:52.890631Z",
     "shell.execute_reply": "2025-07-14T20:40:52.889640Z"
    },
    "papermill": {
     "duration": 0.017238,
     "end_time": "2025-07-14T20:40:52.892587",
     "exception": false,
     "start_time": "2025-07-14T20:40:52.875349",
     "status": "completed"
    },
    "tags": []
   },
   "outputs": [],
   "source": [
    "# def detect_outliers_iqr(df):\n",
    "#     outlier_flags = {}\n",
    "#     for col in df.select_dtypes(include='number').columns:\n",
    "#         Q1 = df[col].quantile(0.25)\n",
    "#         Q3 = df[col].quantile(0.75)\n",
    "#         IQR = Q3 - Q1\n",
    "#         lower = Q1 - 1.5 * IQR\n",
    "#         upper = Q3 + 1.5 * IQR\n",
    "#         outliers = df[(df[col] < lower) | (df[col] > upper)]\n",
    "#         outlier_flags[col] = len(outliers)\n",
    "#     return pd.Series(outlier_flags).sort_values(ascending=False)"
   ]
  },
  {
   "cell_type": "code",
   "execution_count": 25,
   "id": "e1d80a67",
   "metadata": {
    "execution": {
     "iopub.execute_input": "2025-07-14T20:40:52.912014Z",
     "iopub.status.busy": "2025-07-14T20:40:52.911609Z",
     "iopub.status.idle": "2025-07-14T20:40:52.915896Z",
     "shell.execute_reply": "2025-07-14T20:40:52.914957Z"
    },
    "papermill": {
     "duration": 0.015691,
     "end_time": "2025-07-14T20:40:52.917433",
     "exception": false,
     "start_time": "2025-07-14T20:40:52.901742",
     "status": "completed"
    },
    "tags": []
   },
   "outputs": [],
   "source": [
    "# outliers = detect_outliers_iqr(train_data_new)\n",
    "# outliers"
   ]
  },
  {
   "cell_type": "markdown",
   "id": "7102db4d",
   "metadata": {
    "papermill": {
     "duration": 0.010329,
     "end_time": "2025-07-14T20:40:52.938693",
     "exception": false,
     "start_time": "2025-07-14T20:40:52.928364",
     "status": "completed"
    },
    "tags": []
   },
   "source": [
    "<h3>Model Training</h3>"
   ]
  },
  {
   "cell_type": "code",
   "execution_count": 26,
   "id": "37fc566b",
   "metadata": {
    "execution": {
     "iopub.execute_input": "2025-07-14T20:40:52.959299Z",
     "iopub.status.busy": "2025-07-14T20:40:52.958972Z",
     "iopub.status.idle": "2025-07-14T20:40:52.963520Z",
     "shell.execute_reply": "2025-07-14T20:40:52.962512Z"
    },
    "papermill": {
     "duration": 0.01657,
     "end_time": "2025-07-14T20:40:52.965201",
     "exception": false,
     "start_time": "2025-07-14T20:40:52.948631",
     "status": "completed"
    },
    "tags": []
   },
   "outputs": [],
   "source": [
    "# train_data_scaled['Transported'].value_counts().plot.bar()"
   ]
  },
  {
   "cell_type": "code",
   "execution_count": 27,
   "id": "67d6ce40",
   "metadata": {
    "execution": {
     "iopub.execute_input": "2025-07-14T20:40:52.984307Z",
     "iopub.status.busy": "2025-07-14T20:40:52.983563Z",
     "iopub.status.idle": "2025-07-14T20:40:52.988778Z",
     "shell.execute_reply": "2025-07-14T20:40:52.987741Z"
    },
    "papermill": {
     "duration": 0.016318,
     "end_time": "2025-07-14T20:40:52.990369",
     "exception": false,
     "start_time": "2025-07-14T20:40:52.974051",
     "status": "completed"
    },
    "tags": []
   },
   "outputs": [],
   "source": [
    "# print(\"====== Cross Validation for Dataset with Transformed Outliers ======\")\n",
    "# print()\n",
    "\n",
    "# columns_to_test = ['PassengerNumber', 'VIP', 'Num', 'Age', 'GroupId']\n",
    "\n",
    "# # go through each classifier and do cross validation on them\n",
    "# for name, clf in models.items():\n",
    "#     print(f\"******** {name} *********\")\n",
    "#     print()\n",
    "\n",
    "#     results = []\n",
    "\n",
    "#     # no columns removed\n",
    "#     baseline_acc = cross_val_score(clf, X_scaled, y, cv=5, scoring='accuracy', n_jobs=-1)\n",
    "#     results.append({\n",
    "#         'dropped_cols': (),\n",
    "#         'mean_acc': baseline_acc.mean(),\n",
    "#         'std_acc': baseline_acc.std()\n",
    "#     })\n",
    "\n",
    "#     # Find every subset of the columns that need further testing and remove them from\n",
    "#     # dataset to see if any has an affect on the results\n",
    "#     for r in range(1, len(columns_to_test) + 1):\n",
    "#         for subset in itertools.combinations(columns_to_test, r):\n",
    "                \n",
    "#             X_train = X_scaled.drop(list(subset), axis=1)\n",
    "        \n",
    "#             cv_acc = cross_val_score(clf, X_train, y, cv=5, scoring='accuracy', n_jobs=-1)\n",
    "\n",
    "#             results.append({\n",
    "#                 'dropped_cols': subset,\n",
    "#                 'mean_acc': cv_acc.mean(),\n",
    "#                 'std_acc': cv_acc.std()\n",
    "#             })\n",
    "\n",
    "#     results_df = pd.DataFrame(results).sort_values('mean_acc', ascending=False)\n",
    "#     print(results_df)\n",
    "#     print()"
   ]
  }
 ],
 "metadata": {
  "kaggle": {
   "accelerator": "none",
   "dataSources": [
    {
     "datasetId": 7796953,
     "sourceId": 12366369,
     "sourceType": "datasetVersion"
    }
   ],
   "dockerImageVersionId": 31040,
   "isGpuEnabled": false,
   "isInternetEnabled": true,
   "language": "python",
   "sourceType": "notebook"
  },
  "kernelspec": {
   "display_name": "Python 3",
   "language": "python",
   "name": "python3"
  },
  "language_info": {
   "codemirror_mode": {
    "name": "ipython",
    "version": 3
   },
   "file_extension": ".py",
   "mimetype": "text/x-python",
   "name": "python",
   "nbconvert_exporter": "python",
   "pygments_lexer": "ipython3",
   "version": "3.11.11"
  },
  "papermill": {
   "default_parameters": {},
   "duration": 38.195303,
   "end_time": "2025-07-14T20:40:54.122609",
   "environment_variables": {},
   "exception": null,
   "input_path": "__notebook__.ipynb",
   "output_path": "__notebook__.ipynb",
   "parameters": {},
   "start_time": "2025-07-14T20:40:15.927306",
   "version": "2.6.0"
  }
 },
 "nbformat": 4,
 "nbformat_minor": 5
}
