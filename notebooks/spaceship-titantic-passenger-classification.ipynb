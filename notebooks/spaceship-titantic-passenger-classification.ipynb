{
 "cells": [
  {
   "cell_type": "code",
   "execution_count": 1,
   "id": "1997e907",
   "metadata": {
    "_cell_guid": "b1076dfc-b9ad-4769-8c92-a6c4dae69d19",
    "_uuid": "8f2839f25d086af736a60e9eeb907d3b93b6e0e5",
    "execution": {
     "iopub.execute_input": "2025-07-07T05:51:49.073661Z",
     "iopub.status.busy": "2025-07-07T05:51:49.073327Z",
     "iopub.status.idle": "2025-07-07T05:51:51.237508Z",
     "shell.execute_reply": "2025-07-07T05:51:51.235707Z"
    },
    "papermill": {
     "duration": 2.177196,
     "end_time": "2025-07-07T05:51:51.239812",
     "exception": false,
     "start_time": "2025-07-07T05:51:49.062616",
     "status": "completed"
    },
    "tags": []
   },
   "outputs": [
    {
     "name": "stdout",
     "output_type": "stream",
     "text": [
      "/kaggle/input/spaceship-titanic-passenger-data/README.md\n",
      "/kaggle/input/spaceship-titanic-passenger-data/data/sample_submission.csv\n",
      "/kaggle/input/spaceship-titanic-passenger-data/data/train.csv\n",
      "/kaggle/input/spaceship-titanic-passenger-data/data/test.csv\n"
     ]
    }
   ],
   "source": [
    "# This Python 3 environment comes with many helpful analytics libraries installed\n",
    "# It is defined by the kaggle/python Docker image: https://github.com/kaggle/docker-python\n",
    "# For example, here's several helpful packages to load\n",
    "\n",
    "import numpy as np # linear algebra\n",
    "import pandas as pd # data processing, CSV file I/O (e.g. pd.read_csv)\n",
    "\n",
    "# Input data files are available in the read-only \"../input/\" directory\n",
    "# For example, running this (by clicking run or pressing Shift+Enter) will list all files under the input directory\n",
    "\n",
    "import os\n",
    "for dirname, _, filenames in os.walk('/kaggle/input'):\n",
    "    for filename in filenames:\n",
    "        print(os.path.join(dirname, filename))\n",
    "\n",
    "# You can write up to 20GB to the current directory (/kaggle/working/) that gets preserved as output when you create a version using \"Save & Run All\" \n",
    "# You can also write temporary files to /kaggle/temp/, but they won't be saved outside of the current session"
   ]
  },
  {
   "cell_type": "markdown",
   "id": "bda20f97",
   "metadata": {
    "papermill": {
     "duration": 0.009093,
     "end_time": "2025-07-07T05:51:51.263299",
     "exception": false,
     "start_time": "2025-07-07T05:51:51.254206",
     "status": "completed"
    },
    "tags": []
   },
   "source": [
    "<h3>Import Libraries</h3>"
   ]
  },
  {
   "cell_type": "code",
   "execution_count": 2,
   "id": "a4e0735c",
   "metadata": {
    "execution": {
     "iopub.execute_input": "2025-07-07T05:51:51.287354Z",
     "iopub.status.busy": "2025-07-07T05:51:51.286700Z",
     "iopub.status.idle": "2025-07-07T05:51:54.228024Z",
     "shell.execute_reply": "2025-07-07T05:51:54.227023Z"
    },
    "papermill": {
     "duration": 2.955273,
     "end_time": "2025-07-07T05:51:54.230126",
     "exception": false,
     "start_time": "2025-07-07T05:51:51.274853",
     "status": "completed"
    },
    "tags": []
   },
   "outputs": [],
   "source": [
    "import seaborn as sns\n",
    "import scipy.stats as stats\n",
    "import matplotlib.pyplot as plt\n",
    "from sklearn.preprocessing import StandardScaler\n",
    "from sklearn.ensemble import RandomForestClassifier\n",
    "from sklearn.inspection import permutation_importance\n",
    "from scipy.stats import pointbiserialr\n",
    "from scipy.stats import chi2_contingency\n",
    "import warnings"
   ]
  },
  {
   "cell_type": "markdown",
   "id": "8166714d",
   "metadata": {
    "papermill": {
     "duration": 0.008151,
     "end_time": "2025-07-07T05:51:54.246507",
     "exception": false,
     "start_time": "2025-07-07T05:51:54.238356",
     "status": "completed"
    },
    "tags": []
   },
   "source": [
    "<h3>Feature Selection</h3>"
   ]
  },
  {
   "cell_type": "code",
   "execution_count": 3,
   "id": "e7d5f4ca",
   "metadata": {
    "execution": {
     "iopub.execute_input": "2025-07-07T05:51:54.264463Z",
     "iopub.status.busy": "2025-07-07T05:51:54.263983Z",
     "iopub.status.idle": "2025-07-07T05:51:54.337243Z",
     "shell.execute_reply": "2025-07-07T05:51:54.336072Z"
    },
    "papermill": {
     "duration": 0.084934,
     "end_time": "2025-07-07T05:51:54.339347",
     "exception": false,
     "start_time": "2025-07-07T05:51:54.254413",
     "status": "completed"
    },
    "tags": []
   },
   "outputs": [],
   "source": [
    "train_data = pd.read_csv(\"/kaggle/input/spaceship-titanic-passenger-data/data/train.csv\")"
   ]
  },
  {
   "cell_type": "code",
   "execution_count": 4,
   "id": "6d16ea77",
   "metadata": {
    "execution": {
     "iopub.execute_input": "2025-07-07T05:51:54.357838Z",
     "iopub.status.busy": "2025-07-07T05:51:54.357361Z",
     "iopub.status.idle": "2025-07-07T05:51:54.389863Z",
     "shell.execute_reply": "2025-07-07T05:51:54.388837Z"
    },
    "papermill": {
     "duration": 0.043821,
     "end_time": "2025-07-07T05:51:54.391422",
     "exception": false,
     "start_time": "2025-07-07T05:51:54.347601",
     "status": "completed"
    },
    "tags": []
   },
   "outputs": [
    {
     "data": {
      "text/html": [
       "<div>\n",
       "<style scoped>\n",
       "    .dataframe tbody tr th:only-of-type {\n",
       "        vertical-align: middle;\n",
       "    }\n",
       "\n",
       "    .dataframe tbody tr th {\n",
       "        vertical-align: top;\n",
       "    }\n",
       "\n",
       "    .dataframe thead th {\n",
       "        text-align: right;\n",
       "    }\n",
       "</style>\n",
       "<table border=\"1\" class=\"dataframe\">\n",
       "  <thead>\n",
       "    <tr style=\"text-align: right;\">\n",
       "      <th></th>\n",
       "      <th>PassengerId</th>\n",
       "      <th>HomePlanet</th>\n",
       "      <th>CryoSleep</th>\n",
       "      <th>Cabin</th>\n",
       "      <th>Destination</th>\n",
       "      <th>Age</th>\n",
       "      <th>VIP</th>\n",
       "      <th>RoomService</th>\n",
       "      <th>FoodCourt</th>\n",
       "      <th>ShoppingMall</th>\n",
       "      <th>Spa</th>\n",
       "      <th>VRDeck</th>\n",
       "      <th>Name</th>\n",
       "      <th>Transported</th>\n",
       "    </tr>\n",
       "  </thead>\n",
       "  <tbody>\n",
       "    <tr>\n",
       "      <th>0</th>\n",
       "      <td>0001_01</td>\n",
       "      <td>Europa</td>\n",
       "      <td>False</td>\n",
       "      <td>B/0/P</td>\n",
       "      <td>TRAPPIST-1e</td>\n",
       "      <td>39.0</td>\n",
       "      <td>False</td>\n",
       "      <td>0.0</td>\n",
       "      <td>0.0</td>\n",
       "      <td>0.0</td>\n",
       "      <td>0.0</td>\n",
       "      <td>0.0</td>\n",
       "      <td>Maham Ofracculy</td>\n",
       "      <td>False</td>\n",
       "    </tr>\n",
       "    <tr>\n",
       "      <th>1</th>\n",
       "      <td>0002_01</td>\n",
       "      <td>Earth</td>\n",
       "      <td>False</td>\n",
       "      <td>F/0/S</td>\n",
       "      <td>TRAPPIST-1e</td>\n",
       "      <td>24.0</td>\n",
       "      <td>False</td>\n",
       "      <td>109.0</td>\n",
       "      <td>9.0</td>\n",
       "      <td>25.0</td>\n",
       "      <td>549.0</td>\n",
       "      <td>44.0</td>\n",
       "      <td>Juanna Vines</td>\n",
       "      <td>True</td>\n",
       "    </tr>\n",
       "    <tr>\n",
       "      <th>2</th>\n",
       "      <td>0003_01</td>\n",
       "      <td>Europa</td>\n",
       "      <td>False</td>\n",
       "      <td>A/0/S</td>\n",
       "      <td>TRAPPIST-1e</td>\n",
       "      <td>58.0</td>\n",
       "      <td>True</td>\n",
       "      <td>43.0</td>\n",
       "      <td>3576.0</td>\n",
       "      <td>0.0</td>\n",
       "      <td>6715.0</td>\n",
       "      <td>49.0</td>\n",
       "      <td>Altark Susent</td>\n",
       "      <td>False</td>\n",
       "    </tr>\n",
       "    <tr>\n",
       "      <th>3</th>\n",
       "      <td>0003_02</td>\n",
       "      <td>Europa</td>\n",
       "      <td>False</td>\n",
       "      <td>A/0/S</td>\n",
       "      <td>TRAPPIST-1e</td>\n",
       "      <td>33.0</td>\n",
       "      <td>False</td>\n",
       "      <td>0.0</td>\n",
       "      <td>1283.0</td>\n",
       "      <td>371.0</td>\n",
       "      <td>3329.0</td>\n",
       "      <td>193.0</td>\n",
       "      <td>Solam Susent</td>\n",
       "      <td>False</td>\n",
       "    </tr>\n",
       "    <tr>\n",
       "      <th>4</th>\n",
       "      <td>0004_01</td>\n",
       "      <td>Earth</td>\n",
       "      <td>False</td>\n",
       "      <td>F/1/S</td>\n",
       "      <td>TRAPPIST-1e</td>\n",
       "      <td>16.0</td>\n",
       "      <td>False</td>\n",
       "      <td>303.0</td>\n",
       "      <td>70.0</td>\n",
       "      <td>151.0</td>\n",
       "      <td>565.0</td>\n",
       "      <td>2.0</td>\n",
       "      <td>Willy Santantines</td>\n",
       "      <td>True</td>\n",
       "    </tr>\n",
       "  </tbody>\n",
       "</table>\n",
       "</div>"
      ],
      "text/plain": [
       "  PassengerId HomePlanet CryoSleep  Cabin  Destination   Age    VIP  \\\n",
       "0     0001_01     Europa     False  B/0/P  TRAPPIST-1e  39.0  False   \n",
       "1     0002_01      Earth     False  F/0/S  TRAPPIST-1e  24.0  False   \n",
       "2     0003_01     Europa     False  A/0/S  TRAPPIST-1e  58.0   True   \n",
       "3     0003_02     Europa     False  A/0/S  TRAPPIST-1e  33.0  False   \n",
       "4     0004_01      Earth     False  F/1/S  TRAPPIST-1e  16.0  False   \n",
       "\n",
       "   RoomService  FoodCourt  ShoppingMall     Spa  VRDeck               Name  \\\n",
       "0          0.0        0.0           0.0     0.0     0.0    Maham Ofracculy   \n",
       "1        109.0        9.0          25.0   549.0    44.0       Juanna Vines   \n",
       "2         43.0     3576.0           0.0  6715.0    49.0      Altark Susent   \n",
       "3          0.0     1283.0         371.0  3329.0   193.0       Solam Susent   \n",
       "4        303.0       70.0         151.0   565.0     2.0  Willy Santantines   \n",
       "\n",
       "   Transported  \n",
       "0        False  \n",
       "1         True  \n",
       "2        False  \n",
       "3        False  \n",
       "4         True  "
      ]
     },
     "execution_count": 4,
     "metadata": {},
     "output_type": "execute_result"
    }
   ],
   "source": [
    "train_data.head()"
   ]
  },
  {
   "cell_type": "code",
   "execution_count": 5,
   "id": "a9f7b2cd",
   "metadata": {
    "execution": {
     "iopub.execute_input": "2025-07-07T05:51:54.408574Z",
     "iopub.status.busy": "2025-07-07T05:51:54.408207Z",
     "iopub.status.idle": "2025-07-07T05:51:54.438983Z",
     "shell.execute_reply": "2025-07-07T05:51:54.437788Z"
    },
    "papermill": {
     "duration": 0.041271,
     "end_time": "2025-07-07T05:51:54.440591",
     "exception": false,
     "start_time": "2025-07-07T05:51:54.399320",
     "status": "completed"
    },
    "tags": []
   },
   "outputs": [
    {
     "name": "stdout",
     "output_type": "stream",
     "text": [
      "<class 'pandas.core.frame.DataFrame'>\n",
      "RangeIndex: 8693 entries, 0 to 8692\n",
      "Data columns (total 14 columns):\n",
      " #   Column        Non-Null Count  Dtype  \n",
      "---  ------        --------------  -----  \n",
      " 0   PassengerId   8693 non-null   object \n",
      " 1   HomePlanet    8492 non-null   object \n",
      " 2   CryoSleep     8476 non-null   object \n",
      " 3   Cabin         8494 non-null   object \n",
      " 4   Destination   8511 non-null   object \n",
      " 5   Age           8514 non-null   float64\n",
      " 6   VIP           8490 non-null   object \n",
      " 7   RoomService   8512 non-null   float64\n",
      " 8   FoodCourt     8510 non-null   float64\n",
      " 9   ShoppingMall  8485 non-null   float64\n",
      " 10  Spa           8510 non-null   float64\n",
      " 11  VRDeck        8505 non-null   float64\n",
      " 12  Name          8493 non-null   object \n",
      " 13  Transported   8693 non-null   bool   \n",
      "dtypes: bool(1), float64(6), object(7)\n",
      "memory usage: 891.5+ KB\n"
     ]
    }
   ],
   "source": [
    "train_data.info()"
   ]
  },
  {
   "cell_type": "markdown",
   "id": "26c7bad9",
   "metadata": {
    "papermill": {
     "duration": 0.007235,
     "end_time": "2025-07-07T05:51:54.455717",
     "exception": false,
     "start_time": "2025-07-07T05:51:54.448482",
     "status": "completed"
    },
    "tags": []
   },
   "source": [
    "<h5>We can see that for some of the features, there are values that are missing (null values). Therefore, we must take action. Since, at most, there are about 2.3% of the 8693 entries that are missing for one feature, it would be better to impute (or fill out) those missing values.</h5>"
   ]
  },
  {
   "cell_type": "markdown",
   "id": "357d50e4",
   "metadata": {
    "papermill": {
     "duration": 0.007277,
     "end_time": "2025-07-07T05:51:54.470496",
     "exception": false,
     "start_time": "2025-07-07T05:51:54.463219",
     "status": "completed"
    },
    "tags": []
   },
   "source": [
    "<h3>Deleting Non-Important Columns</h3>"
   ]
  },
  {
   "cell_type": "markdown",
   "id": "98a141be",
   "metadata": {
    "papermill": {
     "duration": 0.007375,
     "end_time": "2025-07-07T05:51:54.485544",
     "exception": false,
     "start_time": "2025-07-07T05:51:54.478169",
     "status": "completed"
    },
    "tags": []
   },
   "source": [
    "<h5>Since the features \"Name\" and \"PassengerId\" are unique identifiers, they may not affect the results as much as the other features. For this reason, we wil remove these two columns from the data.</h5>"
   ]
  },
  {
   "cell_type": "code",
   "execution_count": 6,
   "id": "3616f8d6",
   "metadata": {
    "execution": {
     "iopub.execute_input": "2025-07-07T05:51:54.502408Z",
     "iopub.status.busy": "2025-07-07T05:51:54.502009Z",
     "iopub.status.idle": "2025-07-07T05:51:54.512461Z",
     "shell.execute_reply": "2025-07-07T05:51:54.511403Z"
    },
    "papermill": {
     "duration": 0.021496,
     "end_time": "2025-07-07T05:51:54.514483",
     "exception": false,
     "start_time": "2025-07-07T05:51:54.492987",
     "status": "completed"
    },
    "tags": []
   },
   "outputs": [],
   "source": [
    "train_data.drop(['PassengerId', 'Name'], axis=1, inplace=True)"
   ]
  },
  {
   "cell_type": "code",
   "execution_count": 7,
   "id": "7c1aed70",
   "metadata": {
    "execution": {
     "iopub.execute_input": "2025-07-07T05:51:54.532356Z",
     "iopub.status.busy": "2025-07-07T05:51:54.531965Z",
     "iopub.status.idle": "2025-07-07T05:51:54.548172Z",
     "shell.execute_reply": "2025-07-07T05:51:54.546818Z"
    },
    "papermill": {
     "duration": 0.027632,
     "end_time": "2025-07-07T05:51:54.550321",
     "exception": false,
     "start_time": "2025-07-07T05:51:54.522689",
     "status": "completed"
    },
    "tags": []
   },
   "outputs": [
    {
     "name": "stdout",
     "output_type": "stream",
     "text": [
      "<class 'pandas.core.frame.DataFrame'>\n",
      "RangeIndex: 8693 entries, 0 to 8692\n",
      "Data columns (total 12 columns):\n",
      " #   Column        Non-Null Count  Dtype  \n",
      "---  ------        --------------  -----  \n",
      " 0   HomePlanet    8492 non-null   object \n",
      " 1   CryoSleep     8476 non-null   object \n",
      " 2   Cabin         8494 non-null   object \n",
      " 3   Destination   8511 non-null   object \n",
      " 4   Age           8514 non-null   float64\n",
      " 5   VIP           8490 non-null   object \n",
      " 6   RoomService   8512 non-null   float64\n",
      " 7   FoodCourt     8510 non-null   float64\n",
      " 8   ShoppingMall  8485 non-null   float64\n",
      " 9   Spa           8510 non-null   float64\n",
      " 10  VRDeck        8505 non-null   float64\n",
      " 11  Transported   8693 non-null   bool   \n",
      "dtypes: bool(1), float64(6), object(5)\n",
      "memory usage: 755.7+ KB\n"
     ]
    }
   ],
   "source": [
    "train_data.info()"
   ]
  },
  {
   "cell_type": "markdown",
   "id": "37617d25",
   "metadata": {
    "papermill": {
     "duration": 0.00799,
     "end_time": "2025-07-07T05:51:54.567314",
     "exception": false,
     "start_time": "2025-07-07T05:51:54.559324",
     "status": "completed"
    },
    "tags": []
   },
   "source": [
    "<h3>Missing Value Handling</h3>"
   ]
  },
  {
   "cell_type": "code",
   "execution_count": 8,
   "id": "516b6e49",
   "metadata": {
    "execution": {
     "iopub.execute_input": "2025-07-07T05:51:54.585162Z",
     "iopub.status.busy": "2025-07-07T05:51:54.584791Z",
     "iopub.status.idle": "2025-07-07T05:51:54.604851Z",
     "shell.execute_reply": "2025-07-07T05:51:54.603556Z"
    },
    "papermill": {
     "duration": 0.031421,
     "end_time": "2025-07-07T05:51:54.607005",
     "exception": false,
     "start_time": "2025-07-07T05:51:54.575584",
     "status": "completed"
    },
    "tags": []
   },
   "outputs": [
    {
     "name": "stdout",
     "output_type": "stream",
     "text": [
      "HomePlanet: ['Europa' 'Earth' 'Mars' nan]\n",
      "Length of Unique Values: 4\n",
      "\n",
      "CryoSleep: [False True nan]\n",
      "Length of Unique Values: 3\n",
      "\n",
      "Cabin: ['B/0/P' 'F/0/S' 'A/0/S' ... 'G/1499/S' 'G/1500/S' 'E/608/S']\n",
      "Length of Unique Values: 6561\n",
      "\n",
      "Destination: ['TRAPPIST-1e' 'PSO J318.5-22' '55 Cancri e' nan]\n",
      "Length of Unique Values: 4\n",
      "\n",
      "Age: [39. 24. 58. 33. 16. 44. 26. 28. 35. 14. 34. 45. 32. 48. 31. 27.  0.  1.\n",
      " 49. 29. 10.  7. 21. 62. 15. 43. 47.  2. 20. 23. 30. 17. 55.  4. 19. 56.\n",
      " nan 25. 38. 36. 22. 18. 42. 37. 13.  8. 40.  3. 54.  9.  6. 64. 67. 61.\n",
      " 50. 41. 57. 11. 52. 51. 46. 60. 63. 59.  5. 79. 68. 74. 12. 53. 65. 71.\n",
      " 75. 70. 76. 78. 73. 66. 69. 72. 77.]\n",
      "Length of Unique Values: 81\n",
      "\n",
      "VIP: [False True nan]\n",
      "Length of Unique Values: 3\n",
      "\n",
      "RoomService: [   0.  109.   43. ... 1569. 8586.  745.]\n",
      "Length of Unique Values: 1274\n",
      "\n",
      "FoodCourt: [   0.    9. 3576. ... 3208. 6819. 4688.]\n",
      "Length of Unique Values: 1508\n",
      "\n",
      "ShoppingMall: [   0.   25.  371. ... 1085.  510. 1872.]\n",
      "Length of Unique Values: 1116\n",
      "\n",
      "Spa: [   0.  549. 6715. ... 2868. 1107. 1643.]\n",
      "Length of Unique Values: 1328\n",
      "\n",
      "VRDeck: [   0.   44.   49. ... 1164.  971. 3235.]\n",
      "Length of Unique Values: 1307\n",
      "\n"
     ]
    }
   ],
   "source": [
    "# print out the unique values for each feature that contains at least\n",
    "# one null value\n",
    "for column in train_data.columns:\n",
    "    if train_data[column].isnull().any():\n",
    "        unique_vals = train_data[column].unique()\n",
    "        print(f\"{column}: {unique_vals}\")\n",
    "        print(f\"Length of Unique Values: {len(unique_vals)}\")\n",
    "        print()"
   ]
  },
  {
   "cell_type": "markdown",
   "id": "78a7c94e",
   "metadata": {
    "papermill": {
     "duration": 0.007881,
     "end_time": "2025-07-07T05:51:54.623596",
     "exception": false,
     "start_time": "2025-07-07T05:51:54.615715",
     "status": "completed"
    },
    "tags": []
   },
   "source": [
    "<h5>First, I want to split the 'Cabin' column into three separate columns to split the deck, num, and side into their own columns to better process the data. </h5>"
   ]
  },
  {
   "cell_type": "code",
   "execution_count": 9,
   "id": "1575644b",
   "metadata": {
    "execution": {
     "iopub.execute_input": "2025-07-07T05:51:54.641654Z",
     "iopub.status.busy": "2025-07-07T05:51:54.640674Z",
     "iopub.status.idle": "2025-07-07T05:51:54.665599Z",
     "shell.execute_reply": "2025-07-07T05:51:54.664565Z"
    },
    "papermill": {
     "duration": 0.036071,
     "end_time": "2025-07-07T05:51:54.667580",
     "exception": false,
     "start_time": "2025-07-07T05:51:54.631509",
     "status": "completed"
    },
    "tags": []
   },
   "outputs": [],
   "source": [
    "deck_col = []\n",
    "num_col = []\n",
    "side_col = []\n",
    "\n",
    "# go through the Cabin column to separate the details of the passenger's \n",
    "# location into three (deck, num, side) so that they can be in their \n",
    "# own column. \n",
    "for val in train_data['Cabin']:\n",
    "    # Check if the value is a missing value\n",
    "    if pd.notna(val):\n",
    "        # split the string\n",
    "        deck, num, side = val.split('/')\n",
    "        \n",
    "        deck_col.append(deck)\n",
    "        num_col.append(int(num))\n",
    "        side_col.append(side)\n",
    "    else:\n",
    "        # Add the \"Unknown\" string to the columns to represent a missing\n",
    "        # value\n",
    "        deck_col.append('Unknown')\n",
    "        num_col.append('Unknown')\n",
    "        side_col.append('Unknown')\n",
    "        \n",
    "train_data_new = train_data.drop('Cabin', axis=1)\n",
    "train_data_new['Deck'] = deck_col\n",
    "train_data_new['Num'] = num_col\n",
    "train_data_new['Num'] = pd.to_numeric(train_data_new['Num'], errors='coerce')\n",
    "train_data_new['Side'] = side_col"
   ]
  },
  {
   "cell_type": "code",
   "execution_count": 10,
   "id": "45e44b6e",
   "metadata": {
    "execution": {
     "iopub.execute_input": "2025-07-07T05:51:54.684964Z",
     "iopub.status.busy": "2025-07-07T05:51:54.684573Z",
     "iopub.status.idle": "2025-07-07T05:51:54.703316Z",
     "shell.execute_reply": "2025-07-07T05:51:54.702346Z"
    },
    "papermill": {
     "duration": 0.02948,
     "end_time": "2025-07-07T05:51:54.704937",
     "exception": false,
     "start_time": "2025-07-07T05:51:54.675457",
     "status": "completed"
    },
    "tags": []
   },
   "outputs": [
    {
     "data": {
      "text/html": [
       "<div>\n",
       "<style scoped>\n",
       "    .dataframe tbody tr th:only-of-type {\n",
       "        vertical-align: middle;\n",
       "    }\n",
       "\n",
       "    .dataframe tbody tr th {\n",
       "        vertical-align: top;\n",
       "    }\n",
       "\n",
       "    .dataframe thead th {\n",
       "        text-align: right;\n",
       "    }\n",
       "</style>\n",
       "<table border=\"1\" class=\"dataframe\">\n",
       "  <thead>\n",
       "    <tr style=\"text-align: right;\">\n",
       "      <th></th>\n",
       "      <th>HomePlanet</th>\n",
       "      <th>CryoSleep</th>\n",
       "      <th>Destination</th>\n",
       "      <th>Age</th>\n",
       "      <th>VIP</th>\n",
       "      <th>RoomService</th>\n",
       "      <th>FoodCourt</th>\n",
       "      <th>ShoppingMall</th>\n",
       "      <th>Spa</th>\n",
       "      <th>VRDeck</th>\n",
       "      <th>Transported</th>\n",
       "      <th>Deck</th>\n",
       "      <th>Num</th>\n",
       "      <th>Side</th>\n",
       "    </tr>\n",
       "  </thead>\n",
       "  <tbody>\n",
       "    <tr>\n",
       "      <th>0</th>\n",
       "      <td>Europa</td>\n",
       "      <td>False</td>\n",
       "      <td>TRAPPIST-1e</td>\n",
       "      <td>39.0</td>\n",
       "      <td>False</td>\n",
       "      <td>0.0</td>\n",
       "      <td>0.0</td>\n",
       "      <td>0.0</td>\n",
       "      <td>0.0</td>\n",
       "      <td>0.0</td>\n",
       "      <td>False</td>\n",
       "      <td>B</td>\n",
       "      <td>0.0</td>\n",
       "      <td>P</td>\n",
       "    </tr>\n",
       "    <tr>\n",
       "      <th>1</th>\n",
       "      <td>Earth</td>\n",
       "      <td>False</td>\n",
       "      <td>TRAPPIST-1e</td>\n",
       "      <td>24.0</td>\n",
       "      <td>False</td>\n",
       "      <td>109.0</td>\n",
       "      <td>9.0</td>\n",
       "      <td>25.0</td>\n",
       "      <td>549.0</td>\n",
       "      <td>44.0</td>\n",
       "      <td>True</td>\n",
       "      <td>F</td>\n",
       "      <td>0.0</td>\n",
       "      <td>S</td>\n",
       "    </tr>\n",
       "    <tr>\n",
       "      <th>2</th>\n",
       "      <td>Europa</td>\n",
       "      <td>False</td>\n",
       "      <td>TRAPPIST-1e</td>\n",
       "      <td>58.0</td>\n",
       "      <td>True</td>\n",
       "      <td>43.0</td>\n",
       "      <td>3576.0</td>\n",
       "      <td>0.0</td>\n",
       "      <td>6715.0</td>\n",
       "      <td>49.0</td>\n",
       "      <td>False</td>\n",
       "      <td>A</td>\n",
       "      <td>0.0</td>\n",
       "      <td>S</td>\n",
       "    </tr>\n",
       "    <tr>\n",
       "      <th>3</th>\n",
       "      <td>Europa</td>\n",
       "      <td>False</td>\n",
       "      <td>TRAPPIST-1e</td>\n",
       "      <td>33.0</td>\n",
       "      <td>False</td>\n",
       "      <td>0.0</td>\n",
       "      <td>1283.0</td>\n",
       "      <td>371.0</td>\n",
       "      <td>3329.0</td>\n",
       "      <td>193.0</td>\n",
       "      <td>False</td>\n",
       "      <td>A</td>\n",
       "      <td>0.0</td>\n",
       "      <td>S</td>\n",
       "    </tr>\n",
       "    <tr>\n",
       "      <th>4</th>\n",
       "      <td>Earth</td>\n",
       "      <td>False</td>\n",
       "      <td>TRAPPIST-1e</td>\n",
       "      <td>16.0</td>\n",
       "      <td>False</td>\n",
       "      <td>303.0</td>\n",
       "      <td>70.0</td>\n",
       "      <td>151.0</td>\n",
       "      <td>565.0</td>\n",
       "      <td>2.0</td>\n",
       "      <td>True</td>\n",
       "      <td>F</td>\n",
       "      <td>1.0</td>\n",
       "      <td>S</td>\n",
       "    </tr>\n",
       "  </tbody>\n",
       "</table>\n",
       "</div>"
      ],
      "text/plain": [
       "  HomePlanet CryoSleep  Destination   Age    VIP  RoomService  FoodCourt  \\\n",
       "0     Europa     False  TRAPPIST-1e  39.0  False          0.0        0.0   \n",
       "1      Earth     False  TRAPPIST-1e  24.0  False        109.0        9.0   \n",
       "2     Europa     False  TRAPPIST-1e  58.0   True         43.0     3576.0   \n",
       "3     Europa     False  TRAPPIST-1e  33.0  False          0.0     1283.0   \n",
       "4      Earth     False  TRAPPIST-1e  16.0  False        303.0       70.0   \n",
       "\n",
       "   ShoppingMall     Spa  VRDeck  Transported Deck  Num Side  \n",
       "0           0.0     0.0     0.0        False    B  0.0    P  \n",
       "1          25.0   549.0    44.0         True    F  0.0    S  \n",
       "2           0.0  6715.0    49.0        False    A  0.0    S  \n",
       "3         371.0  3329.0   193.0        False    A  0.0    S  \n",
       "4         151.0   565.0     2.0         True    F  1.0    S  "
      ]
     },
     "execution_count": 10,
     "metadata": {},
     "output_type": "execute_result"
    }
   ],
   "source": [
    "train_data_new.head()"
   ]
  },
  {
   "cell_type": "code",
   "execution_count": 11,
   "id": "97ef9a12",
   "metadata": {
    "execution": {
     "iopub.execute_input": "2025-07-07T05:51:54.795312Z",
     "iopub.status.busy": "2025-07-07T05:51:54.794906Z",
     "iopub.status.idle": "2025-07-07T05:51:54.810338Z",
     "shell.execute_reply": "2025-07-07T05:51:54.809200Z"
    },
    "papermill": {
     "duration": 0.02638,
     "end_time": "2025-07-07T05:51:54.811823",
     "exception": false,
     "start_time": "2025-07-07T05:51:54.785443",
     "status": "completed"
    },
    "tags": []
   },
   "outputs": [
    {
     "name": "stdout",
     "output_type": "stream",
     "text": [
      "<class 'pandas.core.frame.DataFrame'>\n",
      "RangeIndex: 8693 entries, 0 to 8692\n",
      "Data columns (total 14 columns):\n",
      " #   Column        Non-Null Count  Dtype  \n",
      "---  ------        --------------  -----  \n",
      " 0   HomePlanet    8492 non-null   object \n",
      " 1   CryoSleep     8476 non-null   object \n",
      " 2   Destination   8511 non-null   object \n",
      " 3   Age           8514 non-null   float64\n",
      " 4   VIP           8490 non-null   object \n",
      " 5   RoomService   8512 non-null   float64\n",
      " 6   FoodCourt     8510 non-null   float64\n",
      " 7   ShoppingMall  8485 non-null   float64\n",
      " 8   Spa           8510 non-null   float64\n",
      " 9   VRDeck        8505 non-null   float64\n",
      " 10  Transported   8693 non-null   bool   \n",
      " 11  Deck          8693 non-null   object \n",
      " 12  Num           8494 non-null   float64\n",
      " 13  Side          8693 non-null   object \n",
      "dtypes: bool(1), float64(7), object(6)\n",
      "memory usage: 891.5+ KB\n"
     ]
    }
   ],
   "source": [
    "train_data_new.info()"
   ]
  },
  {
   "cell_type": "markdown",
   "id": "7da56ca1",
   "metadata": {
    "papermill": {
     "duration": 0.007955,
     "end_time": "2025-07-07T05:51:54.828037",
     "exception": false,
     "start_time": "2025-07-07T05:51:54.820082",
     "status": "completed"
    },
    "tags": []
   },
   "source": [
    "<h5>For string objects, we will just replace the null values with the string 'Unknown'. For the age, VRDeck, Spa, ShoppingMall, FoodCourt, RoomService feature, we will replace the null values with the median age.</h5>"
   ]
  },
  {
   "cell_type": "code",
   "execution_count": 12,
   "id": "8e75535d",
   "metadata": {
    "execution": {
     "iopub.execute_input": "2025-07-07T05:51:54.846220Z",
     "iopub.status.busy": "2025-07-07T05:51:54.845832Z",
     "iopub.status.idle": "2025-07-07T05:51:54.866200Z",
     "shell.execute_reply": "2025-07-07T05:51:54.865045Z"
    },
    "papermill": {
     "duration": 0.031865,
     "end_time": "2025-07-07T05:51:54.868083",
     "exception": false,
     "start_time": "2025-07-07T05:51:54.836218",
     "status": "completed"
    },
    "tags": []
   },
   "outputs": [],
   "source": [
    "# go through each column with nulls in it and replace them with the appropriate value\n",
    "for column in train_data_new.columns:\n",
    "    if train_data_new[column].isnull().any():\n",
    "        if train_data_new[column].dtype == 'object':\n",
    "            train_data_new[column] = train_data_new[column].fillna('Unknown')          \n",
    "        elif train_data_new[column].dtype == 'float64':\n",
    "            median = train_data_new[column].median()\n",
    "            train_data_new[column] = train_data_new[column].fillna(median)"
   ]
  },
  {
   "cell_type": "code",
   "execution_count": 13,
   "id": "c11d0976",
   "metadata": {
    "execution": {
     "iopub.execute_input": "2025-07-07T05:51:54.886745Z",
     "iopub.status.busy": "2025-07-07T05:51:54.885910Z",
     "iopub.status.idle": "2025-07-07T05:51:54.902534Z",
     "shell.execute_reply": "2025-07-07T05:51:54.901336Z"
    },
    "papermill": {
     "duration": 0.027897,
     "end_time": "2025-07-07T05:51:54.904379",
     "exception": false,
     "start_time": "2025-07-07T05:51:54.876482",
     "status": "completed"
    },
    "tags": []
   },
   "outputs": [
    {
     "name": "stdout",
     "output_type": "stream",
     "text": [
      "<class 'pandas.core.frame.DataFrame'>\n",
      "RangeIndex: 8693 entries, 0 to 8692\n",
      "Data columns (total 14 columns):\n",
      " #   Column        Non-Null Count  Dtype  \n",
      "---  ------        --------------  -----  \n",
      " 0   HomePlanet    8693 non-null   object \n",
      " 1   CryoSleep     8693 non-null   object \n",
      " 2   Destination   8693 non-null   object \n",
      " 3   Age           8693 non-null   float64\n",
      " 4   VIP           8693 non-null   object \n",
      " 5   RoomService   8693 non-null   float64\n",
      " 6   FoodCourt     8693 non-null   float64\n",
      " 7   ShoppingMall  8693 non-null   float64\n",
      " 8   Spa           8693 non-null   float64\n",
      " 9   VRDeck        8693 non-null   float64\n",
      " 10  Transported   8693 non-null   bool   \n",
      " 11  Deck          8693 non-null   object \n",
      " 12  Num           8693 non-null   float64\n",
      " 13  Side          8693 non-null   object \n",
      "dtypes: bool(1), float64(7), object(6)\n",
      "memory usage: 891.5+ KB\n"
     ]
    }
   ],
   "source": [
    "train_data_new.info()"
   ]
  },
  {
   "cell_type": "markdown",
   "id": "9a6f9622",
   "metadata": {
    "papermill": {
     "duration": 0.008173,
     "end_time": "2025-07-07T05:51:54.921106",
     "exception": false,
     "start_time": "2025-07-07T05:51:54.912933",
     "status": "completed"
    },
    "tags": []
   },
   "source": [
    "<h3>Numerical Values Analysis</h3>"
   ]
  },
  {
   "cell_type": "code",
   "execution_count": 14,
   "id": "9212a159",
   "metadata": {
    "execution": {
     "iopub.execute_input": "2025-07-07T05:51:54.940255Z",
     "iopub.status.busy": "2025-07-07T05:51:54.939920Z",
     "iopub.status.idle": "2025-07-07T05:51:57.530469Z",
     "shell.execute_reply": "2025-07-07T05:51:57.529161Z"
    },
    "papermill": {
     "duration": 2.604346,
     "end_time": "2025-07-07T05:51:57.534558",
     "exception": false,
     "start_time": "2025-07-07T05:51:54.930212",
     "status": "completed"
    },
    "tags": []
   },
   "outputs": [
    {
     "data": {
      "image/png": "[encoded data removed]",
      "text/plain": [
       "<Figure size 1500x1200 with 7 Axes>"
      ]
     },
     "metadata": {},
     "output_type": "display_data"
    }
   ],
   "source": [
    "# Select numerical columns\n",
    "num_cols = train_data_new.select_dtypes(include='number').columns\n",
    "\n",
    "# Set up the grid\n",
    "n_cols = 3\n",
    "n_rows = -(-len(num_cols) // n_cols)  # Ceiling division\n",
    "plt.figure(figsize=(5 * n_cols, 4 * n_rows))\n",
    "\n",
    "# Plot each histogram\n",
    "for i, col in enumerate(num_cols, 1):\n",
    "    warnings.filterwarnings(\"ignore\")\n",
    "    plt.subplot(n_rows, n_cols, i)\n",
    "    sns.histplot(train_data_new[col], kde=True, bins=50)\n",
    "    plt.title(f'{col} Distribution')\n",
    "\n",
    "plt.tight_layout()\n",
    "plt.show()"
   ]
  },
  {
   "cell_type": "markdown",
   "id": "9e80a884",
   "metadata": {
    "papermill": {
     "duration": 0.010448,
     "end_time": "2025-07-07T05:51:57.556612",
     "exception": false,
     "start_time": "2025-07-07T05:51:57.546164",
     "status": "completed"
    },
    "tags": []
   },
   "source": [
    "<h5>You can see that the distribution for the \"Age\" feature is close to being normally distributed, while the distribution of the \"Num\" feature is skewed to the right (positively skewed). The rest of the features are greatly right skewed.</h5>"
   ]
  },
  {
   "cell_type": "code",
   "execution_count": 15,
   "id": "245a32d1",
   "metadata": {
    "execution": {
     "iopub.execute_input": "2025-07-07T05:51:57.580494Z",
     "iopub.status.busy": "2025-07-07T05:51:57.580145Z",
     "iopub.status.idle": "2025-07-07T05:51:59.242913Z",
     "shell.execute_reply": "2025-07-07T05:51:59.241735Z"
    },
    "papermill": {
     "duration": 1.678195,
     "end_time": "2025-07-07T05:51:59.246254",
     "exception": false,
     "start_time": "2025-07-07T05:51:57.568059",
     "status": "completed"
    },
    "tags": []
   },
   "outputs": [
    {
     "data": {
      "image/png": "[encoded data removed]",
      "text/plain": [
       "<Figure size 1500x1200 with 7 Axes>"
      ]
     },
     "metadata": {},
     "output_type": "display_data"
    }
   ],
   "source": [
    "# Set up the grid\n",
    "plt.figure(figsize=(5 * n_cols, 4 * n_rows))\n",
    "\n",
    "# Plot each Q-Q plot\n",
    "for i, col in enumerate(num_cols, 1):\n",
    "    plt.subplot(n_rows, n_cols, i)\n",
    "    stats.probplot(train_data_new[col].dropna(), dist=\"norm\", plot=plt)\n",
    "    plt.title(f'{col} Q-Q Plot')\n",
    "\n",
    "plt.tight_layout()\n",
    "plt.show()"
   ]
  },
  {
   "cell_type": "markdown",
   "id": "0f640368",
   "metadata": {
    "papermill": {
     "duration": 0.01475,
     "end_time": "2025-07-07T05:51:59.275178",
     "exception": false,
     "start_time": "2025-07-07T05:51:59.260428",
     "status": "completed"
    },
    "tags": []
   },
   "source": [
    "<h5>The Q-Q plots confirm the results from the histograms by showing that the \"Age\" feature is mostly normally distributed and the 'num' feature is rightly skewed. The other features seem to also be right-skewed, as shown by the blue line switching between first above the red line and then below the red line and so on. Let's finally confirm this by analyzing them numerically rather than visually.</h5>"
   ]
  },
  {
   "cell_type": "code",
   "execution_count": 16,
   "id": "bbde79d1",
   "metadata": {
    "execution": {
     "iopub.execute_input": "2025-07-07T05:51:59.304218Z",
     "iopub.status.busy": "2025-07-07T05:51:59.303163Z",
     "iopub.status.idle": "2025-07-07T05:51:59.312298Z",
     "shell.execute_reply": "2025-07-07T05:51:59.311011Z"
    },
    "papermill": {
     "duration": 0.0257,
     "end_time": "2025-07-07T05:51:59.314210",
     "exception": false,
     "start_time": "2025-07-07T05:51:59.288510",
     "status": "completed"
    },
    "tags": []
   },
   "outputs": [
    {
     "name": "stdout",
     "output_type": "stream",
     "text": [
      "Age Skew Value: 0.43110235678108527\n",
      "RoomService Skew Value: 6.397765852484436\n",
      "FoodCourt Skew Value: 7.177515190964732\n",
      "ShoppingMall Skew Value: 12.763842149564473\n",
      "Spa Skew Value: 7.716449618352362\n",
      "VRDeck Skew Value: 7.9045544151027824\n",
      "Num Skew Value: 0.7464580436841154\n"
     ]
    }
   ],
   "source": [
    "# go through each column with numerical values and find its skew value\n",
    "for col in train_data_new.columns:\n",
    "    if train_data_new[col].dtype == 'float64':\n",
    "        skew_value = train_data_new[col].skew()\n",
    "        print(f\"{col} Skew Value: {skew_value}\")"
   ]
  },
  {
   "cell_type": "markdown",
   "id": "5524a62b",
   "metadata": {
    "papermill": {
     "duration": 0.012487,
     "end_time": "2025-07-07T05:51:59.339736",
     "exception": false,
     "start_time": "2025-07-07T05:51:59.327249",
     "status": "completed"
    },
    "tags": []
   },
   "source": [
    "<h5>Values between -0.5 and 0.5 are normally distributed, and anything >0.5 is right skewed. You can see that the values match the observations made with the Q-Q plots. Now, let's see how many outliers each numerical feature has.</h5>"
   ]
  },
  {
   "cell_type": "markdown",
   "id": "43deb6a1",
   "metadata": {
    "papermill": {
     "duration": 0.012432,
     "end_time": "2025-07-07T05:51:59.365042",
     "exception": false,
     "start_time": "2025-07-07T05:51:59.352610",
     "status": "completed"
    },
    "tags": []
   },
   "source": [
    "<h3>Outlier and Noise Handling</h3>"
   ]
  },
  {
   "cell_type": "markdown",
   "id": "b91c27b0",
   "metadata": {
    "papermill": {
     "duration": 0.012368,
     "end_time": "2025-07-07T05:51:59.391279",
     "exception": false,
     "start_time": "2025-07-07T05:51:59.378911",
     "status": "completed"
    },
    "tags": []
   },
   "source": [
    "<h5>We will use the interquartile range to determine the outlier count.</h5>"
   ]
  },
  {
   "cell_type": "code",
   "execution_count": 17,
   "id": "314881ba",
   "metadata": {
    "execution": {
     "iopub.execute_input": "2025-07-07T05:51:59.417566Z",
     "iopub.status.busy": "2025-07-07T05:51:59.417275Z",
     "iopub.status.idle": "2025-07-07T05:51:59.423445Z",
     "shell.execute_reply": "2025-07-07T05:51:59.422500Z"
    },
    "papermill": {
     "duration": 0.021622,
     "end_time": "2025-07-07T05:51:59.425294",
     "exception": false,
     "start_time": "2025-07-07T05:51:59.403672",
     "status": "completed"
    },
    "tags": []
   },
   "outputs": [],
   "source": [
    "def detect_outliers_iqr(df):\n",
    "    outlier_flags = {}\n",
    "    for col in df.select_dtypes(include='number').columns:\n",
    "        Q1 = df[col].quantile(0.25)\n",
    "        Q3 = df[col].quantile(0.75)\n",
    "        IQR = Q3 - Q1\n",
    "        lower = Q1 - 1.5 * IQR\n",
    "        upper = Q3 + 1.5 * IQR\n",
    "        outliers = df[(df[col] < lower) | (df[col] > upper)]\n",
    "        outlier_flags[col] = len(outliers)\n",
    "    return pd.Series(outlier_flags).sort_values(ascending=False)"
   ]
  },
  {
   "cell_type": "code",
   "execution_count": 18,
   "id": "f6225b2f",
   "metadata": {
    "execution": {
     "iopub.execute_input": "2025-07-07T05:51:59.453657Z",
     "iopub.status.busy": "2025-07-07T05:51:59.453322Z",
     "iopub.status.idle": "2025-07-07T05:51:59.481990Z",
     "shell.execute_reply": "2025-07-07T05:51:59.480731Z"
    },
    "papermill": {
     "duration": 0.045786,
     "end_time": "2025-07-07T05:51:59.484693",
     "exception": false,
     "start_time": "2025-07-07T05:51:59.438907",
     "status": "completed"
    },
    "tags": []
   },
   "outputs": [
    {
     "data": {
      "text/plain": [
       "FoodCourt       1916\n",
       "RoomService     1906\n",
       "ShoppingMall    1879\n",
       "VRDeck          1849\n",
       "Spa             1833\n",
       "Age              162\n",
       "Num                0\n",
       "dtype: int64"
      ]
     },
     "execution_count": 18,
     "metadata": {},
     "output_type": "execute_result"
    }
   ],
   "source": [
    "outliers = detect_outliers_iqr(train_data_new)\n",
    "outliers"
   ]
  },
  {
   "cell_type": "markdown",
   "id": "c8ec0d74",
   "metadata": {
    "papermill": {
     "duration": 0.012801,
     "end_time": "2025-07-07T05:51:59.510621",
     "exception": false,
     "start_time": "2025-07-07T05:51:59.497820",
     "status": "completed"
    },
    "tags": []
   },
   "source": [
    "<h5>We can see that for the features \"Age\" and \"Num\", the outliers wouldn't affect the model that will be used later for classification as much as the other 5 features (which have >20% of their values being outliers). So, we need to focus on those features and figure out what to do with them.</h5>"
   ]
  },
  {
   "cell_type": "markdown",
   "id": "e0f18dfb",
   "metadata": {
    "papermill": {
     "duration": 0.012351,
     "end_time": "2025-07-07T05:51:59.535733",
     "exception": false,
     "start_time": "2025-07-07T05:51:59.523382",
     "status": "completed"
    },
    "tags": []
   },
   "source": [
    "<h5>As you can see, the features that have a lot of outliers are the ones representing the money spent on amenities. These could be realistic since the passenger may be a VIP passenger or just a wealthy one who has spent a lot on an amenity they enjoy. So, it may be better to keep those datapoints, but can instead transform those features so that the outliers won't affect the results later on, especially for models that are affected by outliers.</h5>"
   ]
  },
  {
   "cell_type": "code",
   "execution_count": 19,
   "id": "f36651b2",
   "metadata": {
    "execution": {
     "iopub.execute_input": "2025-07-07T05:51:59.563124Z",
     "iopub.status.busy": "2025-07-07T05:51:59.562826Z",
     "iopub.status.idle": "2025-07-07T05:51:59.580865Z",
     "shell.execute_reply": "2025-07-07T05:51:59.579844Z"
    },
    "papermill": {
     "duration": 0.034222,
     "end_time": "2025-07-07T05:51:59.582679",
     "exception": false,
     "start_time": "2025-07-07T05:51:59.548457",
     "status": "completed"
    },
    "tags": []
   },
   "outputs": [],
   "source": [
    "# go through the features with a lot of outliers and use the log function to transform\n",
    "# the values to reduce the impact of the outliers.  \n",
    "for col in train_data_new.select_dtypes(include='number').columns:\n",
    "    if col != 'Age' and col != 'Num':\n",
    "        train_data_new[f'{col}_log'] = np.log1p(train_data_new[col])"
   ]
  },
  {
   "cell_type": "code",
   "execution_count": 20,
   "id": "e4f02deb",
   "metadata": {
    "execution": {
     "iopub.execute_input": "2025-07-07T05:51:59.610849Z",
     "iopub.status.busy": "2025-07-07T05:51:59.610414Z",
     "iopub.status.idle": "2025-07-07T05:51:59.632573Z",
     "shell.execute_reply": "2025-07-07T05:51:59.631645Z"
    },
    "papermill": {
     "duration": 0.038042,
     "end_time": "2025-07-07T05:51:59.634002",
     "exception": false,
     "start_time": "2025-07-07T05:51:59.595960",
     "status": "completed"
    },
    "tags": []
   },
   "outputs": [
    {
     "data": {
      "text/html": [
       "<div>\n",
       "<style scoped>\n",
       "    .dataframe tbody tr th:only-of-type {\n",
       "        vertical-align: middle;\n",
       "    }\n",
       "\n",
       "    .dataframe tbody tr th {\n",
       "        vertical-align: top;\n",
       "    }\n",
       "\n",
       "    .dataframe thead th {\n",
       "        text-align: right;\n",
       "    }\n",
       "</style>\n",
       "<table border=\"1\" class=\"dataframe\">\n",
       "  <thead>\n",
       "    <tr style=\"text-align: right;\">\n",
       "      <th></th>\n",
       "      <th>HomePlanet</th>\n",
       "      <th>CryoSleep</th>\n",
       "      <th>Destination</th>\n",
       "      <th>Age</th>\n",
       "      <th>VIP</th>\n",
       "      <th>RoomService</th>\n",
       "      <th>FoodCourt</th>\n",
       "      <th>ShoppingMall</th>\n",
       "      <th>Spa</th>\n",
       "      <th>VRDeck</th>\n",
       "      <th>Transported</th>\n",
       "      <th>Deck</th>\n",
       "      <th>Num</th>\n",
       "      <th>Side</th>\n",
       "      <th>RoomService_log</th>\n",
       "      <th>FoodCourt_log</th>\n",
       "      <th>ShoppingMall_log</th>\n",
       "      <th>Spa_log</th>\n",
       "      <th>VRDeck_log</th>\n",
       "    </tr>\n",
       "  </thead>\n",
       "  <tbody>\n",
       "    <tr>\n",
       "      <th>0</th>\n",
       "      <td>Europa</td>\n",
       "      <td>False</td>\n",
       "      <td>TRAPPIST-1e</td>\n",
       "      <td>39.0</td>\n",
       "      <td>False</td>\n",
       "      <td>0.0</td>\n",
       "      <td>0.0</td>\n",
       "      <td>0.0</td>\n",
       "      <td>0.0</td>\n",
       "      <td>0.0</td>\n",
       "      <td>False</td>\n",
       "      <td>B</td>\n",
       "      <td>0.0</td>\n",
       "      <td>P</td>\n",
       "      <td>0.000000</td>\n",
       "      <td>0.000000</td>\n",
       "      <td>0.000000</td>\n",
       "      <td>0.000000</td>\n",
       "      <td>0.000000</td>\n",
       "    </tr>\n",
       "    <tr>\n",
       "      <th>1</th>\n",
       "      <td>Earth</td>\n",
       "      <td>False</td>\n",
       "      <td>TRAPPIST-1e</td>\n",
       "      <td>24.0</td>\n",
       "      <td>False</td>\n",
       "      <td>109.0</td>\n",
       "      <td>9.0</td>\n",
       "      <td>25.0</td>\n",
       "      <td>549.0</td>\n",
       "      <td>44.0</td>\n",
       "      <td>True</td>\n",
       "      <td>F</td>\n",
       "      <td>0.0</td>\n",
       "      <td>S</td>\n",
       "      <td>4.700480</td>\n",
       "      <td>2.302585</td>\n",
       "      <td>3.258097</td>\n",
       "      <td>6.309918</td>\n",
       "      <td>3.806662</td>\n",
       "    </tr>\n",
       "    <tr>\n",
       "      <th>2</th>\n",
       "      <td>Europa</td>\n",
       "      <td>False</td>\n",
       "      <td>TRAPPIST-1e</td>\n",
       "      <td>58.0</td>\n",
       "      <td>True</td>\n",
       "      <td>43.0</td>\n",
       "      <td>3576.0</td>\n",
       "      <td>0.0</td>\n",
       "      <td>6715.0</td>\n",
       "      <td>49.0</td>\n",
       "      <td>False</td>\n",
       "      <td>A</td>\n",
       "      <td>0.0</td>\n",
       "      <td>S</td>\n",
       "      <td>3.784190</td>\n",
       "      <td>8.182280</td>\n",
       "      <td>0.000000</td>\n",
       "      <td>8.812248</td>\n",
       "      <td>3.912023</td>\n",
       "    </tr>\n",
       "    <tr>\n",
       "      <th>3</th>\n",
       "      <td>Europa</td>\n",
       "      <td>False</td>\n",
       "      <td>TRAPPIST-1e</td>\n",
       "      <td>33.0</td>\n",
       "      <td>False</td>\n",
       "      <td>0.0</td>\n",
       "      <td>1283.0</td>\n",
       "      <td>371.0</td>\n",
       "      <td>3329.0</td>\n",
       "      <td>193.0</td>\n",
       "      <td>False</td>\n",
       "      <td>A</td>\n",
       "      <td>0.0</td>\n",
       "      <td>S</td>\n",
       "      <td>0.000000</td>\n",
       "      <td>7.157735</td>\n",
       "      <td>5.918894</td>\n",
       "      <td>8.110728</td>\n",
       "      <td>5.267858</td>\n",
       "    </tr>\n",
       "    <tr>\n",
       "      <th>4</th>\n",
       "      <td>Earth</td>\n",
       "      <td>False</td>\n",
       "      <td>TRAPPIST-1e</td>\n",
       "      <td>16.0</td>\n",
       "      <td>False</td>\n",
       "      <td>303.0</td>\n",
       "      <td>70.0</td>\n",
       "      <td>151.0</td>\n",
       "      <td>565.0</td>\n",
       "      <td>2.0</td>\n",
       "      <td>True</td>\n",
       "      <td>F</td>\n",
       "      <td>1.0</td>\n",
       "      <td>S</td>\n",
       "      <td>5.717028</td>\n",
       "      <td>4.262680</td>\n",
       "      <td>5.023881</td>\n",
       "      <td>6.338594</td>\n",
       "      <td>1.098612</td>\n",
       "    </tr>\n",
       "  </tbody>\n",
       "</table>\n",
       "</div>"
      ],
      "text/plain": [
       "  HomePlanet CryoSleep  Destination   Age    VIP  RoomService  FoodCourt  \\\n",
       "0     Europa     False  TRAPPIST-1e  39.0  False          0.0        0.0   \n",
       "1      Earth     False  TRAPPIST-1e  24.0  False        109.0        9.0   \n",
       "2     Europa     False  TRAPPIST-1e  58.0   True         43.0     3576.0   \n",
       "3     Europa     False  TRAPPIST-1e  33.0  False          0.0     1283.0   \n",
       "4      Earth     False  TRAPPIST-1e  16.0  False        303.0       70.0   \n",
       "\n",
       "   ShoppingMall     Spa  VRDeck  Transported Deck  Num Side  RoomService_log  \\\n",
       "0           0.0     0.0     0.0        False    B  0.0    P         0.000000   \n",
       "1          25.0   549.0    44.0         True    F  0.0    S         4.700480   \n",
       "2           0.0  6715.0    49.0        False    A  0.0    S         3.784190   \n",
       "3         371.0  3329.0   193.0        False    A  0.0    S         0.000000   \n",
       "4         151.0   565.0     2.0         True    F  1.0    S         5.717028   \n",
       "\n",
       "   FoodCourt_log  ShoppingMall_log   Spa_log  VRDeck_log  \n",
       "0       0.000000          0.000000  0.000000    0.000000  \n",
       "1       2.302585          3.258097  6.309918    3.806662  \n",
       "2       8.182280          0.000000  8.812248    3.912023  \n",
       "3       7.157735          5.918894  8.110728    5.267858  \n",
       "4       4.262680          5.023881  6.338594    1.098612  "
      ]
     },
     "execution_count": 20,
     "metadata": {},
     "output_type": "execute_result"
    }
   ],
   "source": [
    "train_data_new.head()"
   ]
  },
  {
   "cell_type": "markdown",
   "id": "6759aad7",
   "metadata": {
    "papermill": {
     "duration": 0.012749,
     "end_time": "2025-07-07T05:51:59.659962",
     "exception": false,
     "start_time": "2025-07-07T05:51:59.647213",
     "status": "completed"
    },
    "tags": []
   },
   "source": [
    "<h3>Turning Categorical Values into Numerical</h3>"
   ]
  },
  {
   "cell_type": "markdown",
   "id": "ef62aa73",
   "metadata": {
    "papermill": {
     "duration": 0.01291,
     "end_time": "2025-07-07T05:51:59.686382",
     "exception": false,
     "start_time": "2025-07-07T05:51:59.673472",
     "status": "completed"
    },
    "tags": []
   },
   "source": [
    "<h5>Since ML models usually take in numerical data, we must turn the columns with string types into numerical values. One way to do this is through one-hot encoding. Pandas has a built-in method that can do one-hot encoding for the columns in a DataFrame, so we will use that.</h5>"
   ]
  },
  {
   "cell_type": "code",
   "execution_count": 21,
   "id": "b52d77d5",
   "metadata": {
    "execution": {
     "iopub.execute_input": "2025-07-07T05:51:59.714323Z",
     "iopub.status.busy": "2025-07-07T05:51:59.713901Z",
     "iopub.status.idle": "2025-07-07T05:51:59.734206Z",
     "shell.execute_reply": "2025-07-07T05:51:59.733210Z"
    },
    "papermill": {
     "duration": 0.036744,
     "end_time": "2025-07-07T05:51:59.736153",
     "exception": false,
     "start_time": "2025-07-07T05:51:59.699409",
     "status": "completed"
    },
    "tags": []
   },
   "outputs": [],
   "source": [
    "col = ['HomePlanet', 'CryoSleep', 'Destination', 'VIP', 'Deck', 'Side']\n",
    "train_data_encoded = pd.get_dummies(train_data_new, columns=col)"
   ]
  },
  {
   "cell_type": "code",
   "execution_count": 22,
   "id": "73d3d1ef",
   "metadata": {
    "execution": {
     "iopub.execute_input": "2025-07-07T05:51:59.764536Z",
     "iopub.status.busy": "2025-07-07T05:51:59.764151Z",
     "iopub.status.idle": "2025-07-07T05:51:59.788632Z",
     "shell.execute_reply": "2025-07-07T05:51:59.787598Z"
    },
    "papermill": {
     "duration": 0.041122,
     "end_time": "2025-07-07T05:51:59.790179",
     "exception": false,
     "start_time": "2025-07-07T05:51:59.749057",
     "status": "completed"
    },
    "tags": []
   },
   "outputs": [
    {
     "data": {
      "text/html": [
       "<div>\n",
       "<style scoped>\n",
       "    .dataframe tbody tr th:only-of-type {\n",
       "        vertical-align: middle;\n",
       "    }\n",
       "\n",
       "    .dataframe tbody tr th {\n",
       "        vertical-align: top;\n",
       "    }\n",
       "\n",
       "    .dataframe thead th {\n",
       "        text-align: right;\n",
       "    }\n",
       "</style>\n",
       "<table border=\"1\" class=\"dataframe\">\n",
       "  <thead>\n",
       "    <tr style=\"text-align: right;\">\n",
       "      <th></th>\n",
       "      <th>Age</th>\n",
       "      <th>RoomService</th>\n",
       "      <th>FoodCourt</th>\n",
       "      <th>ShoppingMall</th>\n",
       "      <th>Spa</th>\n",
       "      <th>VRDeck</th>\n",
       "      <th>Transported</th>\n",
       "      <th>Num</th>\n",
       "      <th>RoomService_log</th>\n",
       "      <th>FoodCourt_log</th>\n",
       "      <th>...</th>\n",
       "      <th>Deck_C</th>\n",
       "      <th>Deck_D</th>\n",
       "      <th>Deck_E</th>\n",
       "      <th>Deck_F</th>\n",
       "      <th>Deck_G</th>\n",
       "      <th>Deck_T</th>\n",
       "      <th>Deck_Unknown</th>\n",
       "      <th>Side_P</th>\n",
       "      <th>Side_S</th>\n",
       "      <th>Side_Unknown</th>\n",
       "    </tr>\n",
       "  </thead>\n",
       "  <tbody>\n",
       "    <tr>\n",
       "      <th>0</th>\n",
       "      <td>39.0</td>\n",
       "      <td>0.0</td>\n",
       "      <td>0.0</td>\n",
       "      <td>0.0</td>\n",
       "      <td>0.0</td>\n",
       "      <td>0.0</td>\n",
       "      <td>False</td>\n",
       "      <td>0.0</td>\n",
       "      <td>0.000000</td>\n",
       "      <td>0.000000</td>\n",
       "      <td>...</td>\n",
       "      <td>False</td>\n",
       "      <td>False</td>\n",
       "      <td>False</td>\n",
       "      <td>False</td>\n",
       "      <td>False</td>\n",
       "      <td>False</td>\n",
       "      <td>False</td>\n",
       "      <td>True</td>\n",
       "      <td>False</td>\n",
       "      <td>False</td>\n",
       "    </tr>\n",
       "    <tr>\n",
       "      <th>1</th>\n",
       "      <td>24.0</td>\n",
       "      <td>109.0</td>\n",
       "      <td>9.0</td>\n",
       "      <td>25.0</td>\n",
       "      <td>549.0</td>\n",
       "      <td>44.0</td>\n",
       "      <td>True</td>\n",
       "      <td>0.0</td>\n",
       "      <td>4.700480</td>\n",
       "      <td>2.302585</td>\n",
       "      <td>...</td>\n",
       "      <td>False</td>\n",
       "      <td>False</td>\n",
       "      <td>False</td>\n",
       "      <td>True</td>\n",
       "      <td>False</td>\n",
       "      <td>False</td>\n",
       "      <td>False</td>\n",
       "      <td>False</td>\n",
       "      <td>True</td>\n",
       "      <td>False</td>\n",
       "    </tr>\n",
       "    <tr>\n",
       "      <th>2</th>\n",
       "      <td>58.0</td>\n",
       "      <td>43.0</td>\n",
       "      <td>3576.0</td>\n",
       "      <td>0.0</td>\n",
       "      <td>6715.0</td>\n",
       "      <td>49.0</td>\n",
       "      <td>False</td>\n",
       "      <td>0.0</td>\n",
       "      <td>3.784190</td>\n",
       "      <td>8.182280</td>\n",
       "      <td>...</td>\n",
       "      <td>False</td>\n",
       "      <td>False</td>\n",
       "      <td>False</td>\n",
       "      <td>False</td>\n",
       "      <td>False</td>\n",
       "      <td>False</td>\n",
       "      <td>False</td>\n",
       "      <td>False</td>\n",
       "      <td>True</td>\n",
       "      <td>False</td>\n",
       "    </tr>\n",
       "    <tr>\n",
       "      <th>3</th>\n",
       "      <td>33.0</td>\n",
       "      <td>0.0</td>\n",
       "      <td>1283.0</td>\n",
       "      <td>371.0</td>\n",
       "      <td>3329.0</td>\n",
       "      <td>193.0</td>\n",
       "      <td>False</td>\n",
       "      <td>0.0</td>\n",
       "      <td>0.000000</td>\n",
       "      <td>7.157735</td>\n",
       "      <td>...</td>\n",
       "      <td>False</td>\n",
       "      <td>False</td>\n",
       "      <td>False</td>\n",
       "      <td>False</td>\n",
       "      <td>False</td>\n",
       "      <td>False</td>\n",
       "      <td>False</td>\n",
       "      <td>False</td>\n",
       "      <td>True</td>\n",
       "      <td>False</td>\n",
       "    </tr>\n",
       "    <tr>\n",
       "      <th>4</th>\n",
       "      <td>16.0</td>\n",
       "      <td>303.0</td>\n",
       "      <td>70.0</td>\n",
       "      <td>151.0</td>\n",
       "      <td>565.0</td>\n",
       "      <td>2.0</td>\n",
       "      <td>True</td>\n",
       "      <td>1.0</td>\n",
       "      <td>5.717028</td>\n",
       "      <td>4.262680</td>\n",
       "      <td>...</td>\n",
       "      <td>False</td>\n",
       "      <td>False</td>\n",
       "      <td>False</td>\n",
       "      <td>True</td>\n",
       "      <td>False</td>\n",
       "      <td>False</td>\n",
       "      <td>False</td>\n",
       "      <td>False</td>\n",
       "      <td>True</td>\n",
       "      <td>False</td>\n",
       "    </tr>\n",
       "  </tbody>\n",
       "</table>\n",
       "<p>5 rows × 39 columns</p>\n",
       "</div>"
      ],
      "text/plain": [
       "    Age  RoomService  FoodCourt  ShoppingMall     Spa  VRDeck  Transported  \\\n",
       "0  39.0          0.0        0.0           0.0     0.0     0.0        False   \n",
       "1  24.0        109.0        9.0          25.0   549.0    44.0         True   \n",
       "2  58.0         43.0     3576.0           0.0  6715.0    49.0        False   \n",
       "3  33.0          0.0     1283.0         371.0  3329.0   193.0        False   \n",
       "4  16.0        303.0       70.0         151.0   565.0     2.0         True   \n",
       "\n",
       "   Num  RoomService_log  FoodCourt_log  ...  Deck_C  Deck_D  Deck_E  Deck_F  \\\n",
       "0  0.0         0.000000       0.000000  ...   False   False   False   False   \n",
       "1  0.0         4.700480       2.302585  ...   False   False   False    True   \n",
       "2  0.0         3.784190       8.182280  ...   False   False   False   False   \n",
       "3  0.0         0.000000       7.157735  ...   False   False   False   False   \n",
       "4  1.0         5.717028       4.262680  ...   False   False   False    True   \n",
       "\n",
       "   Deck_G  Deck_T  Deck_Unknown  Side_P  Side_S  Side_Unknown  \n",
       "0   False   False         False    True   False         False  \n",
       "1   False   False         False   False    True         False  \n",
       "2   False   False         False   False    True         False  \n",
       "3   False   False         False   False    True         False  \n",
       "4   False   False         False   False    True         False  \n",
       "\n",
       "[5 rows x 39 columns]"
      ]
     },
     "execution_count": 22,
     "metadata": {},
     "output_type": "execute_result"
    }
   ],
   "source": [
    "train_data_encoded.head()"
   ]
  },
  {
   "cell_type": "markdown",
   "id": "4bd4cf8e",
   "metadata": {
    "papermill": {
     "duration": 0.013424,
     "end_time": "2025-07-07T05:51:59.817576",
     "exception": false,
     "start_time": "2025-07-07T05:51:59.804152",
     "status": "completed"
    },
    "tags": []
   },
   "source": [
    "<h3>Feature Scaling</h3>"
   ]
  },
  {
   "cell_type": "markdown",
   "id": "0aa22d46",
   "metadata": {
    "papermill": {
     "duration": 0.013563,
     "end_time": "2025-07-07T05:51:59.845690",
     "exception": false,
     "start_time": "2025-07-07T05:51:59.832127",
     "status": "completed"
    },
    "tags": []
   },
   "source": [
    "<h5>Now, to make sure all the numerical values are on the same scale(not including the one-hot encodings), we will scale them. Since there exist some outliers, standardization is a better option than normalization. Going to create two dataframes, one where the features with outliers were not transformed with the log function, and one where the features with outliers were transformed. This is because some of the models aren't affected by outliers, so I want to see which dataframe works better with those models.</h5>"
   ]
  },
  {
   "cell_type": "code",
   "execution_count": 23,
   "id": "3656faae",
   "metadata": {
    "execution": {
     "iopub.execute_input": "2025-07-07T05:51:59.876250Z",
     "iopub.status.busy": "2025-07-07T05:51:59.875105Z",
     "iopub.status.idle": "2025-07-07T05:51:59.925062Z",
     "shell.execute_reply": "2025-07-07T05:51:59.923900Z"
    },
    "papermill": {
     "duration": 0.067007,
     "end_time": "2025-07-07T05:51:59.926899",
     "exception": false,
     "start_time": "2025-07-07T05:51:59.859892",
     "status": "completed"
    },
    "tags": []
   },
   "outputs": [],
   "source": [
    "scaler = StandardScaler()\n",
    "train_data_scaled = train_data_encoded.copy(deep=True).drop(['RoomService', 'FoodCourt', 'ShoppingMall', 'Spa', 'VRDeck'], axis=1)\n",
    "train_data_not_transformed = train_data_encoded.copy(deep=True).drop(['RoomService_log', 'FoodCourt_log', 'ShoppingMall_log', 'Spa_log', 'VRDeck_log'], axis=1)\n",
    "\n",
    "# go through each column with numerical values (not including one-hot encodings)\n",
    "# and standardize them\n",
    "for col1, col2 in zip(train_data_scaled.select_dtypes(include='number').columns, train_data_not_transformed.select_dtypes(include='number').columns):\n",
    "    train_data_scaled[col1] = scaler.fit_transform(train_data_scaled[[col1]])\n",
    "    train_data_not_transformed[col2] = scaler.fit_transform(train_data_not_transformed[[col2]])"
   ]
  },
  {
   "cell_type": "code",
   "execution_count": 24,
   "id": "f64a2858",
   "metadata": {
    "execution": {
     "iopub.execute_input": "2025-07-07T05:51:59.956576Z",
     "iopub.status.busy": "2025-07-07T05:51:59.956213Z",
     "iopub.status.idle": "2025-07-07T05:51:59.978172Z",
     "shell.execute_reply": "2025-07-07T05:51:59.977003Z"
    },
    "papermill": {
     "duration": 0.038812,
     "end_time": "2025-07-07T05:51:59.979639",
     "exception": false,
     "start_time": "2025-07-07T05:51:59.940827",
     "status": "completed"
    },
    "tags": []
   },
   "outputs": [
    {
     "data": {
      "text/html": [
       "<div>\n",
       "<style scoped>\n",
       "    .dataframe tbody tr th:only-of-type {\n",
       "        vertical-align: middle;\n",
       "    }\n",
       "\n",
       "    .dataframe tbody tr th {\n",
       "        vertical-align: top;\n",
       "    }\n",
       "\n",
       "    .dataframe thead th {\n",
       "        text-align: right;\n",
       "    }\n",
       "</style>\n",
       "<table border=\"1\" class=\"dataframe\">\n",
       "  <thead>\n",
       "    <tr style=\"text-align: right;\">\n",
       "      <th></th>\n",
       "      <th>Age</th>\n",
       "      <th>Transported</th>\n",
       "      <th>Num</th>\n",
       "      <th>RoomService_log</th>\n",
       "      <th>FoodCourt_log</th>\n",
       "      <th>ShoppingMall_log</th>\n",
       "      <th>Spa_log</th>\n",
       "      <th>VRDeck_log</th>\n",
       "      <th>HomePlanet_Earth</th>\n",
       "      <th>HomePlanet_Europa</th>\n",
       "      <th>...</th>\n",
       "      <th>Deck_C</th>\n",
       "      <th>Deck_D</th>\n",
       "      <th>Deck_E</th>\n",
       "      <th>Deck_F</th>\n",
       "      <th>Deck_G</th>\n",
       "      <th>Deck_T</th>\n",
       "      <th>Deck_Unknown</th>\n",
       "      <th>Side_P</th>\n",
       "      <th>Side_S</th>\n",
       "      <th>Side_Unknown</th>\n",
       "    </tr>\n",
       "  </thead>\n",
       "  <tbody>\n",
       "    <tr>\n",
       "      <th>0</th>\n",
       "      <td>0.711945</td>\n",
       "      <td>False</td>\n",
       "      <td>-1.177238</td>\n",
       "      <td>-0.638181</td>\n",
       "      <td>-0.650080</td>\n",
       "      <td>-0.622995</td>\n",
       "      <td>-0.664035</td>\n",
       "      <td>-0.640034</td>\n",
       "      <td>False</td>\n",
       "      <td>True</td>\n",
       "      <td>...</td>\n",
       "      <td>False</td>\n",
       "      <td>False</td>\n",
       "      <td>False</td>\n",
       "      <td>False</td>\n",
       "      <td>False</td>\n",
       "      <td>False</td>\n",
       "      <td>False</td>\n",
       "      <td>True</td>\n",
       "      <td>False</td>\n",
       "      <td>False</td>\n",
       "    </tr>\n",
       "    <tr>\n",
       "      <th>1</th>\n",
       "      <td>-0.334037</td>\n",
       "      <td>True</td>\n",
       "      <td>-1.177238</td>\n",
       "      <td>1.090491</td>\n",
       "      <td>0.135040</td>\n",
       "      <td>0.646081</td>\n",
       "      <td>1.614565</td>\n",
       "      <td>0.745894</td>\n",
       "      <td>True</td>\n",
       "      <td>False</td>\n",
       "      <td>...</td>\n",
       "      <td>False</td>\n",
       "      <td>False</td>\n",
       "      <td>False</td>\n",
       "      <td>True</td>\n",
       "      <td>False</td>\n",
       "      <td>False</td>\n",
       "      <td>False</td>\n",
       "      <td>False</td>\n",
       "      <td>True</td>\n",
       "      <td>False</td>\n",
       "    </tr>\n",
       "    <tr>\n",
       "      <th>2</th>\n",
       "      <td>2.036857</td>\n",
       "      <td>False</td>\n",
       "      <td>-1.177238</td>\n",
       "      <td>0.753511</td>\n",
       "      <td>2.139858</td>\n",
       "      <td>-0.622995</td>\n",
       "      <td>2.518191</td>\n",
       "      <td>0.784254</td>\n",
       "      <td>False</td>\n",
       "      <td>True</td>\n",
       "      <td>...</td>\n",
       "      <td>False</td>\n",
       "      <td>False</td>\n",
       "      <td>False</td>\n",
       "      <td>False</td>\n",
       "      <td>False</td>\n",
       "      <td>False</td>\n",
       "      <td>False</td>\n",
       "      <td>False</td>\n",
       "      <td>True</td>\n",
       "      <td>False</td>\n",
       "    </tr>\n",
       "    <tr>\n",
       "      <th>3</th>\n",
       "      <td>0.293552</td>\n",
       "      <td>False</td>\n",
       "      <td>-1.177238</td>\n",
       "      <td>-0.638181</td>\n",
       "      <td>1.790516</td>\n",
       "      <td>1.682500</td>\n",
       "      <td>2.264863</td>\n",
       "      <td>1.277886</td>\n",
       "      <td>False</td>\n",
       "      <td>True</td>\n",
       "      <td>...</td>\n",
       "      <td>False</td>\n",
       "      <td>False</td>\n",
       "      <td>False</td>\n",
       "      <td>False</td>\n",
       "      <td>False</td>\n",
       "      <td>False</td>\n",
       "      <td>False</td>\n",
       "      <td>False</td>\n",
       "      <td>True</td>\n",
       "      <td>False</td>\n",
       "    </tr>\n",
       "    <tr>\n",
       "      <th>4</th>\n",
       "      <td>-0.891895</td>\n",
       "      <td>True</td>\n",
       "      <td>-1.175264</td>\n",
       "      <td>1.464342</td>\n",
       "      <td>0.803380</td>\n",
       "      <td>1.333879</td>\n",
       "      <td>1.624920</td>\n",
       "      <td>-0.240051</td>\n",
       "      <td>True</td>\n",
       "      <td>False</td>\n",
       "      <td>...</td>\n",
       "      <td>False</td>\n",
       "      <td>False</td>\n",
       "      <td>False</td>\n",
       "      <td>True</td>\n",
       "      <td>False</td>\n",
       "      <td>False</td>\n",
       "      <td>False</td>\n",
       "      <td>False</td>\n",
       "      <td>True</td>\n",
       "      <td>False</td>\n",
       "    </tr>\n",
       "  </tbody>\n",
       "</table>\n",
       "<p>5 rows × 34 columns</p>\n",
       "</div>"
      ],
      "text/plain": [
       "        Age  Transported       Num  RoomService_log  FoodCourt_log  \\\n",
       "0  0.711945        False -1.177238        -0.638181      -0.650080   \n",
       "1 -0.334037         True -1.177238         1.090491       0.135040   \n",
       "2  2.036857        False -1.177238         0.753511       2.139858   \n",
       "3  0.293552        False -1.177238        -0.638181       1.790516   \n",
       "4 -0.891895         True -1.175264         1.464342       0.803380   \n",
       "\n",
       "   ShoppingMall_log   Spa_log  VRDeck_log  HomePlanet_Earth  \\\n",
       "0         -0.622995 -0.664035   -0.640034             False   \n",
       "1          0.646081  1.614565    0.745894              True   \n",
       "2         -0.622995  2.518191    0.784254             False   \n",
       "3          1.682500  2.264863    1.277886             False   \n",
       "4          1.333879  1.624920   -0.240051              True   \n",
       "\n",
       "   HomePlanet_Europa  ...  Deck_C  Deck_D  Deck_E  Deck_F  Deck_G  Deck_T  \\\n",
       "0               True  ...   False   False   False   False   False   False   \n",
       "1              False  ...   False   False   False    True   False   False   \n",
       "2               True  ...   False   False   False   False   False   False   \n",
       "3               True  ...   False   False   False   False   False   False   \n",
       "4              False  ...   False   False   False    True   False   False   \n",
       "\n",
       "   Deck_Unknown  Side_P  Side_S  Side_Unknown  \n",
       "0         False    True   False         False  \n",
       "1         False   False    True         False  \n",
       "2         False   False    True         False  \n",
       "3         False   False    True         False  \n",
       "4         False   False    True         False  \n",
       "\n",
       "[5 rows x 34 columns]"
      ]
     },
     "execution_count": 24,
     "metadata": {},
     "output_type": "execute_result"
    }
   ],
   "source": [
    "train_data_scaled.head()"
   ]
  },
  {
   "cell_type": "code",
   "execution_count": 25,
   "id": "277d6498",
   "metadata": {
    "execution": {
     "iopub.execute_input": "2025-07-07T05:52:00.011577Z",
     "iopub.status.busy": "2025-07-07T05:52:00.010741Z",
     "iopub.status.idle": "2025-07-07T05:52:00.038866Z",
     "shell.execute_reply": "2025-07-07T05:52:00.037527Z"
    },
    "papermill": {
     "duration": 0.046828,
     "end_time": "2025-07-07T05:52:00.040580",
     "exception": false,
     "start_time": "2025-07-07T05:51:59.993752",
     "status": "completed"
    },
    "tags": []
   },
   "outputs": [
    {
     "data": {
      "text/html": [
       "<div>\n",
       "<style scoped>\n",
       "    .dataframe tbody tr th:only-of-type {\n",
       "        vertical-align: middle;\n",
       "    }\n",
       "\n",
       "    .dataframe tbody tr th {\n",
       "        vertical-align: top;\n",
       "    }\n",
       "\n",
       "    .dataframe thead th {\n",
       "        text-align: right;\n",
       "    }\n",
       "</style>\n",
       "<table border=\"1\" class=\"dataframe\">\n",
       "  <thead>\n",
       "    <tr style=\"text-align: right;\">\n",
       "      <th></th>\n",
       "      <th>Age</th>\n",
       "      <th>RoomService</th>\n",
       "      <th>FoodCourt</th>\n",
       "      <th>ShoppingMall</th>\n",
       "      <th>Spa</th>\n",
       "      <th>VRDeck</th>\n",
       "      <th>Transported</th>\n",
       "      <th>Num</th>\n",
       "      <th>HomePlanet_Earth</th>\n",
       "      <th>HomePlanet_Europa</th>\n",
       "      <th>...</th>\n",
       "      <th>Deck_C</th>\n",
       "      <th>Deck_D</th>\n",
       "      <th>Deck_E</th>\n",
       "      <th>Deck_F</th>\n",
       "      <th>Deck_G</th>\n",
       "      <th>Deck_T</th>\n",
       "      <th>Deck_Unknown</th>\n",
       "      <th>Side_P</th>\n",
       "      <th>Side_S</th>\n",
       "      <th>Side_Unknown</th>\n",
       "    </tr>\n",
       "  </thead>\n",
       "  <tbody>\n",
       "    <tr>\n",
       "      <th>0</th>\n",
       "      <td>0.711945</td>\n",
       "      <td>-0.333105</td>\n",
       "      <td>-0.281027</td>\n",
       "      <td>-0.283579</td>\n",
       "      <td>-0.270626</td>\n",
       "      <td>-0.263003</td>\n",
       "      <td>False</td>\n",
       "      <td>-1.177238</td>\n",
       "      <td>False</td>\n",
       "      <td>True</td>\n",
       "      <td>...</td>\n",
       "      <td>False</td>\n",
       "      <td>False</td>\n",
       "      <td>False</td>\n",
       "      <td>False</td>\n",
       "      <td>False</td>\n",
       "      <td>False</td>\n",
       "      <td>False</td>\n",
       "      <td>True</td>\n",
       "      <td>False</td>\n",
       "      <td>False</td>\n",
       "    </tr>\n",
       "    <tr>\n",
       "      <th>1</th>\n",
       "      <td>-0.334037</td>\n",
       "      <td>-0.168073</td>\n",
       "      <td>-0.275387</td>\n",
       "      <td>-0.241771</td>\n",
       "      <td>0.217158</td>\n",
       "      <td>-0.224205</td>\n",
       "      <td>True</td>\n",
       "      <td>-1.177238</td>\n",
       "      <td>True</td>\n",
       "      <td>False</td>\n",
       "      <td>...</td>\n",
       "      <td>False</td>\n",
       "      <td>False</td>\n",
       "      <td>False</td>\n",
       "      <td>True</td>\n",
       "      <td>False</td>\n",
       "      <td>False</td>\n",
       "      <td>False</td>\n",
       "      <td>False</td>\n",
       "      <td>True</td>\n",
       "      <td>False</td>\n",
       "    </tr>\n",
       "    <tr>\n",
       "      <th>2</th>\n",
       "      <td>2.036857</td>\n",
       "      <td>-0.268001</td>\n",
       "      <td>1.959998</td>\n",
       "      <td>-0.283579</td>\n",
       "      <td>5.695623</td>\n",
       "      <td>-0.219796</td>\n",
       "      <td>False</td>\n",
       "      <td>-1.177238</td>\n",
       "      <td>False</td>\n",
       "      <td>True</td>\n",
       "      <td>...</td>\n",
       "      <td>False</td>\n",
       "      <td>False</td>\n",
       "      <td>False</td>\n",
       "      <td>False</td>\n",
       "      <td>False</td>\n",
       "      <td>False</td>\n",
       "      <td>False</td>\n",
       "      <td>False</td>\n",
       "      <td>True</td>\n",
       "      <td>False</td>\n",
       "    </tr>\n",
       "    <tr>\n",
       "      <th>3</th>\n",
       "      <td>0.293552</td>\n",
       "      <td>-0.333105</td>\n",
       "      <td>0.523010</td>\n",
       "      <td>0.336851</td>\n",
       "      <td>2.687176</td>\n",
       "      <td>-0.092818</td>\n",
       "      <td>False</td>\n",
       "      <td>-1.177238</td>\n",
       "      <td>False</td>\n",
       "      <td>True</td>\n",
       "      <td>...</td>\n",
       "      <td>False</td>\n",
       "      <td>False</td>\n",
       "      <td>False</td>\n",
       "      <td>False</td>\n",
       "      <td>False</td>\n",
       "      <td>False</td>\n",
       "      <td>False</td>\n",
       "      <td>False</td>\n",
       "      <td>True</td>\n",
       "      <td>False</td>\n",
       "    </tr>\n",
       "    <tr>\n",
       "      <th>4</th>\n",
       "      <td>-0.891895</td>\n",
       "      <td>0.125652</td>\n",
       "      <td>-0.237159</td>\n",
       "      <td>-0.031059</td>\n",
       "      <td>0.231374</td>\n",
       "      <td>-0.261240</td>\n",
       "      <td>True</td>\n",
       "      <td>-1.175264</td>\n",
       "      <td>True</td>\n",
       "      <td>False</td>\n",
       "      <td>...</td>\n",
       "      <td>False</td>\n",
       "      <td>False</td>\n",
       "      <td>False</td>\n",
       "      <td>True</td>\n",
       "      <td>False</td>\n",
       "      <td>False</td>\n",
       "      <td>False</td>\n",
       "      <td>False</td>\n",
       "      <td>True</td>\n",
       "      <td>False</td>\n",
       "    </tr>\n",
       "  </tbody>\n",
       "</table>\n",
       "<p>5 rows × 34 columns</p>\n",
       "</div>"
      ],
      "text/plain": [
       "        Age  RoomService  FoodCourt  ShoppingMall       Spa    VRDeck  \\\n",
       "0  0.711945    -0.333105  -0.281027     -0.283579 -0.270626 -0.263003   \n",
       "1 -0.334037    -0.168073  -0.275387     -0.241771  0.217158 -0.224205   \n",
       "2  2.036857    -0.268001   1.959998     -0.283579  5.695623 -0.219796   \n",
       "3  0.293552    -0.333105   0.523010      0.336851  2.687176 -0.092818   \n",
       "4 -0.891895     0.125652  -0.237159     -0.031059  0.231374 -0.261240   \n",
       "\n",
       "   Transported       Num  HomePlanet_Earth  HomePlanet_Europa  ...  Deck_C  \\\n",
       "0        False -1.177238             False               True  ...   False   \n",
       "1         True -1.177238              True              False  ...   False   \n",
       "2        False -1.177238             False               True  ...   False   \n",
       "3        False -1.177238             False               True  ...   False   \n",
       "4         True -1.175264              True              False  ...   False   \n",
       "\n",
       "   Deck_D  Deck_E  Deck_F  Deck_G  Deck_T  Deck_Unknown  Side_P  Side_S  \\\n",
       "0   False   False   False   False   False         False    True   False   \n",
       "1   False   False    True   False   False         False   False    True   \n",
       "2   False   False   False   False   False         False   False    True   \n",
       "3   False   False   False   False   False         False   False    True   \n",
       "4   False   False    True   False   False         False   False    True   \n",
       "\n",
       "   Side_Unknown  \n",
       "0         False  \n",
       "1         False  \n",
       "2         False  \n",
       "3         False  \n",
       "4         False  \n",
       "\n",
       "[5 rows x 34 columns]"
      ]
     },
     "execution_count": 25,
     "metadata": {},
     "output_type": "execute_result"
    }
   ],
   "source": [
    "train_data_not_transformed.head()"
   ]
  },
  {
   "cell_type": "markdown",
   "id": "770aa414",
   "metadata": {
    "papermill": {
     "duration": 0.014775,
     "end_time": "2025-07-07T05:52:00.069875",
     "exception": false,
     "start_time": "2025-07-07T05:52:00.055100",
     "status": "completed"
    },
    "tags": []
   },
   "source": [
    "<h3>Feature Selection</h3>"
   ]
  },
  {
   "cell_type": "markdown",
   "id": "031a7e80",
   "metadata": {
    "papermill": {
     "duration": 0.016712,
     "end_time": "2025-07-07T05:52:00.102212",
     "exception": false,
     "start_time": "2025-07-07T05:52:00.085500",
     "status": "completed"
    },
    "tags": []
   },
   "source": [
    "<h5>Now, to have the optimal dataset to use for the ML models, we need to find out which features are important and which are not to further clean the dataset. We will use three methods to figure out the important features.</h5>"
   ]
  },
  {
   "cell_type": "code",
   "execution_count": 26,
   "id": "376b5e29",
   "metadata": {
    "execution": {
     "iopub.execute_input": "2025-07-07T05:52:00.134048Z",
     "iopub.status.busy": "2025-07-07T05:52:00.133588Z",
     "iopub.status.idle": "2025-07-07T05:52:00.155300Z",
     "shell.execute_reply": "2025-07-07T05:52:00.154355Z"
    },
    "papermill": {
     "duration": 0.039362,
     "end_time": "2025-07-07T05:52:00.156743",
     "exception": false,
     "start_time": "2025-07-07T05:52:00.117381",
     "status": "completed"
    },
    "tags": []
   },
   "outputs": [
    {
     "name": "stdout",
     "output_type": "stream",
     "text": [
      "Num                -0.044502\n",
      "Age                -0.074233\n",
      "FoodCourt_log      -0.135029\n",
      "ShoppingMall_log   -0.178536\n",
      "VRDeck_log         -0.338688\n",
      "RoomService_log    -0.356220\n",
      "Spa_log            -0.361903\n",
      "dtype: float64\n"
     ]
    },
    {
     "data": {
      "text/plain": [
       "Num                  3.315266e-05\n",
       "Age                  4.216286e-12\n",
       "FoodCourt_log        1.181515e-36\n",
       "ShoppingMall_log     3.500258e-63\n",
       "VRDeck_log          2.908178e-232\n",
       "RoomService_log     1.950700e-258\n",
       "Spa_log             2.762929e-267\n",
       "dtype: float64"
      ]
     },
     "execution_count": 26,
     "metadata": {},
     "output_type": "execute_result"
    }
   ],
   "source": [
    "correlations = {}\n",
    "p_scores = {}\n",
    "\n",
    "for col in train_data_scaled.select_dtypes(include='number').columns:\n",
    "    corr, p = pointbiserialr(train_data_scaled[col], train_data_scaled['Transported'])\n",
    "    correlations[col] = corr\n",
    "    p_scores[col] = p\n",
    "\n",
    "# Sort and display\n",
    "print(pd.Series(correlations).sort_values(ascending=False))\n",
    "pd.Series(p_scores).sort_values(ascending=False)"
   ]
  },
  {
   "cell_type": "markdown",
   "id": "1ef615ab",
   "metadata": {
    "papermill": {
     "duration": 0.01474,
     "end_time": "2025-07-07T05:52:00.186524",
     "exception": false,
     "start_time": "2025-07-07T05:52:00.171784",
     "status": "completed"
    },
    "tags": []
   },
   "source": [
    "<h5>We can see that \"VRDeck_log\", \"RoomService_log\", and \"Spa_log\" have strong negative correlations. \"FoodCourt_log\" and \"ShoppingMall_log\" have low to moderate negative correlations, so possibly they are not as important as those other features for determining if the passenger was transported or not. That could definitely be true for the \"Num\" and \"Age\" features that have almost no correlation to whether the passengers were transported or not. You can also see that most of them are statistically significant, especially the features with high correlation, so for sure those will be used in model training. The others, although weak in correlation, are still significant (not as high as the high correlated features though), so they will need further testing in model training and testing (by simply removing one by one). </h5>"
   ]
  },
  {
   "cell_type": "code",
   "execution_count": 27,
   "id": "a6c01743",
   "metadata": {
    "execution": {
     "iopub.execute_input": "2025-07-07T05:52:00.217026Z",
     "iopub.status.busy": "2025-07-07T05:52:00.216664Z",
     "iopub.status.idle": "2025-07-07T05:52:00.235294Z",
     "shell.execute_reply": "2025-07-07T05:52:00.234360Z"
    },
    "papermill": {
     "duration": 0.035468,
     "end_time": "2025-07-07T05:52:00.236673",
     "exception": false,
     "start_time": "2025-07-07T05:52:00.201205",
     "status": "completed"
    },
    "tags": []
   },
   "outputs": [
    {
     "name": "stdout",
     "output_type": "stream",
     "text": [
      "FoodCourt       0.045583\n",
      "ShoppingMall    0.009391\n",
      "Num            -0.044502\n",
      "Age            -0.074233\n",
      "VRDeck         -0.204874\n",
      "Spa            -0.218545\n",
      "RoomService    -0.241124\n",
      "dtype: float64\n"
     ]
    },
    {
     "data": {
      "text/plain": [
       "ShoppingMall     3.813140e-01\n",
       "Num              3.315266e-05\n",
       "FoodCourt        2.122241e-05\n",
       "Age              4.216286e-12\n",
       "VRDeck           4.969701e-83\n",
       "Spa              1.701990e-94\n",
       "RoomService     3.205394e-115\n",
       "dtype: float64"
      ]
     },
     "execution_count": 27,
     "metadata": {},
     "output_type": "execute_result"
    }
   ],
   "source": [
    "correlations = {}\n",
    "p_scores = {}\n",
    "\n",
    "for col in train_data_not_transformed.select_dtypes(include='number').columns:\n",
    "    corr, p = pointbiserialr(train_data_not_transformed[col], train_data_not_transformed['Transported'])\n",
    "    correlations[col] = corr\n",
    "    p_scores[col] = p\n",
    "\n",
    "# Sort and display\n",
    "print(pd.Series(correlations).sort_values(ascending=False))\n",
    "pd.Series(p_scores).sort_values(ascending=False)"
   ]
  },
  {
   "cell_type": "markdown",
   "id": "7633a02c",
   "metadata": {
    "papermill": {
     "duration": 0.014435,
     "end_time": "2025-07-07T05:52:00.265862",
     "exception": false,
     "start_time": "2025-07-07T05:52:00.251427",
     "status": "completed"
    },
    "tags": []
   },
   "source": [
    "<h5>For the non-transformed data, we can see that \"FoodCourt\" and \"ShoppingMall\" features have almost no correlation with whether the passengers have been transported or not. The others have similar results, but the features that had a moderate negative correlation to the target column have weak correlations now. This could possibly be the fact that the outliers were kept, affecting correlation results. The statistical significance stayed about the same, so the same testing must be done for this dataset as well.</h5>"
   ]
  },
  {
   "cell_type": "code",
   "execution_count": 28,
   "id": "2ee02315",
   "metadata": {
    "execution": {
     "iopub.execute_input": "2025-07-07T05:52:00.297049Z",
     "iopub.status.busy": "2025-07-07T05:52:00.296675Z",
     "iopub.status.idle": "2025-07-07T05:52:00.369054Z",
     "shell.execute_reply": "2025-07-07T05:52:00.367987Z"
    },
    "papermill": {
     "duration": 0.090357,
     "end_time": "2025-07-07T05:52:00.370843",
     "exception": false,
     "start_time": "2025-07-07T05:52:00.280486",
     "status": "completed"
    },
    "tags": []
   },
   "outputs": [
    {
     "name": "stdout",
     "output_type": "stream",
     "text": [
      "CryoSleep      1861.749116\n",
      "Deck            392.288750\n",
      "HomePlanet      324.967237\n",
      "Destination     106.394882\n",
      "Side             91.475193\n",
      "VIP              12.097472\n",
      "dtype: float64\n"
     ]
    },
    {
     "data": {
      "text/plain": [
       "VIP            2.360845e-03\n",
       "Side           1.369034e-20\n",
       "Destination    6.547434e-23\n",
       "HomePlanet     3.921492e-70\n",
       "Deck           8.352488e-80\n",
       "CryoSleep      0.000000e+00\n",
       "dtype: float64"
      ]
     },
     "execution_count": 28,
     "metadata": {},
     "output_type": "execute_result"
    }
   ],
   "source": [
    "categorical_columns = [col for col in train_data_new.columns if train_data_new[col].dtype == 'object']\n",
    "chi2_scores = {}\n",
    "p_scores = {}\n",
    "\n",
    "for col in categorical_columns:\n",
    "    table = pd.crosstab(train_data_new[col], train_data_new['Transported'])\n",
    "    chi2, p, _, _ = chi2_contingency(table)\n",
    "    chi2_scores[col] = chi2\n",
    "    p_scores[col] = p\n",
    "\n",
    "# Sort and display\n",
    "print(pd.Series(chi2_scores).sort_values(ascending=False))\n",
    "pd.Series(p_scores).sort_values(ascending=False)"
   ]
  },
  {
   "cell_type": "markdown",
   "id": "29a14b1e",
   "metadata": {
    "papermill": {
     "duration": 0.015266,
     "end_time": "2025-07-07T05:52:00.401572",
     "exception": false,
     "start_time": "2025-07-07T05:52:00.386306",
     "status": "completed"
    },
    "tags": []
   },
   "source": [
    "<h5>We can see that the features \"CryoSleep\", \"Deck\", \"HomePlanet\", \"Destination\", and \"Side\" have strong chi2 scores, while \"VIP\" has a weak chi2 score. They are all statistically significant, so \"VIP\" will need further testing in model testing and training. </h5>"
   ]
  },
  {
   "cell_type": "markdown",
   "id": "88902873",
   "metadata": {
    "papermill": {
     "duration": 0.015279,
     "end_time": "2025-07-07T05:52:00.431918",
     "exception": false,
     "start_time": "2025-07-07T05:52:00.416639",
     "status": "completed"
    },
    "tags": []
   },
   "source": [
    "<h3>Model Training</h3>"
   ]
  },
  {
   "cell_type": "markdown",
   "id": "67044457",
   "metadata": {
    "papermill": {
     "duration": 0.015424,
     "end_time": "2025-07-07T05:52:00.462483",
     "exception": false,
     "start_time": "2025-07-07T05:52:00.447059",
     "status": "completed"
    },
    "tags": []
   },
   "source": [
    "<h3>Model Testing</h3>"
   ]
  },
  {
   "cell_type": "markdown",
   "id": "6e35d078",
   "metadata": {
    "papermill": {
     "duration": 0.014862,
     "end_time": "2025-07-07T05:52:00.492240",
     "exception": false,
     "start_time": "2025-07-07T05:52:00.477378",
     "status": "completed"
    },
    "tags": []
   },
   "source": [
    "<h3>Results</h3>"
   ]
  }
 ],
 "metadata": {
  "kaggle": {
   "accelerator": "none",
   "dataSources": [
    {
     "datasetId": 7796953,
     "sourceId": 12366369,
     "sourceType": "datasetVersion"
    }
   ],
   "dockerImageVersionId": 31040,
   "isGpuEnabled": false,
   "isInternetEnabled": true,
   "language": "python",
   "sourceType": "notebook"
  },
  "kernelspec": {
   "display_name": "Python 3",
   "language": "python",
   "name": "python3"
  },
  "language_info": {
   "codemirror_mode": {
    "name": "ipython",
    "version": 3
   },
   "file_extension": ".py",
   "mimetype": "text/x-python",
   "name": "python",
   "nbconvert_exporter": "python",
   "pygments_lexer": "ipython3",
   "version": "3.11.11"
  },
  "papermill": {
   "default_parameters": {},
   "duration": 17.487148,
   "end_time": "2025-07-07T05:52:01.335785",
   "environment_variables": {},
   "exception": null,
   "input_path": "__notebook__.ipynb",
   "output_path": "__notebook__.ipynb",
   "parameters": {},
   "start_time": "2025-07-07T05:51:43.848637",
   "version": "2.6.0"
  }
 },
 "nbformat": 4,
 "nbformat_minor": 5
}
