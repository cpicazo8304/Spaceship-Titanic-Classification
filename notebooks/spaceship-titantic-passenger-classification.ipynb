{
 "cells": [
  {
   "cell_type": "code",
   "execution_count": 1,
   "id": "b36e4a49",
   "metadata": {
    "_cell_guid": "b1076dfc-b9ad-4769-8c92-a6c4dae69d19",
    "_uuid": "8f2839f25d086af736a60e9eeb907d3b93b6e0e5",
    "execution": {
     "iopub.execute_input": "2025-07-08T05:17:39.365004Z",
     "iopub.status.busy": "2025-07-08T05:17:39.363708Z",
     "iopub.status.idle": "2025-07-08T05:17:41.447624Z",
     "shell.execute_reply": "2025-07-08T05:17:41.446566Z"
    },
    "papermill": {
     "duration": 2.098636,
     "end_time": "2025-07-08T05:17:41.449493",
     "exception": false,
     "start_time": "2025-07-08T05:17:39.350857",
     "status": "completed"
    },
    "tags": []
   },
   "outputs": [
    {
     "name": "stdout",
     "output_type": "stream",
     "text": [
      "/kaggle/input/spaceship-titanic-passenger-data/README.md\n",
      "/kaggle/input/spaceship-titanic-passenger-data/data/sample_submission.csv\n",
      "/kaggle/input/spaceship-titanic-passenger-data/data/train.csv\n",
      "/kaggle/input/spaceship-titanic-passenger-data/data/test.csv\n"
     ]
    }
   ],
   "source": [
    "# This Python 3 environment comes with many helpful analytics libraries installed\n",
    "# It is defined by the kaggle/python Docker image: https://github.com/kaggle/docker-python\n",
    "# For example, here's several helpful packages to load\n",
    "\n",
    "import numpy as np # linear algebra\n",
    "import pandas as pd # data processing, CSV file I/O (e.g. pd.read_csv)\n",
    "\n",
    "# Input data files are available in the read-only \"../input/\" directory\n",
    "# For example, running this (by clicking run or pressing Shift+Enter) will list all files under the input directory\n",
    "\n",
    "import os\n",
    "for dirname, _, filenames in os.walk('/kaggle/input'):\n",
    "    for filename in filenames:\n",
    "        print(os.path.join(dirname, filename))\n",
    "\n",
    "# You can write up to 20GB to the current directory (/kaggle/working/) that gets preserved as output when you create a version using \"Save & Run All\" \n",
    "# You can also write temporary files to /kaggle/temp/, but they won't be saved outside of the current session"
   ]
  },
  {
   "cell_type": "markdown",
   "id": "ce2c6bfe",
   "metadata": {
    "papermill": {
     "duration": 0.008434,
     "end_time": "2025-07-08T05:17:41.467186",
     "exception": false,
     "start_time": "2025-07-08T05:17:41.458752",
     "status": "completed"
    },
    "tags": []
   },
   "source": [
    "<h3>Import Libraries</h3>"
   ]
  },
  {
   "cell_type": "code",
   "execution_count": 2,
   "id": "5d4c515f",
   "metadata": {
    "execution": {
     "iopub.execute_input": "2025-07-08T05:17:41.486072Z",
     "iopub.status.busy": "2025-07-08T05:17:41.485579Z",
     "iopub.status.idle": "2025-07-08T05:17:49.942185Z",
     "shell.execute_reply": "2025-07-08T05:17:49.941218Z"
    },
    "papermill": {
     "duration": 8.468136,
     "end_time": "2025-07-08T05:17:49.944019",
     "exception": false,
     "start_time": "2025-07-08T05:17:41.475883",
     "status": "completed"
    },
    "tags": []
   },
   "outputs": [],
   "source": [
    "import warnings\n",
    "import itertools\n",
    "import seaborn as sns\n",
    "import scipy.stats as stats\n",
    "from scipy.stats import pointbiserialr, chi2_contingency\n",
    "import matplotlib.pyplot as plt\n",
    "from sklearn.preprocessing import StandardScaler\n",
    "from sklearn.ensemble import RandomForestClassifier, GradientBoostingClassifier\n",
    "from sklearn.model_selection import cross_val_score\n",
    "from sklearn.metrics import accuracy_score\n",
    "from sklearn.linear_model import LogisticRegression\n",
    "from sklearn.neighbors import KNeighborsClassifier\n",
    "from xgboost import XGBClassifier\n",
    "from lightgbm import LGBMClassifier"
   ]
  },
  {
   "cell_type": "markdown",
   "id": "5959b616",
   "metadata": {
    "papermill": {
     "duration": 0.008293,
     "end_time": "2025-07-08T05:17:49.961275",
     "exception": false,
     "start_time": "2025-07-08T05:17:49.952982",
     "status": "completed"
    },
    "tags": []
   },
   "source": [
    "<h3>Get Data</h3>"
   ]
  },
  {
   "cell_type": "code",
   "execution_count": 3,
   "id": "2df759c3",
   "metadata": {
    "execution": {
     "iopub.execute_input": "2025-07-08T05:17:49.980529Z",
     "iopub.status.busy": "2025-07-08T05:17:49.979893Z",
     "iopub.status.idle": "2025-07-08T05:17:50.041207Z",
     "shell.execute_reply": "2025-07-08T05:17:50.040022Z"
    },
    "papermill": {
     "duration": 0.073154,
     "end_time": "2025-07-08T05:17:50.043443",
     "exception": false,
     "start_time": "2025-07-08T05:17:49.970289",
     "status": "completed"
    },
    "tags": []
   },
   "outputs": [],
   "source": [
    "train_data = pd.read_csv(\"/kaggle/input/spaceship-titanic-passenger-data/data/train.csv\")"
   ]
  },
  {
   "cell_type": "code",
   "execution_count": 4,
   "id": "929c715f",
   "metadata": {
    "execution": {
     "iopub.execute_input": "2025-07-08T05:17:50.068474Z",
     "iopub.status.busy": "2025-07-08T05:17:50.068040Z",
     "iopub.status.idle": "2025-07-08T05:17:50.103216Z",
     "shell.execute_reply": "2025-07-08T05:17:50.102220Z"
    },
    "papermill": {
     "duration": 0.04934,
     "end_time": "2025-07-08T05:17:50.104899",
     "exception": false,
     "start_time": "2025-07-08T05:17:50.055559",
     "status": "completed"
    },
    "tags": []
   },
   "outputs": [
    {
     "data": {
      "text/html": [
       "<div>\n",
       "<style scoped>\n",
       "    .dataframe tbody tr th:only-of-type {\n",
       "        vertical-align: middle;\n",
       "    }\n",
       "\n",
       "    .dataframe tbody tr th {\n",
       "        vertical-align: top;\n",
       "    }\n",
       "\n",
       "    .dataframe thead th {\n",
       "        text-align: right;\n",
       "    }\n",
       "</style>\n",
       "<table border=\"1\" class=\"dataframe\">\n",
       "  <thead>\n",
       "    <tr style=\"text-align: right;\">\n",
       "      <th></th>\n",
       "      <th>PassengerId</th>\n",
       "      <th>HomePlanet</th>\n",
       "      <th>CryoSleep</th>\n",
       "      <th>Cabin</th>\n",
       "      <th>Destination</th>\n",
       "      <th>Age</th>\n",
       "      <th>VIP</th>\n",
       "      <th>RoomService</th>\n",
       "      <th>FoodCourt</th>\n",
       "      <th>ShoppingMall</th>\n",
       "      <th>Spa</th>\n",
       "      <th>VRDeck</th>\n",
       "      <th>Name</th>\n",
       "      <th>Transported</th>\n",
       "    </tr>\n",
       "  </thead>\n",
       "  <tbody>\n",
       "    <tr>\n",
       "      <th>0</th>\n",
       "      <td>0001_01</td>\n",
       "      <td>Europa</td>\n",
       "      <td>False</td>\n",
       "      <td>B/0/P</td>\n",
       "      <td>TRAPPIST-1e</td>\n",
       "      <td>39.0</td>\n",
       "      <td>False</td>\n",
       "      <td>0.0</td>\n",
       "      <td>0.0</td>\n",
       "      <td>0.0</td>\n",
       "      <td>0.0</td>\n",
       "      <td>0.0</td>\n",
       "      <td>Maham Ofracculy</td>\n",
       "      <td>False</td>\n",
       "    </tr>\n",
       "    <tr>\n",
       "      <th>1</th>\n",
       "      <td>0002_01</td>\n",
       "      <td>Earth</td>\n",
       "      <td>False</td>\n",
       "      <td>F/0/S</td>\n",
       "      <td>TRAPPIST-1e</td>\n",
       "      <td>24.0</td>\n",
       "      <td>False</td>\n",
       "      <td>109.0</td>\n",
       "      <td>9.0</td>\n",
       "      <td>25.0</td>\n",
       "      <td>549.0</td>\n",
       "      <td>44.0</td>\n",
       "      <td>Juanna Vines</td>\n",
       "      <td>True</td>\n",
       "    </tr>\n",
       "    <tr>\n",
       "      <th>2</th>\n",
       "      <td>0003_01</td>\n",
       "      <td>Europa</td>\n",
       "      <td>False</td>\n",
       "      <td>A/0/S</td>\n",
       "      <td>TRAPPIST-1e</td>\n",
       "      <td>58.0</td>\n",
       "      <td>True</td>\n",
       "      <td>43.0</td>\n",
       "      <td>3576.0</td>\n",
       "      <td>0.0</td>\n",
       "      <td>6715.0</td>\n",
       "      <td>49.0</td>\n",
       "      <td>Altark Susent</td>\n",
       "      <td>False</td>\n",
       "    </tr>\n",
       "    <tr>\n",
       "      <th>3</th>\n",
       "      <td>0003_02</td>\n",
       "      <td>Europa</td>\n",
       "      <td>False</td>\n",
       "      <td>A/0/S</td>\n",
       "      <td>TRAPPIST-1e</td>\n",
       "      <td>33.0</td>\n",
       "      <td>False</td>\n",
       "      <td>0.0</td>\n",
       "      <td>1283.0</td>\n",
       "      <td>371.0</td>\n",
       "      <td>3329.0</td>\n",
       "      <td>193.0</td>\n",
       "      <td>Solam Susent</td>\n",
       "      <td>False</td>\n",
       "    </tr>\n",
       "    <tr>\n",
       "      <th>4</th>\n",
       "      <td>0004_01</td>\n",
       "      <td>Earth</td>\n",
       "      <td>False</td>\n",
       "      <td>F/1/S</td>\n",
       "      <td>TRAPPIST-1e</td>\n",
       "      <td>16.0</td>\n",
       "      <td>False</td>\n",
       "      <td>303.0</td>\n",
       "      <td>70.0</td>\n",
       "      <td>151.0</td>\n",
       "      <td>565.0</td>\n",
       "      <td>2.0</td>\n",
       "      <td>Willy Santantines</td>\n",
       "      <td>True</td>\n",
       "    </tr>\n",
       "  </tbody>\n",
       "</table>\n",
       "</div>"
      ],
      "text/plain": [
       "  PassengerId HomePlanet CryoSleep  Cabin  Destination   Age    VIP  \\\n",
       "0     0001_01     Europa     False  B/0/P  TRAPPIST-1e  39.0  False   \n",
       "1     0002_01      Earth     False  F/0/S  TRAPPIST-1e  24.0  False   \n",
       "2     0003_01     Europa     False  A/0/S  TRAPPIST-1e  58.0   True   \n",
       "3     0003_02     Europa     False  A/0/S  TRAPPIST-1e  33.0  False   \n",
       "4     0004_01      Earth     False  F/1/S  TRAPPIST-1e  16.0  False   \n",
       "\n",
       "   RoomService  FoodCourt  ShoppingMall     Spa  VRDeck               Name  \\\n",
       "0          0.0        0.0           0.0     0.0     0.0    Maham Ofracculy   \n",
       "1        109.0        9.0          25.0   549.0    44.0       Juanna Vines   \n",
       "2         43.0     3576.0           0.0  6715.0    49.0      Altark Susent   \n",
       "3          0.0     1283.0         371.0  3329.0   193.0       Solam Susent   \n",
       "4        303.0       70.0         151.0   565.0     2.0  Willy Santantines   \n",
       "\n",
       "   Transported  \n",
       "0        False  \n",
       "1         True  \n",
       "2        False  \n",
       "3        False  \n",
       "4         True  "
      ]
     },
     "execution_count": 4,
     "metadata": {},
     "output_type": "execute_result"
    }
   ],
   "source": [
    "train_data.head()"
   ]
  },
  {
   "cell_type": "code",
   "execution_count": 5,
   "id": "e6002bc6",
   "metadata": {
    "execution": {
     "iopub.execute_input": "2025-07-08T05:17:50.124441Z",
     "iopub.status.busy": "2025-07-08T05:17:50.124153Z",
     "iopub.status.idle": "2025-07-08T05:17:50.153880Z",
     "shell.execute_reply": "2025-07-08T05:17:50.152821Z"
    },
    "papermill": {
     "duration": 0.041377,
     "end_time": "2025-07-08T05:17:50.155548",
     "exception": false,
     "start_time": "2025-07-08T05:17:50.114171",
     "status": "completed"
    },
    "tags": []
   },
   "outputs": [
    {
     "name": "stdout",
     "output_type": "stream",
     "text": [
      "<class 'pandas.core.frame.DataFrame'>\n",
      "RangeIndex: 8693 entries, 0 to 8692\n",
      "Data columns (total 14 columns):\n",
      " #   Column        Non-Null Count  Dtype  \n",
      "---  ------        --------------  -----  \n",
      " 0   PassengerId   8693 non-null   object \n",
      " 1   HomePlanet    8492 non-null   object \n",
      " 2   CryoSleep     8476 non-null   object \n",
      " 3   Cabin         8494 non-null   object \n",
      " 4   Destination   8511 non-null   object \n",
      " 5   Age           8514 non-null   float64\n",
      " 6   VIP           8490 non-null   object \n",
      " 7   RoomService   8512 non-null   float64\n",
      " 8   FoodCourt     8510 non-null   float64\n",
      " 9   ShoppingMall  8485 non-null   float64\n",
      " 10  Spa           8510 non-null   float64\n",
      " 11  VRDeck        8505 non-null   float64\n",
      " 12  Name          8493 non-null   object \n",
      " 13  Transported   8693 non-null   bool   \n",
      "dtypes: bool(1), float64(6), object(7)\n",
      "memory usage: 891.5+ KB\n"
     ]
    }
   ],
   "source": [
    "train_data.info()"
   ]
  },
  {
   "cell_type": "markdown",
   "id": "de6a350a",
   "metadata": {
    "papermill": {
     "duration": 0.008902,
     "end_time": "2025-07-08T05:17:50.173746",
     "exception": false,
     "start_time": "2025-07-08T05:17:50.164844",
     "status": "completed"
    },
    "tags": []
   },
   "source": [
    "<h5>We can see that for some of the features, there are values that are missing (null values). Therefore, we must take action. Since, at most, there are about 2.3% of the 8693 entries that are missing for one feature, it would be better to impute (or fill out) those missing values.</h5>"
   ]
  },
  {
   "cell_type": "markdown",
   "id": "1f0aef96",
   "metadata": {
    "papermill": {
     "duration": 0.008882,
     "end_time": "2025-07-08T05:17:50.191696",
     "exception": false,
     "start_time": "2025-07-08T05:17:50.182814",
     "status": "completed"
    },
    "tags": []
   },
   "source": [
    "<h3>Missing Value Handling</h3>"
   ]
  },
  {
   "cell_type": "markdown",
   "id": "fde3137e",
   "metadata": {
    "papermill": {
     "duration": 0.008722,
     "end_time": "2025-07-08T05:17:50.209433",
     "exception": false,
     "start_time": "2025-07-08T05:17:50.200711",
     "status": "completed"
    },
    "tags": []
   },
   "source": [
    "<h5>For the string features, we will just replace the null values with the string 'Unknown'. For the numerical features, we will replace the null values with the median age.</h5>"
   ]
  },
  {
   "cell_type": "code",
   "execution_count": 6,
   "id": "b4f963ff",
   "metadata": {
    "execution": {
     "iopub.execute_input": "2025-07-08T05:17:50.228946Z",
     "iopub.status.busy": "2025-07-08T05:17:50.228536Z",
     "iopub.status.idle": "2025-07-08T05:17:50.251496Z",
     "shell.execute_reply": "2025-07-08T05:17:50.250516Z"
    },
    "papermill": {
     "duration": 0.034719,
     "end_time": "2025-07-08T05:17:50.253141",
     "exception": false,
     "start_time": "2025-07-08T05:17:50.218422",
     "status": "completed"
    },
    "tags": []
   },
   "outputs": [],
   "source": [
    "# go through each column with nulls in it and replace them with the appropriate value\n",
    "for column in train_data.columns:\n",
    "    if train_data[column].isnull().any():\n",
    "        if train_data[column].dtype == 'object':\n",
    "            train_data[column] = train_data[column].fillna('Unknown')          \n",
    "        elif train_data[column].dtype == 'float64':\n",
    "            median = train_data[column].median()\n",
    "            train_data[column] = train_data[column].fillna(median)"
   ]
  },
  {
   "cell_type": "code",
   "execution_count": 7,
   "id": "c665d346",
   "metadata": {
    "execution": {
     "iopub.execute_input": "2025-07-08T05:17:50.273537Z",
     "iopub.status.busy": "2025-07-08T05:17:50.272689Z",
     "iopub.status.idle": "2025-07-08T05:17:50.288879Z",
     "shell.execute_reply": "2025-07-08T05:17:50.287573Z"
    },
    "papermill": {
     "duration": 0.027759,
     "end_time": "2025-07-08T05:17:50.290452",
     "exception": false,
     "start_time": "2025-07-08T05:17:50.262693",
     "status": "completed"
    },
    "tags": []
   },
   "outputs": [
    {
     "name": "stdout",
     "output_type": "stream",
     "text": [
      "<class 'pandas.core.frame.DataFrame'>\n",
      "RangeIndex: 8693 entries, 0 to 8692\n",
      "Data columns (total 14 columns):\n",
      " #   Column        Non-Null Count  Dtype  \n",
      "---  ------        --------------  -----  \n",
      " 0   PassengerId   8693 non-null   object \n",
      " 1   HomePlanet    8693 non-null   object \n",
      " 2   CryoSleep     8693 non-null   object \n",
      " 3   Cabin         8693 non-null   object \n",
      " 4   Destination   8693 non-null   object \n",
      " 5   Age           8693 non-null   float64\n",
      " 6   VIP           8693 non-null   object \n",
      " 7   RoomService   8693 non-null   float64\n",
      " 8   FoodCourt     8693 non-null   float64\n",
      " 9   ShoppingMall  8693 non-null   float64\n",
      " 10  Spa           8693 non-null   float64\n",
      " 11  VRDeck        8693 non-null   float64\n",
      " 12  Name          8693 non-null   object \n",
      " 13  Transported   8693 non-null   bool   \n",
      "dtypes: bool(1), float64(6), object(7)\n",
      "memory usage: 891.5+ KB\n"
     ]
    }
   ],
   "source": [
    "train_data.info()"
   ]
  },
  {
   "cell_type": "markdown",
   "id": "1536e452",
   "metadata": {
    "papermill": {
     "duration": 0.009307,
     "end_time": "2025-07-08T05:17:50.309075",
     "exception": false,
     "start_time": "2025-07-08T05:17:50.299768",
     "status": "completed"
    },
    "tags": []
   },
   "source": [
    "<h3>Feature Creation</h3>"
   ]
  },
  {
   "cell_type": "markdown",
   "id": "9681cf98",
   "metadata": {
    "papermill": {
     "duration": 0.008764,
     "end_time": "2025-07-08T05:17:50.326929",
     "exception": false,
     "start_time": "2025-07-08T05:17:50.318165",
     "status": "completed"
    },
    "tags": []
   },
   "source": [
    "<h5>First, we want to extract the group IDs from the passenger IDs since passengers can be part of the same group, and people of the same group may be connected if they were transported or not.</h5>"
   ]
  },
  {
   "cell_type": "code",
   "execution_count": 8,
   "id": "adfb68e0",
   "metadata": {
    "execution": {
     "iopub.execute_input": "2025-07-08T05:17:50.346735Z",
     "iopub.status.busy": "2025-07-08T05:17:50.345888Z",
     "iopub.status.idle": "2025-07-08T05:17:50.372948Z",
     "shell.execute_reply": "2025-07-08T05:17:50.372023Z"
    },
    "papermill": {
     "duration": 0.038583,
     "end_time": "2025-07-08T05:17:50.374526",
     "exception": false,
     "start_time": "2025-07-08T05:17:50.335943",
     "status": "completed"
    },
    "tags": []
   },
   "outputs": [
    {
     "data": {
      "text/html": [
       "<div>\n",
       "<style scoped>\n",
       "    .dataframe tbody tr th:only-of-type {\n",
       "        vertical-align: middle;\n",
       "    }\n",
       "\n",
       "    .dataframe tbody tr th {\n",
       "        vertical-align: top;\n",
       "    }\n",
       "\n",
       "    .dataframe thead th {\n",
       "        text-align: right;\n",
       "    }\n",
       "</style>\n",
       "<table border=\"1\" class=\"dataframe\">\n",
       "  <thead>\n",
       "    <tr style=\"text-align: right;\">\n",
       "      <th></th>\n",
       "      <th>PassengerId</th>\n",
       "      <th>HomePlanet</th>\n",
       "      <th>CryoSleep</th>\n",
       "      <th>Cabin</th>\n",
       "      <th>Destination</th>\n",
       "      <th>Age</th>\n",
       "      <th>VIP</th>\n",
       "      <th>RoomService</th>\n",
       "      <th>FoodCourt</th>\n",
       "      <th>ShoppingMall</th>\n",
       "      <th>Spa</th>\n",
       "      <th>VRDeck</th>\n",
       "      <th>Name</th>\n",
       "      <th>Transported</th>\n",
       "      <th>GroupId</th>\n",
       "    </tr>\n",
       "  </thead>\n",
       "  <tbody>\n",
       "    <tr>\n",
       "      <th>0</th>\n",
       "      <td>0001_01</td>\n",
       "      <td>Europa</td>\n",
       "      <td>False</td>\n",
       "      <td>B/0/P</td>\n",
       "      <td>TRAPPIST-1e</td>\n",
       "      <td>39.0</td>\n",
       "      <td>False</td>\n",
       "      <td>0.0</td>\n",
       "      <td>0.0</td>\n",
       "      <td>0.0</td>\n",
       "      <td>0.0</td>\n",
       "      <td>0.0</td>\n",
       "      <td>Maham Ofracculy</td>\n",
       "      <td>False</td>\n",
       "      <td>1</td>\n",
       "    </tr>\n",
       "    <tr>\n",
       "      <th>1</th>\n",
       "      <td>0002_01</td>\n",
       "      <td>Earth</td>\n",
       "      <td>False</td>\n",
       "      <td>F/0/S</td>\n",
       "      <td>TRAPPIST-1e</td>\n",
       "      <td>24.0</td>\n",
       "      <td>False</td>\n",
       "      <td>109.0</td>\n",
       "      <td>9.0</td>\n",
       "      <td>25.0</td>\n",
       "      <td>549.0</td>\n",
       "      <td>44.0</td>\n",
       "      <td>Juanna Vines</td>\n",
       "      <td>True</td>\n",
       "      <td>2</td>\n",
       "    </tr>\n",
       "    <tr>\n",
       "      <th>2</th>\n",
       "      <td>0003_01</td>\n",
       "      <td>Europa</td>\n",
       "      <td>False</td>\n",
       "      <td>A/0/S</td>\n",
       "      <td>TRAPPIST-1e</td>\n",
       "      <td>58.0</td>\n",
       "      <td>True</td>\n",
       "      <td>43.0</td>\n",
       "      <td>3576.0</td>\n",
       "      <td>0.0</td>\n",
       "      <td>6715.0</td>\n",
       "      <td>49.0</td>\n",
       "      <td>Altark Susent</td>\n",
       "      <td>False</td>\n",
       "      <td>3</td>\n",
       "    </tr>\n",
       "    <tr>\n",
       "      <th>3</th>\n",
       "      <td>0003_02</td>\n",
       "      <td>Europa</td>\n",
       "      <td>False</td>\n",
       "      <td>A/0/S</td>\n",
       "      <td>TRAPPIST-1e</td>\n",
       "      <td>33.0</td>\n",
       "      <td>False</td>\n",
       "      <td>0.0</td>\n",
       "      <td>1283.0</td>\n",
       "      <td>371.0</td>\n",
       "      <td>3329.0</td>\n",
       "      <td>193.0</td>\n",
       "      <td>Solam Susent</td>\n",
       "      <td>False</td>\n",
       "      <td>3</td>\n",
       "    </tr>\n",
       "    <tr>\n",
       "      <th>4</th>\n",
       "      <td>0004_01</td>\n",
       "      <td>Earth</td>\n",
       "      <td>False</td>\n",
       "      <td>F/1/S</td>\n",
       "      <td>TRAPPIST-1e</td>\n",
       "      <td>16.0</td>\n",
       "      <td>False</td>\n",
       "      <td>303.0</td>\n",
       "      <td>70.0</td>\n",
       "      <td>151.0</td>\n",
       "      <td>565.0</td>\n",
       "      <td>2.0</td>\n",
       "      <td>Willy Santantines</td>\n",
       "      <td>True</td>\n",
       "      <td>4</td>\n",
       "    </tr>\n",
       "  </tbody>\n",
       "</table>\n",
       "</div>"
      ],
      "text/plain": [
       "  PassengerId HomePlanet CryoSleep  Cabin  Destination   Age    VIP  \\\n",
       "0     0001_01     Europa     False  B/0/P  TRAPPIST-1e  39.0  False   \n",
       "1     0002_01      Earth     False  F/0/S  TRAPPIST-1e  24.0  False   \n",
       "2     0003_01     Europa     False  A/0/S  TRAPPIST-1e  58.0   True   \n",
       "3     0003_02     Europa     False  A/0/S  TRAPPIST-1e  33.0  False   \n",
       "4     0004_01      Earth     False  F/1/S  TRAPPIST-1e  16.0  False   \n",
       "\n",
       "   RoomService  FoodCourt  ShoppingMall     Spa  VRDeck               Name  \\\n",
       "0          0.0        0.0           0.0     0.0     0.0    Maham Ofracculy   \n",
       "1        109.0        9.0          25.0   549.0    44.0       Juanna Vines   \n",
       "2         43.0     3576.0           0.0  6715.0    49.0      Altark Susent   \n",
       "3          0.0     1283.0         371.0  3329.0   193.0       Solam Susent   \n",
       "4        303.0       70.0         151.0   565.0     2.0  Willy Santantines   \n",
       "\n",
       "   Transported  GroupId  \n",
       "0        False        1  \n",
       "1         True        2  \n",
       "2        False        3  \n",
       "3        False        3  \n",
       "4         True        4  "
      ]
     },
     "execution_count": 8,
     "metadata": {},
     "output_type": "execute_result"
    }
   ],
   "source": [
    "group_ids = []\n",
    "for val in train_data['PassengerId']:\n",
    "    group_id, _ = val.split('_')\n",
    "    group_ids.append(group_id)\n",
    "\n",
    "train_data['GroupId'] = group_ids\n",
    "train_data['GroupId'] = pd.to_numeric(train_data['GroupId'], errors='coerce')\n",
    "train_data.head()"
   ]
  },
  {
   "cell_type": "markdown",
   "id": "15e83629",
   "metadata": {
    "papermill": {
     "duration": 0.009034,
     "end_time": "2025-07-08T05:17:50.393074",
     "exception": false,
     "start_time": "2025-07-08T05:17:50.384040",
     "status": "completed"
    },
    "tags": []
   },
   "source": [
    "<h5>Since the features \"Name\" and \"PassengerId\" are unique identifiers, they may not affect the results as much as the other features. For this reason, we wil remove these two columns from the data.</h5>"
   ]
  },
  {
   "cell_type": "code",
   "execution_count": 9,
   "id": "b9cd63ad",
   "metadata": {
    "execution": {
     "iopub.execute_input": "2025-07-08T05:17:50.479925Z",
     "iopub.status.busy": "2025-07-08T05:17:50.479553Z",
     "iopub.status.idle": "2025-07-08T05:17:50.489421Z",
     "shell.execute_reply": "2025-07-08T05:17:50.488495Z"
    },
    "papermill": {
     "duration": 0.088823,
     "end_time": "2025-07-08T05:17:50.491090",
     "exception": false,
     "start_time": "2025-07-08T05:17:50.402267",
     "status": "completed"
    },
    "tags": []
   },
   "outputs": [],
   "source": [
    "train_data.drop(['PassengerId', 'Name'], axis=1, inplace=True)"
   ]
  },
  {
   "cell_type": "markdown",
   "id": "e1f6b345",
   "metadata": {
    "papermill": {
     "duration": 0.009679,
     "end_time": "2025-07-08T05:17:50.510372",
     "exception": false,
     "start_time": "2025-07-08T05:17:50.500693",
     "status": "completed"
    },
    "tags": []
   },
   "source": [
    "<h5>Now, we have multiple columns for the expenses made for each type of amenity. However, it may make it complicated for the model that will be used if it has multiple columns for the money a passenger has spent. It makes more sense to make a single column of the total amount of money a passenger spent.</h5>"
   ]
  },
  {
   "cell_type": "code",
   "execution_count": 10,
   "id": "5e47e861",
   "metadata": {
    "execution": {
     "iopub.execute_input": "2025-07-08T05:17:50.530898Z",
     "iopub.status.busy": "2025-07-08T05:17:50.530520Z",
     "iopub.status.idle": "2025-07-08T05:17:50.543722Z",
     "shell.execute_reply": "2025-07-08T05:17:50.542878Z"
    },
    "papermill": {
     "duration": 0.025412,
     "end_time": "2025-07-08T05:17:50.545419",
     "exception": false,
     "start_time": "2025-07-08T05:17:50.520007",
     "status": "completed"
    },
    "tags": []
   },
   "outputs": [
    {
     "data": {
      "text/plain": [
       "0           0.0\n",
       "1         736.0\n",
       "2       10383.0\n",
       "3        5176.0\n",
       "4        1091.0\n",
       "         ...   \n",
       "8688     8536.0\n",
       "8689        0.0\n",
       "8690     1873.0\n",
       "8691     4637.0\n",
       "8692     4826.0\n",
       "Name: TotalExpenses, Length: 8693, dtype: float64"
      ]
     },
     "execution_count": 10,
     "metadata": {},
     "output_type": "execute_result"
    }
   ],
   "source": [
    "expenses = train_data[['RoomService', 'FoodCourt', 'ShoppingMall', 'Spa', 'VRDeck']]\n",
    "train_data['TotalExpenses'] = expenses.sum(axis=1)\n",
    "train_data['TotalExpenses']"
   ]
  },
  {
   "cell_type": "code",
   "execution_count": 11,
   "id": "d25499de",
   "metadata": {
    "execution": {
     "iopub.execute_input": "2025-07-08T05:17:50.566636Z",
     "iopub.status.busy": "2025-07-08T05:17:50.565999Z",
     "iopub.status.idle": "2025-07-08T05:17:50.572905Z",
     "shell.execute_reply": "2025-07-08T05:17:50.572054Z"
    },
    "papermill": {
     "duration": 0.019262,
     "end_time": "2025-07-08T05:17:50.574465",
     "exception": false,
     "start_time": "2025-07-08T05:17:50.555203",
     "status": "completed"
    },
    "tags": []
   },
   "outputs": [],
   "source": [
    "train_data.drop(['RoomService', 'FoodCourt', 'ShoppingMall', 'Spa', 'VRDeck'], axis=1, inplace=True)"
   ]
  },
  {
   "cell_type": "markdown",
   "id": "72805be6",
   "metadata": {
    "papermill": {
     "duration": 0.00972,
     "end_time": "2025-07-08T05:17:50.593881",
     "exception": false,
     "start_time": "2025-07-08T05:17:50.584161",
     "status": "completed"
    },
    "tags": []
   },
   "source": [
    "<h5>Now, I want to split the 'Cabin' column into three separate columns to split the deck, num, and side into their own columns to better process the data. </h5>"
   ]
  },
  {
   "cell_type": "code",
   "execution_count": 12,
   "id": "5c292ccc",
   "metadata": {
    "execution": {
     "iopub.execute_input": "2025-07-08T05:17:50.614443Z",
     "iopub.status.busy": "2025-07-08T05:17:50.614104Z",
     "iopub.status.idle": "2025-07-08T05:17:50.635672Z",
     "shell.execute_reply": "2025-07-08T05:17:50.634826Z"
    },
    "papermill": {
     "duration": 0.033961,
     "end_time": "2025-07-08T05:17:50.637363",
     "exception": false,
     "start_time": "2025-07-08T05:17:50.603402",
     "status": "completed"
    },
    "tags": []
   },
   "outputs": [],
   "source": [
    "deck_col = []\n",
    "num_col = []\n",
    "side_col = []\n",
    "\n",
    "# go through the Cabin column to separate the details of the passenger's \n",
    "# location into three (deck, num, side) so that they can be in their \n",
    "# own column. \n",
    "for val in train_data['Cabin']:\n",
    "    # Check if the value is a missing value\n",
    "    if val != 'Unknown':\n",
    "        # split the string\n",
    "        deck, num, side = val.split('/')\n",
    "        \n",
    "        deck_col.append(deck)\n",
    "        num_col.append(int(num))\n",
    "        side_col.append(side)\n",
    "    else:\n",
    "        # Add the \"Unknown\" string to the columns to represent a missing\n",
    "        # value\n",
    "        deck_col.append('Unknown')\n",
    "        num_col.append('427') # median\n",
    "        side_col.append('Unknown')\n",
    "        \n",
    "train_data_new = train_data.drop('Cabin', axis=1)\n",
    "train_data_new['Deck'] = deck_col\n",
    "train_data_new['Num'] = num_col\n",
    "train_data_new['Num'] = pd.to_numeric(train_data_new['Num'], errors='coerce')\n",
    "train_data_new['Side'] = side_col"
   ]
  },
  {
   "cell_type": "code",
   "execution_count": 13,
   "id": "f067856f",
   "metadata": {
    "execution": {
     "iopub.execute_input": "2025-07-08T05:17:50.659188Z",
     "iopub.status.busy": "2025-07-08T05:17:50.658221Z",
     "iopub.status.idle": "2025-07-08T05:17:50.671200Z",
     "shell.execute_reply": "2025-07-08T05:17:50.670470Z"
    },
    "papermill": {
     "duration": 0.025162,
     "end_time": "2025-07-08T05:17:50.672493",
     "exception": false,
     "start_time": "2025-07-08T05:17:50.647331",
     "status": "completed"
    },
    "tags": []
   },
   "outputs": [
    {
     "data": {
      "text/html": [
       "<div>\n",
       "<style scoped>\n",
       "    .dataframe tbody tr th:only-of-type {\n",
       "        vertical-align: middle;\n",
       "    }\n",
       "\n",
       "    .dataframe tbody tr th {\n",
       "        vertical-align: top;\n",
       "    }\n",
       "\n",
       "    .dataframe thead th {\n",
       "        text-align: right;\n",
       "    }\n",
       "</style>\n",
       "<table border=\"1\" class=\"dataframe\">\n",
       "  <thead>\n",
       "    <tr style=\"text-align: right;\">\n",
       "      <th></th>\n",
       "      <th>HomePlanet</th>\n",
       "      <th>CryoSleep</th>\n",
       "      <th>Destination</th>\n",
       "      <th>Age</th>\n",
       "      <th>VIP</th>\n",
       "      <th>Transported</th>\n",
       "      <th>GroupId</th>\n",
       "      <th>TotalExpenses</th>\n",
       "      <th>Deck</th>\n",
       "      <th>Num</th>\n",
       "      <th>Side</th>\n",
       "    </tr>\n",
       "  </thead>\n",
       "  <tbody>\n",
       "    <tr>\n",
       "      <th>0</th>\n",
       "      <td>Europa</td>\n",
       "      <td>False</td>\n",
       "      <td>TRAPPIST-1e</td>\n",
       "      <td>39.0</td>\n",
       "      <td>False</td>\n",
       "      <td>False</td>\n",
       "      <td>1</td>\n",
       "      <td>0.0</td>\n",
       "      <td>B</td>\n",
       "      <td>0</td>\n",
       "      <td>P</td>\n",
       "    </tr>\n",
       "    <tr>\n",
       "      <th>1</th>\n",
       "      <td>Earth</td>\n",
       "      <td>False</td>\n",
       "      <td>TRAPPIST-1e</td>\n",
       "      <td>24.0</td>\n",
       "      <td>False</td>\n",
       "      <td>True</td>\n",
       "      <td>2</td>\n",
       "      <td>736.0</td>\n",
       "      <td>F</td>\n",
       "      <td>0</td>\n",
       "      <td>S</td>\n",
       "    </tr>\n",
       "    <tr>\n",
       "      <th>2</th>\n",
       "      <td>Europa</td>\n",
       "      <td>False</td>\n",
       "      <td>TRAPPIST-1e</td>\n",
       "      <td>58.0</td>\n",
       "      <td>True</td>\n",
       "      <td>False</td>\n",
       "      <td>3</td>\n",
       "      <td>10383.0</td>\n",
       "      <td>A</td>\n",
       "      <td>0</td>\n",
       "      <td>S</td>\n",
       "    </tr>\n",
       "    <tr>\n",
       "      <th>3</th>\n",
       "      <td>Europa</td>\n",
       "      <td>False</td>\n",
       "      <td>TRAPPIST-1e</td>\n",
       "      <td>33.0</td>\n",
       "      <td>False</td>\n",
       "      <td>False</td>\n",
       "      <td>3</td>\n",
       "      <td>5176.0</td>\n",
       "      <td>A</td>\n",
       "      <td>0</td>\n",
       "      <td>S</td>\n",
       "    </tr>\n",
       "    <tr>\n",
       "      <th>4</th>\n",
       "      <td>Earth</td>\n",
       "      <td>False</td>\n",
       "      <td>TRAPPIST-1e</td>\n",
       "      <td>16.0</td>\n",
       "      <td>False</td>\n",
       "      <td>True</td>\n",
       "      <td>4</td>\n",
       "      <td>1091.0</td>\n",
       "      <td>F</td>\n",
       "      <td>1</td>\n",
       "      <td>S</td>\n",
       "    </tr>\n",
       "  </tbody>\n",
       "</table>\n",
       "</div>"
      ],
      "text/plain": [
       "  HomePlanet CryoSleep  Destination   Age    VIP  Transported  GroupId  \\\n",
       "0     Europa     False  TRAPPIST-1e  39.0  False        False        1   \n",
       "1      Earth     False  TRAPPIST-1e  24.0  False         True        2   \n",
       "2     Europa     False  TRAPPIST-1e  58.0   True        False        3   \n",
       "3     Europa     False  TRAPPIST-1e  33.0  False        False        3   \n",
       "4      Earth     False  TRAPPIST-1e  16.0  False         True        4   \n",
       "\n",
       "   TotalExpenses Deck  Num Side  \n",
       "0            0.0    B    0    P  \n",
       "1          736.0    F    0    S  \n",
       "2        10383.0    A    0    S  \n",
       "3         5176.0    A    0    S  \n",
       "4         1091.0    F    1    S  "
      ]
     },
     "execution_count": 13,
     "metadata": {},
     "output_type": "execute_result"
    }
   ],
   "source": [
    "train_data_new.head()"
   ]
  },
  {
   "cell_type": "code",
   "execution_count": 14,
   "id": "09a9c563",
   "metadata": {
    "execution": {
     "iopub.execute_input": "2025-07-08T05:17:50.693911Z",
     "iopub.status.busy": "2025-07-08T05:17:50.693196Z",
     "iopub.status.idle": "2025-07-08T05:17:50.707600Z",
     "shell.execute_reply": "2025-07-08T05:17:50.706653Z"
    },
    "papermill": {
     "duration": 0.02669,
     "end_time": "2025-07-08T05:17:50.708999",
     "exception": false,
     "start_time": "2025-07-08T05:17:50.682309",
     "status": "completed"
    },
    "tags": []
   },
   "outputs": [
    {
     "name": "stdout",
     "output_type": "stream",
     "text": [
      "<class 'pandas.core.frame.DataFrame'>\n",
      "RangeIndex: 8693 entries, 0 to 8692\n",
      "Data columns (total 11 columns):\n",
      " #   Column         Non-Null Count  Dtype  \n",
      "---  ------         --------------  -----  \n",
      " 0   HomePlanet     8693 non-null   object \n",
      " 1   CryoSleep      8693 non-null   object \n",
      " 2   Destination    8693 non-null   object \n",
      " 3   Age            8693 non-null   float64\n",
      " 4   VIP            8693 non-null   object \n",
      " 5   Transported    8693 non-null   bool   \n",
      " 6   GroupId        8693 non-null   int64  \n",
      " 7   TotalExpenses  8693 non-null   float64\n",
      " 8   Deck           8693 non-null   object \n",
      " 9   Num            8693 non-null   int64  \n",
      " 10  Side           8693 non-null   object \n",
      "dtypes: bool(1), float64(2), int64(2), object(6)\n",
      "memory usage: 687.8+ KB\n"
     ]
    }
   ],
   "source": [
    "train_data_new.info()"
   ]
  },
  {
   "cell_type": "markdown",
   "id": "4e373059",
   "metadata": {
    "papermill": {
     "duration": 0.009412,
     "end_time": "2025-07-08T05:17:50.728285",
     "exception": false,
     "start_time": "2025-07-08T05:17:50.718873",
     "status": "completed"
    },
    "tags": []
   },
   "source": [
    "<h3>Numerical Values Analysis</h3>"
   ]
  },
  {
   "cell_type": "code",
   "execution_count": 15,
   "id": "d9e06511",
   "metadata": {
    "execution": {
     "iopub.execute_input": "2025-07-08T05:17:50.749354Z",
     "iopub.status.busy": "2025-07-08T05:17:50.748627Z",
     "iopub.status.idle": "2025-07-08T05:17:52.221941Z",
     "shell.execute_reply": "2025-07-08T05:17:52.221020Z"
    },
    "papermill": {
     "duration": 1.486032,
     "end_time": "2025-07-08T05:17:52.224026",
     "exception": false,
     "start_time": "2025-07-08T05:17:50.737994",
     "status": "completed"
    },
    "tags": []
   },
   "outputs": [
    {
     "data": {
      "image/png": "[encoded data removed]",
      "text/plain": [
       "<Figure size 1500x800 with 4 Axes>"
      ]
     },
     "metadata": {},
     "output_type": "display_data"
    }
   ],
   "source": [
    "# Select numerical columns\n",
    "num_cols = train_data_new.select_dtypes(include='number').columns\n",
    "\n",
    "# Set up the grid\n",
    "n_cols = 3\n",
    "n_rows = -(-len(num_cols) // n_cols)  # Ceiling division\n",
    "plt.figure(figsize=(5 * n_cols, 4 * n_rows))\n",
    "\n",
    "# Plot each histogram\n",
    "for i, col in enumerate(num_cols, 1):\n",
    "    warnings.filterwarnings(\"ignore\")\n",
    "    plt.subplot(n_rows, n_cols, i)\n",
    "    sns.histplot(train_data_new[col], kde=True, bins=50)\n",
    "    plt.title(f'{col} Distribution')\n",
    "\n",
    "plt.tight_layout()\n",
    "plt.show()"
   ]
  },
  {
   "cell_type": "markdown",
   "id": "28da8fa8",
   "metadata": {
    "papermill": {
     "duration": 0.011008,
     "end_time": "2025-07-08T05:17:52.246276",
     "exception": false,
     "start_time": "2025-07-08T05:17:52.235268",
     "status": "completed"
    },
    "tags": []
   },
   "source": [
    "<h5>You can see that the distribution for the \"Age\" feature is close to being normally distributed, while the distribution of the \"Num\" feature is skewed to the right (positively skewed). The \"TotalExpenses\" feature is greatly skewed to the right. The GroupId seems to be spread out fairly evenly.</h5>"
   ]
  },
  {
   "cell_type": "code",
   "execution_count": 16,
   "id": "700d6832",
   "metadata": {
    "execution": {
     "iopub.execute_input": "2025-07-08T05:17:52.270089Z",
     "iopub.status.busy": "2025-07-08T05:17:52.269714Z",
     "iopub.status.idle": "2025-07-08T05:17:53.138866Z",
     "shell.execute_reply": "2025-07-08T05:17:53.137925Z"
    },
    "papermill": {
     "duration": 0.883402,
     "end_time": "2025-07-08T05:17:53.140864",
     "exception": false,
     "start_time": "2025-07-08T05:17:52.257462",
     "status": "completed"
    },
    "tags": []
   },
   "outputs": [
    {
     "data": {
      "image/png": "[encoded data removed]",
      "text/plain": [
       "<Figure size 1500x800 with 4 Axes>"
      ]
     },
     "metadata": {},
     "output_type": "display_data"
    }
   ],
   "source": [
    "# Set up the grid\n",
    "plt.figure(figsize=(5 * n_cols, 4 * n_rows))\n",
    "\n",
    "# Plot each Q-Q plot\n",
    "for i, col in enumerate(num_cols, 1):\n",
    "    plt.subplot(n_rows, n_cols, i)\n",
    "    stats.probplot(train_data_new[col].dropna(), dist=\"norm\", plot=plt)\n",
    "    plt.title(f'{col} Q-Q Plot')\n",
    "\n",
    "plt.tight_layout()\n",
    "plt.show()"
   ]
  },
  {
   "cell_type": "markdown",
   "id": "f4286b5a",
   "metadata": {
    "papermill": {
     "duration": 0.012286,
     "end_time": "2025-07-08T05:17:53.166223",
     "exception": false,
     "start_time": "2025-07-08T05:17:53.153937",
     "status": "completed"
    },
    "tags": []
   },
   "source": [
    "<h5>The Q-Q plots confirm the results from the histograms by showing that the \"Age\" feature is mostly normally distributed and the 'num' feature is rightly skewed. The \"TotalExpenses\" feature also seems to be rightly skewed. However, for the \"GroupId\" feature, it is difficult to see if it is normally distributed in the middle or not. Let's confirm the observations by analyzing them numerically rather than visually.</h5>"
   ]
  },
  {
   "cell_type": "code",
   "execution_count": 17,
   "id": "1de4f83a",
   "metadata": {
    "execution": {
     "iopub.execute_input": "2025-07-08T05:17:53.193198Z",
     "iopub.status.busy": "2025-07-08T05:17:53.192831Z",
     "iopub.status.idle": "2025-07-08T05:17:53.200747Z",
     "shell.execute_reply": "2025-07-08T05:17:53.199724Z"
    },
    "papermill": {
     "duration": 0.023591,
     "end_time": "2025-07-08T05:17:53.202356",
     "exception": false,
     "start_time": "2025-07-08T05:17:53.178765",
     "status": "completed"
    },
    "tags": []
   },
   "outputs": [
    {
     "name": "stdout",
     "output_type": "stream",
     "text": [
      "Age Skew Value: 0.43110235678108527\n",
      "GroupId Skew Value: 0.00202022187590881\n",
      "TotalExpenses Skew Value: 4.417588190022685\n",
      "Num Skew Value: 0.7464580436841154\n"
     ]
    }
   ],
   "source": [
    "# go through each column with numerical values and find its skew value\n",
    "for col in train_data_new.columns:\n",
    "    if train_data_new[col].dtype == 'float64' or train_data_new[col].dtype == 'int64':\n",
    "        skew_value = train_data_new[col].skew()\n",
    "        print(f\"{col} Skew Value: {skew_value}\")"
   ]
  },
  {
   "cell_type": "markdown",
   "id": "af00a424",
   "metadata": {
    "papermill": {
     "duration": 0.012481,
     "end_time": "2025-07-08T05:17:53.227689",
     "exception": false,
     "start_time": "2025-07-08T05:17:53.215208",
     "status": "completed"
    },
    "tags": []
   },
   "source": [
    "<h5>Values between -0.5 and 0.5 are normally distributed, and anything >0.5 is right skewed. You can see that the values match the observations made with the Q-Q plots for all features except the \"GroupID\" feature. It seems like it is normally distributed, which was not obvious visually. Now, let's see how many outliers each numerical feature has.</h5>"
   ]
  },
  {
   "cell_type": "markdown",
   "id": "d34abfd1",
   "metadata": {
    "papermill": {
     "duration": 0.012339,
     "end_time": "2025-07-08T05:17:53.252705",
     "exception": false,
     "start_time": "2025-07-08T05:17:53.240366",
     "status": "completed"
    },
    "tags": []
   },
   "source": [
    "<h3>Outlier and Noise Handling</h3>"
   ]
  },
  {
   "cell_type": "markdown",
   "id": "d51cc8b3",
   "metadata": {
    "papermill": {
     "duration": 0.012329,
     "end_time": "2025-07-08T05:17:53.277767",
     "exception": false,
     "start_time": "2025-07-08T05:17:53.265438",
     "status": "completed"
    },
    "tags": []
   },
   "source": [
    "<h5>We will use the interquartile range to determine the outlier count.</h5>"
   ]
  },
  {
   "cell_type": "code",
   "execution_count": 18,
   "id": "e4724786",
   "metadata": {
    "execution": {
     "iopub.execute_input": "2025-07-08T05:17:53.305249Z",
     "iopub.status.busy": "2025-07-08T05:17:53.304941Z",
     "iopub.status.idle": "2025-07-08T05:17:53.310988Z",
     "shell.execute_reply": "2025-07-08T05:17:53.309955Z"
    },
    "papermill": {
     "duration": 0.022128,
     "end_time": "2025-07-08T05:17:53.312542",
     "exception": false,
     "start_time": "2025-07-08T05:17:53.290414",
     "status": "completed"
    },
    "tags": []
   },
   "outputs": [],
   "source": [
    "def detect_outliers_iqr(df):\n",
    "    outlier_flags = {}\n",
    "    for col in df.select_dtypes(include='number').columns:\n",
    "        Q1 = df[col].quantile(0.25)\n",
    "        Q3 = df[col].quantile(0.75)\n",
    "        IQR = Q3 - Q1\n",
    "        lower = Q1 - 1.5 * IQR\n",
    "        upper = Q3 + 1.5 * IQR\n",
    "        outliers = df[(df[col] < lower) | (df[col] > upper)]\n",
    "        outlier_flags[col] = len(outliers)\n",
    "    return pd.Series(outlier_flags).sort_values(ascending=False)"
   ]
  },
  {
   "cell_type": "code",
   "execution_count": 19,
   "id": "620298bb",
   "metadata": {
    "execution": {
     "iopub.execute_input": "2025-07-08T05:17:53.339377Z",
     "iopub.status.busy": "2025-07-08T05:17:53.339083Z",
     "iopub.status.idle": "2025-07-08T05:17:53.360213Z",
     "shell.execute_reply": "2025-07-08T05:17:53.359342Z"
    },
    "papermill": {
     "duration": 0.03639,
     "end_time": "2025-07-08T05:17:53.361860",
     "exception": false,
     "start_time": "2025-07-08T05:17:53.325470",
     "status": "completed"
    },
    "tags": []
   },
   "outputs": [
    {
     "data": {
      "text/plain": [
       "TotalExpenses    934\n",
       "Age              162\n",
       "GroupId            0\n",
       "Num                0\n",
       "dtype: int64"
      ]
     },
     "execution_count": 19,
     "metadata": {},
     "output_type": "execute_result"
    }
   ],
   "source": [
    "outliers = detect_outliers_iqr(train_data_new)\n",
    "outliers"
   ]
  },
  {
   "cell_type": "markdown",
   "id": "9fa30b38",
   "metadata": {
    "papermill": {
     "duration": 0.013139,
     "end_time": "2025-07-08T05:17:53.388619",
     "exception": false,
     "start_time": "2025-07-08T05:17:53.375480",
     "status": "completed"
    },
    "tags": []
   },
   "source": [
    "<h5>We can see that for the features \"Age\",\"Num\", and \"GroupId\" features, the outliers wouldn't affect the model that will be used later for classification as much as the \"TotalExpenses\" feature (which has >10% of its values being outliers). So, we need to focus on that feature and figure out what to do with it.</h5>"
   ]
  },
  {
   "cell_type": "markdown",
   "id": "7561a866",
   "metadata": {
    "papermill": {
     "duration": 0.012492,
     "end_time": "2025-07-08T05:17:53.414406",
     "exception": false,
     "start_time": "2025-07-08T05:17:53.401914",
     "status": "completed"
    },
    "tags": []
   },
   "source": [
    "<h5>As you can see, the feature that has a lot of outliers is the one representing the money spent on amenities. This is realistic since the passenger may be a VIP passenger or just a wealthy one who has spent a lot on an amenity they enjoy. So, it may be better to keep those datapoints, but can instead transform this feature so that the outliers won't affect the results later on, especially for models that are affected by outliers.</h5>"
   ]
  },
  {
   "cell_type": "code",
   "execution_count": 20,
   "id": "67f5e3e3",
   "metadata": {
    "execution": {
     "iopub.execute_input": "2025-07-08T05:17:53.441011Z",
     "iopub.status.busy": "2025-07-08T05:17:53.440654Z",
     "iopub.status.idle": "2025-07-08T05:17:53.453997Z",
     "shell.execute_reply": "2025-07-08T05:17:53.453068Z"
    },
    "papermill": {
     "duration": 0.028486,
     "end_time": "2025-07-08T05:17:53.455593",
     "exception": false,
     "start_time": "2025-07-08T05:17:53.427107",
     "status": "completed"
    },
    "tags": []
   },
   "outputs": [],
   "source": [
    "# go through the features with a lot of outliers and use the log function to transform\n",
    "# the values to reduce the impact of the outliers.  \n",
    "train_data_new['TotalExpenses_log'] = np.log1p(train_data_new['TotalExpenses'])"
   ]
  },
  {
   "cell_type": "code",
   "execution_count": 21,
   "id": "5c47ea32",
   "metadata": {
    "execution": {
     "iopub.execute_input": "2025-07-08T05:17:53.483349Z",
     "iopub.status.busy": "2025-07-08T05:17:53.483002Z",
     "iopub.status.idle": "2025-07-08T05:17:53.497614Z",
     "shell.execute_reply": "2025-07-08T05:17:53.496702Z"
    },
    "papermill": {
     "duration": 0.030045,
     "end_time": "2025-07-08T05:17:53.499198",
     "exception": false,
     "start_time": "2025-07-08T05:17:53.469153",
     "status": "completed"
    },
    "tags": []
   },
   "outputs": [
    {
     "data": {
      "text/html": [
       "<div>\n",
       "<style scoped>\n",
       "    .dataframe tbody tr th:only-of-type {\n",
       "        vertical-align: middle;\n",
       "    }\n",
       "\n",
       "    .dataframe tbody tr th {\n",
       "        vertical-align: top;\n",
       "    }\n",
       "\n",
       "    .dataframe thead th {\n",
       "        text-align: right;\n",
       "    }\n",
       "</style>\n",
       "<table border=\"1\" class=\"dataframe\">\n",
       "  <thead>\n",
       "    <tr style=\"text-align: right;\">\n",
       "      <th></th>\n",
       "      <th>HomePlanet</th>\n",
       "      <th>CryoSleep</th>\n",
       "      <th>Destination</th>\n",
       "      <th>Age</th>\n",
       "      <th>VIP</th>\n",
       "      <th>Transported</th>\n",
       "      <th>GroupId</th>\n",
       "      <th>TotalExpenses</th>\n",
       "      <th>Deck</th>\n",
       "      <th>Num</th>\n",
       "      <th>Side</th>\n",
       "      <th>TotalExpenses_log</th>\n",
       "    </tr>\n",
       "  </thead>\n",
       "  <tbody>\n",
       "    <tr>\n",
       "      <th>0</th>\n",
       "      <td>Europa</td>\n",
       "      <td>False</td>\n",
       "      <td>TRAPPIST-1e</td>\n",
       "      <td>39.0</td>\n",
       "      <td>False</td>\n",
       "      <td>False</td>\n",
       "      <td>1</td>\n",
       "      <td>0.0</td>\n",
       "      <td>B</td>\n",
       "      <td>0</td>\n",
       "      <td>P</td>\n",
       "      <td>0.000000</td>\n",
       "    </tr>\n",
       "    <tr>\n",
       "      <th>1</th>\n",
       "      <td>Earth</td>\n",
       "      <td>False</td>\n",
       "      <td>TRAPPIST-1e</td>\n",
       "      <td>24.0</td>\n",
       "      <td>False</td>\n",
       "      <td>True</td>\n",
       "      <td>2</td>\n",
       "      <td>736.0</td>\n",
       "      <td>F</td>\n",
       "      <td>0</td>\n",
       "      <td>S</td>\n",
       "      <td>6.602588</td>\n",
       "    </tr>\n",
       "    <tr>\n",
       "      <th>2</th>\n",
       "      <td>Europa</td>\n",
       "      <td>False</td>\n",
       "      <td>TRAPPIST-1e</td>\n",
       "      <td>58.0</td>\n",
       "      <td>True</td>\n",
       "      <td>False</td>\n",
       "      <td>3</td>\n",
       "      <td>10383.0</td>\n",
       "      <td>A</td>\n",
       "      <td>0</td>\n",
       "      <td>S</td>\n",
       "      <td>9.248021</td>\n",
       "    </tr>\n",
       "    <tr>\n",
       "      <th>3</th>\n",
       "      <td>Europa</td>\n",
       "      <td>False</td>\n",
       "      <td>TRAPPIST-1e</td>\n",
       "      <td>33.0</td>\n",
       "      <td>False</td>\n",
       "      <td>False</td>\n",
       "      <td>3</td>\n",
       "      <td>5176.0</td>\n",
       "      <td>A</td>\n",
       "      <td>0</td>\n",
       "      <td>S</td>\n",
       "      <td>8.551981</td>\n",
       "    </tr>\n",
       "    <tr>\n",
       "      <th>4</th>\n",
       "      <td>Earth</td>\n",
       "      <td>False</td>\n",
       "      <td>TRAPPIST-1e</td>\n",
       "      <td>16.0</td>\n",
       "      <td>False</td>\n",
       "      <td>True</td>\n",
       "      <td>4</td>\n",
       "      <td>1091.0</td>\n",
       "      <td>F</td>\n",
       "      <td>1</td>\n",
       "      <td>S</td>\n",
       "      <td>6.995766</td>\n",
       "    </tr>\n",
       "  </tbody>\n",
       "</table>\n",
       "</div>"
      ],
      "text/plain": [
       "  HomePlanet CryoSleep  Destination   Age    VIP  Transported  GroupId  \\\n",
       "0     Europa     False  TRAPPIST-1e  39.0  False        False        1   \n",
       "1      Earth     False  TRAPPIST-1e  24.0  False         True        2   \n",
       "2     Europa     False  TRAPPIST-1e  58.0   True        False        3   \n",
       "3     Europa     False  TRAPPIST-1e  33.0  False        False        3   \n",
       "4      Earth     False  TRAPPIST-1e  16.0  False         True        4   \n",
       "\n",
       "   TotalExpenses Deck  Num Side  TotalExpenses_log  \n",
       "0            0.0    B    0    P           0.000000  \n",
       "1          736.0    F    0    S           6.602588  \n",
       "2        10383.0    A    0    S           9.248021  \n",
       "3         5176.0    A    0    S           8.551981  \n",
       "4         1091.0    F    1    S           6.995766  "
      ]
     },
     "execution_count": 21,
     "metadata": {},
     "output_type": "execute_result"
    }
   ],
   "source": [
    "train_data_new.head()"
   ]
  },
  {
   "cell_type": "markdown",
   "id": "db82cf62",
   "metadata": {
    "papermill": {
     "duration": 0.012675,
     "end_time": "2025-07-08T05:17:53.525015",
     "exception": false,
     "start_time": "2025-07-08T05:17:53.512340",
     "status": "completed"
    },
    "tags": []
   },
   "source": [
    "<h3>Turning Categorical Values into Numerical</h3>"
   ]
  },
  {
   "cell_type": "markdown",
   "id": "e7a682c2",
   "metadata": {
    "papermill": {
     "duration": 0.012657,
     "end_time": "2025-07-08T05:17:53.550801",
     "exception": false,
     "start_time": "2025-07-08T05:17:53.538144",
     "status": "completed"
    },
    "tags": []
   },
   "source": [
    "<h5>Since ML models usually take in numerical data, we must turn the columns with string types into numerical values. One way to do this is through one-hot encoding. Pandas has a built-in method that can do one-hot encoding for the columns in a DataFrame, so we will use that.</h5>"
   ]
  },
  {
   "cell_type": "code",
   "execution_count": 22,
   "id": "c6d3232a",
   "metadata": {
    "execution": {
     "iopub.execute_input": "2025-07-08T05:17:53.579049Z",
     "iopub.status.busy": "2025-07-08T05:17:53.578679Z",
     "iopub.status.idle": "2025-07-08T05:17:53.594541Z",
     "shell.execute_reply": "2025-07-08T05:17:53.593463Z"
    },
    "papermill": {
     "duration": 0.031646,
     "end_time": "2025-07-08T05:17:53.596296",
     "exception": false,
     "start_time": "2025-07-08T05:17:53.564650",
     "status": "completed"
    },
    "tags": []
   },
   "outputs": [],
   "source": [
    "col = ['HomePlanet', 'CryoSleep', 'Destination', 'Deck', 'Side']\n",
    "train_data_new['VIP'] = train_data_new['VIP'].astype(bool)\n",
    "train_data_encoded = pd.get_dummies(train_data_new, columns=col)"
   ]
  },
  {
   "cell_type": "code",
   "execution_count": 23,
   "id": "cd87271f",
   "metadata": {
    "execution": {
     "iopub.execute_input": "2025-07-08T05:17:53.624221Z",
     "iopub.status.busy": "2025-07-08T05:17:53.623895Z",
     "iopub.status.idle": "2025-07-08T05:17:53.644965Z",
     "shell.execute_reply": "2025-07-08T05:17:53.644090Z"
    },
    "papermill": {
     "duration": 0.03679,
     "end_time": "2025-07-08T05:17:53.646404",
     "exception": false,
     "start_time": "2025-07-08T05:17:53.609614",
     "status": "completed"
    },
    "tags": []
   },
   "outputs": [
    {
     "data": {
      "text/html": [
       "<div>\n",
       "<style scoped>\n",
       "    .dataframe tbody tr th:only-of-type {\n",
       "        vertical-align: middle;\n",
       "    }\n",
       "\n",
       "    .dataframe tbody tr th {\n",
       "        vertical-align: top;\n",
       "    }\n",
       "\n",
       "    .dataframe thead th {\n",
       "        text-align: right;\n",
       "    }\n",
       "</style>\n",
       "<table border=\"1\" class=\"dataframe\">\n",
       "  <thead>\n",
       "    <tr style=\"text-align: right;\">\n",
       "      <th></th>\n",
       "      <th>Age</th>\n",
       "      <th>VIP</th>\n",
       "      <th>Transported</th>\n",
       "      <th>GroupId</th>\n",
       "      <th>TotalExpenses</th>\n",
       "      <th>Num</th>\n",
       "      <th>TotalExpenses_log</th>\n",
       "      <th>HomePlanet_Earth</th>\n",
       "      <th>HomePlanet_Europa</th>\n",
       "      <th>HomePlanet_Mars</th>\n",
       "      <th>...</th>\n",
       "      <th>Deck_C</th>\n",
       "      <th>Deck_D</th>\n",
       "      <th>Deck_E</th>\n",
       "      <th>Deck_F</th>\n",
       "      <th>Deck_G</th>\n",
       "      <th>Deck_T</th>\n",
       "      <th>Deck_Unknown</th>\n",
       "      <th>Side_P</th>\n",
       "      <th>Side_S</th>\n",
       "      <th>Side_Unknown</th>\n",
       "    </tr>\n",
       "  </thead>\n",
       "  <tbody>\n",
       "    <tr>\n",
       "      <th>0</th>\n",
       "      <td>39.0</td>\n",
       "      <td>False</td>\n",
       "      <td>False</td>\n",
       "      <td>1</td>\n",
       "      <td>0.0</td>\n",
       "      <td>0</td>\n",
       "      <td>0.000000</td>\n",
       "      <td>False</td>\n",
       "      <td>True</td>\n",
       "      <td>False</td>\n",
       "      <td>...</td>\n",
       "      <td>False</td>\n",
       "      <td>False</td>\n",
       "      <td>False</td>\n",
       "      <td>False</td>\n",
       "      <td>False</td>\n",
       "      <td>False</td>\n",
       "      <td>False</td>\n",
       "      <td>True</td>\n",
       "      <td>False</td>\n",
       "      <td>False</td>\n",
       "    </tr>\n",
       "    <tr>\n",
       "      <th>1</th>\n",
       "      <td>24.0</td>\n",
       "      <td>False</td>\n",
       "      <td>True</td>\n",
       "      <td>2</td>\n",
       "      <td>736.0</td>\n",
       "      <td>0</td>\n",
       "      <td>6.602588</td>\n",
       "      <td>True</td>\n",
       "      <td>False</td>\n",
       "      <td>False</td>\n",
       "      <td>...</td>\n",
       "      <td>False</td>\n",
       "      <td>False</td>\n",
       "      <td>False</td>\n",
       "      <td>True</td>\n",
       "      <td>False</td>\n",
       "      <td>False</td>\n",
       "      <td>False</td>\n",
       "      <td>False</td>\n",
       "      <td>True</td>\n",
       "      <td>False</td>\n",
       "    </tr>\n",
       "    <tr>\n",
       "      <th>2</th>\n",
       "      <td>58.0</td>\n",
       "      <td>True</td>\n",
       "      <td>False</td>\n",
       "      <td>3</td>\n",
       "      <td>10383.0</td>\n",
       "      <td>0</td>\n",
       "      <td>9.248021</td>\n",
       "      <td>False</td>\n",
       "      <td>True</td>\n",
       "      <td>False</td>\n",
       "      <td>...</td>\n",
       "      <td>False</td>\n",
       "      <td>False</td>\n",
       "      <td>False</td>\n",
       "      <td>False</td>\n",
       "      <td>False</td>\n",
       "      <td>False</td>\n",
       "      <td>False</td>\n",
       "      <td>False</td>\n",
       "      <td>True</td>\n",
       "      <td>False</td>\n",
       "    </tr>\n",
       "    <tr>\n",
       "      <th>3</th>\n",
       "      <td>33.0</td>\n",
       "      <td>False</td>\n",
       "      <td>False</td>\n",
       "      <td>3</td>\n",
       "      <td>5176.0</td>\n",
       "      <td>0</td>\n",
       "      <td>8.551981</td>\n",
       "      <td>False</td>\n",
       "      <td>True</td>\n",
       "      <td>False</td>\n",
       "      <td>...</td>\n",
       "      <td>False</td>\n",
       "      <td>False</td>\n",
       "      <td>False</td>\n",
       "      <td>False</td>\n",
       "      <td>False</td>\n",
       "      <td>False</td>\n",
       "      <td>False</td>\n",
       "      <td>False</td>\n",
       "      <td>True</td>\n",
       "      <td>False</td>\n",
       "    </tr>\n",
       "    <tr>\n",
       "      <th>4</th>\n",
       "      <td>16.0</td>\n",
       "      <td>False</td>\n",
       "      <td>True</td>\n",
       "      <td>4</td>\n",
       "      <td>1091.0</td>\n",
       "      <td>1</td>\n",
       "      <td>6.995766</td>\n",
       "      <td>True</td>\n",
       "      <td>False</td>\n",
       "      <td>False</td>\n",
       "      <td>...</td>\n",
       "      <td>False</td>\n",
       "      <td>False</td>\n",
       "      <td>False</td>\n",
       "      <td>True</td>\n",
       "      <td>False</td>\n",
       "      <td>False</td>\n",
       "      <td>False</td>\n",
       "      <td>False</td>\n",
       "      <td>True</td>\n",
       "      <td>False</td>\n",
       "    </tr>\n",
       "  </tbody>\n",
       "</table>\n",
       "<p>5 rows × 30 columns</p>\n",
       "</div>"
      ],
      "text/plain": [
       "    Age    VIP  Transported  GroupId  TotalExpenses  Num  TotalExpenses_log  \\\n",
       "0  39.0  False        False        1            0.0    0           0.000000   \n",
       "1  24.0  False         True        2          736.0    0           6.602588   \n",
       "2  58.0   True        False        3        10383.0    0           9.248021   \n",
       "3  33.0  False        False        3         5176.0    0           8.551981   \n",
       "4  16.0  False         True        4         1091.0    1           6.995766   \n",
       "\n",
       "   HomePlanet_Earth  HomePlanet_Europa  HomePlanet_Mars  ...  Deck_C  Deck_D  \\\n",
       "0             False               True            False  ...   False   False   \n",
       "1              True              False            False  ...   False   False   \n",
       "2             False               True            False  ...   False   False   \n",
       "3             False               True            False  ...   False   False   \n",
       "4              True              False            False  ...   False   False   \n",
       "\n",
       "   Deck_E  Deck_F  Deck_G  Deck_T  Deck_Unknown  Side_P  Side_S  Side_Unknown  \n",
       "0   False   False   False   False         False    True   False         False  \n",
       "1   False    True   False   False         False   False    True         False  \n",
       "2   False   False   False   False         False   False    True         False  \n",
       "3   False   False   False   False         False   False    True         False  \n",
       "4   False    True   False   False         False   False    True         False  \n",
       "\n",
       "[5 rows x 30 columns]"
      ]
     },
     "execution_count": 23,
     "metadata": {},
     "output_type": "execute_result"
    }
   ],
   "source": [
    "train_data_encoded.head()"
   ]
  },
  {
   "cell_type": "markdown",
   "id": "6534d71c",
   "metadata": {
    "papermill": {
     "duration": 0.01327,
     "end_time": "2025-07-08T05:17:53.674262",
     "exception": false,
     "start_time": "2025-07-08T05:17:53.660992",
     "status": "completed"
    },
    "tags": []
   },
   "source": [
    "<h3>Feature Scaling</h3>"
   ]
  },
  {
   "cell_type": "markdown",
   "id": "15a4145a",
   "metadata": {
    "papermill": {
     "duration": 0.013277,
     "end_time": "2025-07-08T05:17:53.701011",
     "exception": false,
     "start_time": "2025-07-08T05:17:53.687734",
     "status": "completed"
    },
    "tags": []
   },
   "source": [
    "<h5>Now, to make sure all the numerical values are on the same scale(not including the one-hot encodings), we will scale them. Since there exist some outliers, standardization is a better option than normalization. Going to create two dataframes, one where the features with outliers were not transformed with the log function, and one where the features with outliers were transformed. This is because some of the models aren't affected by outliers, so I want to see which dataframe works better with those models.</h5>"
   ]
  },
  {
   "cell_type": "code",
   "execution_count": 24,
   "id": "7931aafc",
   "metadata": {
    "execution": {
     "iopub.execute_input": "2025-07-08T05:17:53.729373Z",
     "iopub.status.busy": "2025-07-08T05:17:53.729041Z",
     "iopub.status.idle": "2025-07-08T05:17:53.761741Z",
     "shell.execute_reply": "2025-07-08T05:17:53.760840Z"
    },
    "papermill": {
     "duration": 0.049014,
     "end_time": "2025-07-08T05:17:53.763447",
     "exception": false,
     "start_time": "2025-07-08T05:17:53.714433",
     "status": "completed"
    },
    "tags": []
   },
   "outputs": [],
   "source": [
    "scaler = StandardScaler()\n",
    "train_data_scaled = train_data_encoded.copy(deep=True).drop(['TotalExpenses'], axis=1)\n",
    "train_data_not_transformed = train_data_encoded.copy(deep=True).drop(['TotalExpenses_log'], axis=1)\n",
    "\n",
    "# go through each column with numerical values (not including one-hot encodings)\n",
    "# and standardize them\n",
    "for col1, col2 in zip(train_data_scaled.select_dtypes(include='number').columns, train_data_not_transformed.select_dtypes(include='number').columns):\n",
    "    train_data_scaled[col1] = scaler.fit_transform(train_data_scaled[[col1]])\n",
    "    train_data_not_transformed[col2] = scaler.fit_transform(train_data_not_transformed[[col2]])"
   ]
  },
  {
   "cell_type": "code",
   "execution_count": 25,
   "id": "d5bb2dd0",
   "metadata": {
    "execution": {
     "iopub.execute_input": "2025-07-08T05:17:53.792653Z",
     "iopub.status.busy": "2025-07-08T05:17:53.792318Z",
     "iopub.status.idle": "2025-07-08T05:17:53.812979Z",
     "shell.execute_reply": "2025-07-08T05:17:53.811998Z"
    },
    "papermill": {
     "duration": 0.037365,
     "end_time": "2025-07-08T05:17:53.814680",
     "exception": false,
     "start_time": "2025-07-08T05:17:53.777315",
     "status": "completed"
    },
    "tags": []
   },
   "outputs": [
    {
     "data": {
      "text/html": [
       "<div>\n",
       "<style scoped>\n",
       "    .dataframe tbody tr th:only-of-type {\n",
       "        vertical-align: middle;\n",
       "    }\n",
       "\n",
       "    .dataframe tbody tr th {\n",
       "        vertical-align: top;\n",
       "    }\n",
       "\n",
       "    .dataframe thead th {\n",
       "        text-align: right;\n",
       "    }\n",
       "</style>\n",
       "<table border=\"1\" class=\"dataframe\">\n",
       "  <thead>\n",
       "    <tr style=\"text-align: right;\">\n",
       "      <th></th>\n",
       "      <th>Age</th>\n",
       "      <th>VIP</th>\n",
       "      <th>Transported</th>\n",
       "      <th>GroupId</th>\n",
       "      <th>Num</th>\n",
       "      <th>TotalExpenses_log</th>\n",
       "      <th>HomePlanet_Earth</th>\n",
       "      <th>HomePlanet_Europa</th>\n",
       "      <th>HomePlanet_Mars</th>\n",
       "      <th>HomePlanet_Unknown</th>\n",
       "      <th>...</th>\n",
       "      <th>Deck_C</th>\n",
       "      <th>Deck_D</th>\n",
       "      <th>Deck_E</th>\n",
       "      <th>Deck_F</th>\n",
       "      <th>Deck_G</th>\n",
       "      <th>Deck_T</th>\n",
       "      <th>Deck_Unknown</th>\n",
       "      <th>Side_P</th>\n",
       "      <th>Side_S</th>\n",
       "      <th>Side_Unknown</th>\n",
       "    </tr>\n",
       "  </thead>\n",
       "  <tbody>\n",
       "    <tr>\n",
       "      <th>0</th>\n",
       "      <td>0.711945</td>\n",
       "      <td>False</td>\n",
       "      <td>False</td>\n",
       "      <td>-1.734409</td>\n",
       "      <td>-1.177238</td>\n",
       "      <td>-1.152845</td>\n",
       "      <td>False</td>\n",
       "      <td>True</td>\n",
       "      <td>False</td>\n",
       "      <td>False</td>\n",
       "      <td>...</td>\n",
       "      <td>False</td>\n",
       "      <td>False</td>\n",
       "      <td>False</td>\n",
       "      <td>False</td>\n",
       "      <td>False</td>\n",
       "      <td>False</td>\n",
       "      <td>False</td>\n",
       "      <td>True</td>\n",
       "      <td>False</td>\n",
       "      <td>False</td>\n",
       "    </tr>\n",
       "    <tr>\n",
       "      <th>1</th>\n",
       "      <td>-0.334037</td>\n",
       "      <td>False</td>\n",
       "      <td>True</td>\n",
       "      <td>-1.734034</td>\n",
       "      <td>-1.177238</td>\n",
       "      <td>0.636892</td>\n",
       "      <td>True</td>\n",
       "      <td>False</td>\n",
       "      <td>False</td>\n",
       "      <td>False</td>\n",
       "      <td>...</td>\n",
       "      <td>False</td>\n",
       "      <td>False</td>\n",
       "      <td>False</td>\n",
       "      <td>True</td>\n",
       "      <td>False</td>\n",
       "      <td>False</td>\n",
       "      <td>False</td>\n",
       "      <td>False</td>\n",
       "      <td>True</td>\n",
       "      <td>False</td>\n",
       "    </tr>\n",
       "    <tr>\n",
       "      <th>2</th>\n",
       "      <td>2.036857</td>\n",
       "      <td>True</td>\n",
       "      <td>False</td>\n",
       "      <td>-1.733660</td>\n",
       "      <td>-1.177238</td>\n",
       "      <td>1.353979</td>\n",
       "      <td>False</td>\n",
       "      <td>True</td>\n",
       "      <td>False</td>\n",
       "      <td>False</td>\n",
       "      <td>...</td>\n",
       "      <td>False</td>\n",
       "      <td>False</td>\n",
       "      <td>False</td>\n",
       "      <td>False</td>\n",
       "      <td>False</td>\n",
       "      <td>False</td>\n",
       "      <td>False</td>\n",
       "      <td>False</td>\n",
       "      <td>True</td>\n",
       "      <td>False</td>\n",
       "    </tr>\n",
       "    <tr>\n",
       "      <th>3</th>\n",
       "      <td>0.293552</td>\n",
       "      <td>False</td>\n",
       "      <td>False</td>\n",
       "      <td>-1.733660</td>\n",
       "      <td>-1.177238</td>\n",
       "      <td>1.165307</td>\n",
       "      <td>False</td>\n",
       "      <td>True</td>\n",
       "      <td>False</td>\n",
       "      <td>False</td>\n",
       "      <td>...</td>\n",
       "      <td>False</td>\n",
       "      <td>False</td>\n",
       "      <td>False</td>\n",
       "      <td>False</td>\n",
       "      <td>False</td>\n",
       "      <td>False</td>\n",
       "      <td>False</td>\n",
       "      <td>False</td>\n",
       "      <td>True</td>\n",
       "      <td>False</td>\n",
       "    </tr>\n",
       "    <tr>\n",
       "      <th>4</th>\n",
       "      <td>-0.891895</td>\n",
       "      <td>False</td>\n",
       "      <td>True</td>\n",
       "      <td>-1.733286</td>\n",
       "      <td>-1.175264</td>\n",
       "      <td>0.743469</td>\n",
       "      <td>True</td>\n",
       "      <td>False</td>\n",
       "      <td>False</td>\n",
       "      <td>False</td>\n",
       "      <td>...</td>\n",
       "      <td>False</td>\n",
       "      <td>False</td>\n",
       "      <td>False</td>\n",
       "      <td>True</td>\n",
       "      <td>False</td>\n",
       "      <td>False</td>\n",
       "      <td>False</td>\n",
       "      <td>False</td>\n",
       "      <td>True</td>\n",
       "      <td>False</td>\n",
       "    </tr>\n",
       "  </tbody>\n",
       "</table>\n",
       "<p>5 rows × 29 columns</p>\n",
       "</div>"
      ],
      "text/plain": [
       "        Age    VIP  Transported   GroupId       Num  TotalExpenses_log  \\\n",
       "0  0.711945  False        False -1.734409 -1.177238          -1.152845   \n",
       "1 -0.334037  False         True -1.734034 -1.177238           0.636892   \n",
       "2  2.036857   True        False -1.733660 -1.177238           1.353979   \n",
       "3  0.293552  False        False -1.733660 -1.177238           1.165307   \n",
       "4 -0.891895  False         True -1.733286 -1.175264           0.743469   \n",
       "\n",
       "   HomePlanet_Earth  HomePlanet_Europa  HomePlanet_Mars  HomePlanet_Unknown  \\\n",
       "0             False               True            False               False   \n",
       "1              True              False            False               False   \n",
       "2             False               True            False               False   \n",
       "3             False               True            False               False   \n",
       "4              True              False            False               False   \n",
       "\n",
       "   ...  Deck_C  Deck_D  Deck_E  Deck_F  Deck_G  Deck_T  Deck_Unknown  Side_P  \\\n",
       "0  ...   False   False   False   False   False   False         False    True   \n",
       "1  ...   False   False   False    True   False   False         False   False   \n",
       "2  ...   False   False   False   False   False   False         False   False   \n",
       "3  ...   False   False   False   False   False   False         False   False   \n",
       "4  ...   False   False   False    True   False   False         False   False   \n",
       "\n",
       "   Side_S  Side_Unknown  \n",
       "0   False         False  \n",
       "1    True         False  \n",
       "2    True         False  \n",
       "3    True         False  \n",
       "4    True         False  \n",
       "\n",
       "[5 rows x 29 columns]"
      ]
     },
     "execution_count": 25,
     "metadata": {},
     "output_type": "execute_result"
    }
   ],
   "source": [
    "train_data_scaled.head()"
   ]
  },
  {
   "cell_type": "code",
   "execution_count": 26,
   "id": "cd61b6a9",
   "metadata": {
    "execution": {
     "iopub.execute_input": "2025-07-08T05:17:53.844591Z",
     "iopub.status.busy": "2025-07-08T05:17:53.844220Z",
     "iopub.status.idle": "2025-07-08T05:17:53.865110Z",
     "shell.execute_reply": "2025-07-08T05:17:53.864074Z"
    },
    "papermill": {
     "duration": 0.037687,
     "end_time": "2025-07-08T05:17:53.866849",
     "exception": false,
     "start_time": "2025-07-08T05:17:53.829162",
     "status": "completed"
    },
    "tags": []
   },
   "outputs": [
    {
     "data": {
      "text/html": [
       "<div>\n",
       "<style scoped>\n",
       "    .dataframe tbody tr th:only-of-type {\n",
       "        vertical-align: middle;\n",
       "    }\n",
       "\n",
       "    .dataframe tbody tr th {\n",
       "        vertical-align: top;\n",
       "    }\n",
       "\n",
       "    .dataframe thead th {\n",
       "        text-align: right;\n",
       "    }\n",
       "</style>\n",
       "<table border=\"1\" class=\"dataframe\">\n",
       "  <thead>\n",
       "    <tr style=\"text-align: right;\">\n",
       "      <th></th>\n",
       "      <th>Age</th>\n",
       "      <th>VIP</th>\n",
       "      <th>Transported</th>\n",
       "      <th>GroupId</th>\n",
       "      <th>TotalExpenses</th>\n",
       "      <th>Num</th>\n",
       "      <th>HomePlanet_Earth</th>\n",
       "      <th>HomePlanet_Europa</th>\n",
       "      <th>HomePlanet_Mars</th>\n",
       "      <th>HomePlanet_Unknown</th>\n",
       "      <th>...</th>\n",
       "      <th>Deck_C</th>\n",
       "      <th>Deck_D</th>\n",
       "      <th>Deck_E</th>\n",
       "      <th>Deck_F</th>\n",
       "      <th>Deck_G</th>\n",
       "      <th>Deck_T</th>\n",
       "      <th>Deck_Unknown</th>\n",
       "      <th>Side_P</th>\n",
       "      <th>Side_S</th>\n",
       "      <th>Side_Unknown</th>\n",
       "    </tr>\n",
       "  </thead>\n",
       "  <tbody>\n",
       "    <tr>\n",
       "      <th>0</th>\n",
       "      <td>0.711945</td>\n",
       "      <td>False</td>\n",
       "      <td>False</td>\n",
       "      <td>-1.734409</td>\n",
       "      <td>-0.514066</td>\n",
       "      <td>-1.177238</td>\n",
       "      <td>False</td>\n",
       "      <td>True</td>\n",
       "      <td>False</td>\n",
       "      <td>False</td>\n",
       "      <td>...</td>\n",
       "      <td>False</td>\n",
       "      <td>False</td>\n",
       "      <td>False</td>\n",
       "      <td>False</td>\n",
       "      <td>False</td>\n",
       "      <td>False</td>\n",
       "      <td>False</td>\n",
       "      <td>True</td>\n",
       "      <td>False</td>\n",
       "      <td>False</td>\n",
       "    </tr>\n",
       "    <tr>\n",
       "      <th>1</th>\n",
       "      <td>-0.334037</td>\n",
       "      <td>False</td>\n",
       "      <td>True</td>\n",
       "      <td>-1.734034</td>\n",
       "      <td>-0.251479</td>\n",
       "      <td>-1.177238</td>\n",
       "      <td>True</td>\n",
       "      <td>False</td>\n",
       "      <td>False</td>\n",
       "      <td>False</td>\n",
       "      <td>...</td>\n",
       "      <td>False</td>\n",
       "      <td>False</td>\n",
       "      <td>False</td>\n",
       "      <td>True</td>\n",
       "      <td>False</td>\n",
       "      <td>False</td>\n",
       "      <td>False</td>\n",
       "      <td>False</td>\n",
       "      <td>True</td>\n",
       "      <td>False</td>\n",
       "    </tr>\n",
       "    <tr>\n",
       "      <th>2</th>\n",
       "      <td>2.036857</td>\n",
       "      <td>True</td>\n",
       "      <td>False</td>\n",
       "      <td>-1.733660</td>\n",
       "      <td>3.190333</td>\n",
       "      <td>-1.177238</td>\n",
       "      <td>False</td>\n",
       "      <td>True</td>\n",
       "      <td>False</td>\n",
       "      <td>False</td>\n",
       "      <td>...</td>\n",
       "      <td>False</td>\n",
       "      <td>False</td>\n",
       "      <td>False</td>\n",
       "      <td>False</td>\n",
       "      <td>False</td>\n",
       "      <td>False</td>\n",
       "      <td>False</td>\n",
       "      <td>False</td>\n",
       "      <td>True</td>\n",
       "      <td>False</td>\n",
       "    </tr>\n",
       "    <tr>\n",
       "      <th>3</th>\n",
       "      <td>0.293552</td>\n",
       "      <td>False</td>\n",
       "      <td>False</td>\n",
       "      <td>-1.733660</td>\n",
       "      <td>1.332604</td>\n",
       "      <td>-1.177238</td>\n",
       "      <td>False</td>\n",
       "      <td>True</td>\n",
       "      <td>False</td>\n",
       "      <td>False</td>\n",
       "      <td>...</td>\n",
       "      <td>False</td>\n",
       "      <td>False</td>\n",
       "      <td>False</td>\n",
       "      <td>False</td>\n",
       "      <td>False</td>\n",
       "      <td>False</td>\n",
       "      <td>False</td>\n",
       "      <td>False</td>\n",
       "      <td>True</td>\n",
       "      <td>False</td>\n",
       "    </tr>\n",
       "    <tr>\n",
       "      <th>4</th>\n",
       "      <td>-0.891895</td>\n",
       "      <td>False</td>\n",
       "      <td>True</td>\n",
       "      <td>-1.733286</td>\n",
       "      <td>-0.124824</td>\n",
       "      <td>-1.175264</td>\n",
       "      <td>True</td>\n",
       "      <td>False</td>\n",
       "      <td>False</td>\n",
       "      <td>False</td>\n",
       "      <td>...</td>\n",
       "      <td>False</td>\n",
       "      <td>False</td>\n",
       "      <td>False</td>\n",
       "      <td>True</td>\n",
       "      <td>False</td>\n",
       "      <td>False</td>\n",
       "      <td>False</td>\n",
       "      <td>False</td>\n",
       "      <td>True</td>\n",
       "      <td>False</td>\n",
       "    </tr>\n",
       "  </tbody>\n",
       "</table>\n",
       "<p>5 rows × 29 columns</p>\n",
       "</div>"
      ],
      "text/plain": [
       "        Age    VIP  Transported   GroupId  TotalExpenses       Num  \\\n",
       "0  0.711945  False        False -1.734409      -0.514066 -1.177238   \n",
       "1 -0.334037  False         True -1.734034      -0.251479 -1.177238   \n",
       "2  2.036857   True        False -1.733660       3.190333 -1.177238   \n",
       "3  0.293552  False        False -1.733660       1.332604 -1.177238   \n",
       "4 -0.891895  False         True -1.733286      -0.124824 -1.175264   \n",
       "\n",
       "   HomePlanet_Earth  HomePlanet_Europa  HomePlanet_Mars  HomePlanet_Unknown  \\\n",
       "0             False               True            False               False   \n",
       "1              True              False            False               False   \n",
       "2             False               True            False               False   \n",
       "3             False               True            False               False   \n",
       "4              True              False            False               False   \n",
       "\n",
       "   ...  Deck_C  Deck_D  Deck_E  Deck_F  Deck_G  Deck_T  Deck_Unknown  Side_P  \\\n",
       "0  ...   False   False   False   False   False   False         False    True   \n",
       "1  ...   False   False   False    True   False   False         False   False   \n",
       "2  ...   False   False   False   False   False   False         False   False   \n",
       "3  ...   False   False   False   False   False   False         False   False   \n",
       "4  ...   False   False   False    True   False   False         False   False   \n",
       "\n",
       "   Side_S  Side_Unknown  \n",
       "0   False         False  \n",
       "1    True         False  \n",
       "2    True         False  \n",
       "3    True         False  \n",
       "4    True         False  \n",
       "\n",
       "[5 rows x 29 columns]"
      ]
     },
     "execution_count": 26,
     "metadata": {},
     "output_type": "execute_result"
    }
   ],
   "source": [
    "train_data_not_transformed.head()"
   ]
  },
  {
   "cell_type": "markdown",
   "id": "b6fae78f",
   "metadata": {
    "papermill": {
     "duration": 0.01507,
     "end_time": "2025-07-08T05:17:53.896708",
     "exception": false,
     "start_time": "2025-07-08T05:17:53.881638",
     "status": "completed"
    },
    "tags": []
   },
   "source": [
    "<h3>Feature Selection</h3>"
   ]
  },
  {
   "cell_type": "markdown",
   "id": "806e9cb4",
   "metadata": {
    "papermill": {
     "duration": 0.013805,
     "end_time": "2025-07-08T05:17:53.925036",
     "exception": false,
     "start_time": "2025-07-08T05:17:53.911231",
     "status": "completed"
    },
    "tags": []
   },
   "source": [
    "<h5>Now, to have the optimal dataset to use for the ML models, we need to find out which features are important and which are not to further clean the dataset. We will use three methods to figure out the important features.</h5>"
   ]
  },
  {
   "cell_type": "code",
   "execution_count": 27,
   "id": "d3df9923",
   "metadata": {
    "execution": {
     "iopub.execute_input": "2025-07-08T05:17:53.957374Z",
     "iopub.status.busy": "2025-07-08T05:17:53.957053Z",
     "iopub.status.idle": "2025-07-08T05:17:53.974413Z",
     "shell.execute_reply": "2025-07-08T05:17:53.973470Z"
    },
    "papermill": {
     "duration": 0.034304,
     "end_time": "2025-07-08T05:17:53.975971",
     "exception": false,
     "start_time": "2025-07-08T05:17:53.941667",
     "status": "completed"
    },
    "tags": []
   },
   "outputs": [
    {
     "name": "stdout",
     "output_type": "stream",
     "text": [
      "GroupId              0.021491\n",
      "Num                 -0.044502\n",
      "Age                 -0.074233\n",
      "TotalExpenses_log   -0.468941\n",
      "dtype: float64\n"
     ]
    },
    {
     "data": {
      "text/plain": [
       "GroupId              4.510427e-02\n",
       "Num                  3.315266e-05\n",
       "Age                  4.216286e-12\n",
       "TotalExpenses_log    0.000000e+00\n",
       "dtype: float64"
      ]
     },
     "execution_count": 27,
     "metadata": {},
     "output_type": "execute_result"
    }
   ],
   "source": [
    "correlations = {}\n",
    "p_scores = {}\n",
    "\n",
    "for col in train_data_scaled.select_dtypes(include='number').columns:\n",
    "    corr, p = pointbiserialr(train_data_scaled[col], train_data_scaled['Transported'])\n",
    "    correlations[col] = corr\n",
    "    p_scores[col] = p\n",
    "\n",
    "# Sort and display\n",
    "print(pd.Series(correlations).sort_values(ascending=False))\n",
    "pd.Series(p_scores).sort_values(ascending=False)"
   ]
  },
  {
   "cell_type": "markdown",
   "id": "9723ed1e",
   "metadata": {
    "papermill": {
     "duration": 0.014003,
     "end_time": "2025-07-08T05:17:54.004246",
     "exception": false,
     "start_time": "2025-07-08T05:17:53.990243",
     "status": "completed"
    },
    "tags": []
   },
   "source": [
    "<h5>We can see that \"TotalExpenses_log\" has a strong negative correlation. The others have weak negative correlations. You can see that \"TotalExpenses_log\" is highly statistically significant, so for sure it will be used in model training. 'Num' and 'Age', although weak in correlation, are still significant (not as high as 'TotalExpenses_log' though), so they will need further testing in model training and testing. \"GroupId\" has a low statistical significance, so it probably doesn't have a huge say if a passenger was transported or not, but sometimes if mixed with another feature, it can lead to it being important.</h5>"
   ]
  },
  {
   "cell_type": "code",
   "execution_count": 28,
   "id": "b9125751",
   "metadata": {
    "execution": {
     "iopub.execute_input": "2025-07-08T05:17:54.034400Z",
     "iopub.status.busy": "2025-07-08T05:17:54.034077Z",
     "iopub.status.idle": "2025-07-08T05:17:54.049155Z",
     "shell.execute_reply": "2025-07-08T05:17:54.048265Z"
    },
    "papermill": {
     "duration": 0.032147,
     "end_time": "2025-07-08T05:17:54.050667",
     "exception": false,
     "start_time": "2025-07-08T05:17:54.018520",
     "status": "completed"
    },
    "tags": []
   },
   "outputs": [
    {
     "name": "stdout",
     "output_type": "stream",
     "text": [
      "GroupId          0.021491\n",
      "Num             -0.044502\n",
      "Age             -0.074233\n",
      "TotalExpenses   -0.199514\n",
      "dtype: float64\n"
     ]
    },
    {
     "data": {
      "text/plain": [
       "GroupId          4.510427e-02\n",
       "Num              3.315266e-05\n",
       "Age              4.216286e-12\n",
       "TotalExpenses    9.382847e-79\n",
       "dtype: float64"
      ]
     },
     "execution_count": 28,
     "metadata": {},
     "output_type": "execute_result"
    }
   ],
   "source": [
    "correlations = {}\n",
    "p_scores = {}\n",
    "\n",
    "for col in train_data_not_transformed.select_dtypes(include='number').columns:\n",
    "    corr, p = pointbiserialr(train_data_not_transformed[col], train_data_not_transformed['Transported'])\n",
    "    correlations[col] = corr\n",
    "    p_scores[col] = p\n",
    "\n",
    "# Sort and display\n",
    "print(pd.Series(correlations).sort_values(ascending=False))\n",
    "pd.Series(p_scores).sort_values(ascending=False)"
   ]
  },
  {
   "cell_type": "markdown",
   "id": "162a423f",
   "metadata": {
    "papermill": {
     "duration": 0.014154,
     "end_time": "2025-07-08T05:17:54.079316",
     "exception": false,
     "start_time": "2025-07-08T05:17:54.065162",
     "status": "completed"
    },
    "tags": []
   },
   "source": [
    "<h5>For the non-transformed data, we can see similar results, other than the fact that 'TotalExpenses' has a lower correlation score. This could possibly be the fact that the outliers were kept, affecting correlation results. The statistical significance stayed about the same, so the same testing must be done for this dataset as well.</h5>"
   ]
  },
  {
   "cell_type": "code",
   "execution_count": 29,
   "id": "39ca167e",
   "metadata": {
    "execution": {
     "iopub.execute_input": "2025-07-08T05:17:54.109331Z",
     "iopub.status.busy": "2025-07-08T05:17:54.108606Z",
     "iopub.status.idle": "2025-07-08T05:17:54.172942Z",
     "shell.execute_reply": "2025-07-08T05:17:54.172093Z"
    },
    "papermill": {
     "duration": 0.080887,
     "end_time": "2025-07-08T05:17:54.174360",
     "exception": false,
     "start_time": "2025-07-08T05:17:54.093473",
     "status": "completed"
    },
    "tags": []
   },
   "outputs": [
    {
     "name": "stdout",
     "output_type": "stream",
     "text": [
      "CryoSleep      1861.749116\n",
      "Deck            392.288750\n",
      "HomePlanet      324.967237\n",
      "Destination     106.394882\n",
      "Side             91.475193\n",
      "VIP               5.029829\n",
      "dtype: float64\n"
     ]
    },
    {
     "data": {
      "text/plain": [
       "VIP            2.491436e-02\n",
       "Side           1.369034e-20\n",
       "Destination    6.547434e-23\n",
       "HomePlanet     3.921492e-70\n",
       "Deck           8.352488e-80\n",
       "CryoSleep      0.000000e+00\n",
       "dtype: float64"
      ]
     },
     "execution_count": 29,
     "metadata": {},
     "output_type": "execute_result"
    }
   ],
   "source": [
    "categorical_columns = [col for col in train_data_new.columns if train_data_new[col].dtype == 'object' or train_data_new[col].dtype == 'bool']\n",
    "chi2_scores = {}\n",
    "p_scores = {}\n",
    "\n",
    "for col in categorical_columns:\n",
    "    if col != 'Transported':\n",
    "        table = pd.crosstab(train_data_new[col], train_data_new['Transported'])\n",
    "        chi2, p, _, _ = chi2_contingency(table)\n",
    "        chi2_scores[col] = chi2\n",
    "        p_scores[col] = p\n",
    "\n",
    "# Sort and display\n",
    "print(pd.Series(chi2_scores).sort_values(ascending=False))\n",
    "pd.Series(p_scores).sort_values(ascending=False)"
   ]
  },
  {
   "cell_type": "markdown",
   "id": "65b4fba8",
   "metadata": {
    "papermill": {
     "duration": 0.014107,
     "end_time": "2025-07-08T05:17:54.202858",
     "exception": false,
     "start_time": "2025-07-08T05:17:54.188751",
     "status": "completed"
    },
    "tags": []
   },
   "source": [
    "<h5>We can see that the features \"CryoSleep\", \"Deck\", \"HomePlanet\", \"Destination\", and \"Side\" have strong chi2 scores, while \"VIP\" has a weak chi2 score. They are all statistically significant, so \"VIP\" will need further testing in model testing and training. Also note, CryoSleep seems to be VERY conencted to the result.</h5>"
   ]
  },
  {
   "cell_type": "markdown",
   "id": "0eb37fe1",
   "metadata": {
    "papermill": {
     "duration": 0.014065,
     "end_time": "2025-07-08T05:17:54.231397",
     "exception": false,
     "start_time": "2025-07-08T05:17:54.217332",
     "status": "completed"
    },
    "tags": []
   },
   "source": [
    "<h3>Model Training</h3>"
   ]
  },
  {
   "cell_type": "code",
   "execution_count": 30,
   "id": "16fa30a0",
   "metadata": {
    "execution": {
     "iopub.execute_input": "2025-07-08T05:17:54.261405Z",
     "iopub.status.busy": "2025-07-08T05:17:54.261089Z",
     "iopub.status.idle": "2025-07-08T05:17:54.455395Z",
     "shell.execute_reply": "2025-07-08T05:17:54.454439Z"
    },
    "papermill": {
     "duration": 0.211522,
     "end_time": "2025-07-08T05:17:54.457133",
     "exception": false,
     "start_time": "2025-07-08T05:17:54.245611",
     "status": "completed"
    },
    "tags": []
   },
   "outputs": [
    {
     "data": {
      "text/plain": [
       "<Axes: xlabel='Transported'>"
      ]
     },
     "execution_count": 30,
     "metadata": {},
     "output_type": "execute_result"
    },
    {
     "data": {
      "image/png": "[encoded data removed]",
      "text/plain": [
       "<Figure size 640x480 with 1 Axes>"
      ]
     },
     "metadata": {},
     "output_type": "display_data"
    }
   ],
   "source": [
    "train_data_scaled['Transported'].value_counts().plot.bar()"
   ]
  },
  {
   "cell_type": "markdown",
   "id": "3d890927",
   "metadata": {
    "papermill": {
     "duration": 0.018545,
     "end_time": "2025-07-08T05:17:54.496043",
     "exception": false,
     "start_time": "2025-07-08T05:17:54.477498",
     "status": "completed"
    },
    "tags": []
   },
   "source": [
    "<h5>We can see that the target column is almost balanced and that it doesn't skew towards one of the values too much, so we do not need to take extra measures like using F1 score as a metric. We can just use accuracy to determine how well a model performs. </h5>"
   ]
  },
  {
   "cell_type": "code",
   "execution_count": 31,
   "id": "c60b5acc",
   "metadata": {
    "execution": {
     "iopub.execute_input": "2025-07-08T05:17:54.539586Z",
     "iopub.status.busy": "2025-07-08T05:17:54.539228Z",
     "iopub.status.idle": "2025-07-08T05:17:54.547291Z",
     "shell.execute_reply": "2025-07-08T05:17:54.546152Z"
    },
    "papermill": {
     "duration": 0.031313,
     "end_time": "2025-07-08T05:17:54.548933",
     "exception": false,
     "start_time": "2025-07-08T05:17:54.517620",
     "status": "completed"
    },
    "tags": []
   },
   "outputs": [],
   "source": [
    "X_scaled = train_data_scaled.drop('Transported', axis=1)\n",
    "X_not_transformed = train_data_not_transformed.drop('Transported', axis=1)\n",
    "y = train_data_scaled['Transported']"
   ]
  },
  {
   "cell_type": "code",
   "execution_count": 32,
   "id": "897d3a4b",
   "metadata": {
    "execution": {
     "iopub.execute_input": "2025-07-08T05:17:54.580254Z",
     "iopub.status.busy": "2025-07-08T05:17:54.579949Z",
     "iopub.status.idle": "2025-07-08T05:17:54.585302Z",
     "shell.execute_reply": "2025-07-08T05:17:54.584520Z"
    },
    "papermill": {
     "duration": 0.022714,
     "end_time": "2025-07-08T05:17:54.586584",
     "exception": false,
     "start_time": "2025-07-08T05:17:54.563870",
     "status": "completed"
    },
    "tags": []
   },
   "outputs": [],
   "source": [
    "models = {\n",
    "    'Logistic Regression' : LogisticRegression(max_iter=1000, n_jobs=-1),\n",
    "    \"Random Forest\" : RandomForestClassifier(n_estimators=100,\n",
    "                                            random_state=42,\n",
    "                                            n_jobs=-1),\n",
    "    \"XGB\" : XGBClassifier(random_state=42),\n",
    "    \"Gradient Boosting\" : GradientBoostingClassifier(random_state=42),\n",
    "    \"KNN\" : KNeighborsClassifier(n_neighbors=5)\n",
    "}"
   ]
  },
  {
   "cell_type": "markdown",
   "id": "69de10d0",
   "metadata": {
    "papermill": {
     "duration": 0.014662,
     "end_time": "2025-07-08T05:17:54.616185",
     "exception": false,
     "start_time": "2025-07-08T05:17:54.601523",
     "status": "completed"
    },
    "tags": []
   },
   "source": [
    "<h5>A reminder that we will need to remove the features that need further testing (found out during feature selection) one by one to determine their importance on the results of the model. Of course, we have to be careful of overfitting. </h5>"
   ]
  },
  {
   "cell_type": "code",
   "execution_count": 33,
   "id": "64814bce",
   "metadata": {
    "execution": {
     "iopub.execute_input": "2025-07-08T05:17:54.647493Z",
     "iopub.status.busy": "2025-07-08T05:17:54.647148Z",
     "iopub.status.idle": "2025-07-08T05:17:54.653216Z",
     "shell.execute_reply": "2025-07-08T05:17:54.652413Z"
    },
    "papermill": {
     "duration": 0.02351,
     "end_time": "2025-07-08T05:17:54.654645",
     "exception": false,
     "start_time": "2025-07-08T05:17:54.631135",
     "status": "completed"
    },
    "tags": []
   },
   "outputs": [
    {
     "data": {
      "text/plain": [
       "Index(['Age', 'VIP', 'Transported', 'GroupId', 'Num', 'TotalExpenses_log',\n",
       "       'HomePlanet_Earth', 'HomePlanet_Europa', 'HomePlanet_Mars',\n",
       "       'HomePlanet_Unknown', 'CryoSleep_False', 'CryoSleep_True',\n",
       "       'CryoSleep_Unknown', 'Destination_55 Cancri e',\n",
       "       'Destination_PSO J318.5-22', 'Destination_TRAPPIST-1e',\n",
       "       'Destination_Unknown', 'Deck_A', 'Deck_B', 'Deck_C', 'Deck_D', 'Deck_E',\n",
       "       'Deck_F', 'Deck_G', 'Deck_T', 'Deck_Unknown', 'Side_P', 'Side_S',\n",
       "       'Side_Unknown'],\n",
       "      dtype='object')"
      ]
     },
     "execution_count": 33,
     "metadata": {},
     "output_type": "execute_result"
    }
   ],
   "source": [
    "train_data_scaled.columns"
   ]
  },
  {
   "cell_type": "code",
   "execution_count": 34,
   "id": "341ffa19",
   "metadata": {
    "execution": {
     "iopub.execute_input": "2025-07-08T05:17:54.687339Z",
     "iopub.status.busy": "2025-07-08T05:17:54.686981Z",
     "iopub.status.idle": "2025-07-08T05:38:51.535342Z",
     "shell.execute_reply": "2025-07-08T05:38:51.534225Z"
    },
    "papermill": {
     "duration": 1256.882009,
     "end_time": "2025-07-08T05:38:51.552584",
     "exception": false,
     "start_time": "2025-07-08T05:17:54.670575",
     "status": "completed"
    },
    "tags": []
   },
   "outputs": [
    {
     "name": "stdout",
     "output_type": "stream",
     "text": [
      "====== Cross Validation for Dataset with Transformed Outliers ======\n",
      "\n",
      "******** Logistic Regression *********\n",
      "\n",
      "                                dropped_cols  mean_acc   std_acc\n",
      "166     (VIP, Num, Age, GroupId, HomePlanet)  0.741978  0.010462\n",
      "101          (VIP, Num, GroupId, HomePlanet)  0.741863  0.010663\n",
      "66                (Num, GroupId, HomePlanet)  0.741518  0.010063\n",
      "131          (Num, Age, GroupId, HomePlanet)  0.741518  0.009906\n",
      "143  (Num, GroupId, Destination, HomePlanet)  0.741403  0.011621\n",
      "..                                       ...       ...       ...\n",
      "49                      (VIP, GroupId, Deck)  0.728288  0.013640\n",
      "40                          (VIP, Num, Deck)  0.728173  0.011199\n",
      "109                (VIP, Age, GroupId, Deck)  0.727943  0.013522\n",
      "74                      (Age, GroupId, Deck)  0.727712  0.012850\n",
      "28                           (GroupId, Deck)  0.727712  0.013664\n",
      "\n",
      "[256 rows x 3 columns]\n",
      "\n",
      "******** Random Forest *********\n",
      "\n",
      "                                          dropped_cols  mean_acc   std_acc\n",
      "11                                      (VIP, GroupId)  0.721964  0.015914\n",
      "4                                           (GroupId,)  0.719089  0.017287\n",
      "51                          (VIP, GroupId, HomePlanet)  0.719088  0.018141\n",
      "224  (VIP, Num, Age, GroupId, Destination, HomePlanet)  0.716900  0.007829\n",
      "130                   (Num, Age, GroupId, Destination)  0.715979  0.005801\n",
      "..                                                 ...       ...       ...\n",
      "205                 (Num, Age, Side, Deck, HomePlanet)  0.489603  0.060135\n",
      "226            (VIP, Num, Age, Side, Deck, HomePlanet)  0.487993  0.062243\n",
      "228     (VIP, Num, Age, Deck, Destination, HomePlanet)  0.486491  0.047705\n",
      "244    (Num, Age, Side, Deck, Destination, HomePlanet)  0.468203  0.048696\n",
      "251  (VIP, Num, Age, Side, Deck, Destination, HomeP...  0.463831  0.050276\n",
      "\n",
      "[256 rows x 3 columns]\n",
      "\n",
      "******** XGB *********\n",
      "\n",
      "                                          dropped_cols  mean_acc   std_acc\n",
      "203       (Num, Age, GroupId, Destination, HomePlanet)  0.740827  0.007120\n",
      "224  (VIP, Num, Age, GroupId, Destination, HomePlanet)  0.739907  0.006996\n",
      "221         (VIP, Num, Age, GroupId, Side, HomePlanet)  0.739448  0.011595\n",
      "93                            (VIP, Num, Age, GroupId)  0.739332  0.010378\n",
      "166               (VIP, Num, Age, GroupId, HomePlanet)  0.738412  0.010742\n",
      "..                                                 ...       ...       ...\n",
      "171                  (VIP, Num, Age, Deck, HomePlanet)  0.489938  0.017028\n",
      "147               (Num, Deck, Destination, HomePlanet)  0.489018  0.019878\n",
      "212         (Num, Side, Deck, Destination, HomePlanet)  0.487408  0.022087\n",
      "244    (Num, Age, Side, Deck, Destination, HomePlanet)  0.484072  0.026978\n",
      "251  (VIP, Num, Age, Side, Deck, Destination, HomeP...  0.482691  0.025308\n",
      "\n",
      "[256 rows x 3 columns]\n",
      "\n",
      "******** Gradient Boosting *********\n",
      "\n",
      "                                  dropped_cols  mean_acc   std_acc\n",
      "166       (VIP, Num, Age, GroupId, HomePlanet)  0.747040  0.008537\n",
      "131            (Num, Age, GroupId, HomePlanet)  0.746695  0.008791\n",
      "58                         (Num, Age, GroupId)  0.745545  0.009041\n",
      "93                    (VIP, Num, Age, GroupId)  0.745199  0.009136\n",
      "98                   (VIP, Num, GroupId, Side)  0.744855  0.011799\n",
      "..                                         ...       ...       ...\n",
      "226    (VIP, Num, Age, Side, Deck, HomePlanet)  0.484417  0.055135\n",
      "205         (Num, Age, Side, Deck, HomePlanet)  0.484417  0.055135\n",
      "127       (VIP, Deck, Destination, HomePlanet)  0.483383  0.050060\n",
      "92             (Deck, Destination, HomePlanet)  0.482808  0.051507\n",
      "207  (Num, Age, Deck, Destination, HomePlanet)  0.474296  0.047518\n",
      "\n",
      "[256 rows x 3 columns]\n",
      "\n",
      "******** KNN *********\n",
      "\n",
      "                                          dropped_cols  mean_acc   std_acc\n",
      "165              (VIP, Num, Age, GroupId, Destination)  0.727829  0.019562\n",
      "130                   (Num, Age, GroupId, Destination)  0.725184  0.021069\n",
      "220        (VIP, Num, Age, GroupId, Side, Destination)  0.724149  0.015651\n",
      "224  (VIP, Num, Age, GroupId, Destination, HomePlanet)  0.723573  0.020784\n",
      "221         (VIP, Num, Age, GroupId, Side, HomePlanet)  0.721734  0.021960\n",
      "..                                                 ...       ...       ...\n",
      "228     (VIP, Num, Age, Deck, Destination, HomePlanet)  0.536083  0.081986\n",
      "205                 (Num, Age, Side, Deck, HomePlanet)  0.527219  0.053813\n",
      "226            (VIP, Num, Age, Side, Deck, HomePlanet)  0.521238  0.056944\n",
      "244    (Num, Age, Side, Deck, Destination, HomePlanet)  0.484425  0.052385\n",
      "251  (VIP, Num, Age, Side, Deck, Destination, HomeP...  0.478213  0.053490\n",
      "\n",
      "[256 rows x 3 columns]\n",
      "\n"
     ]
    }
   ],
   "source": [
    "print(\"====== Cross Validation for Dataset with Transformed Outliers ======\")\n",
    "print()\n",
    "feature_groups = {\n",
    "    'VIP': ['VIP'], \n",
    "    'Num' : ['Num'], \n",
    "    'Age' : ['Age'], \n",
    "    'GroupId' : ['GroupId'], \n",
    "    'Side' : ['Side_P', 'Side_S', 'Side_Unknown'], \n",
    "    'Deck' : ['Deck_A', 'Deck_B', 'Deck_C', 'Deck_D', 'Deck_E', 'Deck_F', 'Deck_G', 'Deck_T','Deck_Unknown'],\n",
    "    'Destination' : ['Destination_55 Cancri e',\n",
    "       'Destination_PSO J318.5-22', 'Destination_TRAPPIST-1e',\n",
    "       'Destination_Unknown'], \n",
    "    'HomePlanet' : ['HomePlanet_Earth', 'HomePlanet_Europa', 'HomePlanet_Mars',\n",
    "       'HomePlanet_Unknown']}\n",
    "\n",
    "columns_to_test = list(feature_groups.keys())\n",
    "\n",
    "# go through each classifier and do cross validation on them\n",
    "for name, clf in models.items():\n",
    "    print(f\"******** {name} *********\")\n",
    "    print()\n",
    "\n",
    "    results = []\n",
    "\n",
    "    # no columns removed\n",
    "    baseline_acc = cross_val_score(clf, X_scaled, y, cv=5, scoring='accuracy', n_jobs=-1)\n",
    "    results.append({\n",
    "        'dropped_cols': (),\n",
    "        'mean_acc': baseline_acc.mean(),\n",
    "        'std_acc': baseline_acc.std()\n",
    "    })\n",
    "\n",
    "    # Find every subset of the columns that need further testing and remove them from\n",
    "    # dataset to see if any has an affect on the results\n",
    "    for r in range(1, len(columns_to_test) + 1):\n",
    "        for group_subset in itertools.combinations(columns_to_test, r):\n",
    "            cols_to_drop = []\n",
    "            for group in group_subset:\n",
    "                cols_to_drop.extend(feature_groups[group])\n",
    "                \n",
    "            X_train = X_scaled.drop(cols_to_drop, axis=1)\n",
    "        \n",
    "            cv_acc = cross_val_score(clf, X_train, y, cv=5, scoring='accuracy', n_jobs=-1)\n",
    "\n",
    "            results.append({\n",
    "                'dropped_cols': group_subset,\n",
    "                'mean_acc': cv_acc.mean(),\n",
    "                'std_acc': cv_acc.std()\n",
    "            })\n",
    "\n",
    "    results_df = pd.DataFrame(results).sort_values('mean_acc', ascending=False)\n",
    "    print(results_df)\n",
    "    print()"
   ]
  },
  {
   "cell_type": "code",
   "execution_count": 35,
   "id": "fe5e60d1",
   "metadata": {
    "execution": {
     "iopub.execute_input": "2025-07-08T05:38:51.586030Z",
     "iopub.status.busy": "2025-07-08T05:38:51.585223Z",
     "iopub.status.idle": "2025-07-08T05:40:24.534313Z",
     "shell.execute_reply": "2025-07-08T05:40:24.533303Z"
    },
    "papermill": {
     "duration": 92.967524,
     "end_time": "2025-07-08T05:40:24.535831",
     "exception": false,
     "start_time": "2025-07-08T05:38:51.568307",
     "status": "completed"
    },
    "tags": []
   },
   "outputs": [
    {
     "name": "stdout",
     "output_type": "stream",
     "text": [
      "====== Cross Validation for Dataset with Outliers ======\n",
      "******** Logistic Regression *********\n",
      "\n",
      "                dropped_cols  mean_acc   std_acc\n",
      "9             (GroupId, Num)  0.727599  0.007626\n",
      "12       (VIP, GroupId, Num)  0.726908  0.007236\n",
      "16  (VIP, GroupId, Num, Age)  0.725873  0.010598\n",
      "15       (GroupId, Num, Age)  0.725298  0.010095\n",
      "7                 (VIP, Num)  0.724606  0.009119\n",
      "4                     (Num,)  0.724146  0.009682\n",
      "3                 (GroupId,)  0.721500  0.013402\n",
      "2                     (VIP,)  0.721499  0.012687\n",
      "6             (VIP, GroupId)  0.721385  0.013061\n",
      "0                         ()  0.721039  0.013154\n",
      "1                         ()  0.721039  0.013154\n",
      "11                (Num, Age)  0.720810  0.010062\n",
      "14           (VIP, Num, Age)  0.720350  0.009977\n",
      "8                 (VIP, Age)  0.716668  0.015049\n",
      "5                     (Age,)  0.716553  0.015235\n",
      "13       (VIP, GroupId, Age)  0.716323  0.014988\n",
      "10            (GroupId, Age)  0.716207  0.015014\n",
      "\n",
      "******** Random Forest *********\n",
      "\n",
      "                dropped_cols  mean_acc   std_acc\n",
      "6             (VIP, GroupId)  0.720582  0.011530\n",
      "3                 (GroupId,)  0.718743  0.017037\n",
      "16  (VIP, GroupId, Num, Age)  0.711837  0.005319\n",
      "7                 (VIP, Num)  0.710689  0.014287\n",
      "15       (GroupId, Num, Age)  0.710341  0.005810\n",
      "9             (GroupId, Num)  0.709996  0.009890\n",
      "4                     (Num,)  0.707468  0.017921\n",
      "12       (VIP, GroupId, Num)  0.706889  0.009233\n",
      "10            (GroupId, Age)  0.692631  0.023778\n",
      "13       (VIP, GroupId, Age)  0.690905  0.025183\n",
      "2                     (VIP,)  0.686074  0.026272\n",
      "14           (VIP, Num, Age)  0.685614  0.024814\n",
      "0                         ()  0.685268  0.030044\n",
      "1                         ()  0.685268  0.030044\n",
      "11                (Num, Age)  0.678022  0.027563\n",
      "8                 (VIP, Age)  0.666750  0.038240\n",
      "5                     (Age,)  0.661342  0.037432\n",
      "\n",
      "******** XGB *********\n",
      "\n",
      "                dropped_cols  mean_acc   std_acc\n",
      "16  (VIP, GroupId, Num, Age)  0.739332  0.010378\n",
      "15       (GroupId, Num, Age)  0.734500  0.012051\n",
      "9             (GroupId, Num)  0.734041  0.010689\n",
      "12       (VIP, GroupId, Num)  0.730933  0.004937\n",
      "3                 (GroupId,)  0.702065  0.024733\n",
      "6             (VIP, GroupId)  0.694243  0.026230\n",
      "13       (VIP, GroupId, Age)  0.692861  0.020106\n",
      "10            (GroupId, Age)  0.689986  0.021863\n",
      "0                         ()  0.603936  0.074638\n",
      "1                         ()  0.603936  0.074638\n",
      "2                     (VIP,)  0.603705  0.080513\n",
      "7                 (VIP, Num)  0.602094  0.083888\n",
      "4                     (Num,)  0.601174  0.083287\n",
      "11                (Num, Age)  0.595422  0.079691\n",
      "14           (VIP, Num, Age)  0.587712  0.073980\n",
      "5                     (Age,)  0.587257  0.062090\n",
      "8                 (VIP, Age)  0.576670  0.054189\n",
      "\n",
      "******** Gradient Boosting *********\n",
      "\n",
      "                dropped_cols  mean_acc   std_acc\n",
      "15       (GroupId, Num, Age)  0.745430  0.009127\n",
      "16  (VIP, GroupId, Num, Age)  0.745199  0.009136\n",
      "12       (VIP, GroupId, Num)  0.743704  0.007534\n",
      "9             (GroupId, Num)  0.743129  0.008977\n",
      "6             (VIP, GroupId)  0.725070  0.017245\n",
      "3                 (GroupId,)  0.721847  0.013084\n",
      "10            (GroupId, Age)  0.713106  0.020132\n",
      "13       (VIP, GroupId, Age)  0.712762  0.023855\n",
      "2                     (VIP,)  0.576904  0.066261\n",
      "5                     (Age,)  0.567931  0.042539\n",
      "0                         ()  0.566323  0.057505\n",
      "1                         ()  0.566323  0.057505\n",
      "7                 (VIP, Num)  0.560456  0.057689\n",
      "8                 (VIP, Age)  0.560225  0.040004\n",
      "4                     (Num,)  0.558155  0.058813\n",
      "11                (Num, Age)  0.551367  0.050589\n",
      "14           (VIP, Num, Age)  0.541017  0.049434\n",
      "\n",
      "******** KNN *********\n",
      "\n",
      "                dropped_cols  mean_acc   std_acc\n",
      "16  (VIP, GroupId, Num, Age)  0.717935  0.018137\n",
      "15       (GroupId, Num, Age)  0.712989  0.019637\n",
      "6             (VIP, GroupId)  0.709192  0.002844\n",
      "4                     (Num,)  0.708388  0.009545\n",
      "3                 (GroupId,)  0.708042  0.005102\n",
      "7                 (VIP, Num)  0.707583  0.008537\n",
      "2                     (VIP,)  0.705514  0.013738\n",
      "1                         ()  0.705169  0.015138\n",
      "0                         ()  0.705169  0.015138\n",
      "12       (VIP, GroupId, Num)  0.700333  0.009942\n",
      "9             (GroupId, Num)  0.698722  0.012193\n",
      "10            (GroupId, Age)  0.693897  0.020822\n",
      "11                (Num, Age)  0.692863  0.028679\n",
      "13       (VIP, GroupId, Age)  0.692746  0.022030\n",
      "14           (VIP, Num, Age)  0.691597  0.029239\n",
      "5                     (Age,)  0.689756  0.027341\n",
      "8                 (VIP, Age)  0.687800  0.028328\n",
      "\n"
     ]
    }
   ],
   "source": [
    "print(\"====== Cross Validation for Dataset with Outliers ======\")\n",
    "columns_to_test = ['VIP', 'GroupId', 'Num', 'Age']\n",
    "\n",
    "# go through each classifier and do cross validation on them\n",
    "for name, clf in models.items():\n",
    "    print(f\"******** {name} *********\")\n",
    "    print()\n",
    "    \n",
    "    results = []\n",
    "\n",
    "    # no columns removed\n",
    "    baseline_acc = cross_val_score(clf, X_not_transformed, y, cv=5, scoring='accuracy', n_jobs=-1)\n",
    "    results.append({\n",
    "        'dropped_cols': (),\n",
    "        'mean_acc': baseline_acc.mean(),\n",
    "        'std_acc': baseline_acc.std()\n",
    "    })\n",
    "\n",
    "    # Find every subset of the columns that need further testing and remove them from\n",
    "    # dataset to see if any has an affect on the results\n",
    "    for r in range(0, len(columns_to_test) + 1):\n",
    "        for subset in itertools.combinations(columns_to_test, r):\n",
    "            X_train = X_not_transformed.drop(list(subset), axis=1)\n",
    "\n",
    "            warnings.filterwarnings(\"ignore\")\n",
    "            cv_acc = cross_val_score(clf, X_train, y, cv=5, scoring='accuracy', n_jobs=-1)\n",
    "\n",
    "            results.append({\n",
    "                'dropped_cols': subset,\n",
    "                'mean_acc': cv_acc.mean(),\n",
    "                'std_acc': cv_acc.std()\n",
    "            })\n",
    "\n",
    "    results_df = pd.DataFrame(results).sort_values('mean_acc', ascending=False)\n",
    "    print(results_df)\n",
    "    print()"
   ]
  },
  {
   "cell_type": "markdown",
   "id": "7118b281",
   "metadata": {
    "papermill": {
     "duration": 0.015367,
     "end_time": "2025-07-08T05:40:24.567072",
     "exception": false,
     "start_time": "2025-07-08T05:40:24.551705",
     "status": "completed"
    },
    "tags": []
   },
   "source": [
    "<h3>Model Testing</h3>"
   ]
  },
  {
   "cell_type": "markdown",
   "id": "1aadf3dd",
   "metadata": {
    "papermill": {
     "duration": 0.01525,
     "end_time": "2025-07-08T05:40:24.597809",
     "exception": false,
     "start_time": "2025-07-08T05:40:24.582559",
     "status": "completed"
    },
    "tags": []
   },
   "source": [
    "<h3>Results</h3>"
   ]
  }
 ],
 "metadata": {
  "kaggle": {
   "accelerator": "none",
   "dataSources": [
    {
     "datasetId": 7796953,
     "sourceId": 12366369,
     "sourceType": "datasetVersion"
    }
   ],
   "dockerImageVersionId": 31040,
   "isGpuEnabled": false,
   "isInternetEnabled": true,
   "language": "python",
   "sourceType": "notebook"
  },
  "kernelspec": {
   "display_name": "Python 3",
   "language": "python",
   "name": "python3"
  },
  "language_info": {
   "codemirror_mode": {
    "name": "ipython",
    "version": 3
   },
   "file_extension": ".py",
   "mimetype": "text/x-python",
   "name": "python",
   "nbconvert_exporter": "python",
   "pygments_lexer": "ipython3",
   "version": "3.11.11"
  },
  "papermill": {
   "default_parameters": {},
   "duration": 1373.182882,
   "end_time": "2025-07-08T05:40:27.235462",
   "environment_variables": {},
   "exception": null,
   "input_path": "__notebook__.ipynb",
   "output_path": "__notebook__.ipynb",
   "parameters": {},
   "start_time": "2025-07-08T05:17:34.052580",
   "version": "2.6.0"
  }
 },
 "nbformat": 4,
 "nbformat_minor": 5
}
