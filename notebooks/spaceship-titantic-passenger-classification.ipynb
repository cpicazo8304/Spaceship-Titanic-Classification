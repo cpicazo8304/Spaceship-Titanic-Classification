{
 "cells": [
  {
   "cell_type": "code",
   "execution_count": 1,
   "id": "8478c270",
   "metadata": {
    "_cell_guid": "b1076dfc-b9ad-4769-8c92-a6c4dae69d19",
    "_uuid": "8f2839f25d086af736a60e9eeb907d3b93b6e0e5",
    "execution": {
     "iopub.execute_input": "2025-07-09T03:10:23.365259Z",
     "iopub.status.busy": "2025-07-09T03:10:23.364797Z",
     "iopub.status.idle": "2025-07-09T03:10:25.667233Z",
     "shell.execute_reply": "2025-07-09T03:10:25.665981Z"
    },
    "papermill": {
     "duration": 2.315761,
     "end_time": "2025-07-09T03:10:25.669243",
     "exception": false,
     "start_time": "2025-07-09T03:10:23.353482",
     "status": "completed"
    },
    "tags": []
   },
   "outputs": [
    {
     "name": "stdout",
     "output_type": "stream",
     "text": [
      "/kaggle/input/spaceship-titanic-passenger-data/README.md\n",
      "/kaggle/input/spaceship-titanic-passenger-data/data/sample_submission.csv\n",
      "/kaggle/input/spaceship-titanic-passenger-data/data/train.csv\n",
      "/kaggle/input/spaceship-titanic-passenger-data/data/test.csv\n"
     ]
    }
   ],
   "source": [
    "# This Python 3 environment comes with many helpful analytics libraries installed\n",
    "# It is defined by the kaggle/python Docker image: https://github.com/kaggle/docker-python\n",
    "# For example, here's several helpful packages to load\n",
    "\n",
    "import numpy as np # linear algebra\n",
    "import pandas as pd # data processing, CSV file I/O (e.g. pd.read_csv)\n",
    "\n",
    "# Input data files are available in the read-only \"../input/\" directory\n",
    "# For example, running this (by clicking run or pressing Shift+Enter) will list all files under the input directory\n",
    "\n",
    "import os\n",
    "for dirname, _, filenames in os.walk('/kaggle/input'):\n",
    "    for filename in filenames:\n",
    "        print(os.path.join(dirname, filename))\n",
    "\n",
    "# You can write up to 20GB to the current directory (/kaggle/working/) that gets preserved as output when you create a version using \"Save & Run All\" \n",
    "# You can also write temporary files to /kaggle/temp/, but they won't be saved outside of the current session"
   ]
  },
  {
   "cell_type": "markdown",
   "id": "7c960557",
   "metadata": {
    "papermill": {
     "duration": 0.008434,
     "end_time": "2025-07-09T03:10:25.687712",
     "exception": false,
     "start_time": "2025-07-09T03:10:25.679278",
     "status": "completed"
    },
    "tags": []
   },
   "source": [
    "<h3>Import Libraries</h3>"
   ]
  },
  {
   "cell_type": "code",
   "execution_count": 2,
   "id": "b48cc01d",
   "metadata": {
    "execution": {
     "iopub.execute_input": "2025-07-09T03:10:25.706338Z",
     "iopub.status.busy": "2025-07-09T03:10:25.705900Z",
     "iopub.status.idle": "2025-07-09T03:10:35.749512Z",
     "shell.execute_reply": "2025-07-09T03:10:35.748335Z"
    },
    "papermill": {
     "duration": 10.055275,
     "end_time": "2025-07-09T03:10:35.751510",
     "exception": false,
     "start_time": "2025-07-09T03:10:25.696235",
     "status": "completed"
    },
    "tags": []
   },
   "outputs": [],
   "source": [
    "import warnings\n",
    "import itertools\n",
    "import seaborn as sns\n",
    "import scipy.stats as stats\n",
    "from scipy.stats import pointbiserialr, chi2_contingency\n",
    "import matplotlib.pyplot as plt\n",
    "from sklearn.preprocessing import StandardScaler\n",
    "from sklearn.ensemble import RandomForestClassifier, GradientBoostingClassifier\n",
    "from sklearn.model_selection import cross_val_score\n",
    "from sklearn.metrics import accuracy_score\n",
    "from sklearn.linear_model import LogisticRegression\n",
    "from sklearn.neighbors import KNeighborsClassifier\n",
    "from xgboost import XGBClassifier\n",
    "from lightgbm import LGBMClassifier"
   ]
  },
  {
   "cell_type": "markdown",
   "id": "86df87dc",
   "metadata": {
    "papermill": {
     "duration": 0.009143,
     "end_time": "2025-07-09T03:10:35.769817",
     "exception": false,
     "start_time": "2025-07-09T03:10:35.760674",
     "status": "completed"
    },
    "tags": []
   },
   "source": [
    "<h3>Get Data</h3>"
   ]
  },
  {
   "cell_type": "code",
   "execution_count": 3,
   "id": "2cc225ef",
   "metadata": {
    "execution": {
     "iopub.execute_input": "2025-07-09T03:10:35.790743Z",
     "iopub.status.busy": "2025-07-09T03:10:35.790093Z",
     "iopub.status.idle": "2025-07-09T03:10:35.855585Z",
     "shell.execute_reply": "2025-07-09T03:10:35.854530Z"
    },
    "papermill": {
     "duration": 0.077468,
     "end_time": "2025-07-09T03:10:35.857562",
     "exception": false,
     "start_time": "2025-07-09T03:10:35.780094",
     "status": "completed"
    },
    "tags": []
   },
   "outputs": [],
   "source": [
    "train_data = pd.read_csv(\"/kaggle/input/spaceship-titanic-passenger-data/data/train.csv\")"
   ]
  },
  {
   "cell_type": "code",
   "execution_count": 4,
   "id": "dc3efe02",
   "metadata": {
    "execution": {
     "iopub.execute_input": "2025-07-09T03:10:35.876275Z",
     "iopub.status.busy": "2025-07-09T03:10:35.875947Z",
     "iopub.status.idle": "2025-07-09T03:10:35.913050Z",
     "shell.execute_reply": "2025-07-09T03:10:35.911933Z"
    },
    "papermill": {
     "duration": 0.048571,
     "end_time": "2025-07-09T03:10:35.914912",
     "exception": false,
     "start_time": "2025-07-09T03:10:35.866341",
     "status": "completed"
    },
    "tags": []
   },
   "outputs": [
    {
     "data": {
      "text/html": [
       "<div>\n",
       "<style scoped>\n",
       "    .dataframe tbody tr th:only-of-type {\n",
       "        vertical-align: middle;\n",
       "    }\n",
       "\n",
       "    .dataframe tbody tr th {\n",
       "        vertical-align: top;\n",
       "    }\n",
       "\n",
       "    .dataframe thead th {\n",
       "        text-align: right;\n",
       "    }\n",
       "</style>\n",
       "<table border=\"1\" class=\"dataframe\">\n",
       "  <thead>\n",
       "    <tr style=\"text-align: right;\">\n",
       "      <th></th>\n",
       "      <th>PassengerId</th>\n",
       "      <th>HomePlanet</th>\n",
       "      <th>CryoSleep</th>\n",
       "      <th>Cabin</th>\n",
       "      <th>Destination</th>\n",
       "      <th>Age</th>\n",
       "      <th>VIP</th>\n",
       "      <th>RoomService</th>\n",
       "      <th>FoodCourt</th>\n",
       "      <th>ShoppingMall</th>\n",
       "      <th>Spa</th>\n",
       "      <th>VRDeck</th>\n",
       "      <th>Name</th>\n",
       "      <th>Transported</th>\n",
       "    </tr>\n",
       "  </thead>\n",
       "  <tbody>\n",
       "    <tr>\n",
       "      <th>0</th>\n",
       "      <td>0001_01</td>\n",
       "      <td>Europa</td>\n",
       "      <td>False</td>\n",
       "      <td>B/0/P</td>\n",
       "      <td>TRAPPIST-1e</td>\n",
       "      <td>39.0</td>\n",
       "      <td>False</td>\n",
       "      <td>0.0</td>\n",
       "      <td>0.0</td>\n",
       "      <td>0.0</td>\n",
       "      <td>0.0</td>\n",
       "      <td>0.0</td>\n",
       "      <td>Maham Ofracculy</td>\n",
       "      <td>False</td>\n",
       "    </tr>\n",
       "    <tr>\n",
       "      <th>1</th>\n",
       "      <td>0002_01</td>\n",
       "      <td>Earth</td>\n",
       "      <td>False</td>\n",
       "      <td>F/0/S</td>\n",
       "      <td>TRAPPIST-1e</td>\n",
       "      <td>24.0</td>\n",
       "      <td>False</td>\n",
       "      <td>109.0</td>\n",
       "      <td>9.0</td>\n",
       "      <td>25.0</td>\n",
       "      <td>549.0</td>\n",
       "      <td>44.0</td>\n",
       "      <td>Juanna Vines</td>\n",
       "      <td>True</td>\n",
       "    </tr>\n",
       "    <tr>\n",
       "      <th>2</th>\n",
       "      <td>0003_01</td>\n",
       "      <td>Europa</td>\n",
       "      <td>False</td>\n",
       "      <td>A/0/S</td>\n",
       "      <td>TRAPPIST-1e</td>\n",
       "      <td>58.0</td>\n",
       "      <td>True</td>\n",
       "      <td>43.0</td>\n",
       "      <td>3576.0</td>\n",
       "      <td>0.0</td>\n",
       "      <td>6715.0</td>\n",
       "      <td>49.0</td>\n",
       "      <td>Altark Susent</td>\n",
       "      <td>False</td>\n",
       "    </tr>\n",
       "    <tr>\n",
       "      <th>3</th>\n",
       "      <td>0003_02</td>\n",
       "      <td>Europa</td>\n",
       "      <td>False</td>\n",
       "      <td>A/0/S</td>\n",
       "      <td>TRAPPIST-1e</td>\n",
       "      <td>33.0</td>\n",
       "      <td>False</td>\n",
       "      <td>0.0</td>\n",
       "      <td>1283.0</td>\n",
       "      <td>371.0</td>\n",
       "      <td>3329.0</td>\n",
       "      <td>193.0</td>\n",
       "      <td>Solam Susent</td>\n",
       "      <td>False</td>\n",
       "    </tr>\n",
       "    <tr>\n",
       "      <th>4</th>\n",
       "      <td>0004_01</td>\n",
       "      <td>Earth</td>\n",
       "      <td>False</td>\n",
       "      <td>F/1/S</td>\n",
       "      <td>TRAPPIST-1e</td>\n",
       "      <td>16.0</td>\n",
       "      <td>False</td>\n",
       "      <td>303.0</td>\n",
       "      <td>70.0</td>\n",
       "      <td>151.0</td>\n",
       "      <td>565.0</td>\n",
       "      <td>2.0</td>\n",
       "      <td>Willy Santantines</td>\n",
       "      <td>True</td>\n",
       "    </tr>\n",
       "  </tbody>\n",
       "</table>\n",
       "</div>"
      ],
      "text/plain": [
       "  PassengerId HomePlanet CryoSleep  Cabin  Destination   Age    VIP  \\\n",
       "0     0001_01     Europa     False  B/0/P  TRAPPIST-1e  39.0  False   \n",
       "1     0002_01      Earth     False  F/0/S  TRAPPIST-1e  24.0  False   \n",
       "2     0003_01     Europa     False  A/0/S  TRAPPIST-1e  58.0   True   \n",
       "3     0003_02     Europa     False  A/0/S  TRAPPIST-1e  33.0  False   \n",
       "4     0004_01      Earth     False  F/1/S  TRAPPIST-1e  16.0  False   \n",
       "\n",
       "   RoomService  FoodCourt  ShoppingMall     Spa  VRDeck               Name  \\\n",
       "0          0.0        0.0           0.0     0.0     0.0    Maham Ofracculy   \n",
       "1        109.0        9.0          25.0   549.0    44.0       Juanna Vines   \n",
       "2         43.0     3576.0           0.0  6715.0    49.0      Altark Susent   \n",
       "3          0.0     1283.0         371.0  3329.0   193.0       Solam Susent   \n",
       "4        303.0       70.0         151.0   565.0     2.0  Willy Santantines   \n",
       "\n",
       "   Transported  \n",
       "0        False  \n",
       "1         True  \n",
       "2        False  \n",
       "3        False  \n",
       "4         True  "
      ]
     },
     "execution_count": 4,
     "metadata": {},
     "output_type": "execute_result"
    }
   ],
   "source": [
    "train_data.head()"
   ]
  },
  {
   "cell_type": "code",
   "execution_count": 5,
   "id": "1436e13d",
   "metadata": {
    "execution": {
     "iopub.execute_input": "2025-07-09T03:10:35.936346Z",
     "iopub.status.busy": "2025-07-09T03:10:35.935570Z",
     "iopub.status.idle": "2025-07-09T03:10:35.971558Z",
     "shell.execute_reply": "2025-07-09T03:10:35.970105Z"
    },
    "papermill": {
     "duration": 0.048886,
     "end_time": "2025-07-09T03:10:35.973558",
     "exception": false,
     "start_time": "2025-07-09T03:10:35.924672",
     "status": "completed"
    },
    "tags": []
   },
   "outputs": [
    {
     "name": "stdout",
     "output_type": "stream",
     "text": [
      "<class 'pandas.core.frame.DataFrame'>\n",
      "RangeIndex: 8693 entries, 0 to 8692\n",
      "Data columns (total 14 columns):\n",
      " #   Column        Non-Null Count  Dtype  \n",
      "---  ------        --------------  -----  \n",
      " 0   PassengerId   8693 non-null   object \n",
      " 1   HomePlanet    8492 non-null   object \n",
      " 2   CryoSleep     8476 non-null   object \n",
      " 3   Cabin         8494 non-null   object \n",
      " 4   Destination   8511 non-null   object \n",
      " 5   Age           8514 non-null   float64\n",
      " 6   VIP           8490 non-null   object \n",
      " 7   RoomService   8512 non-null   float64\n",
      " 8   FoodCourt     8510 non-null   float64\n",
      " 9   ShoppingMall  8485 non-null   float64\n",
      " 10  Spa           8510 non-null   float64\n",
      " 11  VRDeck        8505 non-null   float64\n",
      " 12  Name          8493 non-null   object \n",
      " 13  Transported   8693 non-null   bool   \n",
      "dtypes: bool(1), float64(6), object(7)\n",
      "memory usage: 891.5+ KB\n"
     ]
    }
   ],
   "source": [
    "train_data.info()"
   ]
  },
  {
   "cell_type": "markdown",
   "id": "f8dcffaa",
   "metadata": {
    "papermill": {
     "duration": 0.013935,
     "end_time": "2025-07-09T03:10:36.002491",
     "exception": false,
     "start_time": "2025-07-09T03:10:35.988556",
     "status": "completed"
    },
    "tags": []
   },
   "source": [
    "<h5>We can see that for some of the features, there are values that are missing (null values). Therefore, we must take action. Since, at most, there are about 2.3% of the 8693 entries that are missing for one feature, it would be better to impute (or fill out) those missing values.</h5>"
   ]
  },
  {
   "cell_type": "markdown",
   "id": "17688265",
   "metadata": {
    "papermill": {
     "duration": 0.014271,
     "end_time": "2025-07-09T03:10:36.031865",
     "exception": false,
     "start_time": "2025-07-09T03:10:36.017594",
     "status": "completed"
    },
    "tags": []
   },
   "source": [
    "<h3>Missing Value Handling</h3>"
   ]
  },
  {
   "cell_type": "markdown",
   "id": "f4e38807",
   "metadata": {
    "papermill": {
     "duration": 0.011279,
     "end_time": "2025-07-09T03:10:36.058473",
     "exception": false,
     "start_time": "2025-07-09T03:10:36.047194",
     "status": "completed"
    },
    "tags": []
   },
   "source": [
    "<h5>For the string features, we will just replace the null values with the string 'Unknown'. For the numerical features, we will replace the null values with the median age.</h5>"
   ]
  },
  {
   "cell_type": "code",
   "execution_count": 6,
   "id": "ebeb63ba",
   "metadata": {
    "execution": {
     "iopub.execute_input": "2025-07-09T03:10:36.080641Z",
     "iopub.status.busy": "2025-07-09T03:10:36.079725Z",
     "iopub.status.idle": "2025-07-09T03:10:36.101805Z",
     "shell.execute_reply": "2025-07-09T03:10:36.100564Z"
    },
    "papermill": {
     "duration": 0.034881,
     "end_time": "2025-07-09T03:10:36.104027",
     "exception": false,
     "start_time": "2025-07-09T03:10:36.069146",
     "status": "completed"
    },
    "tags": []
   },
   "outputs": [],
   "source": [
    "# go through each column with nulls in it and replace them with the appropriate value\n",
    "for column in train_data.columns:\n",
    "    if train_data[column].isnull().any():\n",
    "        if train_data[column].dtype == 'object':\n",
    "            train_data[column] = train_data[column].fillna('Unknown')          \n",
    "        elif train_data[column].dtype == 'float64':\n",
    "            median = train_data[column].median()\n",
    "            train_data[column] = train_data[column].fillna(median)"
   ]
  },
  {
   "cell_type": "code",
   "execution_count": 7,
   "id": "24499979",
   "metadata": {
    "execution": {
     "iopub.execute_input": "2025-07-09T03:10:36.123391Z",
     "iopub.status.busy": "2025-07-09T03:10:36.123091Z",
     "iopub.status.idle": "2025-07-09T03:10:36.138311Z",
     "shell.execute_reply": "2025-07-09T03:10:36.137317Z"
    },
    "papermill": {
     "duration": 0.026641,
     "end_time": "2025-07-09T03:10:36.139915",
     "exception": false,
     "start_time": "2025-07-09T03:10:36.113274",
     "status": "completed"
    },
    "tags": []
   },
   "outputs": [
    {
     "name": "stdout",
     "output_type": "stream",
     "text": [
      "<class 'pandas.core.frame.DataFrame'>\n",
      "RangeIndex: 8693 entries, 0 to 8692\n",
      "Data columns (total 14 columns):\n",
      " #   Column        Non-Null Count  Dtype  \n",
      "---  ------        --------------  -----  \n",
      " 0   PassengerId   8693 non-null   object \n",
      " 1   HomePlanet    8693 non-null   object \n",
      " 2   CryoSleep     8693 non-null   object \n",
      " 3   Cabin         8693 non-null   object \n",
      " 4   Destination   8693 non-null   object \n",
      " 5   Age           8693 non-null   float64\n",
      " 6   VIP           8693 non-null   object \n",
      " 7   RoomService   8693 non-null   float64\n",
      " 8   FoodCourt     8693 non-null   float64\n",
      " 9   ShoppingMall  8693 non-null   float64\n",
      " 10  Spa           8693 non-null   float64\n",
      " 11  VRDeck        8693 non-null   float64\n",
      " 12  Name          8693 non-null   object \n",
      " 13  Transported   8693 non-null   bool   \n",
      "dtypes: bool(1), float64(6), object(7)\n",
      "memory usage: 891.5+ KB\n"
     ]
    }
   ],
   "source": [
    "train_data.info()"
   ]
  },
  {
   "cell_type": "markdown",
   "id": "bc1c3a46",
   "metadata": {
    "papermill": {
     "duration": 0.00935,
     "end_time": "2025-07-09T03:10:36.159005",
     "exception": false,
     "start_time": "2025-07-09T03:10:36.149655",
     "status": "completed"
    },
    "tags": []
   },
   "source": [
    "<h3>Feature Creation</h3>"
   ]
  },
  {
   "cell_type": "markdown",
   "id": "3320e3a6",
   "metadata": {
    "papermill": {
     "duration": 0.00875,
     "end_time": "2025-07-09T03:10:36.177113",
     "exception": false,
     "start_time": "2025-07-09T03:10:36.168363",
     "status": "completed"
    },
    "tags": []
   },
   "source": [
    "<h5>First, we want to extract the group IDs from the passenger IDs since passengers can be part of the same group, and people of the same group may be connected if they were transported or not.</h5>"
   ]
  },
  {
   "cell_type": "code",
   "execution_count": 8,
   "id": "b0d18c25",
   "metadata": {
    "execution": {
     "iopub.execute_input": "2025-07-09T03:10:36.196658Z",
     "iopub.status.busy": "2025-07-09T03:10:36.196335Z",
     "iopub.status.idle": "2025-07-09T03:10:36.231010Z",
     "shell.execute_reply": "2025-07-09T03:10:36.230150Z"
    },
    "papermill": {
     "duration": 0.04661,
     "end_time": "2025-07-09T03:10:36.232859",
     "exception": false,
     "start_time": "2025-07-09T03:10:36.186249",
     "status": "completed"
    },
    "tags": []
   },
   "outputs": [
    {
     "data": {
      "text/html": [
       "<div>\n",
       "<style scoped>\n",
       "    .dataframe tbody tr th:only-of-type {\n",
       "        vertical-align: middle;\n",
       "    }\n",
       "\n",
       "    .dataframe tbody tr th {\n",
       "        vertical-align: top;\n",
       "    }\n",
       "\n",
       "    .dataframe thead th {\n",
       "        text-align: right;\n",
       "    }\n",
       "</style>\n",
       "<table border=\"1\" class=\"dataframe\">\n",
       "  <thead>\n",
       "    <tr style=\"text-align: right;\">\n",
       "      <th></th>\n",
       "      <th>PassengerId</th>\n",
       "      <th>HomePlanet</th>\n",
       "      <th>CryoSleep</th>\n",
       "      <th>Cabin</th>\n",
       "      <th>Destination</th>\n",
       "      <th>Age</th>\n",
       "      <th>VIP</th>\n",
       "      <th>RoomService</th>\n",
       "      <th>FoodCourt</th>\n",
       "      <th>ShoppingMall</th>\n",
       "      <th>Spa</th>\n",
       "      <th>VRDeck</th>\n",
       "      <th>Name</th>\n",
       "      <th>Transported</th>\n",
       "      <th>GroupId</th>\n",
       "      <th>PassengerNumber</th>\n",
       "    </tr>\n",
       "  </thead>\n",
       "  <tbody>\n",
       "    <tr>\n",
       "      <th>0</th>\n",
       "      <td>0001_01</td>\n",
       "      <td>Europa</td>\n",
       "      <td>False</td>\n",
       "      <td>B/0/P</td>\n",
       "      <td>TRAPPIST-1e</td>\n",
       "      <td>39.0</td>\n",
       "      <td>False</td>\n",
       "      <td>0.0</td>\n",
       "      <td>0.0</td>\n",
       "      <td>0.0</td>\n",
       "      <td>0.0</td>\n",
       "      <td>0.0</td>\n",
       "      <td>Maham Ofracculy</td>\n",
       "      <td>False</td>\n",
       "      <td>1</td>\n",
       "      <td>1</td>\n",
       "    </tr>\n",
       "    <tr>\n",
       "      <th>1</th>\n",
       "      <td>0002_01</td>\n",
       "      <td>Earth</td>\n",
       "      <td>False</td>\n",
       "      <td>F/0/S</td>\n",
       "      <td>TRAPPIST-1e</td>\n",
       "      <td>24.0</td>\n",
       "      <td>False</td>\n",
       "      <td>109.0</td>\n",
       "      <td>9.0</td>\n",
       "      <td>25.0</td>\n",
       "      <td>549.0</td>\n",
       "      <td>44.0</td>\n",
       "      <td>Juanna Vines</td>\n",
       "      <td>True</td>\n",
       "      <td>2</td>\n",
       "      <td>1</td>\n",
       "    </tr>\n",
       "    <tr>\n",
       "      <th>2</th>\n",
       "      <td>0003_01</td>\n",
       "      <td>Europa</td>\n",
       "      <td>False</td>\n",
       "      <td>A/0/S</td>\n",
       "      <td>TRAPPIST-1e</td>\n",
       "      <td>58.0</td>\n",
       "      <td>True</td>\n",
       "      <td>43.0</td>\n",
       "      <td>3576.0</td>\n",
       "      <td>0.0</td>\n",
       "      <td>6715.0</td>\n",
       "      <td>49.0</td>\n",
       "      <td>Altark Susent</td>\n",
       "      <td>False</td>\n",
       "      <td>3</td>\n",
       "      <td>1</td>\n",
       "    </tr>\n",
       "    <tr>\n",
       "      <th>3</th>\n",
       "      <td>0003_02</td>\n",
       "      <td>Europa</td>\n",
       "      <td>False</td>\n",
       "      <td>A/0/S</td>\n",
       "      <td>TRAPPIST-1e</td>\n",
       "      <td>33.0</td>\n",
       "      <td>False</td>\n",
       "      <td>0.0</td>\n",
       "      <td>1283.0</td>\n",
       "      <td>371.0</td>\n",
       "      <td>3329.0</td>\n",
       "      <td>193.0</td>\n",
       "      <td>Solam Susent</td>\n",
       "      <td>False</td>\n",
       "      <td>3</td>\n",
       "      <td>2</td>\n",
       "    </tr>\n",
       "    <tr>\n",
       "      <th>4</th>\n",
       "      <td>0004_01</td>\n",
       "      <td>Earth</td>\n",
       "      <td>False</td>\n",
       "      <td>F/1/S</td>\n",
       "      <td>TRAPPIST-1e</td>\n",
       "      <td>16.0</td>\n",
       "      <td>False</td>\n",
       "      <td>303.0</td>\n",
       "      <td>70.0</td>\n",
       "      <td>151.0</td>\n",
       "      <td>565.0</td>\n",
       "      <td>2.0</td>\n",
       "      <td>Willy Santantines</td>\n",
       "      <td>True</td>\n",
       "      <td>4</td>\n",
       "      <td>1</td>\n",
       "    </tr>\n",
       "  </tbody>\n",
       "</table>\n",
       "</div>"
      ],
      "text/plain": [
       "  PassengerId HomePlanet CryoSleep  Cabin  Destination   Age    VIP  \\\n",
       "0     0001_01     Europa     False  B/0/P  TRAPPIST-1e  39.0  False   \n",
       "1     0002_01      Earth     False  F/0/S  TRAPPIST-1e  24.0  False   \n",
       "2     0003_01     Europa     False  A/0/S  TRAPPIST-1e  58.0   True   \n",
       "3     0003_02     Europa     False  A/0/S  TRAPPIST-1e  33.0  False   \n",
       "4     0004_01      Earth     False  F/1/S  TRAPPIST-1e  16.0  False   \n",
       "\n",
       "   RoomService  FoodCourt  ShoppingMall     Spa  VRDeck               Name  \\\n",
       "0          0.0        0.0           0.0     0.0     0.0    Maham Ofracculy   \n",
       "1        109.0        9.0          25.0   549.0    44.0       Juanna Vines   \n",
       "2         43.0     3576.0           0.0  6715.0    49.0      Altark Susent   \n",
       "3          0.0     1283.0         371.0  3329.0   193.0       Solam Susent   \n",
       "4        303.0       70.0         151.0   565.0     2.0  Willy Santantines   \n",
       "\n",
       "   Transported  GroupId  PassengerNumber  \n",
       "0        False        1                1  \n",
       "1         True        2                1  \n",
       "2        False        3                1  \n",
       "3        False        3                2  \n",
       "4         True        4                1  "
      ]
     },
     "execution_count": 8,
     "metadata": {},
     "output_type": "execute_result"
    }
   ],
   "source": [
    "group_ids = []\n",
    "passenger_numbers = []\n",
    "\n",
    "for val in train_data['PassengerId']:\n",
    "    group_id, passenger_number = val.split('_')\n",
    "    group_ids.append(group_id)\n",
    "    passenger_numbers.append(passenger_number)\n",
    "\n",
    "train_data['GroupId'] = group_ids\n",
    "train_data['GroupId'] = pd.to_numeric(train_data['GroupId'], errors='coerce')\n",
    "train_data['PassengerNumber'] = passenger_numbers\n",
    "train_data['PassengerNumber'] = pd.to_numeric(train_data['PassengerNumber'], errors='coerce')\n",
    "train_data.head()"
   ]
  },
  {
   "cell_type": "markdown",
   "id": "9c1389fe",
   "metadata": {
    "papermill": {
     "duration": 0.009128,
     "end_time": "2025-07-09T03:10:36.258946",
     "exception": false,
     "start_time": "2025-07-09T03:10:36.249818",
     "status": "completed"
    },
    "tags": []
   },
   "source": [
    "<h5>Since the features \"Name\" and \"PassengerId\" are unique identifiers, they may not affect the results as much as the other features. For this reason, we wil remove these two columns from the data.</h5>"
   ]
  },
  {
   "cell_type": "code",
   "execution_count": 9,
   "id": "59f6d379",
   "metadata": {
    "execution": {
     "iopub.execute_input": "2025-07-09T03:10:36.347780Z",
     "iopub.status.busy": "2025-07-09T03:10:36.347494Z",
     "iopub.status.idle": "2025-07-09T03:10:36.357803Z",
     "shell.execute_reply": "2025-07-09T03:10:36.356942Z"
    },
    "papermill": {
     "duration": 0.090891,
     "end_time": "2025-07-09T03:10:36.359548",
     "exception": false,
     "start_time": "2025-07-09T03:10:36.268657",
     "status": "completed"
    },
    "tags": []
   },
   "outputs": [],
   "source": [
    "train_data.drop(['PassengerId', 'Name'], axis=1, inplace=True)"
   ]
  },
  {
   "cell_type": "markdown",
   "id": "cd6f00b8",
   "metadata": {
    "papermill": {
     "duration": 0.009237,
     "end_time": "2025-07-09T03:10:36.378261",
     "exception": false,
     "start_time": "2025-07-09T03:10:36.369024",
     "status": "completed"
    },
    "tags": []
   },
   "source": [
    "<h5>Now, we have multiple columns for the expenses made for each type of amenity. However, it may make it complicated for the model that will be used if it has multiple columns for the money a passenger has spent. It makes more sense to make a single column of the total amount of money a passenger spent.</h5>"
   ]
  },
  {
   "cell_type": "code",
   "execution_count": 10,
   "id": "7dacc5ce",
   "metadata": {
    "execution": {
     "iopub.execute_input": "2025-07-09T03:10:36.398110Z",
     "iopub.status.busy": "2025-07-09T03:10:36.397772Z",
     "iopub.status.idle": "2025-07-09T03:10:36.401953Z",
     "shell.execute_reply": "2025-07-09T03:10:36.401007Z"
    },
    "papermill": {
     "duration": 0.015958,
     "end_time": "2025-07-09T03:10:36.403603",
     "exception": false,
     "start_time": "2025-07-09T03:10:36.387645",
     "status": "completed"
    },
    "tags": []
   },
   "outputs": [],
   "source": [
    "# expenses = train_data[['RoomService', 'FoodCourt', 'ShoppingMall', 'Spa', 'VRDeck']]\n",
    "# train_data['TotalExpenses'] = expenses.sum(axis=1)\n",
    "# train_data['TotalExpenses']"
   ]
  },
  {
   "cell_type": "code",
   "execution_count": 11,
   "id": "7738b7e4",
   "metadata": {
    "execution": {
     "iopub.execute_input": "2025-07-09T03:10:36.423607Z",
     "iopub.status.busy": "2025-07-09T03:10:36.423330Z",
     "iopub.status.idle": "2025-07-09T03:10:36.427489Z",
     "shell.execute_reply": "2025-07-09T03:10:36.426486Z"
    },
    "papermill": {
     "duration": 0.015952,
     "end_time": "2025-07-09T03:10:36.428984",
     "exception": false,
     "start_time": "2025-07-09T03:10:36.413032",
     "status": "completed"
    },
    "tags": []
   },
   "outputs": [],
   "source": [
    "# train_data.drop(['RoomService', 'FoodCourt', 'ShoppingMall', 'Spa', 'VRDeck'], axis=1, inplace=True)"
   ]
  },
  {
   "cell_type": "markdown",
   "id": "1d9d1e13",
   "metadata": {
    "papermill": {
     "duration": 0.010276,
     "end_time": "2025-07-09T03:10:36.449124",
     "exception": false,
     "start_time": "2025-07-09T03:10:36.438848",
     "status": "completed"
    },
    "tags": []
   },
   "source": [
    "<h5>Now, I want to split the 'Cabin' column into three separate columns to split the deck, num, and side into their own columns to better process the data. </h5>"
   ]
  },
  {
   "cell_type": "code",
   "execution_count": 12,
   "id": "c37323b0",
   "metadata": {
    "execution": {
     "iopub.execute_input": "2025-07-09T03:10:36.470618Z",
     "iopub.status.busy": "2025-07-09T03:10:36.470339Z",
     "iopub.status.idle": "2025-07-09T03:10:36.493594Z",
     "shell.execute_reply": "2025-07-09T03:10:36.492543Z"
    },
    "papermill": {
     "duration": 0.036226,
     "end_time": "2025-07-09T03:10:36.495588",
     "exception": false,
     "start_time": "2025-07-09T03:10:36.459362",
     "status": "completed"
    },
    "tags": []
   },
   "outputs": [],
   "source": [
    "deck_col = []\n",
    "num_col = []\n",
    "side_col = []\n",
    "\n",
    "# go through the Cabin column to separate the details of the passenger's \n",
    "# location into three (deck, num, side) so that they can be in their \n",
    "# own column. \n",
    "for val in train_data['Cabin']:\n",
    "    # Check if the value is a missing value\n",
    "    if val != 'Unknown':\n",
    "        # split the string\n",
    "        deck, num, side = val.split('/')\n",
    "        \n",
    "        deck_col.append(deck)\n",
    "        num_col.append(int(num))\n",
    "        side_col.append(side)\n",
    "    else:\n",
    "        # Add the \"Unknown\" string to the columns to represent a missing\n",
    "        # value\n",
    "        deck_col.append('Unknown')\n",
    "        num_col.append('427') # median\n",
    "        side_col.append('Unknown')\n",
    "        \n",
    "train_data_new = train_data.drop('Cabin', axis=1)\n",
    "train_data_new['Deck'] = deck_col\n",
    "train_data_new['Num'] = num_col\n",
    "train_data_new['Num'] = pd.to_numeric(train_data_new['Num'], errors='coerce')\n",
    "train_data_new['Side'] = side_col"
   ]
  },
  {
   "cell_type": "code",
   "execution_count": 13,
   "id": "e4233fae",
   "metadata": {
    "execution": {
     "iopub.execute_input": "2025-07-09T03:10:36.517176Z",
     "iopub.status.busy": "2025-07-09T03:10:36.516872Z",
     "iopub.status.idle": "2025-07-09T03:10:36.534300Z",
     "shell.execute_reply": "2025-07-09T03:10:36.533421Z"
    },
    "papermill": {
     "duration": 0.030061,
     "end_time": "2025-07-09T03:10:36.535789",
     "exception": false,
     "start_time": "2025-07-09T03:10:36.505728",
     "status": "completed"
    },
    "tags": []
   },
   "outputs": [
    {
     "data": {
      "text/html": [
       "<div>\n",
       "<style scoped>\n",
       "    .dataframe tbody tr th:only-of-type {\n",
       "        vertical-align: middle;\n",
       "    }\n",
       "\n",
       "    .dataframe tbody tr th {\n",
       "        vertical-align: top;\n",
       "    }\n",
       "\n",
       "    .dataframe thead th {\n",
       "        text-align: right;\n",
       "    }\n",
       "</style>\n",
       "<table border=\"1\" class=\"dataframe\">\n",
       "  <thead>\n",
       "    <tr style=\"text-align: right;\">\n",
       "      <th></th>\n",
       "      <th>HomePlanet</th>\n",
       "      <th>CryoSleep</th>\n",
       "      <th>Destination</th>\n",
       "      <th>Age</th>\n",
       "      <th>VIP</th>\n",
       "      <th>RoomService</th>\n",
       "      <th>FoodCourt</th>\n",
       "      <th>ShoppingMall</th>\n",
       "      <th>Spa</th>\n",
       "      <th>VRDeck</th>\n",
       "      <th>Transported</th>\n",
       "      <th>GroupId</th>\n",
       "      <th>PassengerNumber</th>\n",
       "      <th>Deck</th>\n",
       "      <th>Num</th>\n",
       "      <th>Side</th>\n",
       "    </tr>\n",
       "  </thead>\n",
       "  <tbody>\n",
       "    <tr>\n",
       "      <th>0</th>\n",
       "      <td>Europa</td>\n",
       "      <td>False</td>\n",
       "      <td>TRAPPIST-1e</td>\n",
       "      <td>39.0</td>\n",
       "      <td>False</td>\n",
       "      <td>0.0</td>\n",
       "      <td>0.0</td>\n",
       "      <td>0.0</td>\n",
       "      <td>0.0</td>\n",
       "      <td>0.0</td>\n",
       "      <td>False</td>\n",
       "      <td>1</td>\n",
       "      <td>1</td>\n",
       "      <td>B</td>\n",
       "      <td>0</td>\n",
       "      <td>P</td>\n",
       "    </tr>\n",
       "    <tr>\n",
       "      <th>1</th>\n",
       "      <td>Earth</td>\n",
       "      <td>False</td>\n",
       "      <td>TRAPPIST-1e</td>\n",
       "      <td>24.0</td>\n",
       "      <td>False</td>\n",
       "      <td>109.0</td>\n",
       "      <td>9.0</td>\n",
       "      <td>25.0</td>\n",
       "      <td>549.0</td>\n",
       "      <td>44.0</td>\n",
       "      <td>True</td>\n",
       "      <td>2</td>\n",
       "      <td>1</td>\n",
       "      <td>F</td>\n",
       "      <td>0</td>\n",
       "      <td>S</td>\n",
       "    </tr>\n",
       "    <tr>\n",
       "      <th>2</th>\n",
       "      <td>Europa</td>\n",
       "      <td>False</td>\n",
       "      <td>TRAPPIST-1e</td>\n",
       "      <td>58.0</td>\n",
       "      <td>True</td>\n",
       "      <td>43.0</td>\n",
       "      <td>3576.0</td>\n",
       "      <td>0.0</td>\n",
       "      <td>6715.0</td>\n",
       "      <td>49.0</td>\n",
       "      <td>False</td>\n",
       "      <td>3</td>\n",
       "      <td>1</td>\n",
       "      <td>A</td>\n",
       "      <td>0</td>\n",
       "      <td>S</td>\n",
       "    </tr>\n",
       "    <tr>\n",
       "      <th>3</th>\n",
       "      <td>Europa</td>\n",
       "      <td>False</td>\n",
       "      <td>TRAPPIST-1e</td>\n",
       "      <td>33.0</td>\n",
       "      <td>False</td>\n",
       "      <td>0.0</td>\n",
       "      <td>1283.0</td>\n",
       "      <td>371.0</td>\n",
       "      <td>3329.0</td>\n",
       "      <td>193.0</td>\n",
       "      <td>False</td>\n",
       "      <td>3</td>\n",
       "      <td>2</td>\n",
       "      <td>A</td>\n",
       "      <td>0</td>\n",
       "      <td>S</td>\n",
       "    </tr>\n",
       "    <tr>\n",
       "      <th>4</th>\n",
       "      <td>Earth</td>\n",
       "      <td>False</td>\n",
       "      <td>TRAPPIST-1e</td>\n",
       "      <td>16.0</td>\n",
       "      <td>False</td>\n",
       "      <td>303.0</td>\n",
       "      <td>70.0</td>\n",
       "      <td>151.0</td>\n",
       "      <td>565.0</td>\n",
       "      <td>2.0</td>\n",
       "      <td>True</td>\n",
       "      <td>4</td>\n",
       "      <td>1</td>\n",
       "      <td>F</td>\n",
       "      <td>1</td>\n",
       "      <td>S</td>\n",
       "    </tr>\n",
       "  </tbody>\n",
       "</table>\n",
       "</div>"
      ],
      "text/plain": [
       "  HomePlanet CryoSleep  Destination   Age    VIP  RoomService  FoodCourt  \\\n",
       "0     Europa     False  TRAPPIST-1e  39.0  False          0.0        0.0   \n",
       "1      Earth     False  TRAPPIST-1e  24.0  False        109.0        9.0   \n",
       "2     Europa     False  TRAPPIST-1e  58.0   True         43.0     3576.0   \n",
       "3     Europa     False  TRAPPIST-1e  33.0  False          0.0     1283.0   \n",
       "4      Earth     False  TRAPPIST-1e  16.0  False        303.0       70.0   \n",
       "\n",
       "   ShoppingMall     Spa  VRDeck  Transported  GroupId  PassengerNumber Deck  \\\n",
       "0           0.0     0.0     0.0        False        1                1    B   \n",
       "1          25.0   549.0    44.0         True        2                1    F   \n",
       "2           0.0  6715.0    49.0        False        3                1    A   \n",
       "3         371.0  3329.0   193.0        False        3                2    A   \n",
       "4         151.0   565.0     2.0         True        4                1    F   \n",
       "\n",
       "   Num Side  \n",
       "0    0    P  \n",
       "1    0    S  \n",
       "2    0    S  \n",
       "3    0    S  \n",
       "4    1    S  "
      ]
     },
     "execution_count": 13,
     "metadata": {},
     "output_type": "execute_result"
    }
   ],
   "source": [
    "train_data_new.head()"
   ]
  },
  {
   "cell_type": "code",
   "execution_count": 14,
   "id": "2ec4b8c3",
   "metadata": {
    "execution": {
     "iopub.execute_input": "2025-07-09T03:10:36.557311Z",
     "iopub.status.busy": "2025-07-09T03:10:36.556522Z",
     "iopub.status.idle": "2025-07-09T03:10:36.571289Z",
     "shell.execute_reply": "2025-07-09T03:10:36.570367Z"
    },
    "papermill": {
     "duration": 0.027437,
     "end_time": "2025-07-09T03:10:36.572984",
     "exception": false,
     "start_time": "2025-07-09T03:10:36.545547",
     "status": "completed"
    },
    "tags": []
   },
   "outputs": [
    {
     "name": "stdout",
     "output_type": "stream",
     "text": [
      "<class 'pandas.core.frame.DataFrame'>\n",
      "RangeIndex: 8693 entries, 0 to 8692\n",
      "Data columns (total 16 columns):\n",
      " #   Column           Non-Null Count  Dtype  \n",
      "---  ------           --------------  -----  \n",
      " 0   HomePlanet       8693 non-null   object \n",
      " 1   CryoSleep        8693 non-null   object \n",
      " 2   Destination      8693 non-null   object \n",
      " 3   Age              8693 non-null   float64\n",
      " 4   VIP              8693 non-null   object \n",
      " 5   RoomService      8693 non-null   float64\n",
      " 6   FoodCourt        8693 non-null   float64\n",
      " 7   ShoppingMall     8693 non-null   float64\n",
      " 8   Spa              8693 non-null   float64\n",
      " 9   VRDeck           8693 non-null   float64\n",
      " 10  Transported      8693 non-null   bool   \n",
      " 11  GroupId          8693 non-null   int64  \n",
      " 12  PassengerNumber  8693 non-null   int64  \n",
      " 13  Deck             8693 non-null   object \n",
      " 14  Num              8693 non-null   int64  \n",
      " 15  Side             8693 non-null   object \n",
      "dtypes: bool(1), float64(6), int64(3), object(6)\n",
      "memory usage: 1.0+ MB\n"
     ]
    }
   ],
   "source": [
    "train_data_new.info()"
   ]
  },
  {
   "cell_type": "markdown",
   "id": "30b980e3",
   "metadata": {
    "papermill": {
     "duration": 0.00961,
     "end_time": "2025-07-09T03:10:36.592365",
     "exception": false,
     "start_time": "2025-07-09T03:10:36.582755",
     "status": "completed"
    },
    "tags": []
   },
   "source": [
    "<h3>Numerical Values Analysis</h3>"
   ]
  },
  {
   "cell_type": "code",
   "execution_count": 15,
   "id": "a3bc1e21",
   "metadata": {
    "execution": {
     "iopub.execute_input": "2025-07-09T03:10:36.612985Z",
     "iopub.status.busy": "2025-07-09T03:10:36.612650Z",
     "iopub.status.idle": "2025-07-09T03:10:39.821090Z",
     "shell.execute_reply": "2025-07-09T03:10:39.819809Z"
    },
    "papermill": {
     "duration": 3.223795,
     "end_time": "2025-07-09T03:10:39.825864",
     "exception": false,
     "start_time": "2025-07-09T03:10:36.602069",
     "status": "completed"
    },
    "tags": []
   },
   "outputs": [
    {
     "data": {
      "image/png": "[encoded data removed]",
      "text/plain": [
       "<Figure size 1500x1200 with 9 Axes>"
      ]
     },
     "metadata": {},
     "output_type": "display_data"
    }
   ],
   "source": [
    "# Select numerical columns\n",
    "num_cols = train_data_new.select_dtypes(include='number').columns\n",
    "\n",
    "# Set up the grid\n",
    "n_cols = 3\n",
    "n_rows = -(-len(num_cols) // n_cols)  # Ceiling division\n",
    "plt.figure(figsize=(5 * n_cols, 4 * n_rows))\n",
    "\n",
    "# Plot each histogram\n",
    "for i, col in enumerate(num_cols, 1):\n",
    "    warnings.filterwarnings(\"ignore\")\n",
    "    plt.subplot(n_rows, n_cols, i)\n",
    "    sns.histplot(train_data_new[col], kde=True, bins=50)\n",
    "    plt.title(f'{col} Distribution')\n",
    "\n",
    "plt.tight_layout()\n",
    "plt.show()"
   ]
  },
  {
   "cell_type": "markdown",
   "id": "fa428312",
   "metadata": {
    "papermill": {
     "duration": 0.012572,
     "end_time": "2025-07-09T03:10:39.852996",
     "exception": false,
     "start_time": "2025-07-09T03:10:39.840424",
     "status": "completed"
    },
    "tags": []
   },
   "source": [
    "<h5>You can see that the distribution for the \"Age\" feature is close to being normally distributed, while the distribution of the \"Num\" feature is skewed to the right (positively skewed). The \"TotalExpenses\" feature is greatly skewed to the right. The GroupId seems to be spread out fairly evenly.</h5>"
   ]
  },
  {
   "cell_type": "code",
   "execution_count": 16,
   "id": "2dc88f05",
   "metadata": {
    "execution": {
     "iopub.execute_input": "2025-07-09T03:10:39.881634Z",
     "iopub.status.busy": "2025-07-09T03:10:39.881277Z",
     "iopub.status.idle": "2025-07-09T03:10:42.170739Z",
     "shell.execute_reply": "2025-07-09T03:10:42.169767Z"
    },
    "papermill": {
     "duration": 2.308398,
     "end_time": "2025-07-09T03:10:42.174997",
     "exception": false,
     "start_time": "2025-07-09T03:10:39.866599",
     "status": "completed"
    },
    "tags": []
   },
   "outputs": [
    {
     "data": {
      "image/png": "[encoded data removed]",
      "text/plain": [
       "<Figure size 1500x1200 with 9 Axes>"
      ]
     },
     "metadata": {},
     "output_type": "display_data"
    }
   ],
   "source": [
    "# Set up the grid\n",
    "plt.figure(figsize=(5 * n_cols, 4 * n_rows))\n",
    "\n",
    "# Plot each Q-Q plot\n",
    "for i, col in enumerate(num_cols, 1):\n",
    "    plt.subplot(n_rows, n_cols, i)\n",
    "    stats.probplot(train_data_new[col].dropna(), dist=\"norm\", plot=plt)\n",
    "    plt.title(f'{col} Q-Q Plot')\n",
    "\n",
    "plt.tight_layout()\n",
    "plt.show()"
   ]
  },
  {
   "cell_type": "markdown",
   "id": "be66c2cf",
   "metadata": {
    "papermill": {
     "duration": 0.014642,
     "end_time": "2025-07-09T03:10:42.205932",
     "exception": false,
     "start_time": "2025-07-09T03:10:42.191290",
     "status": "completed"
    },
    "tags": []
   },
   "source": [
    "<h5>The Q-Q plots confirm the results from the histograms by showing that the \"Age\" feature is mostly normally distributed and the 'num' feature is rightly skewed. The \"TotalExpenses\" feature also seems to be rightly skewed. However, for the \"GroupId\" feature, it is difficult to see if it is normally distributed in the middle or not. Let's confirm the observations by analyzing them numerically rather than visually.</h5>"
   ]
  },
  {
   "cell_type": "code",
   "execution_count": 17,
   "id": "c817e0ed",
   "metadata": {
    "execution": {
     "iopub.execute_input": "2025-07-09T03:10:42.238086Z",
     "iopub.status.busy": "2025-07-09T03:10:42.237716Z",
     "iopub.status.idle": "2025-07-09T03:10:42.247049Z",
     "shell.execute_reply": "2025-07-09T03:10:42.246166Z"
    },
    "papermill": {
     "duration": 0.027807,
     "end_time": "2025-07-09T03:10:42.248663",
     "exception": false,
     "start_time": "2025-07-09T03:10:42.220856",
     "status": "completed"
    },
    "tags": []
   },
   "outputs": [
    {
     "name": "stdout",
     "output_type": "stream",
     "text": [
      "Age Skew Value: 0.43110235678108527\n",
      "RoomService Skew Value: 6.397765852484436\n",
      "FoodCourt Skew Value: 7.177515190964732\n",
      "ShoppingMall Skew Value: 12.763842149564473\n",
      "Spa Skew Value: 7.716449618352362\n",
      "VRDeck Skew Value: 7.9045544151027824\n",
      "GroupId Skew Value: 0.00202022187590881\n",
      "PassengerNumber Skew Value: 2.746616784649886\n",
      "Num Skew Value: 0.7464580436841154\n"
     ]
    }
   ],
   "source": [
    "# go through each column with numerical values and find its skew value\n",
    "for col in train_data_new.columns:\n",
    "    if train_data_new[col].dtype == 'float64' or train_data_new[col].dtype == 'int64':\n",
    "        skew_value = train_data_new[col].skew()\n",
    "        print(f\"{col} Skew Value: {skew_value}\")"
   ]
  },
  {
   "cell_type": "markdown",
   "id": "1eb17fbe",
   "metadata": {
    "papermill": {
     "duration": 0.015537,
     "end_time": "2025-07-09T03:10:42.279356",
     "exception": false,
     "start_time": "2025-07-09T03:10:42.263819",
     "status": "completed"
    },
    "tags": []
   },
   "source": [
    "<h5>Values between -0.5 and 0.5 are normally distributed, and anything >0.5 is right skewed. You can see that the values match the observations made with the Q-Q plots for all features except the \"GroupID\" feature. It seems like it is normally distributed, which was not obvious visually. Now, let's see how many outliers each numerical feature has.</h5>"
   ]
  },
  {
   "cell_type": "markdown",
   "id": "85c0e9cc",
   "metadata": {
    "papermill": {
     "duration": 0.014792,
     "end_time": "2025-07-09T03:10:42.309176",
     "exception": false,
     "start_time": "2025-07-09T03:10:42.294384",
     "status": "completed"
    },
    "tags": []
   },
   "source": [
    "<h3>Outlier and Noise Handling</h3>"
   ]
  },
  {
   "cell_type": "markdown",
   "id": "1789ff19",
   "metadata": {
    "papermill": {
     "duration": 0.014888,
     "end_time": "2025-07-09T03:10:42.339060",
     "exception": false,
     "start_time": "2025-07-09T03:10:42.324172",
     "status": "completed"
    },
    "tags": []
   },
   "source": [
    "<h5>We will use the interquartile range to determine the outlier count.</h5>"
   ]
  },
  {
   "cell_type": "code",
   "execution_count": 18,
   "id": "de9b2503",
   "metadata": {
    "execution": {
     "iopub.execute_input": "2025-07-09T03:10:42.371417Z",
     "iopub.status.busy": "2025-07-09T03:10:42.371023Z",
     "iopub.status.idle": "2025-07-09T03:10:42.377975Z",
     "shell.execute_reply": "2025-07-09T03:10:42.376924Z"
    },
    "papermill": {
     "duration": 0.025591,
     "end_time": "2025-07-09T03:10:42.379737",
     "exception": false,
     "start_time": "2025-07-09T03:10:42.354146",
     "status": "completed"
    },
    "tags": []
   },
   "outputs": [],
   "source": [
    "def detect_outliers_iqr(df):\n",
    "    outlier_flags = {}\n",
    "    for col in df.select_dtypes(include='number').columns:\n",
    "        Q1 = df[col].quantile(0.25)\n",
    "        Q3 = df[col].quantile(0.75)\n",
    "        IQR = Q3 - Q1\n",
    "        lower = Q1 - 1.5 * IQR\n",
    "        upper = Q3 + 1.5 * IQR\n",
    "        outliers = df[(df[col] < lower) | (df[col] > upper)]\n",
    "        outlier_flags[col] = len(outliers)\n",
    "    return pd.Series(outlier_flags).sort_values(ascending=False)"
   ]
  },
  {
   "cell_type": "code",
   "execution_count": 19,
   "id": "659fe671",
   "metadata": {
    "execution": {
     "iopub.execute_input": "2025-07-09T03:10:42.411677Z",
     "iopub.status.busy": "2025-07-09T03:10:42.411365Z",
     "iopub.status.idle": "2025-07-09T03:10:42.447138Z",
     "shell.execute_reply": "2025-07-09T03:10:42.446124Z"
    },
    "papermill": {
     "duration": 0.053865,
     "end_time": "2025-07-09T03:10:42.448906",
     "exception": false,
     "start_time": "2025-07-09T03:10:42.395041",
     "status": "completed"
    },
    "tags": []
   },
   "outputs": [
    {
     "data": {
      "text/plain": [
       "FoodCourt          1916\n",
       "RoomService        1906\n",
       "ShoppingMall       1879\n",
       "VRDeck             1849\n",
       "Spa                1833\n",
       "PassengerNumber     493\n",
       "Age                 162\n",
       "GroupId               0\n",
       "Num                   0\n",
       "dtype: int64"
      ]
     },
     "execution_count": 19,
     "metadata": {},
     "output_type": "execute_result"
    }
   ],
   "source": [
    "outliers = detect_outliers_iqr(train_data_new)\n",
    "outliers"
   ]
  },
  {
   "cell_type": "markdown",
   "id": "572f4304",
   "metadata": {
    "papermill": {
     "duration": 0.015773,
     "end_time": "2025-07-09T03:10:42.480736",
     "exception": false,
     "start_time": "2025-07-09T03:10:42.464963",
     "status": "completed"
    },
    "tags": []
   },
   "source": [
    "<h5>We can see that for the features \"Age\",\"Num\", and \"GroupId\" features, the outliers wouldn't affect the model that will be used later for classification as much as the \"TotalExpenses\" feature (which has >10% of its values being outliers). So, we need to focus on that feature and figure out what to do with it.</h5>"
   ]
  },
  {
   "cell_type": "markdown",
   "id": "55c991cb",
   "metadata": {
    "papermill": {
     "duration": 0.016138,
     "end_time": "2025-07-09T03:10:42.513105",
     "exception": false,
     "start_time": "2025-07-09T03:10:42.496967",
     "status": "completed"
    },
    "tags": []
   },
   "source": [
    "<h5>As you can see, the feature that has a lot of outliers is the one representing the money spent on amenities. This is realistic since the passenger may be a VIP passenger or just a wealthy one who has spent a lot on an amenity they enjoy. So, it may be better to keep those datapoints, but can instead transform this feature so that the outliers won't affect the results later on, especially for models that are affected by outliers.</h5>"
   ]
  },
  {
   "cell_type": "code",
   "execution_count": 20,
   "id": "d586b047",
   "metadata": {
    "execution": {
     "iopub.execute_input": "2025-07-09T03:10:42.548335Z",
     "iopub.status.busy": "2025-07-09T03:10:42.548028Z",
     "iopub.status.idle": "2025-07-09T03:10:42.563216Z",
     "shell.execute_reply": "2025-07-09T03:10:42.562166Z"
    },
    "papermill": {
     "duration": 0.034818,
     "end_time": "2025-07-09T03:10:42.565315",
     "exception": false,
     "start_time": "2025-07-09T03:10:42.530497",
     "status": "completed"
    },
    "tags": []
   },
   "outputs": [],
   "source": [
    "# go through the features with a lot of outliers and use the log function to transform\n",
    "# the values to reduce the impact of the outliers.  \n",
    "#train_data_new['TotalExpenses_log'] = np.log1p(train_data_new['TotalExpenses'])\n",
    "\n",
    "train_data_new['ShoppingMall_log'] = np.log1p(train_data_new['ShoppingMall'])\n",
    "train_data_new['FoodCourt_log'] = np.log1p(train_data_new['FoodCourt'])\n",
    "train_data_new['Spa_log'] = np.log1p(train_data_new['Spa'])\n",
    "train_data_new['VRDeck_log'] = np.log1p(train_data_new['VRDeck'])\n",
    "train_data_new['RoomService_log'] = np.log1p(train_data_new['RoomService'])"
   ]
  },
  {
   "cell_type": "code",
   "execution_count": 21,
   "id": "c5ccb3d4",
   "metadata": {
    "execution": {
     "iopub.execute_input": "2025-07-09T03:10:42.600211Z",
     "iopub.status.busy": "2025-07-09T03:10:42.599386Z",
     "iopub.status.idle": "2025-07-09T03:10:42.624223Z",
     "shell.execute_reply": "2025-07-09T03:10:42.623220Z"
    },
    "papermill": {
     "duration": 0.044811,
     "end_time": "2025-07-09T03:10:42.626178",
     "exception": false,
     "start_time": "2025-07-09T03:10:42.581367",
     "status": "completed"
    },
    "tags": []
   },
   "outputs": [
    {
     "data": {
      "text/html": [
       "<div>\n",
       "<style scoped>\n",
       "    .dataframe tbody tr th:only-of-type {\n",
       "        vertical-align: middle;\n",
       "    }\n",
       "\n",
       "    .dataframe tbody tr th {\n",
       "        vertical-align: top;\n",
       "    }\n",
       "\n",
       "    .dataframe thead th {\n",
       "        text-align: right;\n",
       "    }\n",
       "</style>\n",
       "<table border=\"1\" class=\"dataframe\">\n",
       "  <thead>\n",
       "    <tr style=\"text-align: right;\">\n",
       "      <th></th>\n",
       "      <th>HomePlanet</th>\n",
       "      <th>CryoSleep</th>\n",
       "      <th>Destination</th>\n",
       "      <th>Age</th>\n",
       "      <th>VIP</th>\n",
       "      <th>RoomService</th>\n",
       "      <th>FoodCourt</th>\n",
       "      <th>ShoppingMall</th>\n",
       "      <th>Spa</th>\n",
       "      <th>VRDeck</th>\n",
       "      <th>...</th>\n",
       "      <th>GroupId</th>\n",
       "      <th>PassengerNumber</th>\n",
       "      <th>Deck</th>\n",
       "      <th>Num</th>\n",
       "      <th>Side</th>\n",
       "      <th>ShoppingMall_log</th>\n",
       "      <th>FoodCourt_log</th>\n",
       "      <th>Spa_log</th>\n",
       "      <th>VRDeck_log</th>\n",
       "      <th>RoomService_log</th>\n",
       "    </tr>\n",
       "  </thead>\n",
       "  <tbody>\n",
       "    <tr>\n",
       "      <th>0</th>\n",
       "      <td>Europa</td>\n",
       "      <td>False</td>\n",
       "      <td>TRAPPIST-1e</td>\n",
       "      <td>39.0</td>\n",
       "      <td>False</td>\n",
       "      <td>0.0</td>\n",
       "      <td>0.0</td>\n",
       "      <td>0.0</td>\n",
       "      <td>0.0</td>\n",
       "      <td>0.0</td>\n",
       "      <td>...</td>\n",
       "      <td>1</td>\n",
       "      <td>1</td>\n",
       "      <td>B</td>\n",
       "      <td>0</td>\n",
       "      <td>P</td>\n",
       "      <td>0.000000</td>\n",
       "      <td>0.000000</td>\n",
       "      <td>0.000000</td>\n",
       "      <td>0.000000</td>\n",
       "      <td>0.000000</td>\n",
       "    </tr>\n",
       "    <tr>\n",
       "      <th>1</th>\n",
       "      <td>Earth</td>\n",
       "      <td>False</td>\n",
       "      <td>TRAPPIST-1e</td>\n",
       "      <td>24.0</td>\n",
       "      <td>False</td>\n",
       "      <td>109.0</td>\n",
       "      <td>9.0</td>\n",
       "      <td>25.0</td>\n",
       "      <td>549.0</td>\n",
       "      <td>44.0</td>\n",
       "      <td>...</td>\n",
       "      <td>2</td>\n",
       "      <td>1</td>\n",
       "      <td>F</td>\n",
       "      <td>0</td>\n",
       "      <td>S</td>\n",
       "      <td>3.258097</td>\n",
       "      <td>2.302585</td>\n",
       "      <td>6.309918</td>\n",
       "      <td>3.806662</td>\n",
       "      <td>4.700480</td>\n",
       "    </tr>\n",
       "    <tr>\n",
       "      <th>2</th>\n",
       "      <td>Europa</td>\n",
       "      <td>False</td>\n",
       "      <td>TRAPPIST-1e</td>\n",
       "      <td>58.0</td>\n",
       "      <td>True</td>\n",
       "      <td>43.0</td>\n",
       "      <td>3576.0</td>\n",
       "      <td>0.0</td>\n",
       "      <td>6715.0</td>\n",
       "      <td>49.0</td>\n",
       "      <td>...</td>\n",
       "      <td>3</td>\n",
       "      <td>1</td>\n",
       "      <td>A</td>\n",
       "      <td>0</td>\n",
       "      <td>S</td>\n",
       "      <td>0.000000</td>\n",
       "      <td>8.182280</td>\n",
       "      <td>8.812248</td>\n",
       "      <td>3.912023</td>\n",
       "      <td>3.784190</td>\n",
       "    </tr>\n",
       "    <tr>\n",
       "      <th>3</th>\n",
       "      <td>Europa</td>\n",
       "      <td>False</td>\n",
       "      <td>TRAPPIST-1e</td>\n",
       "      <td>33.0</td>\n",
       "      <td>False</td>\n",
       "      <td>0.0</td>\n",
       "      <td>1283.0</td>\n",
       "      <td>371.0</td>\n",
       "      <td>3329.0</td>\n",
       "      <td>193.0</td>\n",
       "      <td>...</td>\n",
       "      <td>3</td>\n",
       "      <td>2</td>\n",
       "      <td>A</td>\n",
       "      <td>0</td>\n",
       "      <td>S</td>\n",
       "      <td>5.918894</td>\n",
       "      <td>7.157735</td>\n",
       "      <td>8.110728</td>\n",
       "      <td>5.267858</td>\n",
       "      <td>0.000000</td>\n",
       "    </tr>\n",
       "    <tr>\n",
       "      <th>4</th>\n",
       "      <td>Earth</td>\n",
       "      <td>False</td>\n",
       "      <td>TRAPPIST-1e</td>\n",
       "      <td>16.0</td>\n",
       "      <td>False</td>\n",
       "      <td>303.0</td>\n",
       "      <td>70.0</td>\n",
       "      <td>151.0</td>\n",
       "      <td>565.0</td>\n",
       "      <td>2.0</td>\n",
       "      <td>...</td>\n",
       "      <td>4</td>\n",
       "      <td>1</td>\n",
       "      <td>F</td>\n",
       "      <td>1</td>\n",
       "      <td>S</td>\n",
       "      <td>5.023881</td>\n",
       "      <td>4.262680</td>\n",
       "      <td>6.338594</td>\n",
       "      <td>1.098612</td>\n",
       "      <td>5.717028</td>\n",
       "    </tr>\n",
       "  </tbody>\n",
       "</table>\n",
       "<p>5 rows × 21 columns</p>\n",
       "</div>"
      ],
      "text/plain": [
       "  HomePlanet CryoSleep  Destination   Age    VIP  RoomService  FoodCourt  \\\n",
       "0     Europa     False  TRAPPIST-1e  39.0  False          0.0        0.0   \n",
       "1      Earth     False  TRAPPIST-1e  24.0  False        109.0        9.0   \n",
       "2     Europa     False  TRAPPIST-1e  58.0   True         43.0     3576.0   \n",
       "3     Europa     False  TRAPPIST-1e  33.0  False          0.0     1283.0   \n",
       "4      Earth     False  TRAPPIST-1e  16.0  False        303.0       70.0   \n",
       "\n",
       "   ShoppingMall     Spa  VRDeck  ...  GroupId  PassengerNumber  Deck Num  \\\n",
       "0           0.0     0.0     0.0  ...        1                1     B   0   \n",
       "1          25.0   549.0    44.0  ...        2                1     F   0   \n",
       "2           0.0  6715.0    49.0  ...        3                1     A   0   \n",
       "3         371.0  3329.0   193.0  ...        3                2     A   0   \n",
       "4         151.0   565.0     2.0  ...        4                1     F   1   \n",
       "\n",
       "   Side ShoppingMall_log  FoodCourt_log   Spa_log  VRDeck_log  RoomService_log  \n",
       "0     P         0.000000       0.000000  0.000000    0.000000         0.000000  \n",
       "1     S         3.258097       2.302585  6.309918    3.806662         4.700480  \n",
       "2     S         0.000000       8.182280  8.812248    3.912023         3.784190  \n",
       "3     S         5.918894       7.157735  8.110728    5.267858         0.000000  \n",
       "4     S         5.023881       4.262680  6.338594    1.098612         5.717028  \n",
       "\n",
       "[5 rows x 21 columns]"
      ]
     },
     "execution_count": 21,
     "metadata": {},
     "output_type": "execute_result"
    }
   ],
   "source": [
    "train_data_new.head()"
   ]
  },
  {
   "cell_type": "markdown",
   "id": "34b7ed77",
   "metadata": {
    "papermill": {
     "duration": 0.01685,
     "end_time": "2025-07-09T03:10:42.660226",
     "exception": false,
     "start_time": "2025-07-09T03:10:42.643376",
     "status": "completed"
    },
    "tags": []
   },
   "source": [
    "<h3>Turning Categorical Values into Numerical</h3>"
   ]
  },
  {
   "cell_type": "markdown",
   "id": "0bcaf0fa",
   "metadata": {
    "papermill": {
     "duration": 0.016858,
     "end_time": "2025-07-09T03:10:42.693951",
     "exception": false,
     "start_time": "2025-07-09T03:10:42.677093",
     "status": "completed"
    },
    "tags": []
   },
   "source": [
    "<h5>Since ML models usually take in numerical data, we must turn the columns with string types into numerical values. One way to do this is through one-hot encoding. Pandas has a built-in method that can do one-hot encoding for the columns in a DataFrame, so we will use that.</h5>"
   ]
  },
  {
   "cell_type": "code",
   "execution_count": 22,
   "id": "cd0acfc7",
   "metadata": {
    "execution": {
     "iopub.execute_input": "2025-07-09T03:10:42.730047Z",
     "iopub.status.busy": "2025-07-09T03:10:42.729236Z",
     "iopub.status.idle": "2025-07-09T03:10:42.748385Z",
     "shell.execute_reply": "2025-07-09T03:10:42.747313Z"
    },
    "papermill": {
     "duration": 0.039701,
     "end_time": "2025-07-09T03:10:42.750451",
     "exception": false,
     "start_time": "2025-07-09T03:10:42.710750",
     "status": "completed"
    },
    "tags": []
   },
   "outputs": [],
   "source": [
    "col = ['HomePlanet', 'CryoSleep', 'Destination', 'Deck', 'Side']\n",
    "train_data_new['VIP'] = train_data_new['VIP'].astype(bool)\n",
    "train_data_encoded = pd.get_dummies(train_data_new, columns=col)"
   ]
  },
  {
   "cell_type": "code",
   "execution_count": 23,
   "id": "cd9a452f",
   "metadata": {
    "execution": {
     "iopub.execute_input": "2025-07-09T03:10:42.785539Z",
     "iopub.status.busy": "2025-07-09T03:10:42.785152Z",
     "iopub.status.idle": "2025-07-09T03:10:42.808040Z",
     "shell.execute_reply": "2025-07-09T03:10:42.807158Z"
    },
    "papermill": {
     "duration": 0.042254,
     "end_time": "2025-07-09T03:10:42.809724",
     "exception": false,
     "start_time": "2025-07-09T03:10:42.767470",
     "status": "completed"
    },
    "tags": []
   },
   "outputs": [
    {
     "data": {
      "text/html": [
       "<div>\n",
       "<style scoped>\n",
       "    .dataframe tbody tr th:only-of-type {\n",
       "        vertical-align: middle;\n",
       "    }\n",
       "\n",
       "    .dataframe tbody tr th {\n",
       "        vertical-align: top;\n",
       "    }\n",
       "\n",
       "    .dataframe thead th {\n",
       "        text-align: right;\n",
       "    }\n",
       "</style>\n",
       "<table border=\"1\" class=\"dataframe\">\n",
       "  <thead>\n",
       "    <tr style=\"text-align: right;\">\n",
       "      <th></th>\n",
       "      <th>Age</th>\n",
       "      <th>VIP</th>\n",
       "      <th>RoomService</th>\n",
       "      <th>FoodCourt</th>\n",
       "      <th>ShoppingMall</th>\n",
       "      <th>Spa</th>\n",
       "      <th>VRDeck</th>\n",
       "      <th>Transported</th>\n",
       "      <th>GroupId</th>\n",
       "      <th>PassengerNumber</th>\n",
       "      <th>...</th>\n",
       "      <th>Deck_C</th>\n",
       "      <th>Deck_D</th>\n",
       "      <th>Deck_E</th>\n",
       "      <th>Deck_F</th>\n",
       "      <th>Deck_G</th>\n",
       "      <th>Deck_T</th>\n",
       "      <th>Deck_Unknown</th>\n",
       "      <th>Side_P</th>\n",
       "      <th>Side_S</th>\n",
       "      <th>Side_Unknown</th>\n",
       "    </tr>\n",
       "  </thead>\n",
       "  <tbody>\n",
       "    <tr>\n",
       "      <th>0</th>\n",
       "      <td>39.0</td>\n",
       "      <td>False</td>\n",
       "      <td>0.0</td>\n",
       "      <td>0.0</td>\n",
       "      <td>0.0</td>\n",
       "      <td>0.0</td>\n",
       "      <td>0.0</td>\n",
       "      <td>False</td>\n",
       "      <td>1</td>\n",
       "      <td>1</td>\n",
       "      <td>...</td>\n",
       "      <td>False</td>\n",
       "      <td>False</td>\n",
       "      <td>False</td>\n",
       "      <td>False</td>\n",
       "      <td>False</td>\n",
       "      <td>False</td>\n",
       "      <td>False</td>\n",
       "      <td>True</td>\n",
       "      <td>False</td>\n",
       "      <td>False</td>\n",
       "    </tr>\n",
       "    <tr>\n",
       "      <th>1</th>\n",
       "      <td>24.0</td>\n",
       "      <td>False</td>\n",
       "      <td>109.0</td>\n",
       "      <td>9.0</td>\n",
       "      <td>25.0</td>\n",
       "      <td>549.0</td>\n",
       "      <td>44.0</td>\n",
       "      <td>True</td>\n",
       "      <td>2</td>\n",
       "      <td>1</td>\n",
       "      <td>...</td>\n",
       "      <td>False</td>\n",
       "      <td>False</td>\n",
       "      <td>False</td>\n",
       "      <td>True</td>\n",
       "      <td>False</td>\n",
       "      <td>False</td>\n",
       "      <td>False</td>\n",
       "      <td>False</td>\n",
       "      <td>True</td>\n",
       "      <td>False</td>\n",
       "    </tr>\n",
       "    <tr>\n",
       "      <th>2</th>\n",
       "      <td>58.0</td>\n",
       "      <td>True</td>\n",
       "      <td>43.0</td>\n",
       "      <td>3576.0</td>\n",
       "      <td>0.0</td>\n",
       "      <td>6715.0</td>\n",
       "      <td>49.0</td>\n",
       "      <td>False</td>\n",
       "      <td>3</td>\n",
       "      <td>1</td>\n",
       "      <td>...</td>\n",
       "      <td>False</td>\n",
       "      <td>False</td>\n",
       "      <td>False</td>\n",
       "      <td>False</td>\n",
       "      <td>False</td>\n",
       "      <td>False</td>\n",
       "      <td>False</td>\n",
       "      <td>False</td>\n",
       "      <td>True</td>\n",
       "      <td>False</td>\n",
       "    </tr>\n",
       "    <tr>\n",
       "      <th>3</th>\n",
       "      <td>33.0</td>\n",
       "      <td>False</td>\n",
       "      <td>0.0</td>\n",
       "      <td>1283.0</td>\n",
       "      <td>371.0</td>\n",
       "      <td>3329.0</td>\n",
       "      <td>193.0</td>\n",
       "      <td>False</td>\n",
       "      <td>3</td>\n",
       "      <td>2</td>\n",
       "      <td>...</td>\n",
       "      <td>False</td>\n",
       "      <td>False</td>\n",
       "      <td>False</td>\n",
       "      <td>False</td>\n",
       "      <td>False</td>\n",
       "      <td>False</td>\n",
       "      <td>False</td>\n",
       "      <td>False</td>\n",
       "      <td>True</td>\n",
       "      <td>False</td>\n",
       "    </tr>\n",
       "    <tr>\n",
       "      <th>4</th>\n",
       "      <td>16.0</td>\n",
       "      <td>False</td>\n",
       "      <td>303.0</td>\n",
       "      <td>70.0</td>\n",
       "      <td>151.0</td>\n",
       "      <td>565.0</td>\n",
       "      <td>2.0</td>\n",
       "      <td>True</td>\n",
       "      <td>4</td>\n",
       "      <td>1</td>\n",
       "      <td>...</td>\n",
       "      <td>False</td>\n",
       "      <td>False</td>\n",
       "      <td>False</td>\n",
       "      <td>True</td>\n",
       "      <td>False</td>\n",
       "      <td>False</td>\n",
       "      <td>False</td>\n",
       "      <td>False</td>\n",
       "      <td>True</td>\n",
       "      <td>False</td>\n",
       "    </tr>\n",
       "  </tbody>\n",
       "</table>\n",
       "<p>5 rows × 39 columns</p>\n",
       "</div>"
      ],
      "text/plain": [
       "    Age    VIP  RoomService  FoodCourt  ShoppingMall     Spa  VRDeck  \\\n",
       "0  39.0  False          0.0        0.0           0.0     0.0     0.0   \n",
       "1  24.0  False        109.0        9.0          25.0   549.0    44.0   \n",
       "2  58.0   True         43.0     3576.0           0.0  6715.0    49.0   \n",
       "3  33.0  False          0.0     1283.0         371.0  3329.0   193.0   \n",
       "4  16.0  False        303.0       70.0         151.0   565.0     2.0   \n",
       "\n",
       "   Transported  GroupId  PassengerNumber  ...  Deck_C  Deck_D  Deck_E  Deck_F  \\\n",
       "0        False        1                1  ...   False   False   False   False   \n",
       "1         True        2                1  ...   False   False   False    True   \n",
       "2        False        3                1  ...   False   False   False   False   \n",
       "3        False        3                2  ...   False   False   False   False   \n",
       "4         True        4                1  ...   False   False   False    True   \n",
       "\n",
       "   Deck_G  Deck_T  Deck_Unknown  Side_P  Side_S  Side_Unknown  \n",
       "0   False   False         False    True   False         False  \n",
       "1   False   False         False   False    True         False  \n",
       "2   False   False         False   False    True         False  \n",
       "3   False   False         False   False    True         False  \n",
       "4   False   False         False   False    True         False  \n",
       "\n",
       "[5 rows x 39 columns]"
      ]
     },
     "execution_count": 23,
     "metadata": {},
     "output_type": "execute_result"
    }
   ],
   "source": [
    "train_data_encoded.head()"
   ]
  },
  {
   "cell_type": "markdown",
   "id": "50f04c75",
   "metadata": {
    "papermill": {
     "duration": 0.016971,
     "end_time": "2025-07-09T03:10:42.844080",
     "exception": false,
     "start_time": "2025-07-09T03:10:42.827109",
     "status": "completed"
    },
    "tags": []
   },
   "source": [
    "<h3>Feature Scaling</h3>"
   ]
  },
  {
   "cell_type": "markdown",
   "id": "db487d45",
   "metadata": {
    "papermill": {
     "duration": 0.016865,
     "end_time": "2025-07-09T03:10:42.878606",
     "exception": false,
     "start_time": "2025-07-09T03:10:42.861741",
     "status": "completed"
    },
    "tags": []
   },
   "source": [
    "<h5>Now, to make sure all the numerical values are on the same scale(not including the one-hot encodings), we will scale them. Since there exist some outliers, standardization is a better option than normalization. Going to create two dataframes, one where the features with outliers were not transformed with the log function, and one where the features with outliers were transformed. This is because some of the models aren't affected by outliers, so I want to see which dataframe works better with those models.</h5>"
   ]
  },
  {
   "cell_type": "code",
   "execution_count": 24,
   "id": "95fd8d49",
   "metadata": {
    "execution": {
     "iopub.execute_input": "2025-07-09T03:10:42.913971Z",
     "iopub.status.busy": "2025-07-09T03:10:42.913553Z",
     "iopub.status.idle": "2025-07-09T03:10:42.977207Z",
     "shell.execute_reply": "2025-07-09T03:10:42.976135Z"
    },
    "papermill": {
     "duration": 0.084064,
     "end_time": "2025-07-09T03:10:42.979345",
     "exception": false,
     "start_time": "2025-07-09T03:10:42.895281",
     "status": "completed"
    },
    "tags": []
   },
   "outputs": [],
   "source": [
    "scaler = StandardScaler()\n",
    "train_data_scaled = train_data_encoded.copy(deep=True).drop(['RoomService', 'FoodCourt', 'Spa', 'VRDeck', 'ShoppingMall'], axis=1)\n",
    "train_data_not_transformed = train_data_encoded.copy(deep=True).drop(['RoomService_log', 'FoodCourt_log', 'Spa_log', 'VRDeck_log', 'ShoppingMall_log'], axis=1)\n",
    "\n",
    "# go through each column with numerical values (not including one-hot encodings)\n",
    "# and standardize them\n",
    "for col1, col2 in zip(train_data_scaled.select_dtypes(include='number').columns, train_data_not_transformed.select_dtypes(include='number').columns):\n",
    "    train_data_scaled[col1] = scaler.fit_transform(train_data_scaled[[col1]])\n",
    "    train_data_not_transformed[col2] = scaler.fit_transform(train_data_not_transformed[[col2]])"
   ]
  },
  {
   "cell_type": "code",
   "execution_count": 25,
   "id": "573448af",
   "metadata": {
    "execution": {
     "iopub.execute_input": "2025-07-09T03:10:43.015563Z",
     "iopub.status.busy": "2025-07-09T03:10:43.015272Z",
     "iopub.status.idle": "2025-07-09T03:10:43.036709Z",
     "shell.execute_reply": "2025-07-09T03:10:43.035722Z"
    },
    "papermill": {
     "duration": 0.041726,
     "end_time": "2025-07-09T03:10:43.038500",
     "exception": false,
     "start_time": "2025-07-09T03:10:42.996774",
     "status": "completed"
    },
    "tags": []
   },
   "outputs": [
    {
     "data": {
      "text/html": [
       "<div>\n",
       "<style scoped>\n",
       "    .dataframe tbody tr th:only-of-type {\n",
       "        vertical-align: middle;\n",
       "    }\n",
       "\n",
       "    .dataframe tbody tr th {\n",
       "        vertical-align: top;\n",
       "    }\n",
       "\n",
       "    .dataframe thead th {\n",
       "        text-align: right;\n",
       "    }\n",
       "</style>\n",
       "<table border=\"1\" class=\"dataframe\">\n",
       "  <thead>\n",
       "    <tr style=\"text-align: right;\">\n",
       "      <th></th>\n",
       "      <th>Age</th>\n",
       "      <th>VIP</th>\n",
       "      <th>Transported</th>\n",
       "      <th>GroupId</th>\n",
       "      <th>PassengerNumber</th>\n",
       "      <th>Num</th>\n",
       "      <th>ShoppingMall_log</th>\n",
       "      <th>FoodCourt_log</th>\n",
       "      <th>Spa_log</th>\n",
       "      <th>VRDeck_log</th>\n",
       "      <th>...</th>\n",
       "      <th>Deck_C</th>\n",
       "      <th>Deck_D</th>\n",
       "      <th>Deck_E</th>\n",
       "      <th>Deck_F</th>\n",
       "      <th>Deck_G</th>\n",
       "      <th>Deck_T</th>\n",
       "      <th>Deck_Unknown</th>\n",
       "      <th>Side_P</th>\n",
       "      <th>Side_S</th>\n",
       "      <th>Side_Unknown</th>\n",
       "    </tr>\n",
       "  </thead>\n",
       "  <tbody>\n",
       "    <tr>\n",
       "      <th>0</th>\n",
       "      <td>0.711945</td>\n",
       "      <td>False</td>\n",
       "      <td>False</td>\n",
       "      <td>-1.734409</td>\n",
       "      <td>-0.491161</td>\n",
       "      <td>-1.177238</td>\n",
       "      <td>-0.622995</td>\n",
       "      <td>-0.650080</td>\n",
       "      <td>-0.664035</td>\n",
       "      <td>-0.640034</td>\n",
       "      <td>...</td>\n",
       "      <td>False</td>\n",
       "      <td>False</td>\n",
       "      <td>False</td>\n",
       "      <td>False</td>\n",
       "      <td>False</td>\n",
       "      <td>False</td>\n",
       "      <td>False</td>\n",
       "      <td>True</td>\n",
       "      <td>False</td>\n",
       "      <td>False</td>\n",
       "    </tr>\n",
       "    <tr>\n",
       "      <th>1</th>\n",
       "      <td>-0.334037</td>\n",
       "      <td>False</td>\n",
       "      <td>True</td>\n",
       "      <td>-1.734034</td>\n",
       "      <td>-0.491161</td>\n",
       "      <td>-1.177238</td>\n",
       "      <td>0.646081</td>\n",
       "      <td>0.135040</td>\n",
       "      <td>1.614565</td>\n",
       "      <td>0.745894</td>\n",
       "      <td>...</td>\n",
       "      <td>False</td>\n",
       "      <td>False</td>\n",
       "      <td>False</td>\n",
       "      <td>True</td>\n",
       "      <td>False</td>\n",
       "      <td>False</td>\n",
       "      <td>False</td>\n",
       "      <td>False</td>\n",
       "      <td>True</td>\n",
       "      <td>False</td>\n",
       "    </tr>\n",
       "    <tr>\n",
       "      <th>2</th>\n",
       "      <td>2.036857</td>\n",
       "      <td>True</td>\n",
       "      <td>False</td>\n",
       "      <td>-1.733660</td>\n",
       "      <td>-0.491161</td>\n",
       "      <td>-1.177238</td>\n",
       "      <td>-0.622995</td>\n",
       "      <td>2.139858</td>\n",
       "      <td>2.518191</td>\n",
       "      <td>0.784254</td>\n",
       "      <td>...</td>\n",
       "      <td>False</td>\n",
       "      <td>False</td>\n",
       "      <td>False</td>\n",
       "      <td>False</td>\n",
       "      <td>False</td>\n",
       "      <td>False</td>\n",
       "      <td>False</td>\n",
       "      <td>False</td>\n",
       "      <td>True</td>\n",
       "      <td>False</td>\n",
       "    </tr>\n",
       "    <tr>\n",
       "      <th>3</th>\n",
       "      <td>0.293552</td>\n",
       "      <td>False</td>\n",
       "      <td>False</td>\n",
       "      <td>-1.733660</td>\n",
       "      <td>0.457443</td>\n",
       "      <td>-1.177238</td>\n",
       "      <td>1.682500</td>\n",
       "      <td>1.790516</td>\n",
       "      <td>2.264863</td>\n",
       "      <td>1.277886</td>\n",
       "      <td>...</td>\n",
       "      <td>False</td>\n",
       "      <td>False</td>\n",
       "      <td>False</td>\n",
       "      <td>False</td>\n",
       "      <td>False</td>\n",
       "      <td>False</td>\n",
       "      <td>False</td>\n",
       "      <td>False</td>\n",
       "      <td>True</td>\n",
       "      <td>False</td>\n",
       "    </tr>\n",
       "    <tr>\n",
       "      <th>4</th>\n",
       "      <td>-0.891895</td>\n",
       "      <td>False</td>\n",
       "      <td>True</td>\n",
       "      <td>-1.733286</td>\n",
       "      <td>-0.491161</td>\n",
       "      <td>-1.175264</td>\n",
       "      <td>1.333879</td>\n",
       "      <td>0.803380</td>\n",
       "      <td>1.624920</td>\n",
       "      <td>-0.240051</td>\n",
       "      <td>...</td>\n",
       "      <td>False</td>\n",
       "      <td>False</td>\n",
       "      <td>False</td>\n",
       "      <td>True</td>\n",
       "      <td>False</td>\n",
       "      <td>False</td>\n",
       "      <td>False</td>\n",
       "      <td>False</td>\n",
       "      <td>True</td>\n",
       "      <td>False</td>\n",
       "    </tr>\n",
       "  </tbody>\n",
       "</table>\n",
       "<p>5 rows × 34 columns</p>\n",
       "</div>"
      ],
      "text/plain": [
       "        Age    VIP  Transported   GroupId  PassengerNumber       Num  \\\n",
       "0  0.711945  False        False -1.734409        -0.491161 -1.177238   \n",
       "1 -0.334037  False         True -1.734034        -0.491161 -1.177238   \n",
       "2  2.036857   True        False -1.733660        -0.491161 -1.177238   \n",
       "3  0.293552  False        False -1.733660         0.457443 -1.177238   \n",
       "4 -0.891895  False         True -1.733286        -0.491161 -1.175264   \n",
       "\n",
       "   ShoppingMall_log  FoodCourt_log   Spa_log  VRDeck_log  ...  Deck_C  Deck_D  \\\n",
       "0         -0.622995      -0.650080 -0.664035   -0.640034  ...   False   False   \n",
       "1          0.646081       0.135040  1.614565    0.745894  ...   False   False   \n",
       "2         -0.622995       2.139858  2.518191    0.784254  ...   False   False   \n",
       "3          1.682500       1.790516  2.264863    1.277886  ...   False   False   \n",
       "4          1.333879       0.803380  1.624920   -0.240051  ...   False   False   \n",
       "\n",
       "   Deck_E  Deck_F  Deck_G  Deck_T  Deck_Unknown  Side_P  Side_S  Side_Unknown  \n",
       "0   False   False   False   False         False    True   False         False  \n",
       "1   False    True   False   False         False   False    True         False  \n",
       "2   False   False   False   False         False   False    True         False  \n",
       "3   False   False   False   False         False   False    True         False  \n",
       "4   False    True   False   False         False   False    True         False  \n",
       "\n",
       "[5 rows x 34 columns]"
      ]
     },
     "execution_count": 25,
     "metadata": {},
     "output_type": "execute_result"
    }
   ],
   "source": [
    "train_data_scaled.head()"
   ]
  },
  {
   "cell_type": "code",
   "execution_count": 26,
   "id": "f3832b13",
   "metadata": {
    "execution": {
     "iopub.execute_input": "2025-07-09T03:10:43.073696Z",
     "iopub.status.busy": "2025-07-09T03:10:43.073424Z",
     "iopub.status.idle": "2025-07-09T03:10:43.096890Z",
     "shell.execute_reply": "2025-07-09T03:10:43.095974Z"
    },
    "papermill": {
     "duration": 0.042684,
     "end_time": "2025-07-09T03:10:43.098479",
     "exception": false,
     "start_time": "2025-07-09T03:10:43.055795",
     "status": "completed"
    },
    "tags": []
   },
   "outputs": [
    {
     "data": {
      "text/html": [
       "<div>\n",
       "<style scoped>\n",
       "    .dataframe tbody tr th:only-of-type {\n",
       "        vertical-align: middle;\n",
       "    }\n",
       "\n",
       "    .dataframe tbody tr th {\n",
       "        vertical-align: top;\n",
       "    }\n",
       "\n",
       "    .dataframe thead th {\n",
       "        text-align: right;\n",
       "    }\n",
       "</style>\n",
       "<table border=\"1\" class=\"dataframe\">\n",
       "  <thead>\n",
       "    <tr style=\"text-align: right;\">\n",
       "      <th></th>\n",
       "      <th>Age</th>\n",
       "      <th>VIP</th>\n",
       "      <th>RoomService</th>\n",
       "      <th>FoodCourt</th>\n",
       "      <th>ShoppingMall</th>\n",
       "      <th>Spa</th>\n",
       "      <th>VRDeck</th>\n",
       "      <th>Transported</th>\n",
       "      <th>GroupId</th>\n",
       "      <th>PassengerNumber</th>\n",
       "      <th>...</th>\n",
       "      <th>Deck_C</th>\n",
       "      <th>Deck_D</th>\n",
       "      <th>Deck_E</th>\n",
       "      <th>Deck_F</th>\n",
       "      <th>Deck_G</th>\n",
       "      <th>Deck_T</th>\n",
       "      <th>Deck_Unknown</th>\n",
       "      <th>Side_P</th>\n",
       "      <th>Side_S</th>\n",
       "      <th>Side_Unknown</th>\n",
       "    </tr>\n",
       "  </thead>\n",
       "  <tbody>\n",
       "    <tr>\n",
       "      <th>0</th>\n",
       "      <td>0.711945</td>\n",
       "      <td>False</td>\n",
       "      <td>-0.333105</td>\n",
       "      <td>-0.281027</td>\n",
       "      <td>-0.283579</td>\n",
       "      <td>-0.270626</td>\n",
       "      <td>-0.263003</td>\n",
       "      <td>False</td>\n",
       "      <td>-1.734409</td>\n",
       "      <td>-0.491161</td>\n",
       "      <td>...</td>\n",
       "      <td>False</td>\n",
       "      <td>False</td>\n",
       "      <td>False</td>\n",
       "      <td>False</td>\n",
       "      <td>False</td>\n",
       "      <td>False</td>\n",
       "      <td>False</td>\n",
       "      <td>True</td>\n",
       "      <td>False</td>\n",
       "      <td>False</td>\n",
       "    </tr>\n",
       "    <tr>\n",
       "      <th>1</th>\n",
       "      <td>-0.334037</td>\n",
       "      <td>False</td>\n",
       "      <td>-0.168073</td>\n",
       "      <td>-0.275387</td>\n",
       "      <td>-0.241771</td>\n",
       "      <td>0.217158</td>\n",
       "      <td>-0.224205</td>\n",
       "      <td>True</td>\n",
       "      <td>-1.734034</td>\n",
       "      <td>-0.491161</td>\n",
       "      <td>...</td>\n",
       "      <td>False</td>\n",
       "      <td>False</td>\n",
       "      <td>False</td>\n",
       "      <td>True</td>\n",
       "      <td>False</td>\n",
       "      <td>False</td>\n",
       "      <td>False</td>\n",
       "      <td>False</td>\n",
       "      <td>True</td>\n",
       "      <td>False</td>\n",
       "    </tr>\n",
       "    <tr>\n",
       "      <th>2</th>\n",
       "      <td>2.036857</td>\n",
       "      <td>True</td>\n",
       "      <td>-0.268001</td>\n",
       "      <td>1.959998</td>\n",
       "      <td>-0.283579</td>\n",
       "      <td>5.695623</td>\n",
       "      <td>-0.219796</td>\n",
       "      <td>False</td>\n",
       "      <td>-1.733660</td>\n",
       "      <td>-0.491161</td>\n",
       "      <td>...</td>\n",
       "      <td>False</td>\n",
       "      <td>False</td>\n",
       "      <td>False</td>\n",
       "      <td>False</td>\n",
       "      <td>False</td>\n",
       "      <td>False</td>\n",
       "      <td>False</td>\n",
       "      <td>False</td>\n",
       "      <td>True</td>\n",
       "      <td>False</td>\n",
       "    </tr>\n",
       "    <tr>\n",
       "      <th>3</th>\n",
       "      <td>0.293552</td>\n",
       "      <td>False</td>\n",
       "      <td>-0.333105</td>\n",
       "      <td>0.523010</td>\n",
       "      <td>0.336851</td>\n",
       "      <td>2.687176</td>\n",
       "      <td>-0.092818</td>\n",
       "      <td>False</td>\n",
       "      <td>-1.733660</td>\n",
       "      <td>0.457443</td>\n",
       "      <td>...</td>\n",
       "      <td>False</td>\n",
       "      <td>False</td>\n",
       "      <td>False</td>\n",
       "      <td>False</td>\n",
       "      <td>False</td>\n",
       "      <td>False</td>\n",
       "      <td>False</td>\n",
       "      <td>False</td>\n",
       "      <td>True</td>\n",
       "      <td>False</td>\n",
       "    </tr>\n",
       "    <tr>\n",
       "      <th>4</th>\n",
       "      <td>-0.891895</td>\n",
       "      <td>False</td>\n",
       "      <td>0.125652</td>\n",
       "      <td>-0.237159</td>\n",
       "      <td>-0.031059</td>\n",
       "      <td>0.231374</td>\n",
       "      <td>-0.261240</td>\n",
       "      <td>True</td>\n",
       "      <td>-1.733286</td>\n",
       "      <td>-0.491161</td>\n",
       "      <td>...</td>\n",
       "      <td>False</td>\n",
       "      <td>False</td>\n",
       "      <td>False</td>\n",
       "      <td>True</td>\n",
       "      <td>False</td>\n",
       "      <td>False</td>\n",
       "      <td>False</td>\n",
       "      <td>False</td>\n",
       "      <td>True</td>\n",
       "      <td>False</td>\n",
       "    </tr>\n",
       "  </tbody>\n",
       "</table>\n",
       "<p>5 rows × 34 columns</p>\n",
       "</div>"
      ],
      "text/plain": [
       "        Age    VIP  RoomService  FoodCourt  ShoppingMall       Spa    VRDeck  \\\n",
       "0  0.711945  False    -0.333105  -0.281027     -0.283579 -0.270626 -0.263003   \n",
       "1 -0.334037  False    -0.168073  -0.275387     -0.241771  0.217158 -0.224205   \n",
       "2  2.036857   True    -0.268001   1.959998     -0.283579  5.695623 -0.219796   \n",
       "3  0.293552  False    -0.333105   0.523010      0.336851  2.687176 -0.092818   \n",
       "4 -0.891895  False     0.125652  -0.237159     -0.031059  0.231374 -0.261240   \n",
       "\n",
       "   Transported   GroupId  PassengerNumber  ...  Deck_C  Deck_D  Deck_E  \\\n",
       "0        False -1.734409        -0.491161  ...   False   False   False   \n",
       "1         True -1.734034        -0.491161  ...   False   False   False   \n",
       "2        False -1.733660        -0.491161  ...   False   False   False   \n",
       "3        False -1.733660         0.457443  ...   False   False   False   \n",
       "4         True -1.733286        -0.491161  ...   False   False   False   \n",
       "\n",
       "   Deck_F  Deck_G  Deck_T  Deck_Unknown  Side_P  Side_S  Side_Unknown  \n",
       "0   False   False   False         False    True   False         False  \n",
       "1    True   False   False         False   False    True         False  \n",
       "2   False   False   False         False   False    True         False  \n",
       "3   False   False   False         False   False    True         False  \n",
       "4    True   False   False         False   False    True         False  \n",
       "\n",
       "[5 rows x 34 columns]"
      ]
     },
     "execution_count": 26,
     "metadata": {},
     "output_type": "execute_result"
    }
   ],
   "source": [
    "train_data_not_transformed.head()"
   ]
  },
  {
   "cell_type": "markdown",
   "id": "0c25a540",
   "metadata": {
    "papermill": {
     "duration": 0.016585,
     "end_time": "2025-07-09T03:10:43.132431",
     "exception": false,
     "start_time": "2025-07-09T03:10:43.115846",
     "status": "completed"
    },
    "tags": []
   },
   "source": [
    "<h3>Feature Selection</h3>"
   ]
  },
  {
   "cell_type": "markdown",
   "id": "84dee9ba",
   "metadata": {
    "papermill": {
     "duration": 0.017344,
     "end_time": "2025-07-09T03:10:43.166466",
     "exception": false,
     "start_time": "2025-07-09T03:10:43.149122",
     "status": "completed"
    },
    "tags": []
   },
   "source": [
    "<h5>Now, to have the optimal dataset to use for the ML models, we need to find out which features are important and which are not to further clean the dataset. We will use three methods to figure out the important features.</h5>"
   ]
  },
  {
   "cell_type": "code",
   "execution_count": 27,
   "id": "2bebb006",
   "metadata": {
    "execution": {
     "iopub.execute_input": "2025-07-09T03:10:43.201678Z",
     "iopub.status.busy": "2025-07-09T03:10:43.201404Z",
     "iopub.status.idle": "2025-07-09T03:10:43.224663Z",
     "shell.execute_reply": "2025-07-09T03:10:43.223561Z"
    },
    "papermill": {
     "duration": 0.043224,
     "end_time": "2025-07-09T03:10:43.226723",
     "exception": false,
     "start_time": "2025-07-09T03:10:43.183499",
     "status": "completed"
    },
    "tags": []
   },
   "outputs": [
    {
     "name": "stdout",
     "output_type": "stream",
     "text": [
      "PassengerNumber     0.066390\n",
      "GroupId             0.021491\n",
      "Num                -0.044502\n",
      "Age                -0.074233\n",
      "FoodCourt_log      -0.135029\n",
      "ShoppingMall_log   -0.178536\n",
      "VRDeck_log         -0.338688\n",
      "RoomService_log    -0.356220\n",
      "Spa_log            -0.361903\n",
      "dtype: float64\n"
     ]
    },
    {
     "data": {
      "text/plain": [
       "GroupId              4.510427e-02\n",
       "Num                  3.315266e-05\n",
       "PassengerNumber      5.795692e-10\n",
       "Age                  4.216286e-12\n",
       "FoodCourt_log        1.181515e-36\n",
       "ShoppingMall_log     3.500258e-63\n",
       "VRDeck_log          2.908178e-232\n",
       "RoomService_log     1.950700e-258\n",
       "Spa_log             2.762929e-267\n",
       "dtype: float64"
      ]
     },
     "execution_count": 27,
     "metadata": {},
     "output_type": "execute_result"
    }
   ],
   "source": [
    "correlations = {}\n",
    "p_scores = {}\n",
    "\n",
    "for col in train_data_scaled.select_dtypes(include='number').columns:\n",
    "    corr, p = pointbiserialr(train_data_scaled[col], train_data_scaled['Transported'])\n",
    "    correlations[col] = corr\n",
    "    p_scores[col] = p\n",
    "\n",
    "# Sort and display\n",
    "print(pd.Series(correlations).sort_values(ascending=False))\n",
    "pd.Series(p_scores).sort_values(ascending=False)"
   ]
  },
  {
   "cell_type": "markdown",
   "id": "b3d1cacf",
   "metadata": {
    "papermill": {
     "duration": 0.018355,
     "end_time": "2025-07-09T03:10:43.264378",
     "exception": false,
     "start_time": "2025-07-09T03:10:43.246023",
     "status": "completed"
    },
    "tags": []
   },
   "source": [
    "<h5>We can see that \"TotalExpenses_log\" has a strong negative correlation. The others have weak negative correlations. You can see that \"TotalExpenses_log\" is highly statistically significant, so for sure it will be used in model training. 'Num' and 'Age', although weak in correlation, are still significant (not as high as 'TotalExpenses_log' though), so they will need further testing in model training and testing. \"GroupId\" has a low statistical significance, so it probably doesn't have a huge say if a passenger was transported or not, but sometimes if mixed with another feature, it can lead to it being important.</h5>"
   ]
  },
  {
   "cell_type": "code",
   "execution_count": 28,
   "id": "4cfc567c",
   "metadata": {
    "execution": {
     "iopub.execute_input": "2025-07-09T03:10:43.302848Z",
     "iopub.status.busy": "2025-07-09T03:10:43.302543Z",
     "iopub.status.idle": "2025-07-09T03:10:43.320209Z",
     "shell.execute_reply": "2025-07-09T03:10:43.319276Z"
    },
    "papermill": {
     "duration": 0.039121,
     "end_time": "2025-07-09T03:10:43.321625",
     "exception": false,
     "start_time": "2025-07-09T03:10:43.282504",
     "status": "completed"
    },
    "tags": []
   },
   "outputs": [
    {
     "name": "stdout",
     "output_type": "stream",
     "text": [
      "PassengerNumber    0.066390\n",
      "FoodCourt          0.045583\n",
      "GroupId            0.021491\n",
      "ShoppingMall       0.009391\n",
      "Num               -0.044502\n",
      "Age               -0.074233\n",
      "VRDeck            -0.204874\n",
      "Spa               -0.218545\n",
      "RoomService       -0.241124\n",
      "dtype: float64\n"
     ]
    },
    {
     "data": {
      "text/plain": [
       "ShoppingMall        3.813140e-01\n",
       "GroupId             4.510427e-02\n",
       "Num                 3.315266e-05\n",
       "FoodCourt           2.122241e-05\n",
       "PassengerNumber     5.795692e-10\n",
       "Age                 4.216286e-12\n",
       "VRDeck              4.969701e-83\n",
       "Spa                 1.701990e-94\n",
       "RoomService        3.205394e-115\n",
       "dtype: float64"
      ]
     },
     "execution_count": 28,
     "metadata": {},
     "output_type": "execute_result"
    }
   ],
   "source": [
    "correlations = {}\n",
    "p_scores = {}\n",
    "\n",
    "for col in train_data_not_transformed.select_dtypes(include='number').columns:\n",
    "    corr, p = pointbiserialr(train_data_not_transformed[col], train_data_not_transformed['Transported'])\n",
    "    correlations[col] = corr\n",
    "    p_scores[col] = p\n",
    "\n",
    "# Sort and display\n",
    "print(pd.Series(correlations).sort_values(ascending=False))\n",
    "pd.Series(p_scores).sort_values(ascending=False)"
   ]
  },
  {
   "cell_type": "markdown",
   "id": "b735eeb4",
   "metadata": {
    "papermill": {
     "duration": 0.016873,
     "end_time": "2025-07-09T03:10:43.355536",
     "exception": false,
     "start_time": "2025-07-09T03:10:43.338663",
     "status": "completed"
    },
    "tags": []
   },
   "source": [
    "<h5>For the non-transformed data, we can see similar results, other than the fact that 'TotalExpenses' has a lower correlation score. This could possibly be the fact that the outliers were kept, affecting correlation results. The statistical significance stayed about the same, so the same testing must be done for this dataset as well.</h5>"
   ]
  },
  {
   "cell_type": "code",
   "execution_count": 29,
   "id": "6ada2e0b",
   "metadata": {
    "execution": {
     "iopub.execute_input": "2025-07-09T03:10:43.390896Z",
     "iopub.status.busy": "2025-07-09T03:10:43.390579Z",
     "iopub.status.idle": "2025-07-09T03:10:43.454948Z",
     "shell.execute_reply": "2025-07-09T03:10:43.454111Z"
    },
    "papermill": {
     "duration": 0.084024,
     "end_time": "2025-07-09T03:10:43.456516",
     "exception": false,
     "start_time": "2025-07-09T03:10:43.372492",
     "status": "completed"
    },
    "tags": []
   },
   "outputs": [
    {
     "name": "stdout",
     "output_type": "stream",
     "text": [
      "CryoSleep      1861.749116\n",
      "Deck            392.288750\n",
      "HomePlanet      324.967237\n",
      "Destination     106.394882\n",
      "Side             91.475193\n",
      "VIP               5.029829\n",
      "dtype: float64\n"
     ]
    },
    {
     "data": {
      "text/plain": [
       "VIP            2.491436e-02\n",
       "Side           1.369034e-20\n",
       "Destination    6.547434e-23\n",
       "HomePlanet     3.921492e-70\n",
       "Deck           8.352488e-80\n",
       "CryoSleep      0.000000e+00\n",
       "dtype: float64"
      ]
     },
     "execution_count": 29,
     "metadata": {},
     "output_type": "execute_result"
    }
   ],
   "source": [
    "categorical_columns = [col for col in train_data_new.columns if train_data_new[col].dtype == 'object' or train_data_new[col].dtype == 'bool']\n",
    "chi2_scores = {}\n",
    "p_scores = {}\n",
    "\n",
    "for col in categorical_columns:\n",
    "    if col != 'Transported':\n",
    "        table = pd.crosstab(train_data_new[col], train_data_new['Transported'])\n",
    "        chi2, p, _, _ = chi2_contingency(table)\n",
    "        chi2_scores[col] = chi2\n",
    "        p_scores[col] = p\n",
    "\n",
    "# Sort and display\n",
    "print(pd.Series(chi2_scores).sort_values(ascending=False))\n",
    "pd.Series(p_scores).sort_values(ascending=False)"
   ]
  },
  {
   "cell_type": "markdown",
   "id": "b8f051ca",
   "metadata": {
    "papermill": {
     "duration": 0.017465,
     "end_time": "2025-07-09T03:10:43.491471",
     "exception": false,
     "start_time": "2025-07-09T03:10:43.474006",
     "status": "completed"
    },
    "tags": []
   },
   "source": [
    "<h5>We can see that the features \"CryoSleep\", \"Deck\", \"HomePlanet\", \"Destination\", and \"Side\" have strong chi2 scores, while \"VIP\" has a weak chi2 score. They are all statistically significant, so \"VIP\" will need further testing in model testing and training. Also note, CryoSleep seems to be VERY conencted to the result.</h5>"
   ]
  },
  {
   "cell_type": "markdown",
   "id": "ba2c1131",
   "metadata": {
    "papermill": {
     "duration": 0.016956,
     "end_time": "2025-07-09T03:10:43.525550",
     "exception": false,
     "start_time": "2025-07-09T03:10:43.508594",
     "status": "completed"
    },
    "tags": []
   },
   "source": [
    "<h3>Model Training</h3>"
   ]
  },
  {
   "cell_type": "code",
   "execution_count": 30,
   "id": "7a3010af",
   "metadata": {
    "execution": {
     "iopub.execute_input": "2025-07-09T03:10:43.561542Z",
     "iopub.status.busy": "2025-07-09T03:10:43.561236Z",
     "iopub.status.idle": "2025-07-09T03:10:43.750558Z",
     "shell.execute_reply": "2025-07-09T03:10:43.749723Z"
    },
    "papermill": {
     "duration": 0.209424,
     "end_time": "2025-07-09T03:10:43.752132",
     "exception": false,
     "start_time": "2025-07-09T03:10:43.542708",
     "status": "completed"
    },
    "tags": []
   },
   "outputs": [
    {
     "data": {
      "text/plain": [
       "<Axes: xlabel='Transported'>"
      ]
     },
     "execution_count": 30,
     "metadata": {},
     "output_type": "execute_result"
    },
    {
     "data": {
      "image/png": "[encoded data removed]",
      "text/plain": [
       "<Figure size 640x480 with 1 Axes>"
      ]
     },
     "metadata": {},
     "output_type": "display_data"
    }
   ],
   "source": [
    "train_data_scaled['Transported'].value_counts().plot.bar()"
   ]
  },
  {
   "cell_type": "markdown",
   "id": "b5125d3a",
   "metadata": {
    "papermill": {
     "duration": 0.017228,
     "end_time": "2025-07-09T03:10:43.787063",
     "exception": false,
     "start_time": "2025-07-09T03:10:43.769835",
     "status": "completed"
    },
    "tags": []
   },
   "source": [
    "<h5>We can see that the target column is almost balanced and that it doesn't skew towards one of the values too much, so we do not need to take extra measures like using F1 score as a metric. We can just use accuracy to determine how well a model performs. </h5>"
   ]
  },
  {
   "cell_type": "code",
   "execution_count": 31,
   "id": "e7e17051",
   "metadata": {
    "execution": {
     "iopub.execute_input": "2025-07-09T03:10:43.823314Z",
     "iopub.status.busy": "2025-07-09T03:10:43.823007Z",
     "iopub.status.idle": "2025-07-09T03:10:43.830494Z",
     "shell.execute_reply": "2025-07-09T03:10:43.829556Z"
    },
    "papermill": {
     "duration": 0.027837,
     "end_time": "2025-07-09T03:10:43.832238",
     "exception": false,
     "start_time": "2025-07-09T03:10:43.804401",
     "status": "completed"
    },
    "tags": []
   },
   "outputs": [],
   "source": [
    "X_scaled = train_data_scaled.drop('Transported', axis=1)\n",
    "X_not_transformed = train_data_not_transformed.drop('Transported', axis=1)\n",
    "y = train_data_scaled['Transported']"
   ]
  },
  {
   "cell_type": "code",
   "execution_count": 32,
   "id": "ef44ab74",
   "metadata": {
    "execution": {
     "iopub.execute_input": "2025-07-09T03:10:43.870000Z",
     "iopub.status.busy": "2025-07-09T03:10:43.869673Z",
     "iopub.status.idle": "2025-07-09T03:10:43.875062Z",
     "shell.execute_reply": "2025-07-09T03:10:43.874054Z"
    },
    "papermill": {
     "duration": 0.02601,
     "end_time": "2025-07-09T03:10:43.876628",
     "exception": false,
     "start_time": "2025-07-09T03:10:43.850618",
     "status": "completed"
    },
    "tags": []
   },
   "outputs": [],
   "source": [
    "models = {\n",
    "    'Logistic Regression' : LogisticRegression(max_iter=1000, n_jobs=-1),\n",
    "    \"Random Forest\" : RandomForestClassifier(n_estimators=100,\n",
    "                                            random_state=42,\n",
    "                                            n_jobs=-1),\n",
    "    \"XGB\" : XGBClassifier(random_state=42),\n",
    "    \"Gradient Boosting\" : GradientBoostingClassifier(random_state=42),\n",
    "    \"KNN\" : KNeighborsClassifier(n_neighbors=5)\n",
    "}"
   ]
  },
  {
   "cell_type": "markdown",
   "id": "3b49745e",
   "metadata": {
    "papermill": {
     "duration": 0.017464,
     "end_time": "2025-07-09T03:10:43.911813",
     "exception": false,
     "start_time": "2025-07-09T03:10:43.894349",
     "status": "completed"
    },
    "tags": []
   },
   "source": [
    "<h5>A reminder that we will need to remove the features that need further testing (found out during feature selection) one by one to determine their importance on the results of the model. Of course, we have to be careful of overfitting. </h5>"
   ]
  },
  {
   "cell_type": "code",
   "execution_count": 33,
   "id": "776b3c64",
   "metadata": {
    "execution": {
     "iopub.execute_input": "2025-07-09T03:10:43.964623Z",
     "iopub.status.busy": "2025-07-09T03:10:43.964351Z",
     "iopub.status.idle": "2025-07-09T03:14:15.690433Z",
     "shell.execute_reply": "2025-07-09T03:14:15.689441Z"
    },
    "papermill": {
     "duration": 211.762646,
     "end_time": "2025-07-09T03:14:15.692056",
     "exception": false,
     "start_time": "2025-07-09T03:10:43.929410",
     "status": "completed"
    },
    "tags": []
   },
   "outputs": [
    {
     "name": "stdout",
     "output_type": "stream",
     "text": [
      "====== Cross Validation for Dataset with Transformed Outliers ======\n",
      "\n",
      "******** Logistic Regression *********\n",
      "\n",
      "                                 dropped_cols  mean_acc   std_acc\n",
      "30                   (VIP, Num, Age, GroupId)  0.775222  0.008135\n",
      "25                        (Num, Age, GroupId)  0.775107  0.007671\n",
      "31  (PassengerNumber, VIP, Num, Age, GroupId)  0.774647  0.007374\n",
      "23                        (VIP, Num, GroupId)  0.774532  0.007721\n",
      "29       (PassengerNumber, Num, Age, GroupId)  0.774417  0.007342\n",
      "27       (PassengerNumber, VIP, Num, GroupId)  0.774301  0.007720\n",
      "14                             (Num, GroupId)  0.774186  0.007999\n",
      "20            (PassengerNumber, Num, GroupId)  0.774071  0.007843\n",
      "22                            (VIP, Num, Age)  0.773841  0.006898\n",
      "26           (PassengerNumber, VIP, Num, Age)  0.773611  0.006635\n",
      "10                                 (VIP, Num)  0.773610  0.007131\n",
      "3                                      (Num,)  0.773150  0.007229\n",
      "16                (PassengerNumber, VIP, Num)  0.773150  0.006973\n",
      "19                (PassengerNumber, Num, Age)  0.773035  0.006424\n",
      "2                                      (VIP,)  0.773035  0.008017\n",
      "13                                 (Num, Age)  0.772920  0.006442\n",
      "7                      (PassengerNumber, Num)  0.772920  0.007299\n",
      "12                             (VIP, GroupId)  0.772805  0.008173\n",
      "18            (PassengerNumber, VIP, GroupId)  0.772690  0.008051\n",
      "24                        (VIP, Age, GroupId)  0.772575  0.007686\n",
      "11                                 (VIP, Age)  0.772575  0.007534\n",
      "17                (PassengerNumber, VIP, Age)  0.772460  0.007409\n",
      "6                      (PassengerNumber, VIP)  0.772345  0.008138\n",
      "5                                  (GroupId,)  0.772230  0.008379\n",
      "0                                          ()  0.772230  0.008436\n",
      "28       (PassengerNumber, VIP, Age, GroupId)  0.772115  0.007398\n",
      "15                             (Age, GroupId)  0.772000  0.007338\n",
      "21            (PassengerNumber, Age, GroupId)  0.772000  0.007430\n",
      "9                  (PassengerNumber, GroupId)  0.772000  0.008679\n",
      "1                          (PassengerNumber,)  0.772000  0.008743\n",
      "8                      (PassengerNumber, Age)  0.771885  0.007694\n",
      "4                                      (Age,)  0.771770  0.007777\n",
      "\n",
      "******** Random Forest *********\n",
      "\n",
      "                                 dropped_cols  mean_acc   std_acc\n",
      "29       (PassengerNumber, Num, Age, GroupId)  0.792249  0.011304\n",
      "31  (PassengerNumber, VIP, Num, Age, GroupId)  0.790868  0.011716\n",
      "18            (PassengerNumber, VIP, GroupId)  0.789030  0.023258\n",
      "20            (PassengerNumber, Num, GroupId)  0.789027  0.010016\n",
      "27       (PassengerNumber, VIP, Num, GroupId)  0.788797  0.009371\n",
      "9                  (PassengerNumber, GroupId)  0.788684  0.023482\n",
      "5                                  (GroupId,)  0.788453  0.020453\n",
      "12                             (VIP, GroupId)  0.787419  0.024535\n",
      "23                        (VIP, Num, GroupId)  0.785807  0.012180\n",
      "14                             (Num, GroupId)  0.785346  0.011164\n",
      "30                   (VIP, Num, Age, GroupId)  0.783735  0.013800\n",
      "25                        (Num, Age, GroupId)  0.783505  0.010939\n",
      "24                        (VIP, Age, GroupId)  0.780862  0.027770\n",
      "15                             (Age, GroupId)  0.780517  0.024490\n",
      "16                (PassengerNumber, VIP, Num)  0.778102  0.031568\n",
      "3                                      (Num,)  0.777641  0.030801\n",
      "28       (PassengerNumber, VIP, Age, GroupId)  0.776952  0.029151\n",
      "10                                 (VIP, Num)  0.776490  0.030476\n",
      "7                      (PassengerNumber, Num)  0.775457  0.037295\n",
      "21            (PassengerNumber, Age, GroupId)  0.775227  0.030144\n",
      "0                                          ()  0.774075  0.034139\n",
      "2                                      (VIP,)  0.773039  0.036212\n",
      "1                          (PassengerNumber,)  0.770164  0.034907\n",
      "6                      (PassengerNumber, VIP)  0.769360  0.038731\n",
      "13                                 (Num, Age)  0.769129  0.034626\n",
      "22                            (VIP, Num, Age)  0.768784  0.035623\n",
      "26           (PassengerNumber, VIP, Num, Age)  0.768440  0.032669\n",
      "11                                 (VIP, Age)  0.765104  0.041440\n",
      "19                (PassengerNumber, Num, Age)  0.764530  0.034357\n",
      "4                                      (Age,)  0.757052  0.048502\n",
      "17                (PassengerNumber, VIP, Age)  0.756937  0.043136\n",
      "8                      (PassengerNumber, Age)  0.755902  0.042516\n",
      "\n",
      "******** XGB *********\n",
      "\n",
      "                                 dropped_cols  mean_acc   std_acc\n",
      "27       (PassengerNumber, VIP, Num, GroupId)  0.794550  0.014383\n",
      "23                        (VIP, Num, GroupId)  0.794090  0.014624\n",
      "14                             (Num, GroupId)  0.794089  0.010132\n",
      "20            (PassengerNumber, Num, GroupId)  0.791674  0.014555\n",
      "29       (PassengerNumber, Num, Age, GroupId)  0.790523  0.009560\n",
      "31  (PassengerNumber, VIP, Num, Age, GroupId)  0.789603  0.013518\n",
      "25                        (Num, Age, GroupId)  0.789028  0.018267\n",
      "30                   (VIP, Num, Age, GroupId)  0.788107  0.012374\n",
      "18            (PassengerNumber, VIP, GroupId)  0.776033  0.030369\n",
      "5                                  (GroupId,)  0.775226  0.027052\n",
      "12                             (VIP, GroupId)  0.771200  0.025093\n",
      "9                  (PassengerNumber, GroupId)  0.770626  0.030190\n",
      "24                        (VIP, Age, GroupId)  0.765909  0.025975\n",
      "15                             (Age, GroupId)  0.763724  0.031826\n",
      "21            (PassengerNumber, Age, GroupId)  0.762227  0.026072\n",
      "28       (PassengerNumber, VIP, Age, GroupId)  0.759582  0.028150\n",
      "0                                          ()  0.678944  0.037996\n",
      "6                      (PassengerNumber, VIP)  0.675034  0.037294\n",
      "2                                      (VIP,)  0.672847  0.042607\n",
      "1                          (PassengerNumber,)  0.667097  0.038443\n",
      "11                                 (VIP, Age)  0.666979  0.033075\n",
      "26           (PassengerNumber, VIP, Num, Age)  0.664216  0.017502\n",
      "16                (PassengerNumber, VIP, Num)  0.662718  0.020825\n",
      "17                (PassengerNumber, VIP, Age)  0.662493  0.034029\n",
      "7                      (PassengerNumber, Num)  0.659499  0.022261\n",
      "8                      (PassengerNumber, Age)  0.657660  0.031884\n",
      "3                                      (Num,)  0.656160  0.021224\n",
      "4                                      (Age,)  0.655247  0.041011\n",
      "19                (PassengerNumber, Num, Age)  0.654666  0.024885\n",
      "10                                 (VIP, Num)  0.653747  0.024205\n",
      "22                            (VIP, Num, Age)  0.639936  0.018196\n",
      "13                                 (Num, Age)  0.632118  0.026492\n",
      "\n",
      "******** Gradient Boosting *********\n",
      "\n",
      "                                 dropped_cols  mean_acc   std_acc\n",
      "20            (PassengerNumber, Num, GroupId)  0.800187  0.011939\n",
      "14                             (Num, GroupId)  0.799841  0.011056\n",
      "23                        (VIP, Num, GroupId)  0.799496  0.011282\n",
      "27       (PassengerNumber, VIP, Num, GroupId)  0.799266  0.011541\n",
      "29       (PassengerNumber, Num, Age, GroupId)  0.796160  0.008964\n",
      "31  (PassengerNumber, VIP, Num, Age, GroupId)  0.795470  0.009000\n",
      "30                   (VIP, Num, Age, GroupId)  0.795470  0.009372\n",
      "25                        (Num, Age, GroupId)  0.795355  0.010279\n",
      "5                                  (GroupId,)  0.793172  0.024809\n",
      "9                  (PassengerNumber, GroupId)  0.792596  0.023604\n",
      "18            (PassengerNumber, VIP, GroupId)  0.791331  0.024825\n",
      "12                             (VIP, GroupId)  0.790525  0.024446\n",
      "24                        (VIP, Age, GroupId)  0.790411  0.024776\n",
      "28       (PassengerNumber, VIP, Age, GroupId)  0.789490  0.023324\n",
      "21            (PassengerNumber, Age, GroupId)  0.788915  0.023171\n",
      "15                             (Age, GroupId)  0.788225  0.023263\n",
      "16                (PassengerNumber, VIP, Num)  0.718514  0.058232\n",
      "19                (PassengerNumber, Num, Age)  0.716903  0.056650\n",
      "10                                 (VIP, Num)  0.716213  0.068678\n",
      "22                            (VIP, Num, Age)  0.715292  0.053002\n",
      "13                                 (Num, Age)  0.714025  0.052747\n",
      "26           (PassengerNumber, VIP, Num, Age)  0.712418  0.064244\n",
      "7                      (PassengerNumber, Num)  0.712303  0.068755\n",
      "3                                      (Num,)  0.704939  0.079388\n",
      "11                                 (VIP, Age)  0.701491  0.073969\n",
      "8                      (PassengerNumber, Age)  0.701376  0.083509\n",
      "0                                          ()  0.700569  0.082954\n",
      "2                                      (VIP,)  0.699994  0.082036\n",
      "17                (PassengerNumber, VIP, Age)  0.697581  0.087425\n",
      "1                          (PassengerNumber,)  0.694929  0.081635\n",
      "6                      (PassengerNumber, VIP)  0.692399  0.084406\n",
      "4                                      (Age,)  0.689755  0.067410\n",
      "\n",
      "******** KNN *********\n",
      "\n",
      "                                 dropped_cols  mean_acc   std_acc\n",
      "12                             (VIP, GroupId)  0.765675  0.017965\n",
      "0                                          ()  0.765446  0.021783\n",
      "2                                      (VIP,)  0.765217  0.021112\n",
      "5                                  (GroupId,)  0.764640  0.018882\n",
      "10                                 (VIP, Num)  0.764065  0.018855\n",
      "18            (PassengerNumber, VIP, GroupId)  0.763835  0.017166\n",
      "3                                      (Num,)  0.763144  0.020419\n",
      "9                  (PassengerNumber, GroupId)  0.762915  0.016198\n",
      "21            (PassengerNumber, Age, GroupId)  0.762456  0.022284\n",
      "16                (PassengerNumber, VIP, Num)  0.762340  0.017474\n",
      "7                      (PassengerNumber, Num)  0.761996  0.019467\n",
      "28       (PassengerNumber, VIP, Age, GroupId)  0.761995  0.021436\n",
      "15                             (Age, GroupId)  0.761764  0.018054\n",
      "24                        (VIP, Age, GroupId)  0.761419  0.017991\n",
      "26           (PassengerNumber, VIP, Num, Age)  0.760385  0.019969\n",
      "1                          (PassengerNumber,)  0.760271  0.020384\n",
      "29       (PassengerNumber, Num, Age, GroupId)  0.760039  0.019212\n",
      "11                                 (VIP, Age)  0.759810  0.024325\n",
      "31  (PassengerNumber, VIP, Num, Age, GroupId)  0.759808  0.017685\n",
      "19                (PassengerNumber, Num, Age)  0.759695  0.022608\n",
      "4                                      (Age,)  0.759695  0.023527\n",
      "27       (PassengerNumber, VIP, Num, GroupId)  0.759693  0.005097\n",
      "20            (PassengerNumber, Num, GroupId)  0.759347  0.004816\n",
      "6                      (PassengerNumber, VIP)  0.759120  0.018317\n",
      "13                                 (Num, Age)  0.758428  0.021697\n",
      "17                (PassengerNumber, VIP, Age)  0.757625  0.021754\n",
      "22                            (VIP, Num, Age)  0.757623  0.020253\n",
      "8                      (PassengerNumber, Age)  0.756475  0.023307\n",
      "30                   (VIP, Num, Age, GroupId)  0.755667  0.013416\n",
      "25                        (Num, Age, GroupId)  0.754402  0.012319\n",
      "23                        (VIP, Num, GroupId)  0.754056  0.005165\n",
      "14                             (Num, GroupId)  0.752330  0.003231\n",
      "\n"
     ]
    }
   ],
   "source": [
    "print(\"====== Cross Validation for Dataset with Transformed Outliers ======\")\n",
    "print()\n",
    "\n",
    "columns_to_test = ['PassengerNumber', 'VIP', 'Num', 'Age', 'GroupId']\n",
    "\n",
    "# go through each classifier and do cross validation on them\n",
    "for name, clf in models.items():\n",
    "    print(f\"******** {name} *********\")\n",
    "    print()\n",
    "\n",
    "    results = []\n",
    "\n",
    "    # no columns removed\n",
    "    baseline_acc = cross_val_score(clf, X_scaled, y, cv=5, scoring='accuracy', n_jobs=-1)\n",
    "    results.append({\n",
    "        'dropped_cols': (),\n",
    "        'mean_acc': baseline_acc.mean(),\n",
    "        'std_acc': baseline_acc.std()\n",
    "    })\n",
    "\n",
    "    # Find every subset of the columns that need further testing and remove them from\n",
    "    # dataset to see if any has an affect on the results\n",
    "    for r in range(1, len(columns_to_test) + 1):\n",
    "        for subset in itertools.combinations(columns_to_test, r):\n",
    "                \n",
    "            X_train = X_scaled.drop(list(subset), axis=1)\n",
    "        \n",
    "            cv_acc = cross_val_score(clf, X_train, y, cv=5, scoring='accuracy', n_jobs=-1)\n",
    "\n",
    "            results.append({\n",
    "                'dropped_cols': subset,\n",
    "                'mean_acc': cv_acc.mean(),\n",
    "                'std_acc': cv_acc.std()\n",
    "            })\n",
    "\n",
    "    results_df = pd.DataFrame(results).sort_values('mean_acc', ascending=False)\n",
    "    print(results_df)\n",
    "    print()"
   ]
  },
  {
   "cell_type": "code",
   "execution_count": 34,
   "id": "5677f064",
   "metadata": {
    "execution": {
     "iopub.execute_input": "2025-07-09T03:14:15.730344Z",
     "iopub.status.busy": "2025-07-09T03:14:15.730055Z",
     "iopub.status.idle": "2025-07-09T03:17:51.455957Z",
     "shell.execute_reply": "2025-07-09T03:17:51.454807Z"
    },
    "papermill": {
     "duration": 215.747086,
     "end_time": "2025-07-09T03:17:51.457593",
     "exception": false,
     "start_time": "2025-07-09T03:14:15.710507",
     "status": "completed"
    },
    "tags": []
   },
   "outputs": [
    {
     "name": "stdout",
     "output_type": "stream",
     "text": [
      "====== Cross Validation for Dataset with Outliers ======\n",
      "******** Logistic Regression *********\n",
      "\n",
      "                                 dropped_cols  mean_acc   std_acc\n",
      "32  (PassengerNumber, VIP, Num, Age, GroupId)  0.788336  0.007458\n",
      "28       (PassengerNumber, VIP, Num, GroupId)  0.788220  0.007384\n",
      "30       (PassengerNumber, Num, Age, GroupId)  0.788106  0.007852\n",
      "26                        (Num, Age, GroupId)  0.787876  0.006907\n",
      "21            (PassengerNumber, Num, GroupId)  0.787875  0.007524\n",
      "24                        (VIP, Num, GroupId)  0.787530  0.007023\n",
      "15                             (Num, GroupId)  0.787415  0.007400\n",
      "31                   (VIP, Num, Age, GroupId)  0.787300  0.006423\n",
      "12                                 (VIP, Age)  0.786610  0.009531\n",
      "27           (PassengerNumber, VIP, Num, Age)  0.786380  0.008697\n",
      "29       (PassengerNumber, VIP, Age, GroupId)  0.786150  0.009392\n",
      "5                                      (Age,)  0.786150  0.009498\n",
      "20                (PassengerNumber, Num, Age)  0.786034  0.008915\n",
      "23                            (VIP, Num, Age)  0.785920  0.008686\n",
      "17                (PassengerNumber, VIP, Num)  0.785919  0.008065\n",
      "25                        (VIP, Age, GroupId)  0.785805  0.009416\n",
      "18                (PassengerNumber, VIP, Age)  0.785805  0.008891\n",
      "3                                      (VIP,)  0.785689  0.007610\n",
      "19            (PassengerNumber, VIP, GroupId)  0.785689  0.008308\n",
      "14                                 (Num, Age)  0.785574  0.009229\n",
      "0                                          ()  0.785574  0.007975\n",
      "1                                          ()  0.785574  0.007975\n",
      "11                                 (VIP, Num)  0.785574  0.007738\n",
      "8                      (PassengerNumber, Num)  0.785574  0.008048\n",
      "9                      (PassengerNumber, Age)  0.785459  0.008905\n",
      "13                             (VIP, GroupId)  0.785459  0.007839\n",
      "7                      (PassengerNumber, VIP)  0.785459  0.008317\n",
      "16                             (Age, GroupId)  0.785345  0.009253\n",
      "10                 (PassengerNumber, GroupId)  0.785344  0.008520\n",
      "22            (PassengerNumber, Age, GroupId)  0.785230  0.009508\n",
      "2                          (PassengerNumber,)  0.785229  0.008154\n",
      "4                                      (Num,)  0.785229  0.007705\n",
      "6                                  (GroupId,)  0.785114  0.008053\n",
      "\n",
      "******** Random Forest *********\n",
      "\n",
      "                                 dropped_cols  mean_acc   std_acc\n",
      "30       (PassengerNumber, Num, Age, GroupId)  0.792364  0.013473\n",
      "32  (PassengerNumber, VIP, Num, Age, GroupId)  0.791558  0.010727\n",
      "21            (PassengerNumber, Num, GroupId)  0.790753  0.009217\n",
      "10                 (PassengerNumber, GroupId)  0.790524  0.022490\n",
      "13                             (VIP, GroupId)  0.790294  0.024207\n",
      "28       (PassengerNumber, VIP, Num, GroupId)  0.787876  0.006839\n",
      "19            (PassengerNumber, VIP, GroupId)  0.787764  0.022937\n",
      "6                                  (GroupId,)  0.787649  0.024112\n",
      "15                             (Num, GroupId)  0.786496  0.006839\n",
      "31                   (VIP, Num, Age, GroupId)  0.785691  0.014539\n",
      "26                        (Num, Age, GroupId)  0.785116  0.014343\n",
      "16                             (Age, GroupId)  0.785004  0.028204\n",
      "24                        (VIP, Num, GroupId)  0.784771  0.009860\n",
      "25                        (VIP, Age, GroupId)  0.781553  0.026393\n",
      "17                (PassengerNumber, VIP, Num)  0.779252  0.029869\n",
      "22            (PassengerNumber, Age, GroupId)  0.776607  0.028857\n",
      "11                                 (VIP, Num)  0.775339  0.030992\n",
      "29       (PassengerNumber, VIP, Age, GroupId)  0.775227  0.031986\n",
      "4                                      (Num,)  0.775110  0.033152\n",
      "8                      (PassengerNumber, Num)  0.773385  0.030078\n",
      "3                                      (VIP,)  0.772810  0.033345\n",
      "23                            (VIP, Num, Age)  0.769704  0.034321\n",
      "7                      (PassengerNumber, VIP)  0.769359  0.036814\n",
      "20                (PassengerNumber, Num, Age)  0.768785  0.031329\n",
      "27           (PassengerNumber, VIP, Num, Age)  0.768441  0.033466\n",
      "14                                 (Num, Age)  0.767749  0.036312\n",
      "2                          (PassengerNumber,)  0.767290  0.040008\n",
      "18                (PassengerNumber, VIP, Age)  0.762688  0.037201\n",
      "0                                          ()  0.762458  0.047456\n",
      "1                                          ()  0.762458  0.047456\n",
      "12                                 (VIP, Age)  0.761078  0.043071\n",
      "5                                      (Age,)  0.760272  0.042242\n",
      "9                      (PassengerNumber, Age)  0.752106  0.043948\n",
      "\n",
      "******** XGB *********\n",
      "\n",
      "                                 dropped_cols  mean_acc   std_acc\n",
      "24                        (VIP, Num, GroupId)  0.795240  0.015519\n",
      "15                             (Num, GroupId)  0.793629  0.010046\n",
      "28       (PassengerNumber, VIP, Num, GroupId)  0.793514  0.012303\n",
      "21            (PassengerNumber, Num, GroupId)  0.791559  0.015465\n",
      "30       (PassengerNumber, Num, Age, GroupId)  0.789833  0.010443\n",
      "31                   (VIP, Num, Age, GroupId)  0.789603  0.012490\n",
      "32  (PassengerNumber, VIP, Num, Age, GroupId)  0.789028  0.014101\n",
      "26                        (Num, Age, GroupId)  0.787533  0.017587\n",
      "6                                  (GroupId,)  0.775457  0.027631\n",
      "13                             (VIP, GroupId)  0.773156  0.026638\n",
      "19            (PassengerNumber, VIP, GroupId)  0.772236  0.027028\n",
      "10                 (PassengerNumber, GroupId)  0.770972  0.031133\n",
      "29       (PassengerNumber, VIP, Age, GroupId)  0.766140  0.032799\n",
      "25                        (VIP, Age, GroupId)  0.764528  0.026004\n",
      "16                             (Age, GroupId)  0.763955  0.032192\n",
      "22            (PassengerNumber, Age, GroupId)  0.761652  0.021616\n",
      "3                                      (VIP,)  0.680094  0.033859\n",
      "0                                          ()  0.674573  0.044507\n",
      "1                                          ()  0.674573  0.044507\n",
      "18                (PassengerNumber, VIP, Age)  0.671010  0.045886\n",
      "2                          (PassengerNumber,)  0.670202  0.033028\n",
      "7                      (PassengerNumber, VIP)  0.668702  0.028321\n",
      "12                                 (VIP, Age)  0.668017  0.045420\n",
      "9                      (PassengerNumber, Age)  0.667325  0.041684\n",
      "17                (PassengerNumber, VIP, Num)  0.665366  0.025006\n",
      "5                                      (Age,)  0.663529  0.033228\n",
      "11                                 (VIP, Num)  0.662491  0.027466\n",
      "27           (PassengerNumber, VIP, Num, Age)  0.662030  0.019521\n",
      "4                                      (Num,)  0.658002  0.023020\n",
      "8                      (PassengerNumber, Num)  0.652940  0.015903\n",
      "20                (PassengerNumber, Num, Age)  0.644084  0.036205\n",
      "23                            (VIP, Num, Age)  0.634305  0.037086\n",
      "14                                 (Num, Age)  0.620615  0.038804\n",
      "\n",
      "******** Gradient Boosting *********\n",
      "\n",
      "                                 dropped_cols  mean_acc   std_acc\n",
      "21            (PassengerNumber, Num, GroupId)  0.800071  0.011884\n",
      "15                             (Num, GroupId)  0.799726  0.011023\n",
      "24                        (VIP, Num, GroupId)  0.799266  0.011407\n",
      "28       (PassengerNumber, VIP, Num, GroupId)  0.799151  0.011492\n",
      "30       (PassengerNumber, Num, Age, GroupId)  0.796160  0.008964\n",
      "31                   (VIP, Num, Age, GroupId)  0.795470  0.009372\n",
      "32  (PassengerNumber, VIP, Num, Age, GroupId)  0.795355  0.008933\n",
      "26                        (Num, Age, GroupId)  0.795240  0.010239\n",
      "6                                  (GroupId,)  0.793287  0.024971\n",
      "10                 (PassengerNumber, GroupId)  0.792596  0.023604\n",
      "19            (PassengerNumber, VIP, GroupId)  0.791446  0.024846\n",
      "25                        (VIP, Age, GroupId)  0.790526  0.024948\n",
      "13                             (VIP, GroupId)  0.790410  0.024267\n",
      "29       (PassengerNumber, VIP, Age, GroupId)  0.789605  0.023347\n",
      "22            (PassengerNumber, Age, GroupId)  0.788915  0.023171\n",
      "16                             (Age, GroupId)  0.788225  0.023263\n",
      "11                                 (VIP, Num)  0.718974  0.064381\n",
      "17                (PassengerNumber, VIP, Num)  0.718284  0.058299\n",
      "8                      (PassengerNumber, Num)  0.717824  0.059367\n",
      "20                (PassengerNumber, Num, Age)  0.716673  0.056684\n",
      "23                            (VIP, Num, Age)  0.714947  0.052884\n",
      "14                                 (Num, Age)  0.713565  0.052815\n",
      "27           (PassengerNumber, VIP, Num, Age)  0.712418  0.064244\n",
      "4                                      (Num,)  0.704939  0.079388\n",
      "9                      (PassengerNumber, Age)  0.701491  0.083600\n",
      "12                                 (VIP, Age)  0.701490  0.073442\n",
      "1                                          ()  0.700224  0.083075\n",
      "0                                          ()  0.700224  0.083075\n",
      "3                                      (VIP,)  0.699879  0.082073\n",
      "18                (PassengerNumber, VIP, Age)  0.699076  0.084855\n",
      "2                          (PassengerNumber,)  0.694584  0.082191\n",
      "7                      (PassengerNumber, VIP)  0.692514  0.084509\n",
      "5                                      (Age,)  0.689755  0.067410\n",
      "\n",
      "******** KNN *********\n",
      "\n",
      "                                 dropped_cols  mean_acc   std_acc\n",
      "19            (PassengerNumber, VIP, GroupId)  0.778329  0.012686\n",
      "13                             (VIP, GroupId)  0.777753  0.013840\n",
      "10                 (PassengerNumber, GroupId)  0.776488  0.011963\n",
      "6                                  (GroupId,)  0.776372  0.014208\n",
      "0                                          ()  0.772348  0.017493\n",
      "1                                          ()  0.772348  0.017493\n",
      "8                      (PassengerNumber, Num)  0.772117  0.012610\n",
      "2                          (PassengerNumber,)  0.771889  0.018668\n",
      "3                                      (VIP,)  0.771542  0.017673\n",
      "4                                      (Num,)  0.771427  0.014737\n",
      "17                (PassengerNumber, VIP, Num)  0.771313  0.014146\n",
      "11                                 (VIP, Num)  0.770622  0.014123\n",
      "7                      (PassengerNumber, VIP)  0.770393  0.019082\n",
      "32  (PassengerNumber, VIP, Num, Age, GroupId)  0.768781  0.013404\n",
      "28       (PassengerNumber, VIP, Num, GroupId)  0.768320  0.009647\n",
      "30       (PassengerNumber, Num, Age, GroupId)  0.767170  0.012275\n",
      "21            (PassengerNumber, Num, GroupId)  0.767169  0.010411\n",
      "29       (PassengerNumber, VIP, Age, GroupId)  0.765677  0.018934\n",
      "22            (PassengerNumber, Age, GroupId)  0.764411  0.018006\n",
      "15                             (Num, GroupId)  0.762568  0.006682\n",
      "24                        (VIP, Num, GroupId)  0.761993  0.007498\n",
      "25                        (VIP, Age, GroupId)  0.761879  0.014111\n",
      "27           (PassengerNumber, VIP, Num, Age)  0.761306  0.020195\n",
      "31                   (VIP, Num, Age, GroupId)  0.760958  0.008288\n",
      "5                                      (Age,)  0.760615  0.017508\n",
      "16                             (Age, GroupId)  0.760153  0.013660\n",
      "23                            (VIP, Num, Age)  0.759924  0.015290\n",
      "14                                 (Num, Age)  0.759578  0.014801\n",
      "12                                 (VIP, Age)  0.759465  0.017416\n",
      "20                (PassengerNumber, Num, Age)  0.759350  0.020701\n",
      "9                      (PassengerNumber, Age)  0.759121  0.020063\n",
      "18                (PassengerNumber, VIP, Age)  0.758891  0.019806\n",
      "26                        (Num, Age, GroupId)  0.758772  0.005624\n",
      "\n"
     ]
    }
   ],
   "source": [
    "print(\"====== Cross Validation for Dataset with Outliers ======\")\n",
    "columns_to_test = ['PassengerNumber', 'VIP', 'Num', 'Age', 'GroupId']\n",
    "\n",
    "# go through each classifier and do cross validation on them\n",
    "for name, clf in models.items():\n",
    "    print(f\"******** {name} *********\")\n",
    "    print()\n",
    "    \n",
    "    results = []\n",
    "\n",
    "    # no columns removed\n",
    "    baseline_acc = cross_val_score(clf, X_not_transformed, y, cv=5, scoring='accuracy', n_jobs=-1)\n",
    "    results.append({\n",
    "        'dropped_cols': (),\n",
    "        'mean_acc': baseline_acc.mean(),\n",
    "        'std_acc': baseline_acc.std()\n",
    "    })\n",
    "\n",
    "    # Find every subset of the columns that need further testing and remove them from\n",
    "    # dataset to see if any has an affect on the results\n",
    "    for r in range(0, len(columns_to_test) + 1):\n",
    "        for subset in itertools.combinations(columns_to_test, r):\n",
    "            X_train = X_not_transformed.drop(list(subset), axis=1)\n",
    "\n",
    "            warnings.filterwarnings(\"ignore\")\n",
    "            cv_acc = cross_val_score(clf, X_train, y, cv=5, scoring='accuracy', n_jobs=-1)\n",
    "\n",
    "            results.append({\n",
    "                'dropped_cols': subset,\n",
    "                'mean_acc': cv_acc.mean(),\n",
    "                'std_acc': cv_acc.std()\n",
    "            })\n",
    "\n",
    "    results_df = pd.DataFrame(results).sort_values('mean_acc', ascending=False)\n",
    "    print(results_df)\n",
    "    print()"
   ]
  },
  {
   "cell_type": "markdown",
   "id": "c1ba2d26",
   "metadata": {
    "papermill": {
     "duration": 0.018856,
     "end_time": "2025-07-09T03:17:51.496419",
     "exception": false,
     "start_time": "2025-07-09T03:17:51.477563",
     "status": "completed"
    },
    "tags": []
   },
   "source": [
    "<h3>Model Testing</h3>"
   ]
  },
  {
   "cell_type": "markdown",
   "id": "14d72c89",
   "metadata": {
    "papermill": {
     "duration": 0.01966,
     "end_time": "2025-07-09T03:17:51.535040",
     "exception": false,
     "start_time": "2025-07-09T03:17:51.515380",
     "status": "completed"
    },
    "tags": []
   },
   "source": [
    "<h3>Results</h3>"
   ]
  }
 ],
 "metadata": {
  "kaggle": {
   "accelerator": "none",
   "dataSources": [
    {
     "datasetId": 7796953,
     "sourceId": 12366369,
     "sourceType": "datasetVersion"
    }
   ],
   "dockerImageVersionId": 31040,
   "isGpuEnabled": false,
   "isInternetEnabled": true,
   "language": "python",
   "sourceType": "notebook"
  },
  "kernelspec": {
   "display_name": "Python 3",
   "language": "python",
   "name": "python3"
  },
  "language_info": {
   "codemirror_mode": {
    "name": "ipython",
    "version": 3
   },
   "file_extension": ".py",
   "mimetype": "text/x-python",
   "name": "python",
   "nbconvert_exporter": "python",
   "pygments_lexer": "ipython3",
   "version": "3.11.11"
  },
  "papermill": {
   "default_parameters": {},
   "duration": 456.985493,
   "end_time": "2025-07-09T03:17:54.175741",
   "environment_variables": {},
   "exception": null,
   "input_path": "__notebook__.ipynb",
   "output_path": "__notebook__.ipynb",
   "parameters": {},
   "start_time": "2025-07-09T03:10:17.190248",
   "version": "2.6.0"
  }
 },
 "nbformat": 4,
 "nbformat_minor": 5
}
