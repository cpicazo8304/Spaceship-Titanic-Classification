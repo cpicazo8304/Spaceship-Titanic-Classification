{
 "cells": [
  {
   "cell_type": "code",
   "execution_count": 1,
   "id": "1930f22c",
   "metadata": {
    "_cell_guid": "b1076dfc-b9ad-4769-8c92-a6c4dae69d19",
    "_uuid": "8f2839f25d086af736a60e9eeb907d3b93b6e0e5",
    "execution": {
     "iopub.execute_input": "2025-07-04T23:05:08.329386Z",
     "iopub.status.busy": "2025-07-04T23:05:08.329010Z",
     "iopub.status.idle": "2025-07-04T23:05:10.132843Z",
     "shell.execute_reply": "2025-07-04T23:05:10.131867Z"
    },
    "papermill": {
     "duration": 1.812933,
     "end_time": "2025-07-04T23:05:10.135091",
     "exception": false,
     "start_time": "2025-07-04T23:05:08.322158",
     "status": "completed"
    },
    "tags": []
   },
   "outputs": [
    {
     "name": "stdout",
     "output_type": "stream",
     "text": [
      "/kaggle/input/spaceship-titanic-passenger-data/README.md\n",
      "/kaggle/input/spaceship-titanic-passenger-data/data/sample_submission.csv\n",
      "/kaggle/input/spaceship-titanic-passenger-data/data/train.csv\n",
      "/kaggle/input/spaceship-titanic-passenger-data/data/test.csv\n"
     ]
    }
   ],
   "source": [
    "# This Python 3 environment comes with many helpful analytics libraries installed\n",
    "# It is defined by the kaggle/python Docker image: https://github.com/kaggle/docker-python\n",
    "# For example, here's several helpful packages to load\n",
    "\n",
    "import numpy as np # linear algebra\n",
    "import pandas as pd # data processing, CSV file I/O (e.g. pd.read_csv)\n",
    "\n",
    "# Input data files are available in the read-only \"../input/\" directory\n",
    "# For example, running this (by clicking run or pressing Shift+Enter) will list all files under the input directory\n",
    "\n",
    "import os\n",
    "for dirname, _, filenames in os.walk('/kaggle/input'):\n",
    "    for filename in filenames:\n",
    "        print(os.path.join(dirname, filename))\n",
    "\n",
    "# You can write up to 20GB to the current directory (/kaggle/working/) that gets preserved as output when you create a version using \"Save & Run All\" \n",
    "# You can also write temporary files to /kaggle/temp/, but they won't be saved outside of the current session"
   ]
  },
  {
   "cell_type": "markdown",
   "id": "6b7ff9c3",
   "metadata": {
    "papermill": {
     "duration": 0.006239,
     "end_time": "2025-07-04T23:05:10.149558",
     "exception": false,
     "start_time": "2025-07-04T23:05:10.143319",
     "status": "completed"
    },
    "tags": []
   },
   "source": [
    "<h3>Import Libraries</h3>"
   ]
  },
  {
   "cell_type": "code",
   "execution_count": null,
   "id": "51777c41",
   "metadata": {
    "papermill": {
     "duration": 0.00394,
     "end_time": "2025-07-04T23:05:10.157704",
     "exception": false,
     "start_time": "2025-07-04T23:05:10.153764",
     "status": "completed"
    },
    "tags": []
   },
   "outputs": [],
   "source": []
  },
  {
   "cell_type": "markdown",
   "id": "a92c11f9",
   "metadata": {
    "papermill": {
     "duration": 0.00385,
     "end_time": "2025-07-04T23:05:10.165804",
     "exception": false,
     "start_time": "2025-07-04T23:05:10.161954",
     "status": "completed"
    },
    "tags": []
   },
   "source": [
    "<h3>Feature Selection</h3>"
   ]
  },
  {
   "cell_type": "code",
   "execution_count": 2,
   "id": "6f604bde",
   "metadata": {
    "execution": {
     "iopub.execute_input": "2025-07-04T23:05:10.176166Z",
     "iopub.status.busy": "2025-07-04T23:05:10.175154Z",
     "iopub.status.idle": "2025-07-04T23:05:10.235225Z",
     "shell.execute_reply": "2025-07-04T23:05:10.234255Z"
    },
    "papermill": {
     "duration": 0.067117,
     "end_time": "2025-07-04T23:05:10.236951",
     "exception": false,
     "start_time": "2025-07-04T23:05:10.169834",
     "status": "completed"
    },
    "tags": []
   },
   "outputs": [],
   "source": [
    "train_data = pd.read_csv(\"/kaggle/input/spaceship-titanic-passenger-data/data/train.csv\")"
   ]
  },
  {
   "cell_type": "code",
   "execution_count": 3,
   "id": "b6a5e3c6",
   "metadata": {
    "execution": {
     "iopub.execute_input": "2025-07-04T23:05:10.247240Z",
     "iopub.status.busy": "2025-07-04T23:05:10.246894Z",
     "iopub.status.idle": "2025-07-04T23:05:10.281938Z",
     "shell.execute_reply": "2025-07-04T23:05:10.281049Z"
    },
    "papermill": {
     "duration": 0.041943,
     "end_time": "2025-07-04T23:05:10.283478",
     "exception": false,
     "start_time": "2025-07-04T23:05:10.241535",
     "status": "completed"
    },
    "tags": []
   },
   "outputs": [
    {
     "data": {
      "text/html": [
       "<div>\n",
       "<style scoped>\n",
       "    .dataframe tbody tr th:only-of-type {\n",
       "        vertical-align: middle;\n",
       "    }\n",
       "\n",
       "    .dataframe tbody tr th {\n",
       "        vertical-align: top;\n",
       "    }\n",
       "\n",
       "    .dataframe thead th {\n",
       "        text-align: right;\n",
       "    }\n",
       "</style>\n",
       "<table border=\"1\" class=\"dataframe\">\n",
       "  <thead>\n",
       "    <tr style=\"text-align: right;\">\n",
       "      <th></th>\n",
       "      <th>PassengerId</th>\n",
       "      <th>HomePlanet</th>\n",
       "      <th>CryoSleep</th>\n",
       "      <th>Cabin</th>\n",
       "      <th>Destination</th>\n",
       "      <th>Age</th>\n",
       "      <th>VIP</th>\n",
       "      <th>RoomService</th>\n",
       "      <th>FoodCourt</th>\n",
       "      <th>ShoppingMall</th>\n",
       "      <th>Spa</th>\n",
       "      <th>VRDeck</th>\n",
       "      <th>Name</th>\n",
       "      <th>Transported</th>\n",
       "    </tr>\n",
       "  </thead>\n",
       "  <tbody>\n",
       "    <tr>\n",
       "      <th>0</th>\n",
       "      <td>0001_01</td>\n",
       "      <td>Europa</td>\n",
       "      <td>False</td>\n",
       "      <td>B/0/P</td>\n",
       "      <td>TRAPPIST-1e</td>\n",
       "      <td>39.0</td>\n",
       "      <td>False</td>\n",
       "      <td>0.0</td>\n",
       "      <td>0.0</td>\n",
       "      <td>0.0</td>\n",
       "      <td>0.0</td>\n",
       "      <td>0.0</td>\n",
       "      <td>Maham Ofracculy</td>\n",
       "      <td>False</td>\n",
       "    </tr>\n",
       "    <tr>\n",
       "      <th>1</th>\n",
       "      <td>0002_01</td>\n",
       "      <td>Earth</td>\n",
       "      <td>False</td>\n",
       "      <td>F/0/S</td>\n",
       "      <td>TRAPPIST-1e</td>\n",
       "      <td>24.0</td>\n",
       "      <td>False</td>\n",
       "      <td>109.0</td>\n",
       "      <td>9.0</td>\n",
       "      <td>25.0</td>\n",
       "      <td>549.0</td>\n",
       "      <td>44.0</td>\n",
       "      <td>Juanna Vines</td>\n",
       "      <td>True</td>\n",
       "    </tr>\n",
       "    <tr>\n",
       "      <th>2</th>\n",
       "      <td>0003_01</td>\n",
       "      <td>Europa</td>\n",
       "      <td>False</td>\n",
       "      <td>A/0/S</td>\n",
       "      <td>TRAPPIST-1e</td>\n",
       "      <td>58.0</td>\n",
       "      <td>True</td>\n",
       "      <td>43.0</td>\n",
       "      <td>3576.0</td>\n",
       "      <td>0.0</td>\n",
       "      <td>6715.0</td>\n",
       "      <td>49.0</td>\n",
       "      <td>Altark Susent</td>\n",
       "      <td>False</td>\n",
       "    </tr>\n",
       "    <tr>\n",
       "      <th>3</th>\n",
       "      <td>0003_02</td>\n",
       "      <td>Europa</td>\n",
       "      <td>False</td>\n",
       "      <td>A/0/S</td>\n",
       "      <td>TRAPPIST-1e</td>\n",
       "      <td>33.0</td>\n",
       "      <td>False</td>\n",
       "      <td>0.0</td>\n",
       "      <td>1283.0</td>\n",
       "      <td>371.0</td>\n",
       "      <td>3329.0</td>\n",
       "      <td>193.0</td>\n",
       "      <td>Solam Susent</td>\n",
       "      <td>False</td>\n",
       "    </tr>\n",
       "    <tr>\n",
       "      <th>4</th>\n",
       "      <td>0004_01</td>\n",
       "      <td>Earth</td>\n",
       "      <td>False</td>\n",
       "      <td>F/1/S</td>\n",
       "      <td>TRAPPIST-1e</td>\n",
       "      <td>16.0</td>\n",
       "      <td>False</td>\n",
       "      <td>303.0</td>\n",
       "      <td>70.0</td>\n",
       "      <td>151.0</td>\n",
       "      <td>565.0</td>\n",
       "      <td>2.0</td>\n",
       "      <td>Willy Santantines</td>\n",
       "      <td>True</td>\n",
       "    </tr>\n",
       "  </tbody>\n",
       "</table>\n",
       "</div>"
      ],
      "text/plain": [
       "  PassengerId HomePlanet CryoSleep  Cabin  Destination   Age    VIP  \\\n",
       "0     0001_01     Europa     False  B/0/P  TRAPPIST-1e  39.0  False   \n",
       "1     0002_01      Earth     False  F/0/S  TRAPPIST-1e  24.0  False   \n",
       "2     0003_01     Europa     False  A/0/S  TRAPPIST-1e  58.0   True   \n",
       "3     0003_02     Europa     False  A/0/S  TRAPPIST-1e  33.0  False   \n",
       "4     0004_01      Earth     False  F/1/S  TRAPPIST-1e  16.0  False   \n",
       "\n",
       "   RoomService  FoodCourt  ShoppingMall     Spa  VRDeck               Name  \\\n",
       "0          0.0        0.0           0.0     0.0     0.0    Maham Ofracculy   \n",
       "1        109.0        9.0          25.0   549.0    44.0       Juanna Vines   \n",
       "2         43.0     3576.0           0.0  6715.0    49.0      Altark Susent   \n",
       "3          0.0     1283.0         371.0  3329.0   193.0       Solam Susent   \n",
       "4        303.0       70.0         151.0   565.0     2.0  Willy Santantines   \n",
       "\n",
       "   Transported  \n",
       "0        False  \n",
       "1         True  \n",
       "2        False  \n",
       "3        False  \n",
       "4         True  "
      ]
     },
     "execution_count": 3,
     "metadata": {},
     "output_type": "execute_result"
    }
   ],
   "source": [
    "train_data.head()"
   ]
  },
  {
   "cell_type": "code",
   "execution_count": 4,
   "id": "a8157648",
   "metadata": {
    "execution": {
     "iopub.execute_input": "2025-07-04T23:05:10.294508Z",
     "iopub.status.busy": "2025-07-04T23:05:10.294177Z",
     "iopub.status.idle": "2025-07-04T23:05:10.325761Z",
     "shell.execute_reply": "2025-07-04T23:05:10.324632Z"
    },
    "papermill": {
     "duration": 0.038802,
     "end_time": "2025-07-04T23:05:10.327387",
     "exception": false,
     "start_time": "2025-07-04T23:05:10.288585",
     "status": "completed"
    },
    "tags": []
   },
   "outputs": [
    {
     "name": "stdout",
     "output_type": "stream",
     "text": [
      "<class 'pandas.core.frame.DataFrame'>\n",
      "RangeIndex: 8693 entries, 0 to 8692\n",
      "Data columns (total 14 columns):\n",
      " #   Column        Non-Null Count  Dtype  \n",
      "---  ------        --------------  -----  \n",
      " 0   PassengerId   8693 non-null   object \n",
      " 1   HomePlanet    8492 non-null   object \n",
      " 2   CryoSleep     8476 non-null   object \n",
      " 3   Cabin         8494 non-null   object \n",
      " 4   Destination   8511 non-null   object \n",
      " 5   Age           8514 non-null   float64\n",
      " 6   VIP           8490 non-null   object \n",
      " 7   RoomService   8512 non-null   float64\n",
      " 8   FoodCourt     8510 non-null   float64\n",
      " 9   ShoppingMall  8485 non-null   float64\n",
      " 10  Spa           8510 non-null   float64\n",
      " 11  VRDeck        8505 non-null   float64\n",
      " 12  Name          8493 non-null   object \n",
      " 13  Transported   8693 non-null   bool   \n",
      "dtypes: bool(1), float64(6), object(7)\n",
      "memory usage: 891.5+ KB\n"
     ]
    }
   ],
   "source": [
    "train_data.info()"
   ]
  },
  {
   "cell_type": "markdown",
   "id": "ba272357",
   "metadata": {
    "papermill": {
     "duration": 0.007529,
     "end_time": "2025-07-04T23:05:10.343418",
     "exception": false,
     "start_time": "2025-07-04T23:05:10.335889",
     "status": "completed"
    },
    "tags": []
   },
   "source": [
    "<h5>We can see that for some of the features, there are values that are missing (null values). Therefore, we must take action. Since, at most, there are about 2.3% of the 8693 entries that are missing for one feature, it would be better to impute (or fill out) those missing values.</h5>"
   ]
  },
  {
   "cell_type": "markdown",
   "id": "3154a2ea",
   "metadata": {
    "papermill": {
     "duration": 0.004469,
     "end_time": "2025-07-04T23:05:10.352449",
     "exception": false,
     "start_time": "2025-07-04T23:05:10.347980",
     "status": "completed"
    },
    "tags": []
   },
   "source": [
    "<h3>Deleting Non-Important Columns</h3>"
   ]
  },
  {
   "cell_type": "markdown",
   "id": "2b2aa981",
   "metadata": {
    "papermill": {
     "duration": 0.004542,
     "end_time": "2025-07-04T23:05:10.361384",
     "exception": false,
     "start_time": "2025-07-04T23:05:10.356842",
     "status": "completed"
    },
    "tags": []
   },
   "source": [
    "<h5>Since the features \"Name\" and \"PassengerId\" are unique identifiers, they may not affect the results as much as the other features. For this reason, we wil remove these two columns from the data.</h5>"
   ]
  },
  {
   "cell_type": "code",
   "execution_count": 5,
   "id": "30c7dea0",
   "metadata": {
    "execution": {
     "iopub.execute_input": "2025-07-04T23:05:10.372915Z",
     "iopub.status.busy": "2025-07-04T23:05:10.372061Z",
     "iopub.status.idle": "2025-07-04T23:05:10.381672Z",
     "shell.execute_reply": "2025-07-04T23:05:10.380935Z"
    },
    "papermill": {
     "duration": 0.017016,
     "end_time": "2025-07-04T23:05:10.383078",
     "exception": false,
     "start_time": "2025-07-04T23:05:10.366062",
     "status": "completed"
    },
    "tags": []
   },
   "outputs": [],
   "source": [
    "train_data.drop(['PassengerId', 'Name'], axis=1, inplace=True)"
   ]
  },
  {
   "cell_type": "code",
   "execution_count": 6,
   "id": "1d8ab912",
   "metadata": {
    "execution": {
     "iopub.execute_input": "2025-07-04T23:05:10.393651Z",
     "iopub.status.busy": "2025-07-04T23:05:10.393013Z",
     "iopub.status.idle": "2025-07-04T23:05:10.409855Z",
     "shell.execute_reply": "2025-07-04T23:05:10.408807Z"
    },
    "papermill": {
     "duration": 0.023861,
     "end_time": "2025-07-04T23:05:10.411496",
     "exception": false,
     "start_time": "2025-07-04T23:05:10.387635",
     "status": "completed"
    },
    "tags": []
   },
   "outputs": [
    {
     "name": "stdout",
     "output_type": "stream",
     "text": [
      "<class 'pandas.core.frame.DataFrame'>\n",
      "RangeIndex: 8693 entries, 0 to 8692\n",
      "Data columns (total 12 columns):\n",
      " #   Column        Non-Null Count  Dtype  \n",
      "---  ------        --------------  -----  \n",
      " 0   HomePlanet    8492 non-null   object \n",
      " 1   CryoSleep     8476 non-null   object \n",
      " 2   Cabin         8494 non-null   object \n",
      " 3   Destination   8511 non-null   object \n",
      " 4   Age           8514 non-null   float64\n",
      " 5   VIP           8490 non-null   object \n",
      " 6   RoomService   8512 non-null   float64\n",
      " 7   FoodCourt     8510 non-null   float64\n",
      " 8   ShoppingMall  8485 non-null   float64\n",
      " 9   Spa           8510 non-null   float64\n",
      " 10  VRDeck        8505 non-null   float64\n",
      " 11  Transported   8693 non-null   bool   \n",
      "dtypes: bool(1), float64(6), object(5)\n",
      "memory usage: 755.7+ KB\n"
     ]
    }
   ],
   "source": [
    "train_data.info()"
   ]
  },
  {
   "cell_type": "markdown",
   "id": "e8ad6d70",
   "metadata": {
    "papermill": {
     "duration": 0.005407,
     "end_time": "2025-07-04T23:05:10.425919",
     "exception": false,
     "start_time": "2025-07-04T23:05:10.420512",
     "status": "completed"
    },
    "tags": []
   },
   "source": [
    "<h3>Missing Value Handling</h3>"
   ]
  },
  {
   "cell_type": "code",
   "execution_count": 7,
   "id": "27ba3a8d",
   "metadata": {
    "execution": {
     "iopub.execute_input": "2025-07-04T23:05:10.436360Z",
     "iopub.status.busy": "2025-07-04T23:05:10.435961Z",
     "iopub.status.idle": "2025-07-04T23:05:10.458139Z",
     "shell.execute_reply": "2025-07-04T23:05:10.457311Z"
    },
    "papermill": {
     "duration": 0.029046,
     "end_time": "2025-07-04T23:05:10.459435",
     "exception": false,
     "start_time": "2025-07-04T23:05:10.430389",
     "status": "completed"
    },
    "tags": []
   },
   "outputs": [
    {
     "name": "stdout",
     "output_type": "stream",
     "text": [
      "HomePlanet: ['Europa' 'Earth' 'Mars' nan]\n",
      "Length of Unique Values: 4\n",
      "\n",
      "CryoSleep: [False True nan]\n",
      "Length of Unique Values: 3\n",
      "\n",
      "Cabin: ['B/0/P' 'F/0/S' 'A/0/S' ... 'G/1499/S' 'G/1500/S' 'E/608/S']\n",
      "Length of Unique Values: 6561\n",
      "\n",
      "Destination: ['TRAPPIST-1e' 'PSO J318.5-22' '55 Cancri e' nan]\n",
      "Length of Unique Values: 4\n",
      "\n",
      "Age: [39. 24. 58. 33. 16. 44. 26. 28. 35. 14. 34. 45. 32. 48. 31. 27.  0.  1.\n",
      " 49. 29. 10.  7. 21. 62. 15. 43. 47.  2. 20. 23. 30. 17. 55.  4. 19. 56.\n",
      " nan 25. 38. 36. 22. 18. 42. 37. 13.  8. 40.  3. 54.  9.  6. 64. 67. 61.\n",
      " 50. 41. 57. 11. 52. 51. 46. 60. 63. 59.  5. 79. 68. 74. 12. 53. 65. 71.\n",
      " 75. 70. 76. 78. 73. 66. 69. 72. 77.]\n",
      "Length of Unique Values: 81\n",
      "\n",
      "VIP: [False True nan]\n",
      "Length of Unique Values: 3\n",
      "\n",
      "RoomService: [   0.  109.   43. ... 1569. 8586.  745.]\n",
      "Length of Unique Values: 1274\n",
      "\n",
      "FoodCourt: [   0.    9. 3576. ... 3208. 6819. 4688.]\n",
      "Length of Unique Values: 1508\n",
      "\n",
      "ShoppingMall: [   0.   25.  371. ... 1085.  510. 1872.]\n",
      "Length of Unique Values: 1116\n",
      "\n",
      "Spa: [   0.  549. 6715. ... 2868. 1107. 1643.]\n",
      "Length of Unique Values: 1328\n",
      "\n",
      "VRDeck: [   0.   44.   49. ... 1164.  971. 3235.]\n",
      "Length of Unique Values: 1307\n",
      "\n"
     ]
    }
   ],
   "source": [
    "# print out the unique values for each feature that contains at least\n",
    "# one null value\n",
    "for column in train_data.columns:\n",
    "    if train_data[column].isnull().any():\n",
    "        unique_vals = train_data[column].unique()\n",
    "        print(f\"{column}: {unique_vals}\")\n",
    "        print(f\"Length of Unique Values: {len(unique_vals)}\")\n",
    "        print()"
   ]
  },
  {
   "cell_type": "markdown",
   "id": "62e33c94",
   "metadata": {
    "papermill": {
     "duration": 0.004431,
     "end_time": "2025-07-04T23:05:10.468881",
     "exception": false,
     "start_time": "2025-07-04T23:05:10.464450",
     "status": "completed"
    },
    "tags": []
   },
   "source": [
    "<h5>First, I want to split the 'Cabin' column into three separate columns to split the deck, num, and side into their own columns to better process the data. </h5>"
   ]
  },
  {
   "cell_type": "code",
   "execution_count": 8,
   "id": "400b6cb7",
   "metadata": {
    "execution": {
     "iopub.execute_input": "2025-07-04T23:05:10.480901Z",
     "iopub.status.busy": "2025-07-04T23:05:10.480531Z",
     "iopub.status.idle": "2025-07-04T23:05:10.509297Z",
     "shell.execute_reply": "2025-07-04T23:05:10.508528Z"
    },
    "papermill": {
     "duration": 0.03709,
     "end_time": "2025-07-04T23:05:10.510628",
     "exception": false,
     "start_time": "2025-07-04T23:05:10.473538",
     "status": "completed"
    },
    "tags": []
   },
   "outputs": [],
   "source": [
    "deck_col = []\n",
    "num_col = []\n",
    "side_col = []\n",
    "\n",
    "# go through the Cabin column to separate the details of the passenger's \n",
    "# location into three (deck, num, side) so that they can be in their \n",
    "# own column. \n",
    "for val in train_data['Cabin']:\n",
    "    # Check if the value is a missing value\n",
    "    if pd.notna(val):\n",
    "        # split the string\n",
    "        deck, num, side = val.split('/')\n",
    "        \n",
    "        deck_col.append(deck)\n",
    "        num_col.append(int(num))\n",
    "        side_col.append(side)\n",
    "    else:\n",
    "        # Add the \"Unknown\" string to the columns to represent a missing\n",
    "        # value\n",
    "        deck_col.append('Unknown')\n",
    "        num_col.append('Unknown')\n",
    "        side_col.append('Unknown')\n",
    "        \n",
    "train_data_new = train_data.drop('Cabin', axis=1)\n",
    "train_data_new['Deck'] = deck_col\n",
    "train_data_new['Num'] = num_col\n",
    "train_data_new['Num'] = pd.to_numeric(train_data_new['Num'], errors='coerce')\n",
    "train_data_new['Side'] = side_col"
   ]
  },
  {
   "cell_type": "code",
   "execution_count": 9,
   "id": "6327f8ce",
   "metadata": {
    "execution": {
     "iopub.execute_input": "2025-07-04T23:05:10.522098Z",
     "iopub.status.busy": "2025-07-04T23:05:10.521304Z",
     "iopub.status.idle": "2025-07-04T23:05:10.542323Z",
     "shell.execute_reply": "2025-07-04T23:05:10.541548Z"
    },
    "papermill": {
     "duration": 0.02776,
     "end_time": "2025-07-04T23:05:10.543549",
     "exception": false,
     "start_time": "2025-07-04T23:05:10.515789",
     "status": "completed"
    },
    "tags": []
   },
   "outputs": [
    {
     "data": {
      "text/html": [
       "<div>\n",
       "<style scoped>\n",
       "    .dataframe tbody tr th:only-of-type {\n",
       "        vertical-align: middle;\n",
       "    }\n",
       "\n",
       "    .dataframe tbody tr th {\n",
       "        vertical-align: top;\n",
       "    }\n",
       "\n",
       "    .dataframe thead th {\n",
       "        text-align: right;\n",
       "    }\n",
       "</style>\n",
       "<table border=\"1\" class=\"dataframe\">\n",
       "  <thead>\n",
       "    <tr style=\"text-align: right;\">\n",
       "      <th></th>\n",
       "      <th>HomePlanet</th>\n",
       "      <th>CryoSleep</th>\n",
       "      <th>Destination</th>\n",
       "      <th>Age</th>\n",
       "      <th>VIP</th>\n",
       "      <th>RoomService</th>\n",
       "      <th>FoodCourt</th>\n",
       "      <th>ShoppingMall</th>\n",
       "      <th>Spa</th>\n",
       "      <th>VRDeck</th>\n",
       "      <th>Transported</th>\n",
       "      <th>Deck</th>\n",
       "      <th>Num</th>\n",
       "      <th>Side</th>\n",
       "    </tr>\n",
       "  </thead>\n",
       "  <tbody>\n",
       "    <tr>\n",
       "      <th>0</th>\n",
       "      <td>Europa</td>\n",
       "      <td>False</td>\n",
       "      <td>TRAPPIST-1e</td>\n",
       "      <td>39.0</td>\n",
       "      <td>False</td>\n",
       "      <td>0.0</td>\n",
       "      <td>0.0</td>\n",
       "      <td>0.0</td>\n",
       "      <td>0.0</td>\n",
       "      <td>0.0</td>\n",
       "      <td>False</td>\n",
       "      <td>B</td>\n",
       "      <td>0.0</td>\n",
       "      <td>P</td>\n",
       "    </tr>\n",
       "    <tr>\n",
       "      <th>1</th>\n",
       "      <td>Earth</td>\n",
       "      <td>False</td>\n",
       "      <td>TRAPPIST-1e</td>\n",
       "      <td>24.0</td>\n",
       "      <td>False</td>\n",
       "      <td>109.0</td>\n",
       "      <td>9.0</td>\n",
       "      <td>25.0</td>\n",
       "      <td>549.0</td>\n",
       "      <td>44.0</td>\n",
       "      <td>True</td>\n",
       "      <td>F</td>\n",
       "      <td>0.0</td>\n",
       "      <td>S</td>\n",
       "    </tr>\n",
       "    <tr>\n",
       "      <th>2</th>\n",
       "      <td>Europa</td>\n",
       "      <td>False</td>\n",
       "      <td>TRAPPIST-1e</td>\n",
       "      <td>58.0</td>\n",
       "      <td>True</td>\n",
       "      <td>43.0</td>\n",
       "      <td>3576.0</td>\n",
       "      <td>0.0</td>\n",
       "      <td>6715.0</td>\n",
       "      <td>49.0</td>\n",
       "      <td>False</td>\n",
       "      <td>A</td>\n",
       "      <td>0.0</td>\n",
       "      <td>S</td>\n",
       "    </tr>\n",
       "    <tr>\n",
       "      <th>3</th>\n",
       "      <td>Europa</td>\n",
       "      <td>False</td>\n",
       "      <td>TRAPPIST-1e</td>\n",
       "      <td>33.0</td>\n",
       "      <td>False</td>\n",
       "      <td>0.0</td>\n",
       "      <td>1283.0</td>\n",
       "      <td>371.0</td>\n",
       "      <td>3329.0</td>\n",
       "      <td>193.0</td>\n",
       "      <td>False</td>\n",
       "      <td>A</td>\n",
       "      <td>0.0</td>\n",
       "      <td>S</td>\n",
       "    </tr>\n",
       "    <tr>\n",
       "      <th>4</th>\n",
       "      <td>Earth</td>\n",
       "      <td>False</td>\n",
       "      <td>TRAPPIST-1e</td>\n",
       "      <td>16.0</td>\n",
       "      <td>False</td>\n",
       "      <td>303.0</td>\n",
       "      <td>70.0</td>\n",
       "      <td>151.0</td>\n",
       "      <td>565.0</td>\n",
       "      <td>2.0</td>\n",
       "      <td>True</td>\n",
       "      <td>F</td>\n",
       "      <td>1.0</td>\n",
       "      <td>S</td>\n",
       "    </tr>\n",
       "  </tbody>\n",
       "</table>\n",
       "</div>"
      ],
      "text/plain": [
       "  HomePlanet CryoSleep  Destination   Age    VIP  RoomService  FoodCourt  \\\n",
       "0     Europa     False  TRAPPIST-1e  39.0  False          0.0        0.0   \n",
       "1      Earth     False  TRAPPIST-1e  24.0  False        109.0        9.0   \n",
       "2     Europa     False  TRAPPIST-1e  58.0   True         43.0     3576.0   \n",
       "3     Europa     False  TRAPPIST-1e  33.0  False          0.0     1283.0   \n",
       "4      Earth     False  TRAPPIST-1e  16.0  False        303.0       70.0   \n",
       "\n",
       "   ShoppingMall     Spa  VRDeck  Transported Deck  Num Side  \n",
       "0           0.0     0.0     0.0        False    B  0.0    P  \n",
       "1          25.0   549.0    44.0         True    F  0.0    S  \n",
       "2           0.0  6715.0    49.0        False    A  0.0    S  \n",
       "3         371.0  3329.0   193.0        False    A  0.0    S  \n",
       "4         151.0   565.0     2.0         True    F  1.0    S  "
      ]
     },
     "execution_count": 9,
     "metadata": {},
     "output_type": "execute_result"
    }
   ],
   "source": [
    "train_data_new.head()"
   ]
  },
  {
   "cell_type": "code",
   "execution_count": 10,
   "id": "e7f63bc5",
   "metadata": {
    "execution": {
     "iopub.execute_input": "2025-07-04T23:05:10.555765Z",
     "iopub.status.busy": "2025-07-04T23:05:10.555311Z",
     "iopub.status.idle": "2025-07-04T23:05:10.568706Z",
     "shell.execute_reply": "2025-07-04T23:05:10.567712Z"
    },
    "papermill": {
     "duration": 0.021522,
     "end_time": "2025-07-04T23:05:10.570165",
     "exception": false,
     "start_time": "2025-07-04T23:05:10.548643",
     "status": "completed"
    },
    "tags": []
   },
   "outputs": [
    {
     "name": "stdout",
     "output_type": "stream",
     "text": [
      "<class 'pandas.core.frame.DataFrame'>\n",
      "RangeIndex: 8693 entries, 0 to 8692\n",
      "Data columns (total 14 columns):\n",
      " #   Column        Non-Null Count  Dtype  \n",
      "---  ------        --------------  -----  \n",
      " 0   HomePlanet    8492 non-null   object \n",
      " 1   CryoSleep     8476 non-null   object \n",
      " 2   Destination   8511 non-null   object \n",
      " 3   Age           8514 non-null   float64\n",
      " 4   VIP           8490 non-null   object \n",
      " 5   RoomService   8512 non-null   float64\n",
      " 6   FoodCourt     8510 non-null   float64\n",
      " 7   ShoppingMall  8485 non-null   float64\n",
      " 8   Spa           8510 non-null   float64\n",
      " 9   VRDeck        8505 non-null   float64\n",
      " 10  Transported   8693 non-null   bool   \n",
      " 11  Deck          8693 non-null   object \n",
      " 12  Num           8494 non-null   float64\n",
      " 13  Side          8693 non-null   object \n",
      "dtypes: bool(1), float64(7), object(6)\n",
      "memory usage: 891.5+ KB\n"
     ]
    }
   ],
   "source": [
    "train_data_new.info()"
   ]
  },
  {
   "cell_type": "markdown",
   "id": "0dfa539e",
   "metadata": {
    "papermill": {
     "duration": 0.0047,
     "end_time": "2025-07-04T23:05:10.580119",
     "exception": false,
     "start_time": "2025-07-04T23:05:10.575419",
     "status": "completed"
    },
    "tags": []
   },
   "source": [
    "<h5>For string objects, we will just replace the null values with the string 'Unknown'. For the age, VRDeck, Spa, ShoppingMall, FoodCourt, RoomService feature, we will replace the null values with the median age.</h5>"
   ]
  },
  {
   "cell_type": "code",
   "execution_count": 11,
   "id": "7ac36231",
   "metadata": {
    "execution": {
     "iopub.execute_input": "2025-07-04T23:05:10.590934Z",
     "iopub.status.busy": "2025-07-04T23:05:10.590591Z",
     "iopub.status.idle": "2025-07-04T23:05:10.607719Z",
     "shell.execute_reply": "2025-07-04T23:05:10.606966Z"
    },
    "papermill": {
     "duration": 0.024433,
     "end_time": "2025-07-04T23:05:10.609361",
     "exception": false,
     "start_time": "2025-07-04T23:05:10.584928",
     "status": "completed"
    },
    "tags": []
   },
   "outputs": [],
   "source": [
    "for column in train_data_new.columns:\n",
    "    if train_data_new[column].isnull().any():\n",
    "        if train_data_new[column].dtype == 'object':\n",
    "            train_data_new[column] = train_data_new[column].fillna('Unknown')          \n",
    "        elif train_data_new[column].dtype == 'float64':\n",
    "            median = train_data_new[column].median()\n",
    "            train_data_new[column] = train_data_new[column].fillna(median)"
   ]
  },
  {
   "cell_type": "code",
   "execution_count": 12,
   "id": "6fe6ed72",
   "metadata": {
    "execution": {
     "iopub.execute_input": "2025-07-04T23:05:10.621020Z",
     "iopub.status.busy": "2025-07-04T23:05:10.620719Z",
     "iopub.status.idle": "2025-07-04T23:05:10.633855Z",
     "shell.execute_reply": "2025-07-04T23:05:10.632972Z"
    },
    "papermill": {
     "duration": 0.020342,
     "end_time": "2025-07-04T23:05:10.635209",
     "exception": false,
     "start_time": "2025-07-04T23:05:10.614867",
     "status": "completed"
    },
    "tags": []
   },
   "outputs": [
    {
     "name": "stdout",
     "output_type": "stream",
     "text": [
      "<class 'pandas.core.frame.DataFrame'>\n",
      "RangeIndex: 8693 entries, 0 to 8692\n",
      "Data columns (total 14 columns):\n",
      " #   Column        Non-Null Count  Dtype  \n",
      "---  ------        --------------  -----  \n",
      " 0   HomePlanet    8693 non-null   object \n",
      " 1   CryoSleep     8693 non-null   object \n",
      " 2   Destination   8693 non-null   object \n",
      " 3   Age           8693 non-null   float64\n",
      " 4   VIP           8693 non-null   object \n",
      " 5   RoomService   8693 non-null   float64\n",
      " 6   FoodCourt     8693 non-null   float64\n",
      " 7   ShoppingMall  8693 non-null   float64\n",
      " 8   Spa           8693 non-null   float64\n",
      " 9   VRDeck        8693 non-null   float64\n",
      " 10  Transported   8693 non-null   bool   \n",
      " 11  Deck          8693 non-null   object \n",
      " 12  Num           8693 non-null   float64\n",
      " 13  Side          8693 non-null   object \n",
      "dtypes: bool(1), float64(7), object(6)\n",
      "memory usage: 891.5+ KB\n"
     ]
    }
   ],
   "source": [
    "train_data_new.info()"
   ]
  },
  {
   "cell_type": "markdown",
   "id": "acb86a52",
   "metadata": {
    "papermill": {
     "duration": 0.004718,
     "end_time": "2025-07-04T23:05:10.644941",
     "exception": false,
     "start_time": "2025-07-04T23:05:10.640223",
     "status": "completed"
    },
    "tags": []
   },
   "source": [
    "<h3>Turning Categorical Values into Numerical</h3>"
   ]
  },
  {
   "cell_type": "markdown",
   "id": "6a3e3673",
   "metadata": {
    "papermill": {
     "duration": 0.004564,
     "end_time": "2025-07-04T23:05:10.654412",
     "exception": false,
     "start_time": "2025-07-04T23:05:10.649848",
     "status": "completed"
    },
    "tags": []
   },
   "source": [
    "<h5>Since ML models usually take in numerical data, we must turn the columns with string types into numerical values. One way to do this is through one-hot encoding. Pandas has a built-in method that can do one-hot encoding for the columns in a DataFrame, so we will use that.</h5>"
   ]
  },
  {
   "cell_type": "code",
   "execution_count": 13,
   "id": "690830ee",
   "metadata": {
    "execution": {
     "iopub.execute_input": "2025-07-04T23:05:10.665568Z",
     "iopub.status.busy": "2025-07-04T23:05:10.665315Z",
     "iopub.status.idle": "2025-07-04T23:05:10.681714Z",
     "shell.execute_reply": "2025-07-04T23:05:10.680999Z"
    },
    "papermill": {
     "duration": 0.024012,
     "end_time": "2025-07-04T23:05:10.683241",
     "exception": false,
     "start_time": "2025-07-04T23:05:10.659229",
     "status": "completed"
    },
    "tags": []
   },
   "outputs": [],
   "source": [
    "col = ['HomePlanet', 'CryoSleep', 'Destination', 'VIP', 'Deck', 'Side']\n",
    "train_data_encoded = pd.get_dummies(train_data_new, columns=col)"
   ]
  },
  {
   "cell_type": "code",
   "execution_count": 14,
   "id": "e2090bb3",
   "metadata": {
    "execution": {
     "iopub.execute_input": "2025-07-04T23:05:10.694830Z",
     "iopub.status.busy": "2025-07-04T23:05:10.694183Z",
     "iopub.status.idle": "2025-07-04T23:05:10.715094Z",
     "shell.execute_reply": "2025-07-04T23:05:10.714388Z"
    },
    "papermill": {
     "duration": 0.027901,
     "end_time": "2025-07-04T23:05:10.716380",
     "exception": false,
     "start_time": "2025-07-04T23:05:10.688479",
     "status": "completed"
    },
    "tags": []
   },
   "outputs": [
    {
     "data": {
      "text/html": [
       "<div>\n",
       "<style scoped>\n",
       "    .dataframe tbody tr th:only-of-type {\n",
       "        vertical-align: middle;\n",
       "    }\n",
       "\n",
       "    .dataframe tbody tr th {\n",
       "        vertical-align: top;\n",
       "    }\n",
       "\n",
       "    .dataframe thead th {\n",
       "        text-align: right;\n",
       "    }\n",
       "</style>\n",
       "<table border=\"1\" class=\"dataframe\">\n",
       "  <thead>\n",
       "    <tr style=\"text-align: right;\">\n",
       "      <th></th>\n",
       "      <th>Age</th>\n",
       "      <th>RoomService</th>\n",
       "      <th>FoodCourt</th>\n",
       "      <th>ShoppingMall</th>\n",
       "      <th>Spa</th>\n",
       "      <th>VRDeck</th>\n",
       "      <th>Transported</th>\n",
       "      <th>Num</th>\n",
       "      <th>HomePlanet_Earth</th>\n",
       "      <th>HomePlanet_Europa</th>\n",
       "      <th>...</th>\n",
       "      <th>Deck_C</th>\n",
       "      <th>Deck_D</th>\n",
       "      <th>Deck_E</th>\n",
       "      <th>Deck_F</th>\n",
       "      <th>Deck_G</th>\n",
       "      <th>Deck_T</th>\n",
       "      <th>Deck_Unknown</th>\n",
       "      <th>Side_P</th>\n",
       "      <th>Side_S</th>\n",
       "      <th>Side_Unknown</th>\n",
       "    </tr>\n",
       "  </thead>\n",
       "  <tbody>\n",
       "    <tr>\n",
       "      <th>0</th>\n",
       "      <td>39.0</td>\n",
       "      <td>0.0</td>\n",
       "      <td>0.0</td>\n",
       "      <td>0.0</td>\n",
       "      <td>0.0</td>\n",
       "      <td>0.0</td>\n",
       "      <td>False</td>\n",
       "      <td>0.0</td>\n",
       "      <td>False</td>\n",
       "      <td>True</td>\n",
       "      <td>...</td>\n",
       "      <td>False</td>\n",
       "      <td>False</td>\n",
       "      <td>False</td>\n",
       "      <td>False</td>\n",
       "      <td>False</td>\n",
       "      <td>False</td>\n",
       "      <td>False</td>\n",
       "      <td>True</td>\n",
       "      <td>False</td>\n",
       "      <td>False</td>\n",
       "    </tr>\n",
       "    <tr>\n",
       "      <th>1</th>\n",
       "      <td>24.0</td>\n",
       "      <td>109.0</td>\n",
       "      <td>9.0</td>\n",
       "      <td>25.0</td>\n",
       "      <td>549.0</td>\n",
       "      <td>44.0</td>\n",
       "      <td>True</td>\n",
       "      <td>0.0</td>\n",
       "      <td>True</td>\n",
       "      <td>False</td>\n",
       "      <td>...</td>\n",
       "      <td>False</td>\n",
       "      <td>False</td>\n",
       "      <td>False</td>\n",
       "      <td>True</td>\n",
       "      <td>False</td>\n",
       "      <td>False</td>\n",
       "      <td>False</td>\n",
       "      <td>False</td>\n",
       "      <td>True</td>\n",
       "      <td>False</td>\n",
       "    </tr>\n",
       "    <tr>\n",
       "      <th>2</th>\n",
       "      <td>58.0</td>\n",
       "      <td>43.0</td>\n",
       "      <td>3576.0</td>\n",
       "      <td>0.0</td>\n",
       "      <td>6715.0</td>\n",
       "      <td>49.0</td>\n",
       "      <td>False</td>\n",
       "      <td>0.0</td>\n",
       "      <td>False</td>\n",
       "      <td>True</td>\n",
       "      <td>...</td>\n",
       "      <td>False</td>\n",
       "      <td>False</td>\n",
       "      <td>False</td>\n",
       "      <td>False</td>\n",
       "      <td>False</td>\n",
       "      <td>False</td>\n",
       "      <td>False</td>\n",
       "      <td>False</td>\n",
       "      <td>True</td>\n",
       "      <td>False</td>\n",
       "    </tr>\n",
       "    <tr>\n",
       "      <th>3</th>\n",
       "      <td>33.0</td>\n",
       "      <td>0.0</td>\n",
       "      <td>1283.0</td>\n",
       "      <td>371.0</td>\n",
       "      <td>3329.0</td>\n",
       "      <td>193.0</td>\n",
       "      <td>False</td>\n",
       "      <td>0.0</td>\n",
       "      <td>False</td>\n",
       "      <td>True</td>\n",
       "      <td>...</td>\n",
       "      <td>False</td>\n",
       "      <td>False</td>\n",
       "      <td>False</td>\n",
       "      <td>False</td>\n",
       "      <td>False</td>\n",
       "      <td>False</td>\n",
       "      <td>False</td>\n",
       "      <td>False</td>\n",
       "      <td>True</td>\n",
       "      <td>False</td>\n",
       "    </tr>\n",
       "    <tr>\n",
       "      <th>4</th>\n",
       "      <td>16.0</td>\n",
       "      <td>303.0</td>\n",
       "      <td>70.0</td>\n",
       "      <td>151.0</td>\n",
       "      <td>565.0</td>\n",
       "      <td>2.0</td>\n",
       "      <td>True</td>\n",
       "      <td>1.0</td>\n",
       "      <td>True</td>\n",
       "      <td>False</td>\n",
       "      <td>...</td>\n",
       "      <td>False</td>\n",
       "      <td>False</td>\n",
       "      <td>False</td>\n",
       "      <td>True</td>\n",
       "      <td>False</td>\n",
       "      <td>False</td>\n",
       "      <td>False</td>\n",
       "      <td>False</td>\n",
       "      <td>True</td>\n",
       "      <td>False</td>\n",
       "    </tr>\n",
       "  </tbody>\n",
       "</table>\n",
       "<p>5 rows × 34 columns</p>\n",
       "</div>"
      ],
      "text/plain": [
       "    Age  RoomService  FoodCourt  ShoppingMall     Spa  VRDeck  Transported  \\\n",
       "0  39.0          0.0        0.0           0.0     0.0     0.0        False   \n",
       "1  24.0        109.0        9.0          25.0   549.0    44.0         True   \n",
       "2  58.0         43.0     3576.0           0.0  6715.0    49.0        False   \n",
       "3  33.0          0.0     1283.0         371.0  3329.0   193.0        False   \n",
       "4  16.0        303.0       70.0         151.0   565.0     2.0         True   \n",
       "\n",
       "   Num  HomePlanet_Earth  HomePlanet_Europa  ...  Deck_C  Deck_D  Deck_E  \\\n",
       "0  0.0             False               True  ...   False   False   False   \n",
       "1  0.0              True              False  ...   False   False   False   \n",
       "2  0.0             False               True  ...   False   False   False   \n",
       "3  0.0             False               True  ...   False   False   False   \n",
       "4  1.0              True              False  ...   False   False   False   \n",
       "\n",
       "   Deck_F  Deck_G  Deck_T  Deck_Unknown  Side_P  Side_S  Side_Unknown  \n",
       "0   False   False   False         False    True   False         False  \n",
       "1    True   False   False         False   False    True         False  \n",
       "2   False   False   False         False   False    True         False  \n",
       "3   False   False   False         False   False    True         False  \n",
       "4    True   False   False         False   False    True         False  \n",
       "\n",
       "[5 rows x 34 columns]"
      ]
     },
     "execution_count": 14,
     "metadata": {},
     "output_type": "execute_result"
    }
   ],
   "source": [
    "train_data_encoded.head()"
   ]
  },
  {
   "cell_type": "markdown",
   "id": "559f8870",
   "metadata": {
    "papermill": {
     "duration": 0.005117,
     "end_time": "2025-07-04T23:05:10.727151",
     "exception": false,
     "start_time": "2025-07-04T23:05:10.722034",
     "status": "completed"
    },
    "tags": []
   },
   "source": [
    "<h3>Outlier and Noise Handling</h3>"
   ]
  },
  {
   "cell_type": "markdown",
   "id": "301a6d4f",
   "metadata": {
    "papermill": {
     "duration": 0.005301,
     "end_time": "2025-07-04T23:05:10.738062",
     "exception": false,
     "start_time": "2025-07-04T23:05:10.732761",
     "status": "completed"
    },
    "tags": []
   },
   "source": [
    "<h3>Feature Scaling</h3>"
   ]
  },
  {
   "cell_type": "markdown",
   "id": "a3af22f9",
   "metadata": {
    "papermill": {
     "duration": 0.00488,
     "end_time": "2025-07-04T23:05:10.748078",
     "exception": false,
     "start_time": "2025-07-04T23:05:10.743198",
     "status": "completed"
    },
    "tags": []
   },
   "source": [
    "<h3>Feature Selection</h3>"
   ]
  },
  {
   "cell_type": "markdown",
   "id": "f564cd11",
   "metadata": {
    "papermill": {
     "duration": 0.004955,
     "end_time": "2025-07-04T23:05:10.758182",
     "exception": false,
     "start_time": "2025-07-04T23:05:10.753227",
     "status": "completed"
    },
    "tags": []
   },
   "source": [
    "<h5>Now, to have the optimal dataset to use for the ML models, we need to find out which features are important and which are not to further clean the dataset.</h5>"
   ]
  },
  {
   "cell_type": "code",
   "execution_count": null,
   "id": "0b8ff832",
   "metadata": {
    "papermill": {
     "duration": 0.005069,
     "end_time": "2025-07-04T23:05:10.768369",
     "exception": false,
     "start_time": "2025-07-04T23:05:10.763300",
     "status": "completed"
    },
    "tags": []
   },
   "outputs": [],
   "source": []
  }
 ],
 "metadata": {
  "kaggle": {
   "accelerator": "none",
   "dataSources": [
    {
     "datasetId": 7796953,
     "sourceId": 12366369,
     "sourceType": "datasetVersion"
    }
   ],
   "dockerImageVersionId": 31040,
   "isGpuEnabled": false,
   "isInternetEnabled": true,
   "language": "python",
   "sourceType": "notebook"
  },
  "kernelspec": {
   "display_name": "Python 3",
   "language": "python",
   "name": "python3"
  },
  "language_info": {
   "codemirror_mode": {
    "name": "ipython",
    "version": 3
   },
   "file_extension": ".py",
   "mimetype": "text/x-python",
   "name": "python",
   "nbconvert_exporter": "python",
   "pygments_lexer": "ipython3",
   "version": "3.11.11"
  },
  "papermill": {
   "default_parameters": {},
   "duration": 7.245904,
   "end_time": "2025-07-04T23:05:11.192450",
   "environment_variables": {},
   "exception": null,
   "input_path": "__notebook__.ipynb",
   "output_path": "__notebook__.ipynb",
   "parameters": {},
   "start_time": "2025-07-04T23:05:03.946546",
   "version": "2.6.0"
  }
 },
 "nbformat": 4,
 "nbformat_minor": 5
}
