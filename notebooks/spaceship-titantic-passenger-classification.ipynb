{
 "cells": [
  {
   "cell_type": "code",
   "execution_count": 1,
   "id": "5b2c645b",
   "metadata": {
    "_cell_guid": "b1076dfc-b9ad-4769-8c92-a6c4dae69d19",
    "_uuid": "8f2839f25d086af736a60e9eeb907d3b93b6e0e5",
    "execution": {
     "iopub.execute_input": "2025-07-14T23:11:46.027585Z",
     "iopub.status.busy": "2025-07-14T23:11:46.027278Z",
     "iopub.status.idle": "2025-07-14T23:11:48.020438Z",
     "shell.execute_reply": "2025-07-14T23:11:48.019351Z"
    },
    "papermill": {
     "duration": 2.003083,
     "end_time": "2025-07-14T23:11:48.022043",
     "exception": false,
     "start_time": "2025-07-14T23:11:46.018960",
     "status": "completed"
    },
    "tags": []
   },
   "outputs": [
    {
     "name": "stdout",
     "output_type": "stream",
     "text": [
      "/kaggle/input/spaceship-titanic-passenger-data/README.md\n",
      "/kaggle/input/spaceship-titanic-passenger-data/data/sample_submission.csv\n",
      "/kaggle/input/spaceship-titanic-passenger-data/data/train.csv\n",
      "/kaggle/input/spaceship-titanic-passenger-data/data/test.csv\n"
     ]
    }
   ],
   "source": [
    "# This Python 3 environment comes with many helpful analytics libraries installed\n",
    "# It is defined by the kaggle/python Docker image: https://github.com/kaggle/docker-python\n",
    "# For example, here's several helpful packages to load\n",
    "\n",
    "import numpy as np # linear algebra\n",
    "import pandas as pd # data processing, CSV file I/O (e.g. pd.read_csv)\n",
    "\n",
    "# Input data files are available in the read-only \"../input/\" directory\n",
    "# For example, running this (by clicking run or pressing Shift+Enter) will list all files under the input directory\n",
    "\n",
    "import os\n",
    "for dirname, _, filenames in os.walk('/kaggle/input'):\n",
    "    for filename in filenames:\n",
    "        print(os.path.join(dirname, filename))\n",
    "\n",
    "# You can write up to 20GB to the current directory (/kaggle/working/) that gets preserved as output when you create a version using \"Save & Run All\" \n",
    "# You can also write temporary files to /kaggle/temp/, but they won't be saved outside of the current session"
   ]
  },
  {
   "cell_type": "markdown",
   "id": "290aa4fb",
   "metadata": {
    "papermill": {
     "duration": 0.005806,
     "end_time": "2025-07-14T23:11:48.034525",
     "exception": false,
     "start_time": "2025-07-14T23:11:48.028719",
     "status": "completed"
    },
    "tags": []
   },
   "source": [
    "<h3>Import Libraries</h3>"
   ]
  },
  {
   "cell_type": "code",
   "execution_count": 2,
   "id": "b118fe08",
   "metadata": {
    "execution": {
     "iopub.execute_input": "2025-07-14T23:11:48.048362Z",
     "iopub.status.busy": "2025-07-14T23:11:48.047910Z",
     "iopub.status.idle": "2025-07-14T23:11:56.417077Z",
     "shell.execute_reply": "2025-07-14T23:11:56.415950Z"
    },
    "papermill": {
     "duration": 8.377826,
     "end_time": "2025-07-14T23:11:56.418790",
     "exception": false,
     "start_time": "2025-07-14T23:11:48.040964",
     "status": "completed"
    },
    "tags": []
   },
   "outputs": [],
   "source": [
    "import warnings\n",
    "import itertools\n",
    "import seaborn as sns\n",
    "import scipy.stats as stats\n",
    "from scipy.stats import pointbiserialr, chi2_contingency\n",
    "import matplotlib.pyplot as plt\n",
    "from sklearn.preprocessing import StandardScaler\n",
    "from sklearn.ensemble import RandomForestClassifier, GradientBoostingClassifier\n",
    "from sklearn.model_selection import cross_val_score\n",
    "from sklearn.metrics import accuracy_score\n",
    "from sklearn.linear_model import LogisticRegression\n",
    "from sklearn.neighbors import KNeighborsClassifier\n",
    "from xgboost import XGBClassifier\n",
    "from lightgbm import LGBMClassifier\n",
    "from sklearn.impute import KNNImputer"
   ]
  },
  {
   "cell_type": "markdown",
   "id": "f947f6e2",
   "metadata": {
    "papermill": {
     "duration": 0.006094,
     "end_time": "2025-07-14T23:11:56.431501",
     "exception": false,
     "start_time": "2025-07-14T23:11:56.425407",
     "status": "completed"
    },
    "tags": []
   },
   "source": [
    "<h3>Get Data</h3>"
   ]
  },
  {
   "cell_type": "code",
   "execution_count": 3,
   "id": "26eac196",
   "metadata": {
    "execution": {
     "iopub.execute_input": "2025-07-14T23:11:56.445508Z",
     "iopub.status.busy": "2025-07-14T23:11:56.444810Z",
     "iopub.status.idle": "2025-07-14T23:11:56.555783Z",
     "shell.execute_reply": "2025-07-14T23:11:56.554692Z"
    },
    "papermill": {
     "duration": 0.119479,
     "end_time": "2025-07-14T23:11:56.557236",
     "exception": false,
     "start_time": "2025-07-14T23:11:56.437757",
     "status": "completed"
    },
    "tags": []
   },
   "outputs": [
    {
     "data": {
      "text/html": [
       "<div>\n",
       "<style scoped>\n",
       "    .dataframe tbody tr th:only-of-type {\n",
       "        vertical-align: middle;\n",
       "    }\n",
       "\n",
       "    .dataframe tbody tr th {\n",
       "        vertical-align: top;\n",
       "    }\n",
       "\n",
       "    .dataframe thead th {\n",
       "        text-align: right;\n",
       "    }\n",
       "</style>\n",
       "<table border=\"1\" class=\"dataframe\">\n",
       "  <thead>\n",
       "    <tr style=\"text-align: right;\">\n",
       "      <th></th>\n",
       "      <th>PassengerId</th>\n",
       "      <th>HomePlanet</th>\n",
       "      <th>CryoSleep</th>\n",
       "      <th>Cabin</th>\n",
       "      <th>Destination</th>\n",
       "      <th>Age</th>\n",
       "      <th>VIP</th>\n",
       "      <th>RoomService</th>\n",
       "      <th>FoodCourt</th>\n",
       "      <th>ShoppingMall</th>\n",
       "      <th>Spa</th>\n",
       "      <th>VRDeck</th>\n",
       "      <th>Transported</th>\n",
       "    </tr>\n",
       "  </thead>\n",
       "  <tbody>\n",
       "    <tr>\n",
       "      <th>0</th>\n",
       "      <td>0001_01</td>\n",
       "      <td>Europa</td>\n",
       "      <td>False</td>\n",
       "      <td>B/0/P</td>\n",
       "      <td>TRAPPIST-1e</td>\n",
       "      <td>39.0</td>\n",
       "      <td>False</td>\n",
       "      <td>0.0</td>\n",
       "      <td>0.0</td>\n",
       "      <td>0.0</td>\n",
       "      <td>0.0</td>\n",
       "      <td>0.0</td>\n",
       "      <td>False</td>\n",
       "    </tr>\n",
       "    <tr>\n",
       "      <th>1</th>\n",
       "      <td>0002_01</td>\n",
       "      <td>Earth</td>\n",
       "      <td>False</td>\n",
       "      <td>F/0/S</td>\n",
       "      <td>TRAPPIST-1e</td>\n",
       "      <td>24.0</td>\n",
       "      <td>False</td>\n",
       "      <td>109.0</td>\n",
       "      <td>9.0</td>\n",
       "      <td>25.0</td>\n",
       "      <td>549.0</td>\n",
       "      <td>44.0</td>\n",
       "      <td>True</td>\n",
       "    </tr>\n",
       "    <tr>\n",
       "      <th>2</th>\n",
       "      <td>0003_01</td>\n",
       "      <td>Europa</td>\n",
       "      <td>False</td>\n",
       "      <td>A/0/S</td>\n",
       "      <td>TRAPPIST-1e</td>\n",
       "      <td>58.0</td>\n",
       "      <td>True</td>\n",
       "      <td>43.0</td>\n",
       "      <td>3576.0</td>\n",
       "      <td>0.0</td>\n",
       "      <td>6715.0</td>\n",
       "      <td>49.0</td>\n",
       "      <td>False</td>\n",
       "    </tr>\n",
       "    <tr>\n",
       "      <th>3</th>\n",
       "      <td>0003_02</td>\n",
       "      <td>Europa</td>\n",
       "      <td>False</td>\n",
       "      <td>A/0/S</td>\n",
       "      <td>TRAPPIST-1e</td>\n",
       "      <td>33.0</td>\n",
       "      <td>False</td>\n",
       "      <td>0.0</td>\n",
       "      <td>1283.0</td>\n",
       "      <td>371.0</td>\n",
       "      <td>3329.0</td>\n",
       "      <td>193.0</td>\n",
       "      <td>False</td>\n",
       "    </tr>\n",
       "    <tr>\n",
       "      <th>4</th>\n",
       "      <td>0004_01</td>\n",
       "      <td>Earth</td>\n",
       "      <td>False</td>\n",
       "      <td>F/1/S</td>\n",
       "      <td>TRAPPIST-1e</td>\n",
       "      <td>16.0</td>\n",
       "      <td>False</td>\n",
       "      <td>303.0</td>\n",
       "      <td>70.0</td>\n",
       "      <td>151.0</td>\n",
       "      <td>565.0</td>\n",
       "      <td>2.0</td>\n",
       "      <td>True</td>\n",
       "    </tr>\n",
       "  </tbody>\n",
       "</table>\n",
       "</div>"
      ],
      "text/plain": [
       "  PassengerId HomePlanet  CryoSleep  Cabin  Destination   Age    VIP  \\\n",
       "0     0001_01     Europa      False  B/0/P  TRAPPIST-1e  39.0  False   \n",
       "1     0002_01      Earth      False  F/0/S  TRAPPIST-1e  24.0  False   \n",
       "2     0003_01     Europa      False  A/0/S  TRAPPIST-1e  58.0   True   \n",
       "3     0003_02     Europa      False  A/0/S  TRAPPIST-1e  33.0  False   \n",
       "4     0004_01      Earth      False  F/1/S  TRAPPIST-1e  16.0  False   \n",
       "\n",
       "   RoomService  FoodCourt  ShoppingMall     Spa  VRDeck  Transported  \n",
       "0          0.0        0.0           0.0     0.0     0.0        False  \n",
       "1        109.0        9.0          25.0   549.0    44.0         True  \n",
       "2         43.0     3576.0           0.0  6715.0    49.0        False  \n",
       "3          0.0     1283.0         371.0  3329.0   193.0        False  \n",
       "4        303.0       70.0         151.0   565.0     2.0         True  "
      ]
     },
     "execution_count": 3,
     "metadata": {},
     "output_type": "execute_result"
    }
   ],
   "source": [
    "train_data = pd.read_csv(\"/kaggle/input/spaceship-titanic-passenger-data/data/train.csv\")\n",
    "test_data = pd.read_csv(\"/kaggle/input/spaceship-titanic-passenger-data/data/test.csv\")\n",
    "test_data['Transported'] = False\n",
    "data = pd.concat([train_data, test_data], sort=False)\n",
    "data.drop(columns=['Name'], inplace=True) # usually an unique identifier, so not important\n",
    "\n",
    "# Turn 'VIP' and 'CryoSleep' features into booleans (pandas sometimes reads them as strings)\n",
    "data['VIP'] = data['VIP'].astype(bool)\n",
    "data['CryoSleep'] = data['CryoSleep'].astype(bool)\n",
    "data.head()"
   ]
  },
  {
   "cell_type": "code",
   "execution_count": 4,
   "id": "665242f9",
   "metadata": {
    "execution": {
     "iopub.execute_input": "2025-07-14T23:11:56.572171Z",
     "iopub.status.busy": "2025-07-14T23:11:56.571824Z",
     "iopub.status.idle": "2025-07-14T23:11:56.593644Z",
     "shell.execute_reply": "2025-07-14T23:11:56.592407Z"
    },
    "papermill": {
     "duration": 0.031195,
     "end_time": "2025-07-14T23:11:56.595362",
     "exception": false,
     "start_time": "2025-07-14T23:11:56.564167",
     "status": "completed"
    },
    "tags": []
   },
   "outputs": [
    {
     "name": "stdout",
     "output_type": "stream",
     "text": [
      "<class 'pandas.core.frame.DataFrame'>\n",
      "Index: 12970 entries, 0 to 4276\n",
      "Data columns (total 13 columns):\n",
      " #   Column        Non-Null Count  Dtype  \n",
      "---  ------        --------------  -----  \n",
      " 0   PassengerId   12970 non-null  object \n",
      " 1   HomePlanet    12682 non-null  object \n",
      " 2   CryoSleep     12970 non-null  bool   \n",
      " 3   Cabin         12671 non-null  object \n",
      " 4   Destination   12696 non-null  object \n",
      " 5   Age           12700 non-null  float64\n",
      " 6   VIP           12970 non-null  bool   \n",
      " 7   RoomService   12707 non-null  float64\n",
      " 8   FoodCourt     12681 non-null  float64\n",
      " 9   ShoppingMall  12664 non-null  float64\n",
      " 10  Spa           12686 non-null  float64\n",
      " 11  VRDeck        12702 non-null  float64\n",
      " 12  Transported   12970 non-null  bool   \n",
      "dtypes: bool(3), float64(6), object(4)\n",
      "memory usage: 1.1+ MB\n"
     ]
    }
   ],
   "source": [
    "data.info()"
   ]
  },
  {
   "cell_type": "code",
   "execution_count": 5,
   "id": "62511a4b",
   "metadata": {
    "execution": {
     "iopub.execute_input": "2025-07-14T23:11:56.609729Z",
     "iopub.status.busy": "2025-07-14T23:11:56.609410Z",
     "iopub.status.idle": "2025-07-14T23:11:56.620526Z",
     "shell.execute_reply": "2025-07-14T23:11:56.619724Z"
    },
    "papermill": {
     "duration": 0.01988,
     "end_time": "2025-07-14T23:11:56.621961",
     "exception": false,
     "start_time": "2025-07-14T23:11:56.602081",
     "status": "completed"
    },
    "tags": []
   },
   "outputs": [
    {
     "data": {
      "text/plain": [
       "PassengerId       0\n",
       "HomePlanet      288\n",
       "CryoSleep         0\n",
       "Cabin           299\n",
       "Destination     274\n",
       "Age             270\n",
       "VIP               0\n",
       "RoomService     263\n",
       "FoodCourt       289\n",
       "ShoppingMall    306\n",
       "Spa             284\n",
       "VRDeck          268\n",
       "Transported       0\n",
       "dtype: int64"
      ]
     },
     "execution_count": 5,
     "metadata": {},
     "output_type": "execute_result"
    }
   ],
   "source": [
    "data.isna().sum()"
   ]
  },
  {
   "cell_type": "markdown",
   "id": "aead734e",
   "metadata": {
    "papermill": {
     "duration": 0.006139,
     "end_time": "2025-07-14T23:11:56.634675",
     "exception": false,
     "start_time": "2025-07-14T23:11:56.628536",
     "status": "completed"
    },
    "tags": []
   },
   "source": [
    "<h5>We can see that for some of the features, there are values that are missing (null values). Therefore, we must take action by filling in those missing values. However, firstly, we want to do something about the 'PassengerId' and 'Cabin' features, since we can split the their values into more columns.</h5>"
   ]
  },
  {
   "cell_type": "markdown",
   "id": "4228dce9",
   "metadata": {
    "papermill": {
     "duration": 0.006326,
     "end_time": "2025-07-14T23:11:56.647324",
     "exception": false,
     "start_time": "2025-07-14T23:11:56.640998",
     "status": "completed"
    },
    "tags": []
   },
   "source": [
    "<h3>Feature Creation</h3>"
   ]
  },
  {
   "cell_type": "markdown",
   "id": "152c64a1",
   "metadata": {
    "papermill": {
     "duration": 0.006126,
     "end_time": "2025-07-14T23:11:56.660108",
     "exception": false,
     "start_time": "2025-07-14T23:11:56.653982",
     "status": "completed"
    },
    "tags": []
   },
   "source": [
    "<h5>First, we want to extract the group IDs from the passenger IDs since passengers can be part of the same group, and people of the same group may be connected if they were transported or not.</h5>"
   ]
  },
  {
   "cell_type": "code",
   "execution_count": 6,
   "id": "2875d260",
   "metadata": {
    "execution": {
     "iopub.execute_input": "2025-07-14T23:11:56.674006Z",
     "iopub.status.busy": "2025-07-14T23:11:56.673652Z",
     "iopub.status.idle": "2025-07-14T23:11:56.708393Z",
     "shell.execute_reply": "2025-07-14T23:11:56.707304Z"
    },
    "papermill": {
     "duration": 0.043381,
     "end_time": "2025-07-14T23:11:56.709885",
     "exception": false,
     "start_time": "2025-07-14T23:11:56.666504",
     "status": "completed"
    },
    "tags": []
   },
   "outputs": [
    {
     "data": {
      "text/html": [
       "<div>\n",
       "<style scoped>\n",
       "    .dataframe tbody tr th:only-of-type {\n",
       "        vertical-align: middle;\n",
       "    }\n",
       "\n",
       "    .dataframe tbody tr th {\n",
       "        vertical-align: top;\n",
       "    }\n",
       "\n",
       "    .dataframe thead th {\n",
       "        text-align: right;\n",
       "    }\n",
       "</style>\n",
       "<table border=\"1\" class=\"dataframe\">\n",
       "  <thead>\n",
       "    <tr style=\"text-align: right;\">\n",
       "      <th></th>\n",
       "      <th>HomePlanet</th>\n",
       "      <th>CryoSleep</th>\n",
       "      <th>Cabin</th>\n",
       "      <th>Destination</th>\n",
       "      <th>Age</th>\n",
       "      <th>VIP</th>\n",
       "      <th>RoomService</th>\n",
       "      <th>FoodCourt</th>\n",
       "      <th>ShoppingMall</th>\n",
       "      <th>Spa</th>\n",
       "      <th>VRDeck</th>\n",
       "      <th>Transported</th>\n",
       "      <th>PassengerNumber</th>\n",
       "      <th>GroupId</th>\n",
       "    </tr>\n",
       "  </thead>\n",
       "  <tbody>\n",
       "    <tr>\n",
       "      <th>0</th>\n",
       "      <td>Europa</td>\n",
       "      <td>False</td>\n",
       "      <td>B/0/P</td>\n",
       "      <td>TRAPPIST-1e</td>\n",
       "      <td>39.0</td>\n",
       "      <td>False</td>\n",
       "      <td>0.0</td>\n",
       "      <td>0.0</td>\n",
       "      <td>0.0</td>\n",
       "      <td>0.0</td>\n",
       "      <td>0.0</td>\n",
       "      <td>False</td>\n",
       "      <td>1</td>\n",
       "      <td>1</td>\n",
       "    </tr>\n",
       "    <tr>\n",
       "      <th>1</th>\n",
       "      <td>Earth</td>\n",
       "      <td>False</td>\n",
       "      <td>F/0/S</td>\n",
       "      <td>TRAPPIST-1e</td>\n",
       "      <td>24.0</td>\n",
       "      <td>False</td>\n",
       "      <td>109.0</td>\n",
       "      <td>9.0</td>\n",
       "      <td>25.0</td>\n",
       "      <td>549.0</td>\n",
       "      <td>44.0</td>\n",
       "      <td>True</td>\n",
       "      <td>2</td>\n",
       "      <td>1</td>\n",
       "    </tr>\n",
       "    <tr>\n",
       "      <th>2</th>\n",
       "      <td>Europa</td>\n",
       "      <td>False</td>\n",
       "      <td>A/0/S</td>\n",
       "      <td>TRAPPIST-1e</td>\n",
       "      <td>58.0</td>\n",
       "      <td>True</td>\n",
       "      <td>43.0</td>\n",
       "      <td>3576.0</td>\n",
       "      <td>0.0</td>\n",
       "      <td>6715.0</td>\n",
       "      <td>49.0</td>\n",
       "      <td>False</td>\n",
       "      <td>3</td>\n",
       "      <td>1</td>\n",
       "    </tr>\n",
       "    <tr>\n",
       "      <th>3</th>\n",
       "      <td>Europa</td>\n",
       "      <td>False</td>\n",
       "      <td>A/0/S</td>\n",
       "      <td>TRAPPIST-1e</td>\n",
       "      <td>33.0</td>\n",
       "      <td>False</td>\n",
       "      <td>0.0</td>\n",
       "      <td>1283.0</td>\n",
       "      <td>371.0</td>\n",
       "      <td>3329.0</td>\n",
       "      <td>193.0</td>\n",
       "      <td>False</td>\n",
       "      <td>3</td>\n",
       "      <td>2</td>\n",
       "    </tr>\n",
       "    <tr>\n",
       "      <th>4</th>\n",
       "      <td>Earth</td>\n",
       "      <td>False</td>\n",
       "      <td>F/1/S</td>\n",
       "      <td>TRAPPIST-1e</td>\n",
       "      <td>16.0</td>\n",
       "      <td>False</td>\n",
       "      <td>303.0</td>\n",
       "      <td>70.0</td>\n",
       "      <td>151.0</td>\n",
       "      <td>565.0</td>\n",
       "      <td>2.0</td>\n",
       "      <td>True</td>\n",
       "      <td>4</td>\n",
       "      <td>1</td>\n",
       "    </tr>\n",
       "  </tbody>\n",
       "</table>\n",
       "</div>"
      ],
      "text/plain": [
       "  HomePlanet  CryoSleep  Cabin  Destination   Age    VIP  RoomService  \\\n",
       "0     Europa      False  B/0/P  TRAPPIST-1e  39.0  False          0.0   \n",
       "1      Earth      False  F/0/S  TRAPPIST-1e  24.0  False        109.0   \n",
       "2     Europa      False  A/0/S  TRAPPIST-1e  58.0   True         43.0   \n",
       "3     Europa      False  A/0/S  TRAPPIST-1e  33.0  False          0.0   \n",
       "4      Earth      False  F/1/S  TRAPPIST-1e  16.0  False        303.0   \n",
       "\n",
       "   FoodCourt  ShoppingMall     Spa  VRDeck  Transported  PassengerNumber  \\\n",
       "0        0.0           0.0     0.0     0.0        False                1   \n",
       "1        9.0          25.0   549.0    44.0         True                2   \n",
       "2     3576.0           0.0  6715.0    49.0        False                3   \n",
       "3     1283.0         371.0  3329.0   193.0        False                3   \n",
       "4       70.0         151.0   565.0     2.0         True                4   \n",
       "\n",
       "   GroupId  \n",
       "0        1  \n",
       "1        1  \n",
       "2        1  \n",
       "3        2  \n",
       "4        1  "
      ]
     },
     "execution_count": 6,
     "metadata": {},
     "output_type": "execute_result"
    }
   ],
   "source": [
    "data[['PassengerNumber', 'GroupId']] = data['PassengerId'].str.split('_', expand=True)\n",
    "data.drop(columns=['PassengerId'], inplace=True)\n",
    "data['PassengerNumber'] = data['PassengerNumber'].astype(int)\n",
    "data['GroupId'] = data['GroupId'].astype(int)\n",
    "data.head()"
   ]
  },
  {
   "cell_type": "markdown",
   "id": "1085ce13",
   "metadata": {
    "papermill": {
     "duration": 0.006326,
     "end_time": "2025-07-14T23:11:56.722953",
     "exception": false,
     "start_time": "2025-07-14T23:11:56.716627",
     "status": "completed"
    },
    "tags": []
   },
   "source": [
    "<h5>Now, I want to split the 'Cabin' column into three separate columns to split the deck, num, and side into their own columns to better process the data. </h5>"
   ]
  },
  {
   "cell_type": "code",
   "execution_count": 7,
   "id": "c5661684",
   "metadata": {
    "execution": {
     "iopub.execute_input": "2025-07-14T23:11:56.737097Z",
     "iopub.status.busy": "2025-07-14T23:11:56.736805Z",
     "iopub.status.idle": "2025-07-14T23:11:56.776986Z",
     "shell.execute_reply": "2025-07-14T23:11:56.776086Z"
    },
    "papermill": {
     "duration": 0.049015,
     "end_time": "2025-07-14T23:11:56.778545",
     "exception": false,
     "start_time": "2025-07-14T23:11:56.729530",
     "status": "completed"
    },
    "tags": []
   },
   "outputs": [
    {
     "data": {
      "text/html": [
       "<div>\n",
       "<style scoped>\n",
       "    .dataframe tbody tr th:only-of-type {\n",
       "        vertical-align: middle;\n",
       "    }\n",
       "\n",
       "    .dataframe tbody tr th {\n",
       "        vertical-align: top;\n",
       "    }\n",
       "\n",
       "    .dataframe thead th {\n",
       "        text-align: right;\n",
       "    }\n",
       "</style>\n",
       "<table border=\"1\" class=\"dataframe\">\n",
       "  <thead>\n",
       "    <tr style=\"text-align: right;\">\n",
       "      <th></th>\n",
       "      <th>HomePlanet</th>\n",
       "      <th>CryoSleep</th>\n",
       "      <th>Destination</th>\n",
       "      <th>Age</th>\n",
       "      <th>VIP</th>\n",
       "      <th>RoomService</th>\n",
       "      <th>FoodCourt</th>\n",
       "      <th>ShoppingMall</th>\n",
       "      <th>Spa</th>\n",
       "      <th>VRDeck</th>\n",
       "      <th>Transported</th>\n",
       "      <th>PassengerNumber</th>\n",
       "      <th>GroupId</th>\n",
       "      <th>Deck</th>\n",
       "      <th>Num</th>\n",
       "      <th>Side</th>\n",
       "    </tr>\n",
       "  </thead>\n",
       "  <tbody>\n",
       "    <tr>\n",
       "      <th>0</th>\n",
       "      <td>Europa</td>\n",
       "      <td>False</td>\n",
       "      <td>TRAPPIST-1e</td>\n",
       "      <td>39.0</td>\n",
       "      <td>False</td>\n",
       "      <td>0.0</td>\n",
       "      <td>0.0</td>\n",
       "      <td>0.0</td>\n",
       "      <td>0.0</td>\n",
       "      <td>0.0</td>\n",
       "      <td>False</td>\n",
       "      <td>1</td>\n",
       "      <td>1</td>\n",
       "      <td>B</td>\n",
       "      <td>0</td>\n",
       "      <td>P</td>\n",
       "    </tr>\n",
       "    <tr>\n",
       "      <th>1</th>\n",
       "      <td>Earth</td>\n",
       "      <td>False</td>\n",
       "      <td>TRAPPIST-1e</td>\n",
       "      <td>24.0</td>\n",
       "      <td>False</td>\n",
       "      <td>109.0</td>\n",
       "      <td>9.0</td>\n",
       "      <td>25.0</td>\n",
       "      <td>549.0</td>\n",
       "      <td>44.0</td>\n",
       "      <td>True</td>\n",
       "      <td>2</td>\n",
       "      <td>1</td>\n",
       "      <td>F</td>\n",
       "      <td>0</td>\n",
       "      <td>S</td>\n",
       "    </tr>\n",
       "    <tr>\n",
       "      <th>2</th>\n",
       "      <td>Europa</td>\n",
       "      <td>False</td>\n",
       "      <td>TRAPPIST-1e</td>\n",
       "      <td>58.0</td>\n",
       "      <td>True</td>\n",
       "      <td>43.0</td>\n",
       "      <td>3576.0</td>\n",
       "      <td>0.0</td>\n",
       "      <td>6715.0</td>\n",
       "      <td>49.0</td>\n",
       "      <td>False</td>\n",
       "      <td>3</td>\n",
       "      <td>1</td>\n",
       "      <td>A</td>\n",
       "      <td>0</td>\n",
       "      <td>S</td>\n",
       "    </tr>\n",
       "    <tr>\n",
       "      <th>3</th>\n",
       "      <td>Europa</td>\n",
       "      <td>False</td>\n",
       "      <td>TRAPPIST-1e</td>\n",
       "      <td>33.0</td>\n",
       "      <td>False</td>\n",
       "      <td>0.0</td>\n",
       "      <td>1283.0</td>\n",
       "      <td>371.0</td>\n",
       "      <td>3329.0</td>\n",
       "      <td>193.0</td>\n",
       "      <td>False</td>\n",
       "      <td>3</td>\n",
       "      <td>2</td>\n",
       "      <td>A</td>\n",
       "      <td>0</td>\n",
       "      <td>S</td>\n",
       "    </tr>\n",
       "    <tr>\n",
       "      <th>4</th>\n",
       "      <td>Earth</td>\n",
       "      <td>False</td>\n",
       "      <td>TRAPPIST-1e</td>\n",
       "      <td>16.0</td>\n",
       "      <td>False</td>\n",
       "      <td>303.0</td>\n",
       "      <td>70.0</td>\n",
       "      <td>151.0</td>\n",
       "      <td>565.0</td>\n",
       "      <td>2.0</td>\n",
       "      <td>True</td>\n",
       "      <td>4</td>\n",
       "      <td>1</td>\n",
       "      <td>F</td>\n",
       "      <td>1</td>\n",
       "      <td>S</td>\n",
       "    </tr>\n",
       "  </tbody>\n",
       "</table>\n",
       "</div>"
      ],
      "text/plain": [
       "  HomePlanet  CryoSleep  Destination   Age    VIP  RoomService  FoodCourt  \\\n",
       "0     Europa      False  TRAPPIST-1e  39.0  False          0.0        0.0   \n",
       "1      Earth      False  TRAPPIST-1e  24.0  False        109.0        9.0   \n",
       "2     Europa      False  TRAPPIST-1e  58.0   True         43.0     3576.0   \n",
       "3     Europa      False  TRAPPIST-1e  33.0  False          0.0     1283.0   \n",
       "4      Earth      False  TRAPPIST-1e  16.0  False        303.0       70.0   \n",
       "\n",
       "   ShoppingMall     Spa  VRDeck  Transported  PassengerNumber  GroupId Deck  \\\n",
       "0           0.0     0.0     0.0        False                1        1    B   \n",
       "1          25.0   549.0    44.0         True                2        1    F   \n",
       "2           0.0  6715.0    49.0        False                3        1    A   \n",
       "3         371.0  3329.0   193.0        False                3        2    A   \n",
       "4         151.0   565.0     2.0         True                4        1    F   \n",
       "\n",
       "   Num Side  \n",
       "0    0    P  \n",
       "1    0    S  \n",
       "2    0    S  \n",
       "3    0    S  \n",
       "4    1    S  "
      ]
     },
     "execution_count": 7,
     "metadata": {},
     "output_type": "execute_result"
    }
   ],
   "source": [
    "data[['Deck', 'Num', 'Side']] = data['Cabin'].str.split('/', expand=True)\n",
    "data.drop(columns=['Cabin'], inplace=True)\n",
    "data['Num'] = data['Num'].fillna(-1).astype(int)\n",
    "data.head()"
   ]
  },
  {
   "cell_type": "markdown",
   "id": "99893e5e",
   "metadata": {
    "papermill": {
     "duration": 0.006692,
     "end_time": "2025-07-14T23:11:56.792411",
     "exception": false,
     "start_time": "2025-07-14T23:11:56.785719",
     "status": "completed"
    },
    "tags": []
   },
   "source": [
    "<h3>Handling Missing Values</h3>"
   ]
  },
  {
   "cell_type": "code",
   "execution_count": 8,
   "id": "a281cce7",
   "metadata": {
    "execution": {
     "iopub.execute_input": "2025-07-14T23:11:56.808706Z",
     "iopub.status.busy": "2025-07-14T23:11:56.808408Z",
     "iopub.status.idle": "2025-07-14T23:11:56.813009Z",
     "shell.execute_reply": "2025-07-14T23:11:56.812096Z"
    },
    "papermill": {
     "duration": 0.015326,
     "end_time": "2025-07-14T23:11:56.814561",
     "exception": false,
     "start_time": "2025-07-14T23:11:56.799235",
     "status": "completed"
    },
    "tags": []
   },
   "outputs": [],
   "source": [
    "impute_cols = ['CryoSleep', 'Age','VIP', 'RoomService', 'FoodCourt', 'ShoppingMall', 'Spa', 'VRDeck', 'PassengerNumber', 'GroupId', 'Num', 'Transported']\n",
    "non_impute_cols = list(set(data.columns) - set(impute_cols))"
   ]
  },
  {
   "cell_type": "code",
   "execution_count": 9,
   "id": "5d0d79da",
   "metadata": {
    "execution": {
     "iopub.execute_input": "2025-07-14T23:11:56.829745Z",
     "iopub.status.busy": "2025-07-14T23:11:56.829126Z",
     "iopub.status.idle": "2025-07-14T23:11:58.154048Z",
     "shell.execute_reply": "2025-07-14T23:11:58.153091Z"
    },
    "papermill": {
     "duration": 1.334228,
     "end_time": "2025-07-14T23:11:58.155742",
     "exception": false,
     "start_time": "2025-07-14T23:11:56.821514",
     "status": "completed"
    },
    "tags": []
   },
   "outputs": [],
   "source": [
    "# Handle Missing Values for Numerical Features\n",
    "imputer = KNNImputer(n_neighbors=5)\n",
    "data_imputed = imputer.fit_transform(data[impute_cols])\n",
    "data_imputed = pd.DataFrame(data_imputed, columns=impute_cols)\n",
    "data_rest = data[non_impute_cols]\n",
    "data = pd.concat([data_rest.reset_index(drop=True), data_imputed.reset_index(drop=True)],axis=1)"
   ]
  },
  {
   "cell_type": "code",
   "execution_count": 10,
   "id": "f30c5f0e",
   "metadata": {
    "execution": {
     "iopub.execute_input": "2025-07-14T23:11:58.170681Z",
     "iopub.status.busy": "2025-07-14T23:11:58.170371Z",
     "iopub.status.idle": "2025-07-14T23:11:58.181134Z",
     "shell.execute_reply": "2025-07-14T23:11:58.180420Z"
    },
    "papermill": {
     "duration": 0.019936,
     "end_time": "2025-07-14T23:11:58.182564",
     "exception": false,
     "start_time": "2025-07-14T23:11:58.162628",
     "status": "completed"
    },
    "tags": []
   },
   "outputs": [],
   "source": [
    "# Handle Missing Values for Categorical Features\n",
    "for col in non_impute_cols:\n",
    "    data[col] = data[col].fillna('U')"
   ]
  },
  {
   "cell_type": "code",
   "execution_count": 11,
   "id": "a7e6eac5",
   "metadata": {
    "execution": {
     "iopub.execute_input": "2025-07-14T23:11:58.198226Z",
     "iopub.status.busy": "2025-07-14T23:11:58.197367Z",
     "iopub.status.idle": "2025-07-14T23:11:58.208290Z",
     "shell.execute_reply": "2025-07-14T23:11:58.207326Z"
    },
    "papermill": {
     "duration": 0.020439,
     "end_time": "2025-07-14T23:11:58.210026",
     "exception": false,
     "start_time": "2025-07-14T23:11:58.189587",
     "status": "completed"
    },
    "tags": []
   },
   "outputs": [
    {
     "data": {
      "text/plain": [
       "Destination        0\n",
       "Side               0\n",
       "Deck               0\n",
       "HomePlanet         0\n",
       "CryoSleep          0\n",
       "Age                0\n",
       "VIP                0\n",
       "RoomService        0\n",
       "FoodCourt          0\n",
       "ShoppingMall       0\n",
       "Spa                0\n",
       "VRDeck             0\n",
       "PassengerNumber    0\n",
       "GroupId            0\n",
       "Num                0\n",
       "Transported        0\n",
       "dtype: int64"
      ]
     },
     "execution_count": 11,
     "metadata": {},
     "output_type": "execute_result"
    }
   ],
   "source": [
    "data.isna().sum()"
   ]
  },
  {
   "cell_type": "markdown",
   "id": "ce2b801a",
   "metadata": {
    "papermill": {
     "duration": 0.006633,
     "end_time": "2025-07-14T23:11:58.223707",
     "exception": false,
     "start_time": "2025-07-14T23:11:58.217074",
     "status": "completed"
    },
    "tags": []
   },
   "source": [
    "<h3>Feature Engineering</h3>"
   ]
  },
  {
   "cell_type": "markdown",
   "id": "8f2abf58",
   "metadata": {
    "papermill": {
     "duration": 0.006966,
     "end_time": "2025-07-14T23:11:58.237724",
     "exception": false,
     "start_time": "2025-07-14T23:11:58.230758",
     "status": "completed"
    },
    "tags": []
   },
   "source": [
    "<h5>Now, we have multiple columns for the expenses made for each type of amenity. So, we can make a column for the average expenses, std expenses, and the total amount of expenses per passenger. </h5>"
   ]
  },
  {
   "cell_type": "code",
   "execution_count": 12,
   "id": "e902ada2",
   "metadata": {
    "execution": {
     "iopub.execute_input": "2025-07-14T23:11:58.252676Z",
     "iopub.status.busy": "2025-07-14T23:11:58.252368Z",
     "iopub.status.idle": "2025-07-14T23:11:58.282540Z",
     "shell.execute_reply": "2025-07-14T23:11:58.281695Z"
    },
    "papermill": {
     "duration": 0.039516,
     "end_time": "2025-07-14T23:11:58.284085",
     "exception": false,
     "start_time": "2025-07-14T23:11:58.244569",
     "status": "completed"
    },
    "tags": []
   },
   "outputs": [
    {
     "data": {
      "text/html": [
       "<div>\n",
       "<style scoped>\n",
       "    .dataframe tbody tr th:only-of-type {\n",
       "        vertical-align: middle;\n",
       "    }\n",
       "\n",
       "    .dataframe tbody tr th {\n",
       "        vertical-align: top;\n",
       "    }\n",
       "\n",
       "    .dataframe thead th {\n",
       "        text-align: right;\n",
       "    }\n",
       "</style>\n",
       "<table border=\"1\" class=\"dataframe\">\n",
       "  <thead>\n",
       "    <tr style=\"text-align: right;\">\n",
       "      <th></th>\n",
       "      <th>Destination</th>\n",
       "      <th>Side</th>\n",
       "      <th>Deck</th>\n",
       "      <th>HomePlanet</th>\n",
       "      <th>CryoSleep</th>\n",
       "      <th>Age</th>\n",
       "      <th>VIP</th>\n",
       "      <th>RoomService</th>\n",
       "      <th>FoodCourt</th>\n",
       "      <th>ShoppingMall</th>\n",
       "      <th>Spa</th>\n",
       "      <th>VRDeck</th>\n",
       "      <th>PassengerNumber</th>\n",
       "      <th>GroupId</th>\n",
       "      <th>Num</th>\n",
       "      <th>Transported</th>\n",
       "      <th>TotalExpenses</th>\n",
       "      <th>TotalExpenses_std</th>\n",
       "      <th>TotalExpenses_avg</th>\n",
       "    </tr>\n",
       "  </thead>\n",
       "  <tbody>\n",
       "    <tr>\n",
       "      <th>0</th>\n",
       "      <td>TRAPPIST-1e</td>\n",
       "      <td>P</td>\n",
       "      <td>B</td>\n",
       "      <td>Europa</td>\n",
       "      <td>0.0</td>\n",
       "      <td>39.0</td>\n",
       "      <td>0.0</td>\n",
       "      <td>0.0</td>\n",
       "      <td>0.0</td>\n",
       "      <td>0.0</td>\n",
       "      <td>0.0</td>\n",
       "      <td>0.0</td>\n",
       "      <td>1.0</td>\n",
       "      <td>1.0</td>\n",
       "      <td>0.0</td>\n",
       "      <td>0.0</td>\n",
       "      <td>0.0</td>\n",
       "      <td>0.000000</td>\n",
       "      <td>0.0</td>\n",
       "    </tr>\n",
       "    <tr>\n",
       "      <th>1</th>\n",
       "      <td>TRAPPIST-1e</td>\n",
       "      <td>S</td>\n",
       "      <td>F</td>\n",
       "      <td>Earth</td>\n",
       "      <td>0.0</td>\n",
       "      <td>24.0</td>\n",
       "      <td>0.0</td>\n",
       "      <td>109.0</td>\n",
       "      <td>9.0</td>\n",
       "      <td>25.0</td>\n",
       "      <td>549.0</td>\n",
       "      <td>44.0</td>\n",
       "      <td>2.0</td>\n",
       "      <td>1.0</td>\n",
       "      <td>0.0</td>\n",
       "      <td>1.0</td>\n",
       "      <td>736.0</td>\n",
       "      <td>227.807375</td>\n",
       "      <td>147.2</td>\n",
       "    </tr>\n",
       "    <tr>\n",
       "      <th>2</th>\n",
       "      <td>TRAPPIST-1e</td>\n",
       "      <td>S</td>\n",
       "      <td>A</td>\n",
       "      <td>Europa</td>\n",
       "      <td>0.0</td>\n",
       "      <td>58.0</td>\n",
       "      <td>1.0</td>\n",
       "      <td>43.0</td>\n",
       "      <td>3576.0</td>\n",
       "      <td>0.0</td>\n",
       "      <td>6715.0</td>\n",
       "      <td>49.0</td>\n",
       "      <td>3.0</td>\n",
       "      <td>1.0</td>\n",
       "      <td>0.0</td>\n",
       "      <td>0.0</td>\n",
       "      <td>10383.0</td>\n",
       "      <td>3013.383198</td>\n",
       "      <td>2076.6</td>\n",
       "    </tr>\n",
       "    <tr>\n",
       "      <th>3</th>\n",
       "      <td>TRAPPIST-1e</td>\n",
       "      <td>S</td>\n",
       "      <td>A</td>\n",
       "      <td>Europa</td>\n",
       "      <td>0.0</td>\n",
       "      <td>33.0</td>\n",
       "      <td>0.0</td>\n",
       "      <td>0.0</td>\n",
       "      <td>1283.0</td>\n",
       "      <td>371.0</td>\n",
       "      <td>3329.0</td>\n",
       "      <td>193.0</td>\n",
       "      <td>3.0</td>\n",
       "      <td>2.0</td>\n",
       "      <td>0.0</td>\n",
       "      <td>0.0</td>\n",
       "      <td>5176.0</td>\n",
       "      <td>1373.410427</td>\n",
       "      <td>1035.2</td>\n",
       "    </tr>\n",
       "    <tr>\n",
       "      <th>4</th>\n",
       "      <td>TRAPPIST-1e</td>\n",
       "      <td>S</td>\n",
       "      <td>F</td>\n",
       "      <td>Earth</td>\n",
       "      <td>0.0</td>\n",
       "      <td>16.0</td>\n",
       "      <td>0.0</td>\n",
       "      <td>303.0</td>\n",
       "      <td>70.0</td>\n",
       "      <td>151.0</td>\n",
       "      <td>565.0</td>\n",
       "      <td>2.0</td>\n",
       "      <td>4.0</td>\n",
       "      <td>1.0</td>\n",
       "      <td>1.0</td>\n",
       "      <td>1.0</td>\n",
       "      <td>1091.0</td>\n",
       "      <td>223.988169</td>\n",
       "      <td>218.2</td>\n",
       "    </tr>\n",
       "  </tbody>\n",
       "</table>\n",
       "</div>"
      ],
      "text/plain": [
       "   Destination Side Deck HomePlanet  CryoSleep   Age  VIP  RoomService  \\\n",
       "0  TRAPPIST-1e    P    B     Europa        0.0  39.0  0.0          0.0   \n",
       "1  TRAPPIST-1e    S    F      Earth        0.0  24.0  0.0        109.0   \n",
       "2  TRAPPIST-1e    S    A     Europa        0.0  58.0  1.0         43.0   \n",
       "3  TRAPPIST-1e    S    A     Europa        0.0  33.0  0.0          0.0   \n",
       "4  TRAPPIST-1e    S    F      Earth        0.0  16.0  0.0        303.0   \n",
       "\n",
       "   FoodCourt  ShoppingMall     Spa  VRDeck  PassengerNumber  GroupId  Num  \\\n",
       "0        0.0           0.0     0.0     0.0              1.0      1.0  0.0   \n",
       "1        9.0          25.0   549.0    44.0              2.0      1.0  0.0   \n",
       "2     3576.0           0.0  6715.0    49.0              3.0      1.0  0.0   \n",
       "3     1283.0         371.0  3329.0   193.0              3.0      2.0  0.0   \n",
       "4       70.0         151.0   565.0     2.0              4.0      1.0  1.0   \n",
       "\n",
       "   Transported  TotalExpenses  TotalExpenses_std  TotalExpenses_avg  \n",
       "0          0.0            0.0           0.000000                0.0  \n",
       "1          1.0          736.0         227.807375              147.2  \n",
       "2          0.0        10383.0        3013.383198             2076.6  \n",
       "3          0.0         5176.0        1373.410427             1035.2  \n",
       "4          1.0         1091.0         223.988169              218.2  "
      ]
     },
     "execution_count": 12,
     "metadata": {},
     "output_type": "execute_result"
    }
   ],
   "source": [
    "expenses = ['RoomService', 'FoodCourt', 'VRDeck', 'Spa', 'ShoppingMall']\n",
    "data['TotalExpenses'] = data[expenses].sum(axis=1)\n",
    "data['TotalExpenses_std'] = data[expenses].std(axis=1)\n",
    "data['TotalExpenses_avg'] = data[expenses].mean(axis=1)\n",
    "data.head()"
   ]
  },
  {
   "cell_type": "markdown",
   "id": "5718cc50",
   "metadata": {
    "papermill": {
     "duration": 0.006829,
     "end_time": "2025-07-14T23:11:58.298344",
     "exception": false,
     "start_time": "2025-07-14T23:11:58.291515",
     "status": "completed"
    },
    "tags": []
   },
   "source": [
    "<h5>Now, we want all of our categorical features to be numerical so we will do one-hot encoding.</h5>"
   ]
  },
  {
   "cell_type": "code",
   "execution_count": 13,
   "id": "0756b4b9",
   "metadata": {
    "execution": {
     "iopub.execute_input": "2025-07-14T23:11:58.313711Z",
     "iopub.status.busy": "2025-07-14T23:11:58.313411Z",
     "iopub.status.idle": "2025-07-14T23:11:58.347974Z",
     "shell.execute_reply": "2025-07-14T23:11:58.347021Z"
    },
    "papermill": {
     "duration": 0.044023,
     "end_time": "2025-07-14T23:11:58.349480",
     "exception": false,
     "start_time": "2025-07-14T23:11:58.305457",
     "status": "completed"
    },
    "tags": []
   },
   "outputs": [
    {
     "data": {
      "text/html": [
       "<div>\n",
       "<style scoped>\n",
       "    .dataframe tbody tr th:only-of-type {\n",
       "        vertical-align: middle;\n",
       "    }\n",
       "\n",
       "    .dataframe tbody tr th {\n",
       "        vertical-align: top;\n",
       "    }\n",
       "\n",
       "    .dataframe thead th {\n",
       "        text-align: right;\n",
       "    }\n",
       "</style>\n",
       "<table border=\"1\" class=\"dataframe\">\n",
       "  <thead>\n",
       "    <tr style=\"text-align: right;\">\n",
       "      <th></th>\n",
       "      <th>CryoSleep</th>\n",
       "      <th>Age</th>\n",
       "      <th>VIP</th>\n",
       "      <th>RoomService</th>\n",
       "      <th>FoodCourt</th>\n",
       "      <th>ShoppingMall</th>\n",
       "      <th>Spa</th>\n",
       "      <th>VRDeck</th>\n",
       "      <th>PassengerNumber</th>\n",
       "      <th>GroupId</th>\n",
       "      <th>...</th>\n",
       "      <th>Deck_D</th>\n",
       "      <th>Deck_E</th>\n",
       "      <th>Deck_F</th>\n",
       "      <th>Deck_G</th>\n",
       "      <th>Deck_T</th>\n",
       "      <th>Deck_U</th>\n",
       "      <th>HomePlanet_Earth</th>\n",
       "      <th>HomePlanet_Europa</th>\n",
       "      <th>HomePlanet_Mars</th>\n",
       "      <th>HomePlanet_U</th>\n",
       "    </tr>\n",
       "  </thead>\n",
       "  <tbody>\n",
       "    <tr>\n",
       "      <th>0</th>\n",
       "      <td>0.0</td>\n",
       "      <td>39.0</td>\n",
       "      <td>0.0</td>\n",
       "      <td>0.0</td>\n",
       "      <td>0.0</td>\n",
       "      <td>0.0</td>\n",
       "      <td>0.0</td>\n",
       "      <td>0.0</td>\n",
       "      <td>1.0</td>\n",
       "      <td>1.0</td>\n",
       "      <td>...</td>\n",
       "      <td>False</td>\n",
       "      <td>False</td>\n",
       "      <td>False</td>\n",
       "      <td>False</td>\n",
       "      <td>False</td>\n",
       "      <td>False</td>\n",
       "      <td>False</td>\n",
       "      <td>True</td>\n",
       "      <td>False</td>\n",
       "      <td>False</td>\n",
       "    </tr>\n",
       "    <tr>\n",
       "      <th>1</th>\n",
       "      <td>0.0</td>\n",
       "      <td>24.0</td>\n",
       "      <td>0.0</td>\n",
       "      <td>109.0</td>\n",
       "      <td>9.0</td>\n",
       "      <td>25.0</td>\n",
       "      <td>549.0</td>\n",
       "      <td>44.0</td>\n",
       "      <td>2.0</td>\n",
       "      <td>1.0</td>\n",
       "      <td>...</td>\n",
       "      <td>False</td>\n",
       "      <td>False</td>\n",
       "      <td>True</td>\n",
       "      <td>False</td>\n",
       "      <td>False</td>\n",
       "      <td>False</td>\n",
       "      <td>True</td>\n",
       "      <td>False</td>\n",
       "      <td>False</td>\n",
       "      <td>False</td>\n",
       "    </tr>\n",
       "    <tr>\n",
       "      <th>2</th>\n",
       "      <td>0.0</td>\n",
       "      <td>58.0</td>\n",
       "      <td>1.0</td>\n",
       "      <td>43.0</td>\n",
       "      <td>3576.0</td>\n",
       "      <td>0.0</td>\n",
       "      <td>6715.0</td>\n",
       "      <td>49.0</td>\n",
       "      <td>3.0</td>\n",
       "      <td>1.0</td>\n",
       "      <td>...</td>\n",
       "      <td>False</td>\n",
       "      <td>False</td>\n",
       "      <td>False</td>\n",
       "      <td>False</td>\n",
       "      <td>False</td>\n",
       "      <td>False</td>\n",
       "      <td>False</td>\n",
       "      <td>True</td>\n",
       "      <td>False</td>\n",
       "      <td>False</td>\n",
       "    </tr>\n",
       "    <tr>\n",
       "      <th>3</th>\n",
       "      <td>0.0</td>\n",
       "      <td>33.0</td>\n",
       "      <td>0.0</td>\n",
       "      <td>0.0</td>\n",
       "      <td>1283.0</td>\n",
       "      <td>371.0</td>\n",
       "      <td>3329.0</td>\n",
       "      <td>193.0</td>\n",
       "      <td>3.0</td>\n",
       "      <td>2.0</td>\n",
       "      <td>...</td>\n",
       "      <td>False</td>\n",
       "      <td>False</td>\n",
       "      <td>False</td>\n",
       "      <td>False</td>\n",
       "      <td>False</td>\n",
       "      <td>False</td>\n",
       "      <td>False</td>\n",
       "      <td>True</td>\n",
       "      <td>False</td>\n",
       "      <td>False</td>\n",
       "    </tr>\n",
       "    <tr>\n",
       "      <th>4</th>\n",
       "      <td>0.0</td>\n",
       "      <td>16.0</td>\n",
       "      <td>0.0</td>\n",
       "      <td>303.0</td>\n",
       "      <td>70.0</td>\n",
       "      <td>151.0</td>\n",
       "      <td>565.0</td>\n",
       "      <td>2.0</td>\n",
       "      <td>4.0</td>\n",
       "      <td>1.0</td>\n",
       "      <td>...</td>\n",
       "      <td>False</td>\n",
       "      <td>False</td>\n",
       "      <td>True</td>\n",
       "      <td>False</td>\n",
       "      <td>False</td>\n",
       "      <td>False</td>\n",
       "      <td>True</td>\n",
       "      <td>False</td>\n",
       "      <td>False</td>\n",
       "      <td>False</td>\n",
       "    </tr>\n",
       "  </tbody>\n",
       "</table>\n",
       "<p>5 rows × 35 columns</p>\n",
       "</div>"
      ],
      "text/plain": [
       "   CryoSleep   Age  VIP  RoomService  FoodCourt  ShoppingMall     Spa  VRDeck  \\\n",
       "0        0.0  39.0  0.0          0.0        0.0           0.0     0.0     0.0   \n",
       "1        0.0  24.0  0.0        109.0        9.0          25.0   549.0    44.0   \n",
       "2        0.0  58.0  1.0         43.0     3576.0           0.0  6715.0    49.0   \n",
       "3        0.0  33.0  0.0          0.0     1283.0         371.0  3329.0   193.0   \n",
       "4        0.0  16.0  0.0        303.0       70.0         151.0   565.0     2.0   \n",
       "\n",
       "   PassengerNumber  GroupId  ...  Deck_D  Deck_E  Deck_F  Deck_G  Deck_T  \\\n",
       "0              1.0      1.0  ...   False   False   False   False   False   \n",
       "1              2.0      1.0  ...   False   False    True   False   False   \n",
       "2              3.0      1.0  ...   False   False   False   False   False   \n",
       "3              3.0      2.0  ...   False   False   False   False   False   \n",
       "4              4.0      1.0  ...   False   False    True   False   False   \n",
       "\n",
       "   Deck_U  HomePlanet_Earth  HomePlanet_Europa  HomePlanet_Mars  HomePlanet_U  \n",
       "0   False             False               True            False         False  \n",
       "1   False              True              False            False         False  \n",
       "2   False             False               True            False         False  \n",
       "3   False             False               True            False         False  \n",
       "4   False              True              False            False         False  \n",
       "\n",
       "[5 rows x 35 columns]"
      ]
     },
     "execution_count": 13,
     "metadata": {},
     "output_type": "execute_result"
    }
   ],
   "source": [
    "data = pd.get_dummies(data, columns=non_impute_cols)\n",
    "data.head()"
   ]
  },
  {
   "cell_type": "code",
   "execution_count": 14,
   "id": "3d4a3ee2",
   "metadata": {
    "execution": {
     "iopub.execute_input": "2025-07-14T23:11:58.365849Z",
     "iopub.status.busy": "2025-07-14T23:11:58.365572Z",
     "iopub.status.idle": "2025-07-14T23:11:58.371181Z",
     "shell.execute_reply": "2025-07-14T23:11:58.370498Z"
    },
    "papermill": {
     "duration": 0.015355,
     "end_time": "2025-07-14T23:11:58.372569",
     "exception": false,
     "start_time": "2025-07-14T23:11:58.357214",
     "status": "completed"
    },
    "tags": []
   },
   "outputs": [
    {
     "data": {
      "text/plain": [
       "Index(['CryoSleep', 'Age', 'VIP', 'RoomService', 'FoodCourt', 'ShoppingMall',\n",
       "       'Spa', 'VRDeck', 'PassengerNumber', 'GroupId', 'Num', 'Transported',\n",
       "       'TotalExpenses', 'TotalExpenses_std', 'TotalExpenses_avg',\n",
       "       'Destination_55 Cancri e', 'Destination_PSO J318.5-22',\n",
       "       'Destination_TRAPPIST-1e', 'Destination_U', 'Side_P', 'Side_S',\n",
       "       'Side_U', 'Deck_A', 'Deck_B', 'Deck_C', 'Deck_D', 'Deck_E', 'Deck_F',\n",
       "       'Deck_G', 'Deck_T', 'Deck_U', 'HomePlanet_Earth', 'HomePlanet_Europa',\n",
       "       'HomePlanet_Mars', 'HomePlanet_U'],\n",
       "      dtype='object')"
      ]
     },
     "execution_count": 14,
     "metadata": {},
     "output_type": "execute_result"
    }
   ],
   "source": [
    "data.columns"
   ]
  },
  {
   "cell_type": "code",
   "execution_count": 15,
   "id": "013f9322",
   "metadata": {
    "execution": {
     "iopub.execute_input": "2025-07-14T23:11:58.388810Z",
     "iopub.status.busy": "2025-07-14T23:11:58.388527Z",
     "iopub.status.idle": "2025-07-14T23:11:58.444360Z",
     "shell.execute_reply": "2025-07-14T23:11:58.443499Z"
    },
    "papermill": {
     "duration": 0.065682,
     "end_time": "2025-07-14T23:11:58.445812",
     "exception": false,
     "start_time": "2025-07-14T23:11:58.380130",
     "status": "completed"
    },
    "tags": []
   },
   "outputs": [
    {
     "data": {
      "text/plain": [
       "Transported                  1.000000\n",
       "CryoSleep                    0.315576\n",
       "HomePlanet_Europa            0.131977\n",
       "Deck_B                       0.107559\n",
       "Destination_55 Cancri e      0.083625\n",
       "Deck_C                       0.079540\n",
       "Side_S                       0.073741\n",
       "GroupId                      0.051881\n",
       "FoodCourt                    0.035562\n",
       "Deck_G                       0.016048\n",
       "PassengerNumber              0.014628\n",
       "Deck_A                       0.007513\n",
       "HomePlanet_U                 0.006403\n",
       "HomePlanet_Mars              0.005643\n",
       "ShoppingMall                 0.005371\n",
       "Destination_PSO J318.5-22    0.000760\n",
       "Destination_U               -0.000554\n",
       "Side_U                      -0.001007\n",
       "Deck_U                      -0.001007\n",
       "VIP                         -0.009605\n",
       "Deck_T                      -0.015196\n",
       "Deck_D                      -0.025659\n",
       "Num                         -0.035240\n",
       "Age                         -0.050147\n",
       "Deck_F                      -0.070171\n",
       "Deck_E                      -0.071961\n",
       "Destination_TRAPPIST-1e     -0.072731\n",
       "Side_P                      -0.073463\n",
       "HomePlanet_Earth            -0.119644\n",
       "TotalExpenses_std           -0.119803\n",
       "TotalExpenses_avg           -0.139586\n",
       "TotalExpenses               -0.139586\n",
       "VRDeck                      -0.142660\n",
       "Spa                         -0.154590\n",
       "RoomService                 -0.174178\n",
       "Name: Transported, dtype: float64"
      ]
     },
     "execution_count": 15,
     "metadata": {},
     "output_type": "execute_result"
    }
   ],
   "source": [
    "data.corr()['Transported'].sort_values(ascending=False)"
   ]
  },
  {
   "cell_type": "code",
   "execution_count": 16,
   "id": "eb80593b",
   "metadata": {
    "execution": {
     "iopub.execute_input": "2025-07-14T23:11:58.462396Z",
     "iopub.status.busy": "2025-07-14T23:11:58.462072Z",
     "iopub.status.idle": "2025-07-14T23:11:58.486104Z",
     "shell.execute_reply": "2025-07-14T23:11:58.485200Z"
    },
    "papermill": {
     "duration": 0.034076,
     "end_time": "2025-07-14T23:11:58.487689",
     "exception": false,
     "start_time": "2025-07-14T23:11:58.453613",
     "status": "completed"
    },
    "tags": []
   },
   "outputs": [
    {
     "data": {
      "text/html": [
       "<div>\n",
       "<style scoped>\n",
       "    .dataframe tbody tr th:only-of-type {\n",
       "        vertical-align: middle;\n",
       "    }\n",
       "\n",
       "    .dataframe tbody tr th {\n",
       "        vertical-align: top;\n",
       "    }\n",
       "\n",
       "    .dataframe thead th {\n",
       "        text-align: right;\n",
       "    }\n",
       "</style>\n",
       "<table border=\"1\" class=\"dataframe\">\n",
       "  <thead>\n",
       "    <tr style=\"text-align: right;\">\n",
       "      <th></th>\n",
       "      <th>CryoSleep</th>\n",
       "      <th>Age</th>\n",
       "      <th>VIP</th>\n",
       "      <th>RoomService</th>\n",
       "      <th>FoodCourt</th>\n",
       "      <th>ShoppingMall</th>\n",
       "      <th>Spa</th>\n",
       "      <th>VRDeck</th>\n",
       "      <th>PassengerNumber</th>\n",
       "      <th>GroupId</th>\n",
       "      <th>...</th>\n",
       "      <th>Deck_E</th>\n",
       "      <th>Deck_F</th>\n",
       "      <th>Deck_G</th>\n",
       "      <th>Deck_T</th>\n",
       "      <th>Deck_U</th>\n",
       "      <th>HomePlanet_Earth</th>\n",
       "      <th>HomePlanet_Europa</th>\n",
       "      <th>HomePlanet_Mars</th>\n",
       "      <th>HomePlanet_U</th>\n",
       "      <th>4_top_corr</th>\n",
       "    </tr>\n",
       "  </thead>\n",
       "  <tbody>\n",
       "    <tr>\n",
       "      <th>0</th>\n",
       "      <td>0.0</td>\n",
       "      <td>39.0</td>\n",
       "      <td>0.0</td>\n",
       "      <td>0.0</td>\n",
       "      <td>0.0</td>\n",
       "      <td>0.0</td>\n",
       "      <td>0.0</td>\n",
       "      <td>0.0</td>\n",
       "      <td>1.0</td>\n",
       "      <td>1.0</td>\n",
       "      <td>...</td>\n",
       "      <td>False</td>\n",
       "      <td>False</td>\n",
       "      <td>False</td>\n",
       "      <td>False</td>\n",
       "      <td>False</td>\n",
       "      <td>False</td>\n",
       "      <td>True</td>\n",
       "      <td>False</td>\n",
       "      <td>False</td>\n",
       "      <td>2.0</td>\n",
       "    </tr>\n",
       "    <tr>\n",
       "      <th>1</th>\n",
       "      <td>0.0</td>\n",
       "      <td>24.0</td>\n",
       "      <td>0.0</td>\n",
       "      <td>109.0</td>\n",
       "      <td>9.0</td>\n",
       "      <td>25.0</td>\n",
       "      <td>549.0</td>\n",
       "      <td>44.0</td>\n",
       "      <td>2.0</td>\n",
       "      <td>1.0</td>\n",
       "      <td>...</td>\n",
       "      <td>False</td>\n",
       "      <td>True</td>\n",
       "      <td>False</td>\n",
       "      <td>False</td>\n",
       "      <td>False</td>\n",
       "      <td>True</td>\n",
       "      <td>False</td>\n",
       "      <td>False</td>\n",
       "      <td>False</td>\n",
       "      <td>0.0</td>\n",
       "    </tr>\n",
       "    <tr>\n",
       "      <th>2</th>\n",
       "      <td>0.0</td>\n",
       "      <td>58.0</td>\n",
       "      <td>1.0</td>\n",
       "      <td>43.0</td>\n",
       "      <td>3576.0</td>\n",
       "      <td>0.0</td>\n",
       "      <td>6715.0</td>\n",
       "      <td>49.0</td>\n",
       "      <td>3.0</td>\n",
       "      <td>1.0</td>\n",
       "      <td>...</td>\n",
       "      <td>False</td>\n",
       "      <td>False</td>\n",
       "      <td>False</td>\n",
       "      <td>False</td>\n",
       "      <td>False</td>\n",
       "      <td>False</td>\n",
       "      <td>True</td>\n",
       "      <td>False</td>\n",
       "      <td>False</td>\n",
       "      <td>1.0</td>\n",
       "    </tr>\n",
       "    <tr>\n",
       "      <th>3</th>\n",
       "      <td>0.0</td>\n",
       "      <td>33.0</td>\n",
       "      <td>0.0</td>\n",
       "      <td>0.0</td>\n",
       "      <td>1283.0</td>\n",
       "      <td>371.0</td>\n",
       "      <td>3329.0</td>\n",
       "      <td>193.0</td>\n",
       "      <td>3.0</td>\n",
       "      <td>2.0</td>\n",
       "      <td>...</td>\n",
       "      <td>False</td>\n",
       "      <td>False</td>\n",
       "      <td>False</td>\n",
       "      <td>False</td>\n",
       "      <td>False</td>\n",
       "      <td>False</td>\n",
       "      <td>True</td>\n",
       "      <td>False</td>\n",
       "      <td>False</td>\n",
       "      <td>1.0</td>\n",
       "    </tr>\n",
       "    <tr>\n",
       "      <th>4</th>\n",
       "      <td>0.0</td>\n",
       "      <td>16.0</td>\n",
       "      <td>0.0</td>\n",
       "      <td>303.0</td>\n",
       "      <td>70.0</td>\n",
       "      <td>151.0</td>\n",
       "      <td>565.0</td>\n",
       "      <td>2.0</td>\n",
       "      <td>4.0</td>\n",
       "      <td>1.0</td>\n",
       "      <td>...</td>\n",
       "      <td>False</td>\n",
       "      <td>True</td>\n",
       "      <td>False</td>\n",
       "      <td>False</td>\n",
       "      <td>False</td>\n",
       "      <td>True</td>\n",
       "      <td>False</td>\n",
       "      <td>False</td>\n",
       "      <td>False</td>\n",
       "      <td>0.0</td>\n",
       "    </tr>\n",
       "  </tbody>\n",
       "</table>\n",
       "<p>5 rows × 36 columns</p>\n",
       "</div>"
      ],
      "text/plain": [
       "   CryoSleep   Age  VIP  RoomService  FoodCourt  ShoppingMall     Spa  VRDeck  \\\n",
       "0        0.0  39.0  0.0          0.0        0.0           0.0     0.0     0.0   \n",
       "1        0.0  24.0  0.0        109.0        9.0          25.0   549.0    44.0   \n",
       "2        0.0  58.0  1.0         43.0     3576.0           0.0  6715.0    49.0   \n",
       "3        0.0  33.0  0.0          0.0     1283.0         371.0  3329.0   193.0   \n",
       "4        0.0  16.0  0.0        303.0       70.0         151.0   565.0     2.0   \n",
       "\n",
       "   PassengerNumber  GroupId  ...  Deck_E  Deck_F  Deck_G  Deck_T  Deck_U  \\\n",
       "0              1.0      1.0  ...   False   False   False   False   False   \n",
       "1              2.0      1.0  ...   False    True   False   False   False   \n",
       "2              3.0      1.0  ...   False   False   False   False   False   \n",
       "3              3.0      2.0  ...   False   False   False   False   False   \n",
       "4              4.0      1.0  ...   False    True   False   False   False   \n",
       "\n",
       "   HomePlanet_Earth  HomePlanet_Europa  HomePlanet_Mars  HomePlanet_U  \\\n",
       "0             False               True            False         False   \n",
       "1              True              False            False         False   \n",
       "2             False               True            False         False   \n",
       "3             False               True            False         False   \n",
       "4              True              False            False         False   \n",
       "\n",
       "   4_top_corr  \n",
       "0         2.0  \n",
       "1         0.0  \n",
       "2         1.0  \n",
       "3         1.0  \n",
       "4         0.0  \n",
       "\n",
       "[5 rows x 36 columns]"
      ]
     },
     "execution_count": 16,
     "metadata": {},
     "output_type": "execute_result"
    }
   ],
   "source": [
    "data['4_top_corr'] = data['CryoSleep'] + data['HomePlanet_Europa'] + data['Deck_B'] + data['Destination_55 Cancri e']\n",
    "data.head()"
   ]
  },
  {
   "cell_type": "code",
   "execution_count": 17,
   "id": "a52f7ee7",
   "metadata": {
    "execution": {
     "iopub.execute_input": "2025-07-14T23:11:58.506312Z",
     "iopub.status.busy": "2025-07-14T23:11:58.505956Z",
     "iopub.status.idle": "2025-07-14T23:11:58.564380Z",
     "shell.execute_reply": "2025-07-14T23:11:58.563467Z"
    },
    "papermill": {
     "duration": 0.069258,
     "end_time": "2025-07-14T23:11:58.565987",
     "exception": false,
     "start_time": "2025-07-14T23:11:58.496729",
     "status": "completed"
    },
    "tags": []
   },
   "outputs": [
    {
     "data": {
      "text/plain": [
       "Transported                  1.000000\n",
       "CryoSleep                    0.315576\n",
       "4_top_corr                   0.268638\n",
       "HomePlanet_Europa            0.131977\n",
       "Deck_B                       0.107559\n",
       "Destination_55 Cancri e      0.083625\n",
       "Deck_C                       0.079540\n",
       "Side_S                       0.073741\n",
       "GroupId                      0.051881\n",
       "FoodCourt                    0.035562\n",
       "Deck_G                       0.016048\n",
       "PassengerNumber              0.014628\n",
       "Deck_A                       0.007513\n",
       "HomePlanet_U                 0.006403\n",
       "HomePlanet_Mars              0.005643\n",
       "ShoppingMall                 0.005371\n",
       "Destination_PSO J318.5-22    0.000760\n",
       "Destination_U               -0.000554\n",
       "Side_U                      -0.001007\n",
       "Deck_U                      -0.001007\n",
       "VIP                         -0.009605\n",
       "Deck_T                      -0.015196\n",
       "Deck_D                      -0.025659\n",
       "Num                         -0.035240\n",
       "Age                         -0.050147\n",
       "Deck_F                      -0.070171\n",
       "Deck_E                      -0.071961\n",
       "Destination_TRAPPIST-1e     -0.072731\n",
       "Side_P                      -0.073463\n",
       "HomePlanet_Earth            -0.119644\n",
       "TotalExpenses_std           -0.119803\n",
       "TotalExpenses_avg           -0.139586\n",
       "TotalExpenses               -0.139586\n",
       "VRDeck                      -0.142660\n",
       "Spa                         -0.154590\n",
       "RoomService                 -0.174178\n",
       "Name: Transported, dtype: float64"
      ]
     },
     "execution_count": 17,
     "metadata": {},
     "output_type": "execute_result"
    }
   ],
   "source": [
    "data.corr()['Transported'].sort_values(ascending=False)"
   ]
  },
  {
   "cell_type": "markdown",
   "id": "d84b09fc",
   "metadata": {
    "papermill": {
     "duration": 0.007784,
     "end_time": "2025-07-14T23:11:58.582227",
     "exception": false,
     "start_time": "2025-07-14T23:11:58.574443",
     "status": "completed"
    },
    "tags": []
   },
   "source": [
    "<h3>Model Training</h3>"
   ]
  },
  {
   "cell_type": "code",
   "execution_count": 18,
   "id": "0c0302e1",
   "metadata": {
    "execution": {
     "iopub.execute_input": "2025-07-14T23:11:58.599497Z",
     "iopub.status.busy": "2025-07-14T23:11:58.599156Z",
     "iopub.status.idle": "2025-07-14T23:11:58.607383Z",
     "shell.execute_reply": "2025-07-14T23:11:58.606333Z"
    },
    "papermill": {
     "duration": 0.018774,
     "end_time": "2025-07-14T23:11:58.609112",
     "exception": false,
     "start_time": "2025-07-14T23:11:58.590338",
     "status": "completed"
    },
    "tags": []
   },
   "outputs": [],
   "source": [
    "data_train, data_test = data[:train_data.shape[0]].copy(), data[train_data.shape[0]:].copy()\n",
    "data_test.drop(columns=['Transported'], inplace=True)"
   ]
  },
  {
   "cell_type": "code",
   "execution_count": 19,
   "id": "6a8cc83d",
   "metadata": {
    "execution": {
     "iopub.execute_input": "2025-07-14T23:11:58.691042Z",
     "iopub.status.busy": "2025-07-14T23:11:58.690722Z",
     "iopub.status.idle": "2025-07-14T23:11:58.695420Z",
     "shell.execute_reply": "2025-07-14T23:11:58.694586Z"
    },
    "papermill": {
     "duration": 0.015092,
     "end_time": "2025-07-14T23:11:58.696743",
     "exception": false,
     "start_time": "2025-07-14T23:11:58.681651",
     "status": "completed"
    },
    "tags": []
   },
   "outputs": [],
   "source": [
    "models = {\n",
    "    \"Random Forest\" : RandomForestClassifier(n_estimators=100,\n",
    "                                            random_state=42,\n",
    "                                            n_jobs=-1),\n",
    "    \"XGB\" : XGBClassifier(random_state=42),\n",
    "    \"Gradient Boosting\" : GradientBoostingClassifier(random_state=42)\n",
    "}"
   ]
  },
  {
   "cell_type": "code",
   "execution_count": 20,
   "id": "f1909127",
   "metadata": {
    "execution": {
     "iopub.execute_input": "2025-07-14T23:11:58.714428Z",
     "iopub.status.busy": "2025-07-14T23:11:58.714048Z",
     "iopub.status.idle": "2025-07-14T23:12:12.985347Z",
     "shell.execute_reply": "2025-07-14T23:12:12.984190Z"
    },
    "papermill": {
     "duration": 14.281937,
     "end_time": "2025-07-14T23:12:12.986849",
     "exception": false,
     "start_time": "2025-07-14T23:11:58.704912",
     "status": "completed"
    },
    "tags": []
   },
   "outputs": [
    {
     "name": "stdout",
     "output_type": "stream",
     "text": [
      "[0.73893042 0.75675676 0.80333525 0.81990794 0.77272727]\n",
      "Random Forest:  0.7783 (+/- 0.0594\n",
      "[0.61012076 0.68717654 0.63829787 0.74856157 0.7146145 ]\n",
      "XGB:  0.6798 (+/- 0.1003\n",
      "[0.5399655  0.70845313 0.78435883 0.79746835 0.66513234]\n",
      "Gradient Boosting:  0.6991 (+/- 0.1866\n"
     ]
    }
   ],
   "source": [
    "X_train = data_train.drop(columns='Transported')\n",
    "y_train = data_train['Transported']\n",
    "\n",
    "for name, model in models.items():\n",
    "    scores = cross_val_score(model, X_train, y_train, cv=5)\n",
    "    print(scores)\n",
    "    print(f\"{name}: {scores.mean(): .4f} (+/-{scores.std() * 2: .4f}\")"
   ]
  },
  {
   "cell_type": "markdown",
   "id": "7da845a2",
   "metadata": {
    "papermill": {
     "duration": 0.007912,
     "end_time": "2025-07-14T23:12:13.003232",
     "exception": false,
     "start_time": "2025-07-14T23:12:12.995320",
     "status": "completed"
    },
    "tags": []
   },
   "source": [
    "<h3>Model Testing Without Removing Features</h3>"
   ]
  },
  {
   "cell_type": "code",
   "execution_count": 21,
   "id": "0606d0cd",
   "metadata": {
    "execution": {
     "iopub.execute_input": "2025-07-14T23:12:13.020524Z",
     "iopub.status.busy": "2025-07-14T23:12:13.020198Z",
     "iopub.status.idle": "2025-07-14T23:12:13.731695Z",
     "shell.execute_reply": "2025-07-14T23:12:13.731029Z"
    },
    "papermill": {
     "duration": 0.721886,
     "end_time": "2025-07-14T23:12:13.733201",
     "exception": false,
     "start_time": "2025-07-14T23:12:13.011315",
     "status": "completed"
    },
    "tags": []
   },
   "outputs": [],
   "source": [
    "model = RandomForestClassifier(n_estimators=100, random_state=42, n_jobs=-1)\n",
    "model.fit(X_train, y_train)\n",
    "pred = model.predict(data_test)"
   ]
  },
  {
   "cell_type": "code",
   "execution_count": 22,
   "id": "29b94343",
   "metadata": {
    "execution": {
     "iopub.execute_input": "2025-07-14T23:12:13.751132Z",
     "iopub.status.busy": "2025-07-14T23:12:13.750839Z",
     "iopub.status.idle": "2025-07-14T23:12:13.766680Z",
     "shell.execute_reply": "2025-07-14T23:12:13.765927Z"
    },
    "papermill": {
     "duration": 0.026533,
     "end_time": "2025-07-14T23:12:13.768281",
     "exception": false,
     "start_time": "2025-07-14T23:12:13.741748",
     "status": "completed"
    },
    "tags": []
   },
   "outputs": [],
   "source": [
    "final = pd.DataFrame()\n",
    "final['PassengerId'] = test_data['PassengerId']\n",
    "final['Transported'] = pred.astype(bool)\n",
    "\n",
    "final.to_csv('submission.csv', index=False)"
   ]
  },
  {
   "cell_type": "markdown",
   "id": "205ba573",
   "metadata": {
    "papermill": {
     "duration": 0.007893,
     "end_time": "2025-07-14T23:12:13.784764",
     "exception": false,
     "start_time": "2025-07-14T23:12:13.776871",
     "status": "completed"
    },
    "tags": []
   },
   "source": [
    "<h3>Model Testing with the Removal of Features</h3>"
   ]
  },
  {
   "cell_type": "markdown",
   "id": "a879941e",
   "metadata": {
    "papermill": {
     "duration": 0.00784,
     "end_time": "2025-07-14T23:12:13.800776",
     "exception": false,
     "start_time": "2025-07-14T23:12:13.792936",
     "status": "completed"
    },
    "tags": []
   },
   "source": [
    "<h5>We will remove different permutations of columns that have weak correlation with the target column, 'Transported'.</h5>"
   ]
  },
  {
   "cell_type": "code",
   "execution_count": 23,
   "id": "dce9700b",
   "metadata": {
    "execution": {
     "iopub.execute_input": "2025-07-14T23:12:13.818701Z",
     "iopub.status.busy": "2025-07-14T23:12:13.818394Z",
     "iopub.status.idle": "2025-07-14T23:27:09.448176Z",
     "shell.execute_reply": "2025-07-14T23:27:09.447327Z"
    },
    "papermill": {
     "duration": 895.649196,
     "end_time": "2025-07-14T23:27:09.458544",
     "exception": false,
     "start_time": "2025-07-14T23:12:13.809348",
     "status": "completed"
    },
    "tags": []
   },
   "outputs": [
    {
     "name": "stdout",
     "output_type": "stream",
     "text": [
      "====== Cross Validation ======\n",
      "\n",
      "******** Random Forest *********\n",
      "\n",
      "                                          dropped_cols  mean_acc   std_acc\n",
      "65                (PassengerNumber, VIP, Num, GroupId)  0.792019  0.010877\n",
      "78       (PassengerNumber, Num, GroupId, ShoppingMall)  0.791443  0.010290\n",
      "99           (PassengerNumber, VIP, Num, Age, GroupId)  0.790984  0.014891\n",
      "112  (PassengerNumber, Num, GroupId, FoodCourt, Sho...  0.790523  0.010708\n",
      "121  (PassengerNumber, VIP, Num, Age, GroupId, Shop...  0.790179  0.014170\n",
      "..                                                 ...       ...       ...\n",
      "61                        (Age, GroupId, ShoppingMall)  0.756018  0.042541\n",
      "90                      (VIP, Age, GroupId, FoodCourt)  0.755558  0.036977\n",
      "62                      (Age, FoodCourt, ShoppingMall)  0.755096  0.041436\n",
      "98             (Age, GroupId, FoodCourt, ShoppingMall)  0.752681  0.039006\n",
      "118       (VIP, Age, GroupId, FoodCourt, ShoppingMall)  0.748541  0.049942\n",
      "\n",
      "[128 rows x 3 columns]\n",
      "\n",
      "******** XGB *********\n",
      "\n",
      "                                          dropped_cols  mean_acc   std_acc\n",
      "79     (PassengerNumber, Num, FoodCourt, ShoppingMall)  0.798575  0.007315\n",
      "77          (PassengerNumber, Num, GroupId, FoodCourt)  0.797886  0.008391\n",
      "65                (PassengerNumber, VIP, Num, GroupId)  0.796964  0.008364\n",
      "103  (PassengerNumber, VIP, Num, GroupId, ShoppingM...  0.796620  0.010900\n",
      "9                               (PassengerNumber, Num)  0.796045  0.009521\n",
      "..                                                 ...       ...       ...\n",
      "114                (VIP, Num, Age, GroupId, FoodCourt)  0.656971  0.034677\n",
      "49                               (VIP, Age, FoodCourt)  0.656623  0.038927\n",
      "119       (Num, Age, GroupId, FoodCourt, ShoppingMall)  0.655593  0.040094\n",
      "116           (VIP, Num, Age, FoodCourt, ShoppingMall)  0.652707  0.027754\n",
      "94                      (Num, Age, GroupId, FoodCourt)  0.651910  0.032918\n",
      "\n",
      "[128 rows x 3 columns]\n",
      "\n",
      "******** Gradient Boosting *********\n",
      "\n",
      "                                          dropped_cols  mean_acc   std_acc\n",
      "65                (PassengerNumber, VIP, Num, GroupId)  0.797885  0.007951\n",
      "35                     (PassengerNumber, Num, GroupId)  0.797770  0.008243\n",
      "29                         (PassengerNumber, VIP, Num)  0.797195  0.008462\n",
      "122  (PassengerNumber, VIP, Num, Age, FoodCourt, Sh...  0.796506  0.012562\n",
      "64                    (PassengerNumber, VIP, Num, Age)  0.796276  0.012034\n",
      "..                                                 ...       ...       ...\n",
      "55                               (Num, Age, FoodCourt)  0.681818  0.088017\n",
      "57                           (Num, GroupId, FoodCourt)  0.680439  0.098875\n",
      "46                               (VIP, Num, FoodCourt)  0.680323  0.091606\n",
      "21                                    (Num, FoodCourt)  0.680323  0.091752\n",
      "114                (VIP, Num, Age, GroupId, FoodCourt)  0.678022  0.086303\n",
      "\n",
      "[128 rows x 3 columns]\n",
      "\n"
     ]
    }
   ],
   "source": [
    "print(\"====== Cross Validation ======\")\n",
    "print()\n",
    "\n",
    "columns_to_test = ['PassengerNumber', 'VIP', 'Num', 'Age', 'GroupId', 'FoodCourt', 'ShoppingMall']\n",
    "\n",
    "# go through each classifier and do cross validation on them\n",
    "for name, clf in models.items():\n",
    "    print(f\"******** {name} *********\")\n",
    "    print()\n",
    "\n",
    "    results = []\n",
    "\n",
    "    # no columns removed\n",
    "    baseline_acc = cross_val_score(clf, X_train, y_train, cv=5, scoring='accuracy', n_jobs=-1)\n",
    "    results.append({\n",
    "        'dropped_cols': (),\n",
    "        'mean_acc': baseline_acc.mean(),\n",
    "        'std_acc': baseline_acc.std()\n",
    "    })\n",
    "\n",
    "    # Find every subset of the columns that need further testing and remove them from\n",
    "    # dataset to see if any has an affect on the results\n",
    "    for r in range(1, len(columns_to_test) + 1):\n",
    "        for subset in itertools.combinations(columns_to_test, r):\n",
    "                \n",
    "            X = X_train.drop(list(subset), axis=1)\n",
    "        \n",
    "            cv_acc = cross_val_score(clf, X, y_train, cv=5, scoring='accuracy', n_jobs=-1)\n",
    "\n",
    "            results.append({\n",
    "                'dropped_cols': subset,\n",
    "                'mean_acc': cv_acc.mean(),\n",
    "                'std_acc': cv_acc.std()\n",
    "            })\n",
    "\n",
    "    results_df = pd.DataFrame(results).sort_values('mean_acc', ascending=False)\n",
    "    print(results_df)\n",
    "    print()"
   ]
  },
  {
   "cell_type": "code",
   "execution_count": 24,
   "id": "0f3e8c8a",
   "metadata": {
    "execution": {
     "iopub.execute_input": "2025-07-14T23:27:09.477214Z",
     "iopub.status.busy": "2025-07-14T23:27:09.476900Z",
     "iopub.status.idle": "2025-07-14T23:27:09.484885Z",
     "shell.execute_reply": "2025-07-14T23:27:09.484032Z"
    },
    "papermill": {
     "duration": 0.019457,
     "end_time": "2025-07-14T23:27:09.486406",
     "exception": false,
     "start_time": "2025-07-14T23:27:09.466949",
     "status": "completed"
    },
    "tags": []
   },
   "outputs": [],
   "source": [
    "rf_col = ['PassengerNumber', 'GroupId']\n",
    "XGB_col = ['PassengerNumber', 'Num', 'FoodCourt', 'ShoppingMall']\n",
    "gb_col = ['PassengerNumber', 'VIP', 'Num', 'GroupId']\n",
    "\n",
    "rf_data = X_train.drop(columns=rf_col)\n",
    "XGB_data = X_train.drop(columns=XGB_col)\n",
    "gb_data = X_train.drop(columns=gb_col)"
   ]
  },
  {
   "cell_type": "code",
   "execution_count": 25,
   "id": "83f5351a",
   "metadata": {
    "execution": {
     "iopub.execute_input": "2025-07-14T23:27:09.505173Z",
     "iopub.status.busy": "2025-07-14T23:27:09.504830Z",
     "iopub.status.idle": "2025-07-14T23:27:10.241534Z",
     "shell.execute_reply": "2025-07-14T23:27:10.240689Z"
    },
    "papermill": {
     "duration": 0.748063,
     "end_time": "2025-07-14T23:27:10.243054",
     "exception": false,
     "start_time": "2025-07-14T23:27:09.494991",
     "status": "completed"
    },
    "tags": []
   },
   "outputs": [],
   "source": [
    "model_rf = RandomForestClassifier(n_estimators=100, random_state=42, n_jobs=-1)\n",
    "model_rf.fit(X_train, y_train)\n",
    "pred_rf = model_rf.predict(data_test).astype(bool)"
   ]
  },
  {
   "cell_type": "code",
   "execution_count": 26,
   "id": "a36c43e3",
   "metadata": {
    "execution": {
     "iopub.execute_input": "2025-07-14T23:27:10.261981Z",
     "iopub.status.busy": "2025-07-14T23:27:10.261239Z",
     "iopub.status.idle": "2025-07-14T23:27:10.550216Z",
     "shell.execute_reply": "2025-07-14T23:27:10.549500Z"
    },
    "papermill": {
     "duration": 0.299979,
     "end_time": "2025-07-14T23:27:10.552012",
     "exception": false,
     "start_time": "2025-07-14T23:27:10.252033",
     "status": "completed"
    },
    "tags": []
   },
   "outputs": [],
   "source": [
    "model_xgb = XGBClassifier(random_state=42)\n",
    "model_xgb.fit(X_train, y_train)\n",
    "pred_xgb = model_xgb.predict(data_test).astype(bool)"
   ]
  },
  {
   "cell_type": "code",
   "execution_count": 27,
   "id": "681a223e",
   "metadata": {
    "execution": {
     "iopub.execute_input": "2025-07-14T23:27:10.571283Z",
     "iopub.status.busy": "2025-07-14T23:27:10.570947Z",
     "iopub.status.idle": "2025-07-14T23:27:13.027617Z",
     "shell.execute_reply": "2025-07-14T23:27:13.026632Z"
    },
    "papermill": {
     "duration": 2.467552,
     "end_time": "2025-07-14T23:27:13.029233",
     "exception": false,
     "start_time": "2025-07-14T23:27:10.561681",
     "status": "completed"
    },
    "tags": []
   },
   "outputs": [],
   "source": [
    "model_gb = GradientBoostingClassifier(random_state=42)\n",
    "model_gb.fit(X_train, y_train)\n",
    "pred_gb = model_gb.predict(data_test).astype(bool)"
   ]
  },
  {
   "cell_type": "code",
   "execution_count": 28,
   "id": "026d4c48",
   "metadata": {
    "execution": {
     "iopub.execute_input": "2025-07-14T23:27:13.048042Z",
     "iopub.status.busy": "2025-07-14T23:27:13.047163Z",
     "iopub.status.idle": "2025-07-14T23:27:13.071059Z",
     "shell.execute_reply": "2025-07-14T23:27:13.070014Z"
    },
    "papermill": {
     "duration": 0.034998,
     "end_time": "2025-07-14T23:27:13.072811",
     "exception": false,
     "start_time": "2025-07-14T23:27:13.037813",
     "status": "completed"
    },
    "tags": []
   },
   "outputs": [
    {
     "name": "stdout",
     "output_type": "stream",
     "text": [
      "submission_0.csv\n",
      "submission_1.csv\n",
      "submission_2.csv\n"
     ]
    }
   ],
   "source": [
    "predictions = [pred_rf, pred_xgb, pred_gb]\n",
    "for i in range(3):\n",
    "    final_df = pd.DataFrame()\n",
    "    final_df['PassengerId'] = test_data['PassengerId']\n",
    "    final_df['Transported'] = predictions[i]\n",
    "\n",
    "    final_df.to_csv(f'submission_{i}.csv', index=False)\n",
    "    print(f'submission_{i}.csv')"
   ]
  }
 ],
 "metadata": {
  "kaggle": {
   "accelerator": "none",
   "dataSources": [
    {
     "datasetId": 7796953,
     "sourceId": 12366369,
     "sourceType": "datasetVersion"
    }
   ],
   "dockerImageVersionId": 31040,
   "isGpuEnabled": false,
   "isInternetEnabled": true,
   "language": "python",
   "sourceType": "notebook"
  },
  "kernelspec": {
   "display_name": "Python 3",
   "language": "python",
   "name": "python3"
  },
  "language_info": {
   "codemirror_mode": {
    "name": "ipython",
    "version": 3
   },
   "file_extension": ".py",
   "mimetype": "text/x-python",
   "name": "python",
   "nbconvert_exporter": "python",
   "pygments_lexer": "ipython3",
   "version": "3.11.11"
  },
  "papermill": {
   "default_parameters": {},
   "duration": 934.878224,
   "end_time": "2025-07-14T23:27:15.704617",
   "environment_variables": {},
   "exception": null,
   "input_path": "__notebook__.ipynb",
   "output_path": "__notebook__.ipynb",
   "parameters": {},
   "start_time": "2025-07-14T23:11:40.826393",
   "version": "2.6.0"
  }
 },
 "nbformat": 4,
 "nbformat_minor": 5
}
